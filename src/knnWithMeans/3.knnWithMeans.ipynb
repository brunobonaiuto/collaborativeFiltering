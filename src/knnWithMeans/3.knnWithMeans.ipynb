{
 "cells": [
  {
   "cell_type": "code",
   "execution_count": 1,
   "metadata": {},
   "outputs": [
    {
     "name": "stdout",
     "output_type": "stream",
     "text": [
      "Empty DataFrame\n",
      "Columns: [Index, Model, RMSE, MAE, MSE, Precision, Recall, Accuracy]\n",
      "Index: []\n"
     ]
    }
   ],
   "source": [
    "#Importing the data\n",
    "import pandas as pd\n",
    "import numpy as np\n",
    "import pandas as pd\n",
    "from surprise import Reader, Dataset, KNNWithMeans, accuracy, PredictionImpossible\n",
    "from surprise.model_selection import cross_validate\n",
    "from surprise.model_selection import train_test_split\n",
    "from surprise.accuracy import rmse\n",
    "from collections import defaultdict\n",
    "#Importing the data\n",
    "data = pd.read_csv('/home/bbruno/all_here/python course/vinnie/data/cleaned_data/df_oversamling.csv')\n",
    "data.head()\n",
    "# Create an empty DataFrame\n",
    "metrics_df = pd.DataFrame(columns=['Index','Model','RMSE','MAE','MSE', 'Precision', 'Recall', 'Accuracy'])\n",
    "print(metrics_df)"
   ]
  },
  {
   "cell_type": "code",
   "execution_count": 2,
   "metadata": {},
   "outputs": [],
   "source": [
    "class Knn (KNNWithMeans):\n",
    "    def __init__(self, sim_options={}, bsl_options = {}):#, bsl_options={}):\n",
    "        KNNWithMeans.__init__(self, sim_options=sim_options, bsl_options= bsl_options)#, bsl_options=bsl_options)\n",
    "    \n",
    "    def create_reader(self, data):\n",
    "        reader = Reader(rating_scale=(1, 5))\n",
    "        self.data = Dataset.load_from_df(data[['userId', 'wine', 'rate']], reader)\n",
    "    # # option 1\n",
    "    # ########################################\n",
    "    # # for cross validation we have two functions, cross_validate and fit\n",
    "    # def cross_validate(self, measures=['RMSE'], cv=3, verbose=False):\n",
    "    #     results = cross_validate(self, self.data, measures=measures, cv=cv, verbose=verbose)\n",
    "    #     for measure in measures:\n",
    "    #         print(f'{measure}: {results[\"test_\" + measure.lower()].mean()}')\n",
    "    #     return results\n",
    "    \n",
    "    # def fit(self, trainset):\n",
    "    #     predictions = KNNWithMeans.fit(self, trainset).test(trainset.build_testset())\n",
    "    #     self.sim = self.compute_similarities()\n",
    "    #     self.bu, self.bi = self.compute_baselines()\n",
    "    #     return predictions\n",
    "    ########################################\n",
    "    #option 2\n",
    "    #######################################\n",
    "    # fit funtion that works without cross validation\n",
    "    def fit (self):\n",
    "        self.trainset, testset = train_test_split(self.data, test_size=0.2)\n",
    "        predictions = KNNWithMeans.fit(self, self.trainset).test(testset)\n",
    "        self.sim = self.compute_similarities()\n",
    "        self.bu, self.bi = self.compute_baselines()\n",
    "        return predictions\n",
    "    #######################################\n",
    "\n",
    "    def estimated(self, u, i):\n",
    "        if not (self.trainset.knows_user(u) and self.trainset.knows_item(i)):\n",
    "            raise PredictionImpossible(\"User and/or item is unknown.\")\n",
    "        \n",
    "        # Compute similarities between u and v, where v describes all other\n",
    "        # users that have also rated item i.\n",
    "        neighbors = [(v, self.sim[u, v]) for (v, r) in self.trainset.ir[i]]\n",
    "        # Sort these neighbors by similarity\n",
    "        neighbors = sorted(neighbors, key=lambda x: x[1], reverse=True)\n",
    "\n",
    "        print(\"The 5 nearest neighbors of user\", str(u), \"are:\")\n",
    "        for v, sim_uv in neighbors[:5]:\n",
    "            print(f\"user {v} with sim {sim_uv:1.15f}\")\n",
    "\n",
    "        # ... Aaaaand return the baseline estimate anyway ;)\n",
    "        bsl = self.trainset.global_mean + self.bu[u] + self.bi[i]\n",
    "        return print(f\"And the baseline estimate is: {bsl}\")\n",
    "    \n",
    "    def get_Iu(self, uid):\n",
    "        \"\"\"Return the number of items rated by given user\n",
    "        args:\n",
    "          uid: the id of the user\n",
    "        returns:\n",
    "          the number of items rated by the user\n",
    "        \"\"\"\n",
    "        try:\n",
    "            return len(self.trainset.ur[self.trainset.to_inner_uid(uid)])\n",
    "        except ValueError:  # user was not part of the trainset\n",
    "            return 0\n",
    "\n",
    "    def get_Ui(self, iid):\n",
    "        \"\"\"Return the number of users that have rated given item\n",
    "        args:\n",
    "          iid: the raw id of the item\n",
    "        returns:\n",
    "          the number of users that have rated the item.\n",
    "        \"\"\"\n",
    "        try:\n",
    "            return len(self.trainset.ir[self.trainset.to_inner_iid(iid)])\n",
    "        except ValueError:\n",
    "            return 0\n",
    "\n",
    "    def inspect_predictions(self, predictions):\n",
    "        print(f\"uid means the user id and iid means the wine id\\n\")\n",
    "        print(f\"rui means the actual rating and est means the estimated rating\\n\")\n",
    "        print(f\"err means the error between the actual and the estimated rating\\n\")\n",
    "        print(f\"Iu means the number of items rated by given user\\n\")\n",
    "        print(f\"Ui means the number of users that have rated given item\\n\")\n",
    "        # Create a dataframe with the predictions\n",
    "        df_pred = pd.DataFrame(predictions, columns=['uid', 'iid', 'rui', 'est', 'details'])\n",
    "        df_pred['Iu'] = df_pred.uid.apply(self.get_Iu)\n",
    "        df_pred['Ui'] = df_pred.iid.apply(self.get_Ui)\n",
    "        df_pred['err'] = abs(df_pred.est - df_pred.rui)\n",
    "        return df_pred\n",
    "    def get_accuracy(self, predictions, k=10, threshold=3.5):\n",
    "        # Compute RMSE\n",
    "        rmse = accuracy.rmse(predictions, verbose=True)\n",
    "        \n",
    "        # Compute MAE\n",
    "        mae = accuracy.mae(predictions, verbose=True)\n",
    "        \n",
    "        # Compute MSE\n",
    "        mse = accuracy.mse(predictions, verbose=True)\n",
    "        \n",
    "        # Compute precision and recall\n",
    "        precisions, recalls = self.precision_recall_at_k(predictions, k=k, threshold=threshold)\n",
    "\n",
    "        # Precision and recall can then be averaged over all users\n",
    "        precision = sum(prec for prec in precisions.values()) / len(precisions)\n",
    "        recall = sum(rec for rec in recalls.values()) / len(recalls)\n",
    "        print(f'Precision: {precision:.2f}\\nRecall: {recall:.2f}')\n",
    "\n",
    "        # Count correct predictions\n",
    "        correct = 0\n",
    "        for uid, iid, true_r, est, _ in predictions:\n",
    "            if round(est) == round(true_r):\n",
    "                correct += 1\n",
    "\n",
    "        # Compute accuracy\n",
    "        accuracy_percentage = correct / len(predictions)\n",
    "        accuracy_percentage = accuracy_percentage * 100\n",
    "        print(f\"the acc is {accuracy_percentage:.2f}\")\n",
    "\n",
    "        # Return a dictionary with the metrics\n",
    "        return {'RMSE': rmse, 'MAE': mae, 'MSE': mse, 'Precision': precision, 'Recall': recall, 'Accuracy': accuracy_percentage}\n",
    "    ########################################\n",
    "    # def get_accuracy(self, predictions, k=10, threshold=3.5):\n",
    "    #     # Compute RMSE\n",
    "    #     accuracy.rmse(predictions, verbose=True)\n",
    "        \n",
    "    #     # Compute precision and recall\n",
    "    #     precisions, recalls = self.precision_recall_at_k(predictions, k=k, threshold=threshold)\n",
    "\n",
    "    #     # Precision and recall can then be averaged over all users\n",
    "    #     precision = sum(prec for prec in precisions.values()) / len(precisions)\n",
    "    #     recall = sum(rec for rec in recalls.values()) / len(recalls)\n",
    "    #     print(f'Precision: {precision:.2f}\\nRecall: {recall:.2f}')\n",
    "\n",
    "    #     # Count correct predictions\n",
    "    #     correct = 0\n",
    "    #     for uid, iid, true_r, est, _ in predictions:\n",
    "    #         if round(est) == round(true_r):\n",
    "    #             correct += 1\n",
    "\n",
    "    #     # Compute accuracy\n",
    "    #     accuracy_percentage = correct / len(predictions)\n",
    "    #     accuracy_percentage = accuracy_percentage * 100\n",
    "    #     print(f\"the acc is {accuracy_percentage:.2f}\")\n",
    "    #     return accuracy_percentage\n",
    "    \n",
    "    @staticmethod \n",
    "    def precision_recall_at_k(predictions, k=10, threshold=3.5):\n",
    "        \"\"\"Return precision and recall at k metrics for each user\"\"\"\n",
    "\n",
    "        # First map the predictions to each user.\n",
    "        user_est_true = defaultdict(list)\n",
    "        for uid, _, true_r, est, _ in predictions:\n",
    "            user_est_true[uid].append((est, true_r))\n",
    "\n",
    "        precisions = dict()\n",
    "        recalls = dict()\n",
    "        for uid, user_ratings in user_est_true.items():\n",
    "\n",
    "            # Sort user ratings by estimated value\n",
    "            user_ratings.sort(key=lambda x: x[0], reverse=True)\n",
    "\n",
    "            # Number of relevant items\n",
    "            n_rel = sum((true_r >= threshold) for (_, true_r) in user_ratings)\n",
    "\n",
    "            # Number of recommended items in top k\n",
    "            n_rec_k = sum((est >= threshold) for (est, _) in user_ratings[:k])\n",
    "\n",
    "            # Number of relevant and recommended items in top k\n",
    "            n_rel_and_rec_k = sum(\n",
    "                ((true_r >= threshold) and (est >= threshold))\n",
    "                for (est, true_r) in user_ratings[:k]\n",
    "            )\n",
    "\n",
    "            # Precision@K: Proportion of recommended items that are relevant\n",
    "            # When n_rec_k is 0, Precision is undefined. We here set it to 0.\n",
    "\n",
    "            precisions[uid] = n_rel_and_rec_k / n_rec_k if n_rec_k != 0 else 0\n",
    "\n",
    "            # Recall@K: Proportion of relevant items that are recommended\n",
    "            # When n_rel is 0, Recall is undefined. We here set it to 0.\n",
    "\n",
    "            recalls[uid] = n_rel_and_rec_k / n_rel if n_rel != 0 else 0\n",
    "\n",
    "        return precisions, recalls\n",
    "    \n",
    "    # Mi function acc that works perfectly was modifyed to add precision and recall, for that reason this is commented\n",
    "    # def get_accuracy(self, predictions):\n",
    "    #     # # Compute RMSE\n",
    "    #     # predictions = KNNBasic.test(self, testset)\n",
    "    #     accuracy.rmse(predictions, verbose=True)\n",
    "    #     # Count correct predictions\n",
    "    #     correct = 0\n",
    "    #     for uid, iid, true_r, est, _ in predictions:\n",
    "    #         if round(est) == round(true_r):\n",
    "    #             correct += 1\n",
    "\n",
    "    #     # Compute accuracy\n",
    "    #     accuracy_percentage = correct / len(predictions)\n",
    "    #     return accuracy_percentage * 100"
   ]
  },
  {
   "cell_type": "markdown",
   "metadata": {},
   "source": [
    "## KnnWithMeans and SGD"
   ]
  },
  {
   "cell_type": "markdown",
   "metadata": {},
   "source": [
    "* 1 Cosine UserBased"
   ]
  },
  {
   "cell_type": "code",
   "execution_count": 3,
   "metadata": {},
   "outputs": [
    {
     "name": "stdout",
     "output_type": "stream",
     "text": [
      "Computing the cosine similarity matrix...\n",
      "Done computing similarity matrix.\n",
      "Computing the cosine similarity matrix...\n",
      "Done computing similarity matrix.\n",
      "Estimating biases using sgd...\n",
      "RMSE: 0.6663\n",
      "MAE:  0.3525\n",
      "MSE: 0.4440\n",
      "Precision: 0.37\n",
      "Recall: 0.31\n",
      "the acc is 71.65\n"
     ]
    },
    {
     "name": "stderr",
     "output_type": "stream",
     "text": [
      "/tmp/ipykernel_30048/169629797.py:17: FutureWarning: The frame.append method is deprecated and will be removed from pandas in a future version. Use pandas.concat instead.\n",
      "  metrics_df = metrics_df.append(metrics, ignore_index=True)\n"
     ]
    }
   ],
   "source": [
    "knn = Knn(\n",
    "    sim_options = {'name': 'cosine','user_based': True}, \n",
    "    bsl_options={'method': 'sgd', 'learning_rate': 0.00005, 'n_epochs':20, 'reg_u': 12 , 'reg_i': 5}\n",
    "    )\n",
    "# create reader\n",
    "knn.create_reader(data)\n",
    "# cross validate\n",
    "predictions = knn.fit()\n",
    "# acc\n",
    "metrics = knn.get_accuracy(predictions)\n",
    "\n",
    "# Add the model name to the dictionary\n",
    "metrics['Index'] = 1\n",
    "metrics['Model'] = 'KnnWithMeans (cosine, sgd, user_based)'\n",
    "\n",
    "# Append the dictionary to the existing DataFrame\n",
    "metrics_df = metrics_df.append(metrics, ignore_index=True)"
   ]
  },
  {
   "cell_type": "markdown",
   "metadata": {},
   "source": [
    "* 2 Cosine ItemBased"
   ]
  },
  {
   "cell_type": "code",
   "execution_count": 4,
   "metadata": {},
   "outputs": [
    {
     "name": "stdout",
     "output_type": "stream",
     "text": [
      "Computing the cosine similarity matrix...\n",
      "Done computing similarity matrix.\n",
      "Computing the cosine similarity matrix...\n",
      "Done computing similarity matrix.\n",
      "Estimating biases using sgd...\n",
      "RMSE: 0.6965\n",
      "MAE:  0.3805\n",
      "MSE: 0.4852\n",
      "Precision: 0.42\n",
      "Recall: 0.36\n",
      "the acc is 71.39\n"
     ]
    },
    {
     "name": "stderr",
     "output_type": "stream",
     "text": [
      "/tmp/ipykernel_30048/3543638896.py:17: FutureWarning: The frame.append method is deprecated and will be removed from pandas in a future version. Use pandas.concat instead.\n",
      "  metrics_df = metrics_df.append(metrics, ignore_index=True)\n"
     ]
    }
   ],
   "source": [
    "knn2 = Knn(\n",
    "    sim_options = {'name': 'cosine','user_based': False}, \n",
    "    bsl_options={'method': 'sgd', 'learning_rate': 0.00005, 'n_epochs':20, 'reg_u': 12 , 'reg_i': 5}\n",
    "    )\n",
    "# create reader\n",
    "knn2.create_reader(data)\n",
    "# cross validate\n",
    "predictions = knn2.fit()\n",
    "# acc\n",
    "metrics = knn2.get_accuracy(predictions)\n",
    "\n",
    "# Add the model name to the dictionary\n",
    "metrics['Index'] = 2\n",
    "metrics['Model'] = 'KnnWithMeans (cosine, sgd, item_based)'\n",
    "\n",
    "# Append the dictionary to the existing DataFrame\n",
    "metrics_df = metrics_df.append(metrics, ignore_index=True)"
   ]
  },
  {
   "cell_type": "markdown",
   "metadata": {},
   "source": [
    "* 3 Mean Square DIfference UserBased"
   ]
  },
  {
   "cell_type": "code",
   "execution_count": 5,
   "metadata": {},
   "outputs": [
    {
     "name": "stdout",
     "output_type": "stream",
     "text": [
      "Computing the msd similarity matrix...\n",
      "Done computing similarity matrix.\n",
      "Computing the msd similarity matrix...\n",
      "Done computing similarity matrix.\n",
      "Estimating biases using sgd...\n",
      "RMSE: 0.5826\n",
      "MAE:  0.2954\n",
      "MSE: 0.3394\n",
      "Precision: 0.33\n",
      "Recall: 0.28\n",
      "the acc is 76.12\n"
     ]
    },
    {
     "name": "stderr",
     "output_type": "stream",
     "text": [
      "/tmp/ipykernel_30048/2189425315.py:17: FutureWarning: The frame.append method is deprecated and will be removed from pandas in a future version. Use pandas.concat instead.\n",
      "  metrics_df = metrics_df.append(metrics, ignore_index=True)\n"
     ]
    }
   ],
   "source": [
    "knn3 = Knn(\n",
    "    sim_options = {'name': 'msd','user_based': True}, \n",
    "    bsl_options={'method': 'sgd', 'learning_rate': 0.00005, 'n_epochs':20, 'reg_u': 12 , 'reg_i': 5}\n",
    "    )\n",
    "# create reader\n",
    "knn3.create_reader(data)\n",
    "# cross validate\n",
    "predictions = knn3.fit()\n",
    "# acc\n",
    "metrics = knn3.get_accuracy(predictions)\n",
    "\n",
    "# Add the model name to the dictionary\n",
    "metrics['Index'] = 3\n",
    "metrics['Model'] = 'KnnWithMeans (mean square diff, sgd, user_based)'\n",
    "\n",
    "# Append the dictionary to the existing DataFrame\n",
    "metrics_df = metrics_df.append(metrics, ignore_index=True)"
   ]
  },
  {
   "cell_type": "markdown",
   "metadata": {},
   "source": [
    "* 4 Mean Square DIfference ItemBased"
   ]
  },
  {
   "cell_type": "code",
   "execution_count": 6,
   "metadata": {},
   "outputs": [
    {
     "name": "stdout",
     "output_type": "stream",
     "text": [
      "Computing the msd similarity matrix...\n",
      "Done computing similarity matrix.\n",
      "Computing the msd similarity matrix...\n",
      "Done computing similarity matrix.\n",
      "Estimating biases using sgd...\n",
      "RMSE: 0.6630\n",
      "MAE:  0.3329\n",
      "MSE: 0.4396\n",
      "Precision: 0.41\n",
      "Recall: 0.35\n",
      "the acc is 74.28\n"
     ]
    },
    {
     "name": "stderr",
     "output_type": "stream",
     "text": [
      "/tmp/ipykernel_30048/2602642850.py:17: FutureWarning: The frame.append method is deprecated and will be removed from pandas in a future version. Use pandas.concat instead.\n",
      "  metrics_df = metrics_df.append(metrics, ignore_index=True)\n"
     ]
    }
   ],
   "source": [
    "knn4 = Knn(\n",
    "    sim_options = {'name': 'msd','user_based': False}, \n",
    "    bsl_options={'method': 'sgd', 'learning_rate': 0.00005, 'n_epochs':20, 'reg_u': 12 , 'reg_i': 5}\n",
    "    )\n",
    "# create reader\n",
    "knn4.create_reader(data)\n",
    "# cross validate\n",
    "predictions = knn4.fit()\n",
    "# acc\n",
    "metrics = knn4.get_accuracy(predictions)\n",
    "\n",
    "# Add the model name to the dictionary\n",
    "metrics['Index'] = 4\n",
    "metrics['Model'] = 'KnnWithMeans (mean square diff, sgd, item_based)'\n",
    "\n",
    "# Append the dictionary to the existing DataFrame\n",
    "metrics_df = metrics_df.append(metrics, ignore_index=True)"
   ]
  },
  {
   "cell_type": "markdown",
   "metadata": {},
   "source": [
    "* 4 the Pearson correlation coefficient UserBased"
   ]
  },
  {
   "cell_type": "code",
   "execution_count": 7,
   "metadata": {},
   "outputs": [
    {
     "name": "stdout",
     "output_type": "stream",
     "text": [
      "Computing the pearson similarity matrix...\n",
      "Done computing similarity matrix.\n",
      "Computing the pearson similarity matrix...\n",
      "Done computing similarity matrix.\n",
      "Estimating biases using sgd...\n",
      "RMSE: 0.6047\n",
      "MAE:  0.3068\n",
      "MSE: 0.3657\n",
      "Precision: 0.44\n",
      "Recall: 0.41\n",
      "the acc is 75.33\n"
     ]
    },
    {
     "name": "stderr",
     "output_type": "stream",
     "text": [
      "/tmp/ipykernel_30048/3861551723.py:17: FutureWarning: The frame.append method is deprecated and will be removed from pandas in a future version. Use pandas.concat instead.\n",
      "  metrics_df = metrics_df.append(metrics, ignore_index=True)\n"
     ]
    }
   ],
   "source": [
    "knn5 = Knn(\n",
    "    sim_options = {'name': 'Pearson','user_based': True}, \n",
    "    bsl_options={'method': 'sgd', 'learning_rate': 0.00005, 'n_epochs':20, 'reg_u': 12 , 'reg_i': 5}\n",
    "    )\n",
    "# create reader\n",
    "knn5.create_reader(data)\n",
    "# cross validate\n",
    "predictions = knn5.fit()\n",
    "# acc\n",
    "metrics = knn5.get_accuracy(predictions)\n",
    "\n",
    "# Add the model name to the dictionary\n",
    "metrics['Index'] = 5\n",
    "metrics['Model'] = 'KnnWithMeans (pearson corr coeff, sgd, user_based)'\n",
    "\n",
    "# Append the dictionary to the existing DataFrame\n",
    "metrics_df = metrics_df.append(metrics, ignore_index=True)"
   ]
  },
  {
   "cell_type": "markdown",
   "metadata": {},
   "source": [
    "* 5 the Pearson correlation coefficient ItemBased"
   ]
  },
  {
   "cell_type": "code",
   "execution_count": 8,
   "metadata": {},
   "outputs": [
    {
     "name": "stdout",
     "output_type": "stream",
     "text": [
      "Computing the pearson similarity matrix...\n",
      "Done computing similarity matrix.\n",
      "Computing the pearson similarity matrix...\n",
      "Done computing similarity matrix.\n",
      "Estimating biases using sgd...\n",
      "RMSE: 0.5503\n",
      "MAE:  0.2543\n",
      "MSE: 0.3028\n",
      "Precision: 0.40\n",
      "Recall: 0.36\n",
      "the acc is 78.22\n"
     ]
    },
    {
     "name": "stderr",
     "output_type": "stream",
     "text": [
      "/tmp/ipykernel_30048/546500276.py:18: FutureWarning: The frame.append method is deprecated and will be removed from pandas in a future version. Use pandas.concat instead.\n",
      "  metrics_df = metrics_df.append(metrics, ignore_index=True)\n"
     ]
    }
   ],
   "source": [
    "knn6 = Knn(\n",
    "    sim_options = {'name': 'Pearson','user_based': False}, \n",
    "    bsl_options={'method': 'sgd', 'learning_rate': 0.00005, 'n_epochs':20, 'reg_u': 12 , 'reg_i': 5}\n",
    "    )\n",
    "# create reader\n",
    "# create reader\n",
    "knn6.create_reader(data)\n",
    "# cross validate\n",
    "predictions = knn6.fit()\n",
    "# acc\n",
    "metrics = knn6.get_accuracy(predictions)\n",
    "\n",
    "# Add the model name to the dictionary\n",
    "metrics['Index'] = 6\n",
    "metrics['Model'] = 'KnnWithMeans (pearson corr coeff, sgd, item_based)'\n",
    "\n",
    "# Append the dictionary to the existing DataFrame\n",
    "metrics_df = metrics_df.append(metrics, ignore_index=True)"
   ]
  },
  {
   "cell_type": "markdown",
   "metadata": {},
   "source": [
    "* 6 the (shrunk) Pearson correlation coefficient UserBased"
   ]
  },
  {
   "cell_type": "code",
   "execution_count": 9,
   "metadata": {},
   "outputs": [
    {
     "name": "stdout",
     "output_type": "stream",
     "text": [
      "Estimating biases using sgd...\n",
      "Computing the pearson_baseline similarity matrix...\n",
      "Done computing similarity matrix.\n",
      "Computing the pearson_baseline similarity matrix...\n",
      "Done computing similarity matrix.\n",
      "RMSE: 0.6014\n",
      "MAE:  0.2954\n",
      "MSE: 0.3616\n",
      "Precision: 0.38\n",
      "Recall: 0.34\n",
      "the acc is 76.90\n"
     ]
    },
    {
     "name": "stderr",
     "output_type": "stream",
     "text": [
      "/tmp/ipykernel_30048/2965504438.py:17: FutureWarning: The frame.append method is deprecated and will be removed from pandas in a future version. Use pandas.concat instead.\n",
      "  metrics_df = metrics_df.append(metrics, ignore_index=True)\n"
     ]
    }
   ],
   "source": [
    "knn7 = Knn(\n",
    "    sim_options = {'name': 'pearson_baseline','user_based': True}, \n",
    "    bsl_options={'method': 'sgd', 'learning_rate': 0.00005, 'n_epochs':20, 'reg_u': 12 , 'reg_i': 5}\n",
    "    )\n",
    "# create reader\n",
    "knn7.create_reader(data)\n",
    "# cross validate\n",
    "predictions = knn7.fit()\n",
    "# acc\n",
    "metrics = knn7.get_accuracy(predictions)\n",
    "\n",
    "# Add the model name to the dictionary\n",
    "metrics['Index'] = 7\n",
    "metrics['Model'] = 'KnnWithMeans (pearson_baseline, sgd, user_based)'\n",
    "\n",
    "# Append the dictionary to the existing DataFrame\n",
    "metrics_df = metrics_df.append(metrics, ignore_index=True)"
   ]
  },
  {
   "cell_type": "markdown",
   "metadata": {},
   "source": [
    "* 7 the (shrunk) Pearson correlation coefficient ItemBased"
   ]
  },
  {
   "cell_type": "code",
   "execution_count": 10,
   "metadata": {},
   "outputs": [
    {
     "name": "stdout",
     "output_type": "stream",
     "text": [
      "Estimating biases using sgd...\n",
      "Computing the pearson_baseline similarity matrix...\n",
      "Done computing similarity matrix.\n",
      "Computing the pearson_baseline similarity matrix...\n",
      "Done computing similarity matrix.\n",
      "RMSE: 0.6026\n",
      "MAE:  0.3213\n",
      "MSE: 0.3631\n",
      "Precision: 0.38\n",
      "Recall: 0.32\n",
      "the acc is 74.54\n"
     ]
    },
    {
     "name": "stderr",
     "output_type": "stream",
     "text": [
      "/tmp/ipykernel_30048/3870639353.py:17: FutureWarning: The frame.append method is deprecated and will be removed from pandas in a future version. Use pandas.concat instead.\n",
      "  metrics_df = metrics_df.append(metrics, ignore_index=True)\n"
     ]
    }
   ],
   "source": [
    "knn8 = Knn(\n",
    "    sim_options = {'name': 'pearson_baseline','user_based': False}, \n",
    "    bsl_options={'method': 'sgd', 'learning_rate': 0.00005, 'n_epochs':20, 'reg_u': 12 , 'reg_i': 5}\n",
    "    )\n",
    "# create reader\n",
    "knn8.create_reader(data)\n",
    "# cross validate\n",
    "predictions = knn8.fit()\n",
    "# acc\n",
    "metrics = knn8.get_accuracy(predictions)\n",
    "\n",
    "# Add the model name to the dictionary\n",
    "metrics['Index'] = 8\n",
    "metrics['Model'] = 'KnnWithMeans (pearson_baseline, sgd, item_based)'\n",
    "\n",
    "# Append the dictionary to the existing DataFrame\n",
    "metrics_df = metrics_df.append(metrics, ignore_index=True)"
   ]
  },
  {
   "cell_type": "markdown",
   "metadata": {},
   "source": [
    "## KnnWithMeans and ALS\n"
   ]
  },
  {
   "cell_type": "markdown",
   "metadata": {},
   "source": [
    "* 1 Cosine UserBased"
   ]
  },
  {
   "cell_type": "code",
   "execution_count": 11,
   "metadata": {},
   "outputs": [
    {
     "name": "stdout",
     "output_type": "stream",
     "text": [
      "Computing the cosine similarity matrix...\n",
      "Done computing similarity matrix.\n",
      "Computing the cosine similarity matrix...\n",
      "Done computing similarity matrix.\n",
      "Estimating biases using als...\n",
      "RMSE: 0.6312\n",
      "MAE:  0.3408\n",
      "MSE: 0.3984\n",
      "Precision: 0.36\n",
      "Recall: 0.30\n",
      "the acc is 71.39\n"
     ]
    },
    {
     "name": "stderr",
     "output_type": "stream",
     "text": [
      "/tmp/ipykernel_30048/2042837302.py:17: FutureWarning: The frame.append method is deprecated and will be removed from pandas in a future version. Use pandas.concat instead.\n",
      "  metrics_df = metrics_df.append(metrics, ignore_index=True)\n"
     ]
    }
   ],
   "source": [
    "knn9 = Knn(\n",
    "    sim_options = {'name': 'cosine','user_based': True}, \n",
    "    bsl_options={'method': 'als', 'n_epochs':20 }\n",
    "    )\n",
    "# create reader\n",
    "knn9.create_reader(data)\n",
    "# cross validate\n",
    "predictions = knn9.fit()\n",
    "# acc\n",
    "metrics = knn9.get_accuracy(predictions)\n",
    "\n",
    "# Add the model name to the dictionary\n",
    "metrics['Index'] = 9\n",
    "metrics['Model'] = 'KnnWithMeans (cosine, als, user_based)'\n",
    "\n",
    "# Append the dictionary to the existing DataFrame\n",
    "metrics_df = metrics_df.append(metrics, ignore_index=True)"
   ]
  },
  {
   "cell_type": "markdown",
   "metadata": {},
   "source": [
    "* 2 Cosine ItemBased"
   ]
  },
  {
   "cell_type": "code",
   "execution_count": 12,
   "metadata": {},
   "outputs": [
    {
     "name": "stdout",
     "output_type": "stream",
     "text": [
      "Computing the cosine similarity matrix...\n",
      "Done computing similarity matrix.\n",
      "Computing the cosine similarity matrix...\n",
      "Done computing similarity matrix.\n",
      "Estimating biases using als...\n",
      "RMSE: 0.6584\n",
      "MAE:  0.3654\n",
      "MSE: 0.4335\n",
      "Precision: 0.39\n",
      "Recall: 0.32\n",
      "the acc is 70.87\n"
     ]
    },
    {
     "name": "stderr",
     "output_type": "stream",
     "text": [
      "/tmp/ipykernel_30048/194871798.py:17: FutureWarning: The frame.append method is deprecated and will be removed from pandas in a future version. Use pandas.concat instead.\n",
      "  metrics_df = metrics_df.append(metrics, ignore_index=True)\n"
     ]
    }
   ],
   "source": [
    "knn10 = Knn(\n",
    "    sim_options = {'name': 'cosine','user_based': False}, \n",
    "    bsl_options={'method': 'als', 'n_epochs':20, 'reg_u': 12 , 'reg_i': 5}\n",
    "    )\n",
    "# create reader\n",
    "knn10.create_reader(data)\n",
    "# cross validate\n",
    "predictions = knn10.fit()\n",
    "# acc\n",
    "metrics = knn10.get_accuracy(predictions)\n",
    "\n",
    "# Add the model name to the dictionary\n",
    "metrics['Index'] = 10\n",
    "metrics['Model'] = 'KnnWithMeans (cosine, als, item_based)'\n",
    "\n",
    "# Append the dictionary to the existing DataFrame\n",
    "metrics_df = metrics_df.append(metrics, ignore_index=True)"
   ]
  },
  {
   "cell_type": "markdown",
   "metadata": {},
   "source": [
    "* 3 Mean Square Difference UserBased"
   ]
  },
  {
   "cell_type": "code",
   "execution_count": 13,
   "metadata": {},
   "outputs": [
    {
     "name": "stdout",
     "output_type": "stream",
     "text": [
      "Computing the msd similarity matrix...\n",
      "Done computing similarity matrix.\n",
      "Computing the msd similarity matrix...\n",
      "Done computing similarity matrix.\n",
      "Estimating biases using als...\n",
      "RMSE: 0.5681\n",
      "MAE:  0.3052\n",
      "MSE: 0.3227\n",
      "Precision: 0.42\n",
      "Recall: 0.37\n",
      "the acc is 72.97\n"
     ]
    },
    {
     "name": "stderr",
     "output_type": "stream",
     "text": [
      "/tmp/ipykernel_30048/1238153130.py:17: FutureWarning: The frame.append method is deprecated and will be removed from pandas in a future version. Use pandas.concat instead.\n",
      "  metrics_df = metrics_df.append(metrics, ignore_index=True)\n"
     ]
    }
   ],
   "source": [
    "knn11 = Knn(\n",
    "    sim_options = {'name': 'msd','user_based': True}, \n",
    "    bsl_options={'method': 'als', 'n_epochs':20 }\n",
    "    )\n",
    "# create reader\n",
    "knn11.create_reader(data)\n",
    "# cross validate\n",
    "predictions = knn11.fit()\n",
    "# acc\n",
    "metrics = knn11.get_accuracy(predictions)\n",
    "\n",
    "# Add the model name to the dictionary\n",
    "metrics['Index'] = 11\n",
    "metrics['Model'] = 'KnnWithMeans (mean square diff, als, user_based)'\n",
    "\n",
    "# Append the dictionary to the existing DataFrame\n",
    "metrics_df = metrics_df.append(metrics, ignore_index=True)"
   ]
  },
  {
   "cell_type": "markdown",
   "metadata": {},
   "source": [
    "* 4 Mean Square Difference ItemBased"
   ]
  },
  {
   "cell_type": "code",
   "execution_count": 14,
   "metadata": {},
   "outputs": [
    {
     "name": "stdout",
     "output_type": "stream",
     "text": [
      "Computing the msd similarity matrix...\n",
      "Done computing similarity matrix.\n",
      "Computing the msd similarity matrix...\n",
      "Done computing similarity matrix.\n",
      "Estimating biases using als...\n",
      "RMSE: 0.6403\n",
      "MAE:  0.3280\n",
      "MSE: 0.4100\n",
      "Precision: 0.39\n",
      "Recall: 0.35\n",
      "the acc is 75.07\n"
     ]
    },
    {
     "name": "stderr",
     "output_type": "stream",
     "text": [
      "/tmp/ipykernel_30048/1118245004.py:17: FutureWarning: The frame.append method is deprecated and will be removed from pandas in a future version. Use pandas.concat instead.\n",
      "  metrics_df = metrics_df.append(metrics, ignore_index=True)\n"
     ]
    }
   ],
   "source": [
    "knn12 = Knn(\n",
    "    sim_options = {'name': 'msd','user_based': False}, \n",
    "    bsl_options={'method': 'als', 'n_epochs':20 }\n",
    "    )\n",
    "# create reader\n",
    "knn12.create_reader(data)\n",
    "# cross validate\n",
    "predictions = knn12.fit()\n",
    "# acc\n",
    "metrics = knn12.get_accuracy(predictions)\n",
    "\n",
    "# Add the model name to the dictionary\n",
    "metrics['Index'] = 12\n",
    "metrics['Model'] = 'KnnWithMeans (mean square diff, als, item_based)'\n",
    "\n",
    "# Append the dictionary to the existing DataFrame\n",
    "metrics_df = metrics_df.append(metrics, ignore_index=True)"
   ]
  },
  {
   "cell_type": "markdown",
   "metadata": {},
   "source": [
    "* 5 Pearson correlation coefficient UserBased"
   ]
  },
  {
   "cell_type": "code",
   "execution_count": 15,
   "metadata": {},
   "outputs": [
    {
     "name": "stdout",
     "output_type": "stream",
     "text": [
      "Computing the pearson similarity matrix...\n",
      "Done computing similarity matrix.\n",
      "Computing the pearson similarity matrix...\n",
      "Done computing similarity matrix.\n",
      "Estimating biases using als...\n",
      "RMSE: 0.5290\n",
      "MAE:  0.2613\n",
      "MSE: 0.2799\n",
      "Precision: 0.39\n",
      "Recall: 0.34\n",
      "the acc is 77.43\n"
     ]
    },
    {
     "name": "stderr",
     "output_type": "stream",
     "text": [
      "/tmp/ipykernel_30048/3678973049.py:17: FutureWarning: The frame.append method is deprecated and will be removed from pandas in a future version. Use pandas.concat instead.\n",
      "  metrics_df = metrics_df.append(metrics, ignore_index=True)\n"
     ]
    }
   ],
   "source": [
    "knn13 = Knn(\n",
    "    sim_options = {'name': 'pearson','user_based': True}, \n",
    "    bsl_options={'method': 'als', 'n_epochs':20 }\n",
    "    )\n",
    "# create reader\n",
    "knn13.create_reader(data)\n",
    "# cross validate\n",
    "predictions = knn13.fit()\n",
    "# acc\n",
    "metrics = knn13.get_accuracy(predictions)\n",
    "\n",
    "# Add the model name to the dictionary\n",
    "metrics['Index'] = 13\n",
    "metrics['Model'] = 'KnnWithMeans (pearson corr coeff, als, user_based)'\n",
    "\n",
    "# Append the dictionary to the existing DataFrame\n",
    "metrics_df = metrics_df.append(metrics, ignore_index=True)"
   ]
  },
  {
   "cell_type": "markdown",
   "metadata": {},
   "source": [
    "* 6 Pearson correlation coefficient ItemBased"
   ]
  },
  {
   "cell_type": "code",
   "execution_count": 16,
   "metadata": {},
   "outputs": [
    {
     "name": "stdout",
     "output_type": "stream",
     "text": [
      "Computing the pearson similarity matrix...\n",
      "Done computing similarity matrix.\n",
      "Computing the pearson similarity matrix...\n",
      "Done computing similarity matrix.\n",
      "Estimating biases using als...\n",
      "RMSE: 0.5658\n",
      "MAE:  0.2812\n",
      "MSE: 0.3201\n",
      "Precision: 0.45\n",
      "Recall: 0.40\n",
      "the acc is 76.90\n"
     ]
    },
    {
     "name": "stderr",
     "output_type": "stream",
     "text": [
      "/tmp/ipykernel_30048/872247341.py:17: FutureWarning: The frame.append method is deprecated and will be removed from pandas in a future version. Use pandas.concat instead.\n",
      "  metrics_df = metrics_df.append(metrics, ignore_index=True)\n"
     ]
    }
   ],
   "source": [
    "knn14 = Knn(\n",
    "    sim_options = {'name': 'pearson','user_based': False}, \n",
    "    bsl_options={'method': 'als', 'n_epochs':20 }\n",
    "    )\n",
    "# create reader\n",
    "knn14.create_reader(data)\n",
    "# cross validate\n",
    "predictions = knn14.fit()\n",
    "# acc\n",
    "metrics = knn14.get_accuracy(predictions)\n",
    "\n",
    "# Add the model name to the dictionary\n",
    "metrics['Index'] = 14\n",
    "metrics['Model'] = 'KnnWithMeans (pearson corr coeff, als, item_based)'\n",
    "\n",
    "# Append the dictionary to the existing DataFrame\n",
    "metrics_df = metrics_df.append(metrics, ignore_index=True)"
   ]
  },
  {
   "cell_type": "markdown",
   "metadata": {},
   "source": [
    "* 7 the (shrunk) Pearson correlation coefficient UsedBased"
   ]
  },
  {
   "cell_type": "code",
   "execution_count": 17,
   "metadata": {},
   "outputs": [
    {
     "name": "stdout",
     "output_type": "stream",
     "text": [
      "Estimating biases using als...\n",
      "Computing the pearson_baseline similarity matrix...\n",
      "Done computing similarity matrix.\n",
      "Computing the pearson_baseline similarity matrix...\n",
      "Done computing similarity matrix.\n",
      "RMSE: 0.5983\n",
      "MAE:  0.3122\n",
      "MSE: 0.3580\n",
      "Precision: 0.44\n",
      "Recall: 0.35\n",
      "the acc is 73.75\n"
     ]
    },
    {
     "name": "stderr",
     "output_type": "stream",
     "text": [
      "/tmp/ipykernel_30048/1286608646.py:17: FutureWarning: The frame.append method is deprecated and will be removed from pandas in a future version. Use pandas.concat instead.\n",
      "  metrics_df = metrics_df.append(metrics, ignore_index=True)\n"
     ]
    }
   ],
   "source": [
    "knn15 = Knn(\n",
    "    sim_options = {'name': 'pearson_baseline','user_based': True}, \n",
    "    bsl_options={'method': 'als', 'n_epochs':20 }\n",
    "    )\n",
    "# create reader\n",
    "knn15.create_reader(data)\n",
    "# cross validate\n",
    "predictions = knn15.fit()\n",
    "# acc\n",
    "metrics = knn15.get_accuracy(predictions)\n",
    "\n",
    "# Add the model name to the dictionary\n",
    "metrics['Index'] = 15\n",
    "metrics['Model'] = 'KnnWithMeans (pearson_baseline, als, user_based)'\n",
    "\n",
    "# Append the dictionary to the existing DataFrame\n",
    "metrics_df = metrics_df.append(metrics, ignore_index=True)"
   ]
  },
  {
   "cell_type": "markdown",
   "metadata": {},
   "source": [
    "* 8 the (shrunk) Pearson correlation coefficient ItemBased"
   ]
  },
  {
   "cell_type": "code",
   "execution_count": 18,
   "metadata": {},
   "outputs": [
    {
     "name": "stdout",
     "output_type": "stream",
     "text": [
      "Estimating biases using als...\n",
      "Computing the pearson_baseline similarity matrix...\n",
      "Done computing similarity matrix.\n",
      "Computing the pearson_baseline similarity matrix...\n",
      "Done computing similarity matrix.\n",
      "RMSE: 0.6298\n",
      "MAE:  0.3282\n",
      "MSE: 0.3967\n",
      "Precision: 0.36\n",
      "Recall: 0.31\n",
      "the acc is 74.28\n"
     ]
    },
    {
     "name": "stderr",
     "output_type": "stream",
     "text": [
      "/tmp/ipykernel_30048/3921582843.py:17: FutureWarning: The frame.append method is deprecated and will be removed from pandas in a future version. Use pandas.concat instead.\n",
      "  metrics_df = metrics_df.append(metrics, ignore_index=True)\n"
     ]
    }
   ],
   "source": [
    "knn16 = Knn(\n",
    "    sim_options = {'name': 'pearson_baseline','user_based': False}, \n",
    "    bsl_options={'method': 'als', 'n_epochs':20 }\n",
    "    )\n",
    "# create reader\n",
    "knn16.create_reader(data)\n",
    "# cross validate\n",
    "predictions = knn16.fit()\n",
    "# acc\n",
    "metrics = knn16.get_accuracy(predictions)\n",
    "\n",
    "# Add the model name to the dictionary\n",
    "metrics['Index'] = 16\n",
    "metrics['Model'] = 'KnnWithMeans (pearson_baseline, als, item_based)'\n",
    "\n",
    "# Append the dictionary to the existing DataFrame\n",
    "metrics_df = metrics_df.append(metrics, ignore_index=True)\n"
   ]
  },
  {
   "cell_type": "code",
   "execution_count": 19,
   "metadata": {},
   "outputs": [
    {
     "data": {
      "text/html": [
       "<div>\n",
       "<style scoped>\n",
       "    .dataframe tbody tr th:only-of-type {\n",
       "        vertical-align: middle;\n",
       "    }\n",
       "\n",
       "    .dataframe tbody tr th {\n",
       "        vertical-align: top;\n",
       "    }\n",
       "\n",
       "    .dataframe thead th {\n",
       "        text-align: right;\n",
       "    }\n",
       "</style>\n",
       "<table border=\"1\" class=\"dataframe\">\n",
       "  <thead>\n",
       "    <tr style=\"text-align: right;\">\n",
       "      <th></th>\n",
       "      <th>Index</th>\n",
       "      <th>Model</th>\n",
       "      <th>RMSE</th>\n",
       "      <th>MAE</th>\n",
       "      <th>MSE</th>\n",
       "      <th>Precision</th>\n",
       "      <th>Recall</th>\n",
       "      <th>Accuracy</th>\n",
       "    </tr>\n",
       "  </thead>\n",
       "  <tbody>\n",
       "    <tr>\n",
       "      <th>12</th>\n",
       "      <td>13</td>\n",
       "      <td>KnnWithMeans (pearson corr coeff, als, user_ba...</td>\n",
       "      <td>0.529036</td>\n",
       "      <td>0.261286</td>\n",
       "      <td>0.279879</td>\n",
       "      <td>0.392857</td>\n",
       "      <td>0.337328</td>\n",
       "      <td>77.427822</td>\n",
       "    </tr>\n",
       "    <tr>\n",
       "      <th>5</th>\n",
       "      <td>6</td>\n",
       "      <td>KnnWithMeans (pearson corr coeff, sgd, item_ba...</td>\n",
       "      <td>0.550273</td>\n",
       "      <td>0.254325</td>\n",
       "      <td>0.302801</td>\n",
       "      <td>0.402381</td>\n",
       "      <td>0.362455</td>\n",
       "      <td>78.215223</td>\n",
       "    </tr>\n",
       "    <tr>\n",
       "      <th>13</th>\n",
       "      <td>14</td>\n",
       "      <td>KnnWithMeans (pearson corr coeff, als, item_ba...</td>\n",
       "      <td>0.565802</td>\n",
       "      <td>0.281183</td>\n",
       "      <td>0.320132</td>\n",
       "      <td>0.448084</td>\n",
       "      <td>0.399162</td>\n",
       "      <td>76.902887</td>\n",
       "    </tr>\n",
       "    <tr>\n",
       "      <th>10</th>\n",
       "      <td>11</td>\n",
       "      <td>KnnWithMeans (mean square diff, als, user_based)</td>\n",
       "      <td>0.568086</td>\n",
       "      <td>0.305152</td>\n",
       "      <td>0.322722</td>\n",
       "      <td>0.420732</td>\n",
       "      <td>0.366783</td>\n",
       "      <td>72.965879</td>\n",
       "    </tr>\n",
       "    <tr>\n",
       "      <th>2</th>\n",
       "      <td>3</td>\n",
       "      <td>KnnWithMeans (mean square diff, sgd, user_based)</td>\n",
       "      <td>0.582577</td>\n",
       "      <td>0.295387</td>\n",
       "      <td>0.339396</td>\n",
       "      <td>0.326852</td>\n",
       "      <td>0.279378</td>\n",
       "      <td>76.115486</td>\n",
       "    </tr>\n",
       "    <tr>\n",
       "      <th>14</th>\n",
       "      <td>15</td>\n",
       "      <td>KnnWithMeans (pearson_baseline, als, user_based)</td>\n",
       "      <td>0.598330</td>\n",
       "      <td>0.312165</td>\n",
       "      <td>0.357998</td>\n",
       "      <td>0.439759</td>\n",
       "      <td>0.348956</td>\n",
       "      <td>73.753281</td>\n",
       "    </tr>\n",
       "    <tr>\n",
       "      <th>6</th>\n",
       "      <td>7</td>\n",
       "      <td>KnnWithMeans (pearson_baseline, sgd, user_based)</td>\n",
       "      <td>0.601353</td>\n",
       "      <td>0.295399</td>\n",
       "      <td>0.361625</td>\n",
       "      <td>0.384118</td>\n",
       "      <td>0.339121</td>\n",
       "      <td>76.902887</td>\n",
       "    </tr>\n",
       "    <tr>\n",
       "      <th>7</th>\n",
       "      <td>8</td>\n",
       "      <td>KnnWithMeans (pearson_baseline, sgd, item_based)</td>\n",
       "      <td>0.602570</td>\n",
       "      <td>0.321266</td>\n",
       "      <td>0.363090</td>\n",
       "      <td>0.383333</td>\n",
       "      <td>0.317885</td>\n",
       "      <td>74.540682</td>\n",
       "    </tr>\n",
       "    <tr>\n",
       "      <th>4</th>\n",
       "      <td>5</td>\n",
       "      <td>KnnWithMeans (pearson corr coeff, sgd, user_ba...</td>\n",
       "      <td>0.604734</td>\n",
       "      <td>0.306797</td>\n",
       "      <td>0.365703</td>\n",
       "      <td>0.443137</td>\n",
       "      <td>0.410495</td>\n",
       "      <td>75.328084</td>\n",
       "    </tr>\n",
       "    <tr>\n",
       "      <th>15</th>\n",
       "      <td>16</td>\n",
       "      <td>KnnWithMeans (pearson_baseline, als, item_based)</td>\n",
       "      <td>0.629843</td>\n",
       "      <td>0.328188</td>\n",
       "      <td>0.396702</td>\n",
       "      <td>0.360215</td>\n",
       "      <td>0.309674</td>\n",
       "      <td>74.278215</td>\n",
       "    </tr>\n",
       "    <tr>\n",
       "      <th>8</th>\n",
       "      <td>9</td>\n",
       "      <td>KnnWithMeans (cosine, als, user_based)</td>\n",
       "      <td>0.631206</td>\n",
       "      <td>0.340819</td>\n",
       "      <td>0.398421</td>\n",
       "      <td>0.363978</td>\n",
       "      <td>0.299429</td>\n",
       "      <td>71.391076</td>\n",
       "    </tr>\n",
       "    <tr>\n",
       "      <th>11</th>\n",
       "      <td>12</td>\n",
       "      <td>KnnWithMeans (mean square diff, als, item_based)</td>\n",
       "      <td>0.640345</td>\n",
       "      <td>0.327977</td>\n",
       "      <td>0.410041</td>\n",
       "      <td>0.386322</td>\n",
       "      <td>0.349930</td>\n",
       "      <td>75.065617</td>\n",
       "    </tr>\n",
       "    <tr>\n",
       "      <th>9</th>\n",
       "      <td>10</td>\n",
       "      <td>KnnWithMeans (cosine, als, item_based)</td>\n",
       "      <td>0.658386</td>\n",
       "      <td>0.365415</td>\n",
       "      <td>0.433472</td>\n",
       "      <td>0.389228</td>\n",
       "      <td>0.316203</td>\n",
       "      <td>70.866142</td>\n",
       "    </tr>\n",
       "    <tr>\n",
       "      <th>3</th>\n",
       "      <td>4</td>\n",
       "      <td>KnnWithMeans (mean square diff, sgd, item_based)</td>\n",
       "      <td>0.663043</td>\n",
       "      <td>0.332912</td>\n",
       "      <td>0.439626</td>\n",
       "      <td>0.409091</td>\n",
       "      <td>0.354009</td>\n",
       "      <td>74.278215</td>\n",
       "    </tr>\n",
       "    <tr>\n",
       "      <th>0</th>\n",
       "      <td>1</td>\n",
       "      <td>KnnWithMeans (cosine, sgd, user_based)</td>\n",
       "      <td>0.666325</td>\n",
       "      <td>0.352471</td>\n",
       "      <td>0.443988</td>\n",
       "      <td>0.372840</td>\n",
       "      <td>0.307375</td>\n",
       "      <td>71.653543</td>\n",
       "    </tr>\n",
       "    <tr>\n",
       "      <th>1</th>\n",
       "      <td>2</td>\n",
       "      <td>KnnWithMeans (cosine, sgd, item_based)</td>\n",
       "      <td>0.696547</td>\n",
       "      <td>0.380466</td>\n",
       "      <td>0.485178</td>\n",
       "      <td>0.417625</td>\n",
       "      <td>0.360701</td>\n",
       "      <td>71.391076</td>\n",
       "    </tr>\n",
       "  </tbody>\n",
       "</table>\n",
       "</div>"
      ],
      "text/plain": [
       "   Index                                              Model      RMSE  \\\n",
       "12    13  KnnWithMeans (pearson corr coeff, als, user_ba...  0.529036   \n",
       "5      6  KnnWithMeans (pearson corr coeff, sgd, item_ba...  0.550273   \n",
       "13    14  KnnWithMeans (pearson corr coeff, als, item_ba...  0.565802   \n",
       "10    11   KnnWithMeans (mean square diff, als, user_based)  0.568086   \n",
       "2      3   KnnWithMeans (mean square diff, sgd, user_based)  0.582577   \n",
       "14    15   KnnWithMeans (pearson_baseline, als, user_based)  0.598330   \n",
       "6      7   KnnWithMeans (pearson_baseline, sgd, user_based)  0.601353   \n",
       "7      8   KnnWithMeans (pearson_baseline, sgd, item_based)  0.602570   \n",
       "4      5  KnnWithMeans (pearson corr coeff, sgd, user_ba...  0.604734   \n",
       "15    16   KnnWithMeans (pearson_baseline, als, item_based)  0.629843   \n",
       "8      9             KnnWithMeans (cosine, als, user_based)  0.631206   \n",
       "11    12   KnnWithMeans (mean square diff, als, item_based)  0.640345   \n",
       "9     10             KnnWithMeans (cosine, als, item_based)  0.658386   \n",
       "3      4   KnnWithMeans (mean square diff, sgd, item_based)  0.663043   \n",
       "0      1             KnnWithMeans (cosine, sgd, user_based)  0.666325   \n",
       "1      2             KnnWithMeans (cosine, sgd, item_based)  0.696547   \n",
       "\n",
       "         MAE       MSE  Precision    Recall   Accuracy  \n",
       "12  0.261286  0.279879   0.392857  0.337328  77.427822  \n",
       "5   0.254325  0.302801   0.402381  0.362455  78.215223  \n",
       "13  0.281183  0.320132   0.448084  0.399162  76.902887  \n",
       "10  0.305152  0.322722   0.420732  0.366783  72.965879  \n",
       "2   0.295387  0.339396   0.326852  0.279378  76.115486  \n",
       "14  0.312165  0.357998   0.439759  0.348956  73.753281  \n",
       "6   0.295399  0.361625   0.384118  0.339121  76.902887  \n",
       "7   0.321266  0.363090   0.383333  0.317885  74.540682  \n",
       "4   0.306797  0.365703   0.443137  0.410495  75.328084  \n",
       "15  0.328188  0.396702   0.360215  0.309674  74.278215  \n",
       "8   0.340819  0.398421   0.363978  0.299429  71.391076  \n",
       "11  0.327977  0.410041   0.386322  0.349930  75.065617  \n",
       "9   0.365415  0.433472   0.389228  0.316203  70.866142  \n",
       "3   0.332912  0.439626   0.409091  0.354009  74.278215  \n",
       "0   0.352471  0.443988   0.372840  0.307375  71.653543  \n",
       "1   0.380466  0.485178   0.417625  0.360701  71.391076  "
      ]
     },
     "execution_count": 19,
     "metadata": {},
     "output_type": "execute_result"
    }
   ],
   "source": [
    "metrics_df.sort_values(by='RMSE', ascending=True, inplace=True)\n",
    "metrics_df\n"
   ]
  },
  {
   "cell_type": "code",
   "execution_count": 20,
   "metadata": {},
   "outputs": [
    {
     "data": {
      "image/png": "[encoded data removed]",
      "text/plain": [
       "<Figure size 1000x600 with 1 Axes>"
      ]
     },
     "metadata": {},
     "output_type": "display_data"
    }
   ],
   "source": [
    "import matplotlib.pyplot as plt\n",
    "\n",
    "# Create a new figure\n",
    "plt.figure(figsize=(10, 6))\n",
    "\n",
    "# Plot RMSE with lines and points\n",
    "plt.plot(range(metrics_df.shape[0]), metrics_df['RMSE'], marker='o', linestyle='-', label='RMSE')\n",
    "\n",
    "# Plot MAE with lines and points\n",
    "plt.plot(range(metrics_df.shape[0]), metrics_df['MAE'], marker='s', linestyle='-', label='MAE')\n",
    "\n",
    "# Plot MSE with lines and points\n",
    "plt.plot(range(metrics_df.shape[0]), metrics_df['MSE'], marker='^', linestyle='-', label='MSE')\n",
    "\n",
    "# Annotate points with 'Index' column values\n",
    "for i in range(metrics_df.shape[0]):\n",
    "    plt.annotate(metrics_df['Index'].iloc[i], (i, metrics_df['RMSE'].iloc[i]))\n",
    "    plt.annotate(metrics_df['Index'].iloc[i], (i, metrics_df['MAE'].iloc[i]))\n",
    "    plt.annotate(metrics_df['Index'].iloc[i], (i, metrics_df['MSE'].iloc[i]))\n",
    "\n",
    "# Set title and labels\n",
    "plt.title('Error Metrics for Different Models')\n",
    "plt.xlabel('Model Index')\n",
    "plt.ylabel('Error Value')\n",
    "\n",
    "# Add a legend\n",
    "plt.legend()\n",
    "\n",
    "# Show the plot\n",
    "plt.show()"
   ]
  },
  {
   "cell_type": "code",
   "execution_count": 21,
   "metadata": {},
   "outputs": [
    {
     "data": {
      "image/png": "[encoded data removed]",
      "text/plain": [
       "<Figure size 1000x600 with 1 Axes>"
      ]
     },
     "metadata": {},
     "output_type": "display_data"
    }
   ],
   "source": [
    "import matplotlib.pyplot as plt\n",
    "\n",
    "# Create a new figure\n",
    "plt.figure(figsize=(10, 6))\n",
    "\n",
    "# Plot RMSE with lines and points\n",
    "plt.plot(range(metrics_df.shape[0]), metrics_df['RMSE'], marker='o', linestyle='-', label='RMSE')\n",
    "\n",
    "# Plot MAE with lines and points\n",
    "plt.plot(range(metrics_df.shape[0]), metrics_df['Precision'], marker='s', linestyle='-', label='Precision')\n",
    "\n",
    "# Plot MSE with lines and points\n",
    "plt.plot(range(metrics_df.shape[0]), metrics_df['Recall'], marker='^', linestyle='-', label='Recall')\n",
    "\n",
    "# Annotate points with 'Index' column values\n",
    "for i in range(metrics_df.shape[0]):\n",
    "    plt.annotate(metrics_df['Index'].iloc[i], (i, metrics_df['RMSE'].iloc[i]))\n",
    "    plt.annotate(metrics_df['Index'].iloc[i], (i, metrics_df['Precision'].iloc[i]))\n",
    "    plt.annotate(metrics_df['Index'].iloc[i], (i, metrics_df['Recall'].iloc[i]))\n",
    "\n",
    "# Set title and labels\n",
    "plt.title('Error Metrics for Different Models')\n",
    "plt.xlabel('Model Index')\n",
    "plt.ylabel('Error Value')\n",
    "\n",
    "# Add a legend\n",
    "plt.legend()\n",
    "\n",
    "# Show the plot\n",
    "plt.show()"
   ]
  },
  {
   "cell_type": "code",
   "execution_count": 22,
   "metadata": {},
   "outputs": [
    {
     "data": {
      "image/png": "[encoded data removed]",
      "text/plain": [
       "<Figure size 1000x600 with 1 Axes>"
      ]
     },
     "metadata": {},
     "output_type": "display_data"
    }
   ],
   "source": [
    "import matplotlib.pyplot as plt\n",
    "\n",
    "# Create a new figure\n",
    "plt.figure(figsize=(10, 6))\n",
    "\n",
    "# Plot Accuracy with lines and points\n",
    "plt.plot(range(metrics_df.shape[0]), metrics_df['Accuracy'], marker='o', linestyle='-', label='Accuracy')\n",
    "\n",
    "# Annotate points with 'Index' column values\n",
    "for i in range(metrics_df.shape[0]):\n",
    "    plt.annotate(metrics_df['Index'].iloc[i], (i, metrics_df['Accuracy'].iloc[i]))\n",
    "\n",
    "# Set title and labels\n",
    "plt.title('Accuracy for Different Models')\n",
    "plt.xlabel('Model Index')\n",
    "plt.ylabel('Accuracy')\n",
    "\n",
    "# Add a legend\n",
    "plt.legend()\n",
    "\n",
    "# Show the plot\n",
    "plt.show()\n"
   ]
  }
 ],
 "metadata": {
  "kernelspec": {
   "display_name": "DL",
   "language": "python",
   "name": "python3"
  },
  "language_info": {
   "codemirror_mode": {
    "name": "ipython",
    "version": 3
   },
   "file_extension": ".py",
   "mimetype": "text/x-python",
   "name": "python",
   "nbconvert_exporter": "python",
   "pygments_lexer": "ipython3",
   "version": "3.10.9"
  }
 },
 "nbformat": 4,
 "nbformat_minor": 2
}
