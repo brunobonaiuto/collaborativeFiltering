{
 "cells": [
  {
   "cell_type": "code",
   "execution_count": 1,
   "metadata": {},
   "outputs": [
    {
     "name": "stdout",
     "output_type": "stream",
     "text": [
      "Empty DataFrame\n",
      "Columns: [Index, Model, RMSE, MAE, MSE, Precision, Recall, Accuracy]\n",
      "Index: []\n"
     ]
    }
   ],
   "source": [
    "#Importing the data\n",
    "import pandas as pd\n",
    "import numpy as np\n",
    "import pandas as pd\n",
    "from surprise import Reader, Dataset, KNNWithMeans, accuracy, PredictionImpossible\n",
    "from surprise.model_selection import cross_validate\n",
    "from surprise.model_selection import train_test_split\n",
    "from surprise.accuracy import rmse\n",
    "from collections import defaultdict\n",
    "#Importing the data\n",
    "data = pd.read_csv('/home/bbruno/all_here/python course/vinnie/data/cleaned_data/df_under.csv')\n",
    "data.head()\n",
    "# Create an empty DataFrame\n",
    "metrics_df = pd.DataFrame(columns=['Index','Model','RMSE','MAE','MSE', 'Precision', 'Recall', 'Accuracy'])\n",
    "print(metrics_df)"
   ]
  },
  {
   "cell_type": "code",
   "execution_count": 2,
   "metadata": {},
   "outputs": [],
   "source": [
    "class Knn (KNNWithMeans):\n",
    "    def __init__(self, sim_options={}, bsl_options = {}):#, bsl_options={}):\n",
    "        KNNWithMeans.__init__(self, sim_options=sim_options, bsl_options= bsl_options)#, bsl_options=bsl_options)\n",
    "    \n",
    "    def create_reader(self, data):\n",
    "        reader = Reader(rating_scale=(1, 5))\n",
    "        self.data = Dataset.load_from_df(data[['userId', 'wine', 'rate']], reader)\n",
    "    # # option 1\n",
    "    # ########################################\n",
    "    # # for cross validation we have two functions, cross_validate and fit\n",
    "    # def cross_validate(self, measures=['RMSE'], cv=3, verbose=False):\n",
    "    #     results = cross_validate(self, self.data, measures=measures, cv=cv, verbose=verbose)\n",
    "    #     for measure in measures:\n",
    "    #         print(f'{measure}: {results[\"test_\" + measure.lower()].mean()}')\n",
    "    #     return results\n",
    "    \n",
    "    # def fit(self, trainset):\n",
    "    #     predictions = KNNWithMeans.fit(self, trainset).test(trainset.build_testset())\n",
    "    #     self.sim = self.compute_similarities()\n",
    "    #     self.bu, self.bi = self.compute_baselines()\n",
    "    #     return predictions\n",
    "    ########################################\n",
    "    #option 2\n",
    "    #######################################\n",
    "    # fit funtion that works without cross validation\n",
    "    def fit (self):\n",
    "        self.trainset, testset = train_test_split(self.data, test_size=0.2)\n",
    "        predictions = KNNWithMeans.fit(self, self.trainset).test(testset)\n",
    "        self.sim = self.compute_similarities()\n",
    "        self.bu, self.bi = self.compute_baselines()\n",
    "        return predictions\n",
    "    #######################################\n",
    "\n",
    "    def estimated(self, u, i):\n",
    "        if not (self.trainset.knows_user(u) and self.trainset.knows_item(i)):\n",
    "            raise PredictionImpossible(\"User and/or item is unknown.\")\n",
    "        \n",
    "        # Compute similarities between u and v, where v describes all other\n",
    "        # users that have also rated item i.\n",
    "        neighbors = [(v, self.sim[u, v]) for (v, r) in self.trainset.ir[i]]\n",
    "        # Sort these neighbors by similarity\n",
    "        neighbors = sorted(neighbors, key=lambda x: x[1], reverse=True)\n",
    "\n",
    "        print(\"The 5 nearest neighbors of user\", str(u), \"are:\")\n",
    "        for v, sim_uv in neighbors[:5]:\n",
    "            print(f\"user {v} with sim {sim_uv:1.15f}\")\n",
    "\n",
    "        # ... Aaaaand return the baseline estimate anyway ;)\n",
    "        bsl = self.trainset.global_mean + self.bu[u] + self.bi[i]\n",
    "        return print(f\"And the baseline estimate is: {bsl}\")\n",
    "    \n",
    "    def get_Iu(self, uid):\n",
    "        \"\"\"Return the number of items rated by given user\n",
    "        args:\n",
    "          uid: the id of the user\n",
    "        returns:\n",
    "          the number of items rated by the user\n",
    "        \"\"\"\n",
    "        try:\n",
    "            return len(self.trainset.ur[self.trainset.to_inner_uid(uid)])\n",
    "        except ValueError:  # user was not part of the trainset\n",
    "            return 0\n",
    "\n",
    "    def get_Ui(self, iid):\n",
    "        \"\"\"Return the number of users that have rated given item\n",
    "        args:\n",
    "          iid: the raw id of the item\n",
    "        returns:\n",
    "          the number of users that have rated the item.\n",
    "        \"\"\"\n",
    "        try:\n",
    "            return len(self.trainset.ir[self.trainset.to_inner_iid(iid)])\n",
    "        except ValueError:\n",
    "            return 0\n",
    "\n",
    "    def inspect_predictions(self, predictions):\n",
    "        print(f\"uid means the user id and iid means the wine id\\n\")\n",
    "        print(f\"rui means the actual rating and est means the estimated rating\\n\")\n",
    "        print(f\"err means the error between the actual and the estimated rating\\n\")\n",
    "        print(f\"Iu means the number of items rated by given user\\n\")\n",
    "        print(f\"Ui means the number of users that have rated given item\\n\")\n",
    "        # Create a dataframe with the predictions\n",
    "        df_pred = pd.DataFrame(predictions, columns=['uid', 'iid', 'rui', 'est', 'details'])\n",
    "        df_pred['Iu'] = df_pred.uid.apply(self.get_Iu)\n",
    "        df_pred['Ui'] = df_pred.iid.apply(self.get_Ui)\n",
    "        df_pred['err'] = abs(df_pred.est - df_pred.rui)\n",
    "        return df_pred\n",
    "    def get_accuracy(self, predictions, k=10, threshold=3.5):\n",
    "        # Compute RMSE\n",
    "        rmse = accuracy.rmse(predictions, verbose=True)\n",
    "        \n",
    "        # Compute MAE\n",
    "        mae = accuracy.mae(predictions, verbose=True)\n",
    "        \n",
    "        # Compute MSE\n",
    "        mse = accuracy.mse(predictions, verbose=True)\n",
    "        \n",
    "        # Compute precision and recall\n",
    "        precisions, recalls = self.precision_recall_at_k(predictions, k=k, threshold=threshold)\n",
    "\n",
    "        # Precision and recall can then be averaged over all users\n",
    "        precision = sum(prec for prec in precisions.values()) / len(precisions)\n",
    "        recall = sum(rec for rec in recalls.values()) / len(recalls)\n",
    "        print(f'Precision: {precision:.2f}\\nRecall: {recall:.2f}')\n",
    "\n",
    "        # Count correct predictions\n",
    "        correct = 0\n",
    "        for uid, iid, true_r, est, _ in predictions:\n",
    "            if round(est) == round(true_r):\n",
    "                correct += 1\n",
    "\n",
    "        # Compute accuracy\n",
    "        accuracy_percentage = correct / len(predictions)\n",
    "        accuracy_percentage = accuracy_percentage * 100\n",
    "        print(f\"the acc is {accuracy_percentage:.2f}\")\n",
    "\n",
    "        # Return a dictionary with the metrics\n",
    "        return {'RMSE': rmse, 'MAE': mae, 'MSE': mse, 'Precision': precision, 'Recall': recall, 'Accuracy': accuracy_percentage}\n",
    "    ########################################\n",
    "    # def get_accuracy(self, predictions, k=10, threshold=3.5):\n",
    "    #     # Compute RMSE\n",
    "    #     accuracy.rmse(predictions, verbose=True)\n",
    "        \n",
    "    #     # Compute precision and recall\n",
    "    #     precisions, recalls = self.precision_recall_at_k(predictions, k=k, threshold=threshold)\n",
    "\n",
    "    #     # Precision and recall can then be averaged over all users\n",
    "    #     precision = sum(prec for prec in precisions.values()) / len(precisions)\n",
    "    #     recall = sum(rec for rec in recalls.values()) / len(recalls)\n",
    "    #     print(f'Precision: {precision:.2f}\\nRecall: {recall:.2f}')\n",
    "\n",
    "    #     # Count correct predictions\n",
    "    #     correct = 0\n",
    "    #     for uid, iid, true_r, est, _ in predictions:\n",
    "    #         if round(est) == round(true_r):\n",
    "    #             correct += 1\n",
    "\n",
    "    #     # Compute accuracy\n",
    "    #     accuracy_percentage = correct / len(predictions)\n",
    "    #     accuracy_percentage = accuracy_percentage * 100\n",
    "    #     print(f\"the acc is {accuracy_percentage:.2f}\")\n",
    "    #     return accuracy_percentage\n",
    "    \n",
    "    @staticmethod \n",
    "    def precision_recall_at_k(predictions, k=10, threshold=3.5):\n",
    "        \"\"\"Return precision and recall at k metrics for each user\"\"\"\n",
    "\n",
    "        # First map the predictions to each user.\n",
    "        user_est_true = defaultdict(list)\n",
    "        for uid, _, true_r, est, _ in predictions:\n",
    "            user_est_true[uid].append((est, true_r))\n",
    "\n",
    "        precisions = dict()\n",
    "        recalls = dict()\n",
    "        for uid, user_ratings in user_est_true.items():\n",
    "\n",
    "            # Sort user ratings by estimated value\n",
    "            user_ratings.sort(key=lambda x: x[0], reverse=True)\n",
    "\n",
    "            # Number of relevant items\n",
    "            n_rel = sum((true_r >= threshold) for (_, true_r) in user_ratings)\n",
    "\n",
    "            # Number of recommended items in top k\n",
    "            n_rec_k = sum((est >= threshold) for (est, _) in user_ratings[:k])\n",
    "\n",
    "            # Number of relevant and recommended items in top k\n",
    "            n_rel_and_rec_k = sum(\n",
    "                ((true_r >= threshold) and (est >= threshold))\n",
    "                for (est, true_r) in user_ratings[:k]\n",
    "            )\n",
    "\n",
    "            # Precision@K: Proportion of recommended items that are relevant\n",
    "            # When n_rec_k is 0, Precision is undefined. We here set it to 0.\n",
    "\n",
    "            precisions[uid] = n_rel_and_rec_k / n_rec_k if n_rec_k != 0 else 0\n",
    "\n",
    "            # Recall@K: Proportion of relevant items that are recommended\n",
    "            # When n_rel is 0, Recall is undefined. We here set it to 0.\n",
    "\n",
    "            recalls[uid] = n_rel_and_rec_k / n_rel if n_rel != 0 else 0\n",
    "\n",
    "        return precisions, recalls\n",
    "    \n",
    "    # Mi function acc that works perfectly was modifyed to add precision and recall, for that reason this is commented\n",
    "    # def get_accuracy(self, predictions):\n",
    "    #     # # Compute RMSE\n",
    "    #     # predictions = KNNBasic.test(self, testset)\n",
    "    #     accuracy.rmse(predictions, verbose=True)\n",
    "    #     # Count correct predictions\n",
    "    #     correct = 0\n",
    "    #     for uid, iid, true_r, est, _ in predictions:\n",
    "    #         if round(est) == round(true_r):\n",
    "    #             correct += 1\n",
    "\n",
    "    #     # Compute accuracy\n",
    "    #     accuracy_percentage = correct / len(predictions)\n",
    "    #     return accuracy_percentage * 100"
   ]
  },
  {
   "cell_type": "markdown",
   "metadata": {},
   "source": [
    "## KnnWithMeans and SGD"
   ]
  },
  {
   "cell_type": "markdown",
   "metadata": {},
   "source": [
    "* 1 Cosine UserBased"
   ]
  },
  {
   "cell_type": "code",
   "execution_count": 3,
   "metadata": {},
   "outputs": [
    {
     "name": "stdout",
     "output_type": "stream",
     "text": [
      "Computing the cosine similarity matrix...\n",
      "Done computing similarity matrix.\n",
      "Computing the cosine similarity matrix...\n",
      "Done computing similarity matrix.\n",
      "Estimating biases using sgd...\n",
      "RMSE: 1.0761\n",
      "MAE:  0.8873\n",
      "MSE: 1.1581\n",
      "Precision: 0.63\n",
      "Recall: 0.71\n",
      "the acc is 33.86\n"
     ]
    },
    {
     "name": "stderr",
     "output_type": "stream",
     "text": [
      "/tmp/ipykernel_29874/169629797.py:17: FutureWarning: The frame.append method is deprecated and will be removed from pandas in a future version. Use pandas.concat instead.\n",
      "  metrics_df = metrics_df.append(metrics, ignore_index=True)\n"
     ]
    }
   ],
   "source": [
    "knn = Knn(\n",
    "    sim_options = {'name': 'cosine','user_based': True}, \n",
    "    bsl_options={'method': 'sgd', 'learning_rate': 0.00005, 'n_epochs':20, 'reg_u': 12 , 'reg_i': 5}\n",
    "    )\n",
    "# create reader\n",
    "knn.create_reader(data)\n",
    "# cross validate\n",
    "predictions = knn.fit()\n",
    "# acc\n",
    "metrics = knn.get_accuracy(predictions)\n",
    "\n",
    "# Add the model name to the dictionary\n",
    "metrics['Index'] = 1\n",
    "metrics['Model'] = 'KnnWithMeans (cosine, sgd, user_based)'\n",
    "\n",
    "# Append the dictionary to the existing DataFrame\n",
    "metrics_df = metrics_df.append(metrics, ignore_index=True)"
   ]
  },
  {
   "cell_type": "markdown",
   "metadata": {},
   "source": [
    "* 2 Cosine ItemBased"
   ]
  },
  {
   "cell_type": "code",
   "execution_count": 4,
   "metadata": {},
   "outputs": [
    {
     "name": "stdout",
     "output_type": "stream",
     "text": [
      "Computing the cosine similarity matrix...\n",
      "Done computing similarity matrix.\n",
      "Computing the cosine similarity matrix...\n",
      "Done computing similarity matrix.\n",
      "Estimating biases using sgd...\n",
      "RMSE: 1.0597\n",
      "MAE:  0.8936\n",
      "MSE: 1.1230\n",
      "Precision: 0.57\n",
      "Recall: 0.62\n",
      "the acc is 30.71\n"
     ]
    },
    {
     "name": "stderr",
     "output_type": "stream",
     "text": [
      "/tmp/ipykernel_29874/3543638896.py:17: FutureWarning: The frame.append method is deprecated and will be removed from pandas in a future version. Use pandas.concat instead.\n",
      "  metrics_df = metrics_df.append(metrics, ignore_index=True)\n"
     ]
    }
   ],
   "source": [
    "knn2 = Knn(\n",
    "    sim_options = {'name': 'cosine','user_based': False}, \n",
    "    bsl_options={'method': 'sgd', 'learning_rate': 0.00005, 'n_epochs':20, 'reg_u': 12 , 'reg_i': 5}\n",
    "    )\n",
    "# create reader\n",
    "knn2.create_reader(data)\n",
    "# cross validate\n",
    "predictions = knn2.fit()\n",
    "# acc\n",
    "metrics = knn2.get_accuracy(predictions)\n",
    "\n",
    "# Add the model name to the dictionary\n",
    "metrics['Index'] = 2\n",
    "metrics['Model'] = 'KnnWithMeans (cosine, sgd, item_based)'\n",
    "\n",
    "# Append the dictionary to the existing DataFrame\n",
    "metrics_df = metrics_df.append(metrics, ignore_index=True)"
   ]
  },
  {
   "cell_type": "markdown",
   "metadata": {},
   "source": [
    "* 3 Mean Square DIfference UserBased"
   ]
  },
  {
   "cell_type": "code",
   "execution_count": 5,
   "metadata": {},
   "outputs": [
    {
     "name": "stdout",
     "output_type": "stream",
     "text": [
      "Computing the msd similarity matrix...\n",
      "Done computing similarity matrix.\n",
      "Computing the msd similarity matrix...\n",
      "Done computing similarity matrix.\n",
      "Estimating biases using sgd...\n",
      "RMSE: 1.1615\n",
      "MAE:  0.9724\n",
      "MSE: 1.3491\n",
      "Precision: 0.61\n",
      "Recall: 0.66\n",
      "the acc is 28.35\n"
     ]
    },
    {
     "name": "stderr",
     "output_type": "stream",
     "text": [
      "/tmp/ipykernel_29874/2189425315.py:17: FutureWarning: The frame.append method is deprecated and will be removed from pandas in a future version. Use pandas.concat instead.\n",
      "  metrics_df = metrics_df.append(metrics, ignore_index=True)\n"
     ]
    }
   ],
   "source": [
    "knn3 = Knn(\n",
    "    sim_options = {'name': 'msd','user_based': True}, \n",
    "    bsl_options={'method': 'sgd', 'learning_rate': 0.00005, 'n_epochs':20, 'reg_u': 12 , 'reg_i': 5}\n",
    "    )\n",
    "# create reader\n",
    "knn3.create_reader(data)\n",
    "# cross validate\n",
    "predictions = knn3.fit()\n",
    "# acc\n",
    "metrics = knn3.get_accuracy(predictions)\n",
    "\n",
    "# Add the model name to the dictionary\n",
    "metrics['Index'] = 3\n",
    "metrics['Model'] = 'KnnWithMeans (mean square diff, sgd, user_based)'\n",
    "\n",
    "# Append the dictionary to the existing DataFrame\n",
    "metrics_df = metrics_df.append(metrics, ignore_index=True)"
   ]
  },
  {
   "cell_type": "markdown",
   "metadata": {},
   "source": [
    "* 4 Mean Square DIfference ItemBased"
   ]
  },
  {
   "cell_type": "code",
   "execution_count": 6,
   "metadata": {},
   "outputs": [
    {
     "name": "stdout",
     "output_type": "stream",
     "text": [
      "Computing the msd similarity matrix...\n",
      "Done computing similarity matrix.\n",
      "Computing the msd similarity matrix...\n",
      "Done computing similarity matrix.\n",
      "Estimating biases using sgd...\n",
      "RMSE: 1.0968\n",
      "MAE:  0.8810\n",
      "MSE: 1.2031\n",
      "Precision: 0.61\n",
      "Recall: 0.68\n",
      "the acc is 33.07\n"
     ]
    },
    {
     "name": "stderr",
     "output_type": "stream",
     "text": [
      "/tmp/ipykernel_29874/2602642850.py:17: FutureWarning: The frame.append method is deprecated and will be removed from pandas in a future version. Use pandas.concat instead.\n",
      "  metrics_df = metrics_df.append(metrics, ignore_index=True)\n"
     ]
    }
   ],
   "source": [
    "knn4 = Knn(\n",
    "    sim_options = {'name': 'msd','user_based': False}, \n",
    "    bsl_options={'method': 'sgd', 'learning_rate': 0.00005, 'n_epochs':20, 'reg_u': 12 , 'reg_i': 5}\n",
    "    )\n",
    "# create reader\n",
    "knn4.create_reader(data)\n",
    "# cross validate\n",
    "predictions = knn4.fit()\n",
    "# acc\n",
    "metrics = knn4.get_accuracy(predictions)\n",
    "\n",
    "# Add the model name to the dictionary\n",
    "metrics['Index'] = 4\n",
    "metrics['Model'] = 'KnnWithMeans (mean square diff, sgd, item_based)'\n",
    "\n",
    "# Append the dictionary to the existing DataFrame\n",
    "metrics_df = metrics_df.append(metrics, ignore_index=True)"
   ]
  },
  {
   "cell_type": "markdown",
   "metadata": {},
   "source": [
    "* 4 the Pearson correlation coefficient UserBased"
   ]
  },
  {
   "cell_type": "code",
   "execution_count": 7,
   "metadata": {},
   "outputs": [
    {
     "name": "stdout",
     "output_type": "stream",
     "text": [
      "Computing the pearson similarity matrix...\n",
      "Done computing similarity matrix.\n",
      "Computing the pearson similarity matrix...\n",
      "Done computing similarity matrix.\n",
      "Estimating biases using sgd...\n",
      "RMSE: 0.9640\n",
      "MAE:  0.8010\n",
      "MSE: 0.9293\n",
      "Precision: 0.69\n",
      "Recall: 0.72\n",
      "the acc is 36.22\n"
     ]
    },
    {
     "name": "stderr",
     "output_type": "stream",
     "text": [
      "/tmp/ipykernel_29874/3861551723.py:17: FutureWarning: The frame.append method is deprecated and will be removed from pandas in a future version. Use pandas.concat instead.\n",
      "  metrics_df = metrics_df.append(metrics, ignore_index=True)\n"
     ]
    }
   ],
   "source": [
    "knn5 = Knn(\n",
    "    sim_options = {'name': 'Pearson','user_based': True}, \n",
    "    bsl_options={'method': 'sgd', 'learning_rate': 0.00005, 'n_epochs':20, 'reg_u': 12 , 'reg_i': 5}\n",
    "    )\n",
    "# create reader\n",
    "knn5.create_reader(data)\n",
    "# cross validate\n",
    "predictions = knn5.fit()\n",
    "# acc\n",
    "metrics = knn5.get_accuracy(predictions)\n",
    "\n",
    "# Add the model name to the dictionary\n",
    "metrics['Index'] = 5\n",
    "metrics['Model'] = 'KnnWithMeans (pearson corr coeff, sgd, user_based)'\n",
    "\n",
    "# Append the dictionary to the existing DataFrame\n",
    "metrics_df = metrics_df.append(metrics, ignore_index=True)"
   ]
  },
  {
   "cell_type": "markdown",
   "metadata": {},
   "source": [
    "* 5 the Pearson correlation coefficient ItemBased"
   ]
  },
  {
   "cell_type": "code",
   "execution_count": 8,
   "metadata": {},
   "outputs": [
    {
     "name": "stdout",
     "output_type": "stream",
     "text": [
      "Computing the pearson similarity matrix...\n",
      "Done computing similarity matrix.\n",
      "Computing the pearson similarity matrix...\n",
      "Done computing similarity matrix.\n",
      "Estimating biases using sgd...\n",
      "RMSE: 1.1381\n",
      "MAE:  0.9540\n",
      "MSE: 1.2952\n",
      "Precision: 0.73\n",
      "Recall: 0.80\n",
      "the acc is 30.71\n"
     ]
    },
    {
     "name": "stderr",
     "output_type": "stream",
     "text": [
      "/tmp/ipykernel_29874/546500276.py:18: FutureWarning: The frame.append method is deprecated and will be removed from pandas in a future version. Use pandas.concat instead.\n",
      "  metrics_df = metrics_df.append(metrics, ignore_index=True)\n"
     ]
    }
   ],
   "source": [
    "knn6 = Knn(\n",
    "    sim_options = {'name': 'Pearson','user_based': False}, \n",
    "    bsl_options={'method': 'sgd', 'learning_rate': 0.00005, 'n_epochs':20, 'reg_u': 12 , 'reg_i': 5}\n",
    "    )\n",
    "# create reader\n",
    "# create reader\n",
    "knn6.create_reader(data)\n",
    "# cross validate\n",
    "predictions = knn6.fit()\n",
    "# acc\n",
    "metrics = knn6.get_accuracy(predictions)\n",
    "\n",
    "# Add the model name to the dictionary\n",
    "metrics['Index'] = 6\n",
    "metrics['Model'] = 'KnnWithMeans (pearson corr coeff, sgd, item_based)'\n",
    "\n",
    "# Append the dictionary to the existing DataFrame\n",
    "metrics_df = metrics_df.append(metrics, ignore_index=True)"
   ]
  },
  {
   "cell_type": "markdown",
   "metadata": {},
   "source": [
    "* 6 the (shrunk) Pearson correlation coefficient UserBased"
   ]
  },
  {
   "cell_type": "code",
   "execution_count": 9,
   "metadata": {},
   "outputs": [
    {
     "name": "stdout",
     "output_type": "stream",
     "text": [
      "Estimating biases using sgd...\n",
      "Computing the pearson_baseline similarity matrix...\n",
      "Done computing similarity matrix.\n",
      "Computing the pearson_baseline similarity matrix...\n",
      "Done computing similarity matrix.\n",
      "RMSE: 1.0607\n",
      "MAE:  0.8874\n",
      "MSE: 1.1251\n",
      "Precision: 0.66\n",
      "Recall: 0.69\n",
      "the acc is 34.65\n"
     ]
    },
    {
     "name": "stderr",
     "output_type": "stream",
     "text": [
      "/tmp/ipykernel_29874/2965504438.py:17: FutureWarning: The frame.append method is deprecated and will be removed from pandas in a future version. Use pandas.concat instead.\n",
      "  metrics_df = metrics_df.append(metrics, ignore_index=True)\n"
     ]
    }
   ],
   "source": [
    "knn7 = Knn(\n",
    "    sim_options = {'name': 'pearson_baseline','user_based': True}, \n",
    "    bsl_options={'method': 'sgd', 'learning_rate': 0.00005, 'n_epochs':20, 'reg_u': 12 , 'reg_i': 5}\n",
    "    )\n",
    "# create reader\n",
    "knn7.create_reader(data)\n",
    "# cross validate\n",
    "predictions = knn7.fit()\n",
    "# acc\n",
    "metrics = knn7.get_accuracy(predictions)\n",
    "\n",
    "# Add the model name to the dictionary\n",
    "metrics['Index'] = 7\n",
    "metrics['Model'] = 'KnnWithMeans (pearson_baseline, sgd, user_based)'\n",
    "\n",
    "# Append the dictionary to the existing DataFrame\n",
    "metrics_df = metrics_df.append(metrics, ignore_index=True)"
   ]
  },
  {
   "cell_type": "markdown",
   "metadata": {},
   "source": [
    "* 7 the (shrunk) Pearson correlation coefficient ItemBased"
   ]
  },
  {
   "cell_type": "code",
   "execution_count": 10,
   "metadata": {},
   "outputs": [
    {
     "name": "stdout",
     "output_type": "stream",
     "text": [
      "Estimating biases using sgd...\n",
      "Computing the pearson_baseline similarity matrix...\n",
      "Done computing similarity matrix.\n",
      "Computing the pearson_baseline similarity matrix...\n",
      "Done computing similarity matrix.\n",
      "RMSE: 1.0776\n",
      "MAE:  0.8703\n",
      "MSE: 1.1612\n",
      "Precision: 0.64\n",
      "Recall: 0.65\n",
      "the acc is 34.65\n"
     ]
    },
    {
     "name": "stderr",
     "output_type": "stream",
     "text": [
      "/tmp/ipykernel_29874/3870639353.py:17: FutureWarning: The frame.append method is deprecated and will be removed from pandas in a future version. Use pandas.concat instead.\n",
      "  metrics_df = metrics_df.append(metrics, ignore_index=True)\n"
     ]
    }
   ],
   "source": [
    "knn8 = Knn(\n",
    "    sim_options = {'name': 'pearson_baseline','user_based': False}, \n",
    "    bsl_options={'method': 'sgd', 'learning_rate': 0.00005, 'n_epochs':20, 'reg_u': 12 , 'reg_i': 5}\n",
    "    )\n",
    "# create reader\n",
    "knn8.create_reader(data)\n",
    "# cross validate\n",
    "predictions = knn8.fit()\n",
    "# acc\n",
    "metrics = knn8.get_accuracy(predictions)\n",
    "\n",
    "# Add the model name to the dictionary\n",
    "metrics['Index'] = 8\n",
    "metrics['Model'] = 'KnnWithMeans (pearson_baseline, sgd, item_based)'\n",
    "\n",
    "# Append the dictionary to the existing DataFrame\n",
    "metrics_df = metrics_df.append(metrics, ignore_index=True)"
   ]
  },
  {
   "cell_type": "markdown",
   "metadata": {},
   "source": [
    "## KnnWithMeans and ALS\n"
   ]
  },
  {
   "cell_type": "markdown",
   "metadata": {},
   "source": [
    "* 1 Cosine UserBased"
   ]
  },
  {
   "cell_type": "code",
   "execution_count": 11,
   "metadata": {},
   "outputs": [
    {
     "name": "stdout",
     "output_type": "stream",
     "text": [
      "Computing the cosine similarity matrix...\n"
     ]
    },
    {
     "name": "stderr",
     "output_type": "stream",
     "text": [
      "/tmp/ipykernel_29874/2042837302.py:17: FutureWarning: The frame.append method is deprecated and will be removed from pandas in a future version. Use pandas.concat instead.\n",
      "  metrics_df = metrics_df.append(metrics, ignore_index=True)\n"
     ]
    },
    {
     "name": "stdout",
     "output_type": "stream",
     "text": [
      "Done computing similarity matrix.\n",
      "Computing the cosine similarity matrix...\n",
      "Done computing similarity matrix.\n",
      "Estimating biases using als...\n",
      "RMSE: 1.1122\n",
      "MAE:  0.9197\n",
      "MSE: 1.2369\n",
      "Precision: 0.58\n",
      "Recall: 0.64\n",
      "the acc is 28.35\n"
     ]
    }
   ],
   "source": [
    "knn9 = Knn(\n",
    "    sim_options = {'name': 'cosine','user_based': True}, \n",
    "    bsl_options={'method': 'als', 'n_epochs':20 }\n",
    "    )\n",
    "# create reader\n",
    "knn9.create_reader(data)\n",
    "# cross validate\n",
    "predictions = knn9.fit()\n",
    "# acc\n",
    "metrics = knn9.get_accuracy(predictions)\n",
    "\n",
    "# Add the model name to the dictionary\n",
    "metrics['Index'] = 9\n",
    "metrics['Model'] = 'KnnWithMeans (cosine, als, user_based)'\n",
    "\n",
    "# Append the dictionary to the existing DataFrame\n",
    "metrics_df = metrics_df.append(metrics, ignore_index=True)"
   ]
  },
  {
   "cell_type": "markdown",
   "metadata": {},
   "source": [
    "* 2 Cosine ItemBased"
   ]
  },
  {
   "cell_type": "code",
   "execution_count": 12,
   "metadata": {},
   "outputs": [
    {
     "name": "stdout",
     "output_type": "stream",
     "text": [
      "Computing the cosine similarity matrix...\n",
      "Done computing similarity matrix.\n",
      "Computing the cosine similarity matrix...\n",
      "Done computing similarity matrix.\n",
      "Estimating biases using als...\n",
      "RMSE: 1.1013\n",
      "MAE:  0.8638\n",
      "MSE: 1.2128\n",
      "Precision: 0.60\n",
      "Recall: 0.63\n",
      "the acc is 37.80\n"
     ]
    },
    {
     "name": "stderr",
     "output_type": "stream",
     "text": [
      "/tmp/ipykernel_29874/194871798.py:17: FutureWarning: The frame.append method is deprecated and will be removed from pandas in a future version. Use pandas.concat instead.\n",
      "  metrics_df = metrics_df.append(metrics, ignore_index=True)\n"
     ]
    }
   ],
   "source": [
    "knn10 = Knn(\n",
    "    sim_options = {'name': 'cosine','user_based': False}, \n",
    "    bsl_options={'method': 'als', 'n_epochs':20, 'reg_u': 12 , 'reg_i': 5}\n",
    "    )\n",
    "# create reader\n",
    "knn10.create_reader(data)\n",
    "# cross validate\n",
    "predictions = knn10.fit()\n",
    "# acc\n",
    "metrics = knn10.get_accuracy(predictions)\n",
    "\n",
    "# Add the model name to the dictionary\n",
    "metrics['Index'] = 10\n",
    "metrics['Model'] = 'KnnWithMeans (cosine, als, item_based)'\n",
    "\n",
    "# Append the dictionary to the existing DataFrame\n",
    "metrics_df = metrics_df.append(metrics, ignore_index=True)"
   ]
  },
  {
   "cell_type": "markdown",
   "metadata": {},
   "source": [
    "* 3 Mean Square Difference UserBased"
   ]
  },
  {
   "cell_type": "code",
   "execution_count": 13,
   "metadata": {},
   "outputs": [
    {
     "name": "stdout",
     "output_type": "stream",
     "text": [
      "Computing the msd similarity matrix...\n",
      "Done computing similarity matrix.\n",
      "Computing the msd similarity matrix...\n",
      "Done computing similarity matrix.\n",
      "Estimating biases using als...\n",
      "RMSE: 1.1008\n",
      "MAE:  0.9039\n",
      "MSE: 1.2118\n",
      "Precision: 0.66\n",
      "Recall: 0.74\n",
      "the acc is 32.28\n"
     ]
    },
    {
     "name": "stderr",
     "output_type": "stream",
     "text": [
      "/tmp/ipykernel_29874/1238153130.py:17: FutureWarning: The frame.append method is deprecated and will be removed from pandas in a future version. Use pandas.concat instead.\n",
      "  metrics_df = metrics_df.append(metrics, ignore_index=True)\n"
     ]
    }
   ],
   "source": [
    "knn11 = Knn(\n",
    "    sim_options = {'name': 'msd','user_based': True}, \n",
    "    bsl_options={'method': 'als', 'n_epochs':20 }\n",
    "    )\n",
    "# create reader\n",
    "knn11.create_reader(data)\n",
    "# cross validate\n",
    "predictions = knn11.fit()\n",
    "# acc\n",
    "metrics = knn11.get_accuracy(predictions)\n",
    "\n",
    "# Add the model name to the dictionary\n",
    "metrics['Index'] = 11\n",
    "metrics['Model'] = 'KnnWithMeans (mean square diff, als, user_based)'\n",
    "\n",
    "# Append the dictionary to the existing DataFrame\n",
    "metrics_df = metrics_df.append(metrics, ignore_index=True)"
   ]
  },
  {
   "cell_type": "markdown",
   "metadata": {},
   "source": [
    "* 4 Mean Square Difference ItemBased"
   ]
  },
  {
   "cell_type": "code",
   "execution_count": 14,
   "metadata": {},
   "outputs": [
    {
     "name": "stdout",
     "output_type": "stream",
     "text": [
      "Computing the msd similarity matrix...\n",
      "Done computing similarity matrix.\n",
      "Computing the msd similarity matrix...\n",
      "Done computing similarity matrix.\n",
      "Estimating biases using als...\n",
      "RMSE: 1.1487\n",
      "MAE:  0.9587\n",
      "MSE: 1.3194\n",
      "Precision: 0.60\n",
      "Recall: 0.69\n",
      "the acc is 29.13\n"
     ]
    },
    {
     "name": "stderr",
     "output_type": "stream",
     "text": [
      "/tmp/ipykernel_29874/1118245004.py:17: FutureWarning: The frame.append method is deprecated and will be removed from pandas in a future version. Use pandas.concat instead.\n",
      "  metrics_df = metrics_df.append(metrics, ignore_index=True)\n"
     ]
    }
   ],
   "source": [
    "knn12 = Knn(\n",
    "    sim_options = {'name': 'msd','user_based': False}, \n",
    "    bsl_options={'method': 'als', 'n_epochs':20 }\n",
    "    )\n",
    "# create reader\n",
    "knn12.create_reader(data)\n",
    "# cross validate\n",
    "predictions = knn12.fit()\n",
    "# acc\n",
    "metrics = knn12.get_accuracy(predictions)\n",
    "\n",
    "# Add the model name to the dictionary\n",
    "metrics['Index'] = 12\n",
    "metrics['Model'] = 'KnnWithMeans (mean square diff, als, item_based)'\n",
    "\n",
    "# Append the dictionary to the existing DataFrame\n",
    "metrics_df = metrics_df.append(metrics, ignore_index=True)"
   ]
  },
  {
   "cell_type": "markdown",
   "metadata": {},
   "source": [
    "* 5 Pearson correlation coefficient UserBased"
   ]
  },
  {
   "cell_type": "code",
   "execution_count": 15,
   "metadata": {},
   "outputs": [
    {
     "name": "stdout",
     "output_type": "stream",
     "text": [
      "Computing the pearson similarity matrix...\n",
      "Done computing similarity matrix.\n",
      "Computing the pearson similarity matrix...\n",
      "Done computing similarity matrix.\n",
      "Estimating biases using als...\n",
      "RMSE: 1.1260\n",
      "MAE:  0.9353\n",
      "MSE: 1.2678\n",
      "Precision: 0.50\n",
      "Recall: 0.56\n",
      "the acc is 28.35\n"
     ]
    },
    {
     "name": "stderr",
     "output_type": "stream",
     "text": [
      "/tmp/ipykernel_29874/3678973049.py:17: FutureWarning: The frame.append method is deprecated and will be removed from pandas in a future version. Use pandas.concat instead.\n",
      "  metrics_df = metrics_df.append(metrics, ignore_index=True)\n"
     ]
    }
   ],
   "source": [
    "knn13 = Knn(\n",
    "    sim_options = {'name': 'pearson','user_based': True}, \n",
    "    bsl_options={'method': 'als', 'n_epochs':20 }\n",
    "    )\n",
    "# create reader\n",
    "knn13.create_reader(data)\n",
    "# cross validate\n",
    "predictions = knn13.fit()\n",
    "# acc\n",
    "metrics = knn13.get_accuracy(predictions)\n",
    "\n",
    "# Add the model name to the dictionary\n",
    "metrics['Index'] = 13\n",
    "metrics['Model'] = 'KnnWithMeans (pearson corr coeff, als, user_based)'\n",
    "\n",
    "# Append the dictionary to the existing DataFrame\n",
    "metrics_df = metrics_df.append(metrics, ignore_index=True)"
   ]
  },
  {
   "cell_type": "markdown",
   "metadata": {},
   "source": [
    "* 6 Pearson correlation coefficient ItemBased"
   ]
  },
  {
   "cell_type": "code",
   "execution_count": 16,
   "metadata": {},
   "outputs": [
    {
     "name": "stdout",
     "output_type": "stream",
     "text": [
      "Computing the pearson similarity matrix...\n",
      "Done computing similarity matrix.\n",
      "Computing the pearson similarity matrix...\n",
      "Done computing similarity matrix.\n",
      "Estimating biases using als...\n",
      "RMSE: 1.1218\n",
      "MAE:  0.8931\n",
      "MSE: 1.2585\n",
      "Precision: 0.63\n",
      "Recall: 0.68\n",
      "the acc is 35.43\n"
     ]
    },
    {
     "name": "stderr",
     "output_type": "stream",
     "text": [
      "/tmp/ipykernel_29874/872247341.py:17: FutureWarning: The frame.append method is deprecated and will be removed from pandas in a future version. Use pandas.concat instead.\n",
      "  metrics_df = metrics_df.append(metrics, ignore_index=True)\n"
     ]
    }
   ],
   "source": [
    "knn14 = Knn(\n",
    "    sim_options = {'name': 'pearson','user_based': False}, \n",
    "    bsl_options={'method': 'als', 'n_epochs':20 }\n",
    "    )\n",
    "# create reader\n",
    "knn14.create_reader(data)\n",
    "# cross validate\n",
    "predictions = knn14.fit()\n",
    "# acc\n",
    "metrics = knn14.get_accuracy(predictions)\n",
    "\n",
    "# Add the model name to the dictionary\n",
    "metrics['Index'] = 14\n",
    "metrics['Model'] = 'KnnWithMeans (pearson corr coeff, als, item_based)'\n",
    "\n",
    "# Append the dictionary to the existing DataFrame\n",
    "metrics_df = metrics_df.append(metrics, ignore_index=True)"
   ]
  },
  {
   "cell_type": "markdown",
   "metadata": {},
   "source": [
    "* 7 the (shrunk) Pearson correlation coefficient UsedBased"
   ]
  },
  {
   "cell_type": "code",
   "execution_count": 17,
   "metadata": {},
   "outputs": [
    {
     "name": "stdout",
     "output_type": "stream",
     "text": [
      "Estimating biases using als...\n",
      "Computing the pearson_baseline similarity matrix...\n",
      "Done computing similarity matrix.\n",
      "Computing the pearson_baseline similarity matrix...\n",
      "Done computing similarity matrix.\n",
      "RMSE: 1.1237\n",
      "MAE:  0.9220\n",
      "MSE: 1.2627\n",
      "Precision: 0.64\n",
      "Recall: 0.69\n",
      "the acc is 35.43\n"
     ]
    },
    {
     "name": "stderr",
     "output_type": "stream",
     "text": [
      "/tmp/ipykernel_29874/1286608646.py:17: FutureWarning: The frame.append method is deprecated and will be removed from pandas in a future version. Use pandas.concat instead.\n",
      "  metrics_df = metrics_df.append(metrics, ignore_index=True)\n"
     ]
    }
   ],
   "source": [
    "knn15 = Knn(\n",
    "    sim_options = {'name': 'pearson_baseline','user_based': True}, \n",
    "    bsl_options={'method': 'als', 'n_epochs':20 }\n",
    "    )\n",
    "# create reader\n",
    "knn15.create_reader(data)\n",
    "# cross validate\n",
    "predictions = knn15.fit()\n",
    "# acc\n",
    "metrics = knn15.get_accuracy(predictions)\n",
    "\n",
    "# Add the model name to the dictionary\n",
    "metrics['Index'] = 15\n",
    "metrics['Model'] = 'KnnWithMeans (pearson_baseline, als, user_based)'\n",
    "\n",
    "# Append the dictionary to the existing DataFrame\n",
    "metrics_df = metrics_df.append(metrics, ignore_index=True)"
   ]
  },
  {
   "cell_type": "markdown",
   "metadata": {},
   "source": [
    "* 8 the (shrunk) Pearson correlation coefficient ItemBased"
   ]
  },
  {
   "cell_type": "code",
   "execution_count": 18,
   "metadata": {},
   "outputs": [
    {
     "name": "stdout",
     "output_type": "stream",
     "text": [
      "Estimating biases using als...\n",
      "Computing the pearson_baseline similarity matrix...\n",
      "Done computing similarity matrix.\n",
      "Computing the pearson_baseline similarity matrix...\n",
      "Done computing similarity matrix.\n",
      "RMSE: 1.0430\n",
      "MAE:  0.8493\n",
      "MSE: 1.0879\n",
      "Precision: 0.66\n",
      "Recall: 0.71\n",
      "the acc is 35.43\n"
     ]
    },
    {
     "name": "stderr",
     "output_type": "stream",
     "text": [
      "/tmp/ipykernel_29874/3921582843.py:17: FutureWarning: The frame.append method is deprecated and will be removed from pandas in a future version. Use pandas.concat instead.\n",
      "  metrics_df = metrics_df.append(metrics, ignore_index=True)\n"
     ]
    }
   ],
   "source": [
    "knn16 = Knn(\n",
    "    sim_options = {'name': 'pearson_baseline','user_based': False}, \n",
    "    bsl_options={'method': 'als', 'n_epochs':20 }\n",
    "    )\n",
    "# create reader\n",
    "knn16.create_reader(data)\n",
    "# cross validate\n",
    "predictions = knn16.fit()\n",
    "# acc\n",
    "metrics = knn16.get_accuracy(predictions)\n",
    "\n",
    "# Add the model name to the dictionary\n",
    "metrics['Index'] = 16\n",
    "metrics['Model'] = 'KnnWithMeans (pearson_baseline, als, item_based)'\n",
    "\n",
    "# Append the dictionary to the existing DataFrame\n",
    "metrics_df = metrics_df.append(metrics, ignore_index=True)\n"
   ]
  },
  {
   "cell_type": "code",
   "execution_count": 19,
   "metadata": {},
   "outputs": [
    {
     "data": {
      "text/html": [
       "<div>\n",
       "<style scoped>\n",
       "    .dataframe tbody tr th:only-of-type {\n",
       "        vertical-align: middle;\n",
       "    }\n",
       "\n",
       "    .dataframe tbody tr th {\n",
       "        vertical-align: top;\n",
       "    }\n",
       "\n",
       "    .dataframe thead th {\n",
       "        text-align: right;\n",
       "    }\n",
       "</style>\n",
       "<table border=\"1\" class=\"dataframe\">\n",
       "  <thead>\n",
       "    <tr style=\"text-align: right;\">\n",
       "      <th></th>\n",
       "      <th>Index</th>\n",
       "      <th>Model</th>\n",
       "      <th>RMSE</th>\n",
       "      <th>MAE</th>\n",
       "      <th>MSE</th>\n",
       "      <th>Precision</th>\n",
       "      <th>Recall</th>\n",
       "      <th>Accuracy</th>\n",
       "    </tr>\n",
       "  </thead>\n",
       "  <tbody>\n",
       "    <tr>\n",
       "      <th>4</th>\n",
       "      <td>5</td>\n",
       "      <td>KnnWithMeans (pearson corr coeff, sgd, user_ba...</td>\n",
       "      <td>0.963988</td>\n",
       "      <td>0.801028</td>\n",
       "      <td>0.929274</td>\n",
       "      <td>0.686700</td>\n",
       "      <td>0.716749</td>\n",
       "      <td>36.220472</td>\n",
       "    </tr>\n",
       "    <tr>\n",
       "      <th>15</th>\n",
       "      <td>16</td>\n",
       "      <td>KnnWithMeans (pearson_baseline, als, item_based)</td>\n",
       "      <td>1.043015</td>\n",
       "      <td>0.849338</td>\n",
       "      <td>1.087879</td>\n",
       "      <td>0.661950</td>\n",
       "      <td>0.710512</td>\n",
       "      <td>35.433071</td>\n",
       "    </tr>\n",
       "    <tr>\n",
       "      <th>1</th>\n",
       "      <td>2</td>\n",
       "      <td>KnnWithMeans (cosine, sgd, item_based)</td>\n",
       "      <td>1.059724</td>\n",
       "      <td>0.893569</td>\n",
       "      <td>1.123015</td>\n",
       "      <td>0.571256</td>\n",
       "      <td>0.624517</td>\n",
       "      <td>30.708661</td>\n",
       "    </tr>\n",
       "    <tr>\n",
       "      <th>6</th>\n",
       "      <td>7</td>\n",
       "      <td>KnnWithMeans (pearson_baseline, sgd, user_based)</td>\n",
       "      <td>1.060716</td>\n",
       "      <td>0.887431</td>\n",
       "      <td>1.125119</td>\n",
       "      <td>0.659887</td>\n",
       "      <td>0.693264</td>\n",
       "      <td>34.645669</td>\n",
       "    </tr>\n",
       "    <tr>\n",
       "      <th>0</th>\n",
       "      <td>1</td>\n",
       "      <td>KnnWithMeans (cosine, sgd, user_based)</td>\n",
       "      <td>1.076150</td>\n",
       "      <td>0.887323</td>\n",
       "      <td>1.158098</td>\n",
       "      <td>0.632440</td>\n",
       "      <td>0.714286</td>\n",
       "      <td>33.858268</td>\n",
       "    </tr>\n",
       "    <tr>\n",
       "      <th>7</th>\n",
       "      <td>8</td>\n",
       "      <td>KnnWithMeans (pearson_baseline, sgd, item_based)</td>\n",
       "      <td>1.077578</td>\n",
       "      <td>0.870290</td>\n",
       "      <td>1.161174</td>\n",
       "      <td>0.641509</td>\n",
       "      <td>0.653729</td>\n",
       "      <td>34.645669</td>\n",
       "    </tr>\n",
       "    <tr>\n",
       "      <th>3</th>\n",
       "      <td>4</td>\n",
       "      <td>KnnWithMeans (mean square diff, sgd, item_based)</td>\n",
       "      <td>1.096842</td>\n",
       "      <td>0.881027</td>\n",
       "      <td>1.203061</td>\n",
       "      <td>0.614286</td>\n",
       "      <td>0.683962</td>\n",
       "      <td>33.070866</td>\n",
       "    </tr>\n",
       "    <tr>\n",
       "      <th>10</th>\n",
       "      <td>11</td>\n",
       "      <td>KnnWithMeans (mean square diff, als, user_based)</td>\n",
       "      <td>1.100802</td>\n",
       "      <td>0.903927</td>\n",
       "      <td>1.211764</td>\n",
       "      <td>0.659804</td>\n",
       "      <td>0.739869</td>\n",
       "      <td>32.283465</td>\n",
       "    </tr>\n",
       "    <tr>\n",
       "      <th>9</th>\n",
       "      <td>10</td>\n",
       "      <td>KnnWithMeans (cosine, als, item_based)</td>\n",
       "      <td>1.101277</td>\n",
       "      <td>0.863843</td>\n",
       "      <td>1.212812</td>\n",
       "      <td>0.604762</td>\n",
       "      <td>0.628472</td>\n",
       "      <td>37.795276</td>\n",
       "    </tr>\n",
       "    <tr>\n",
       "      <th>8</th>\n",
       "      <td>9</td>\n",
       "      <td>KnnWithMeans (cosine, als, user_based)</td>\n",
       "      <td>1.112172</td>\n",
       "      <td>0.919722</td>\n",
       "      <td>1.236928</td>\n",
       "      <td>0.581871</td>\n",
       "      <td>0.637845</td>\n",
       "      <td>28.346457</td>\n",
       "    </tr>\n",
       "    <tr>\n",
       "      <th>13</th>\n",
       "      <td>14</td>\n",
       "      <td>KnnWithMeans (pearson corr coeff, als, item_ba...</td>\n",
       "      <td>1.121843</td>\n",
       "      <td>0.893131</td>\n",
       "      <td>1.258532</td>\n",
       "      <td>0.630101</td>\n",
       "      <td>0.680844</td>\n",
       "      <td>35.433071</td>\n",
       "    </tr>\n",
       "    <tr>\n",
       "      <th>14</th>\n",
       "      <td>15</td>\n",
       "      <td>KnnWithMeans (pearson_baseline, als, user_based)</td>\n",
       "      <td>1.123688</td>\n",
       "      <td>0.921973</td>\n",
       "      <td>1.262675</td>\n",
       "      <td>0.637556</td>\n",
       "      <td>0.695000</td>\n",
       "      <td>35.433071</td>\n",
       "    </tr>\n",
       "    <tr>\n",
       "      <th>12</th>\n",
       "      <td>13</td>\n",
       "      <td>KnnWithMeans (pearson corr coeff, als, user_ba...</td>\n",
       "      <td>1.125981</td>\n",
       "      <td>0.935303</td>\n",
       "      <td>1.267834</td>\n",
       "      <td>0.503214</td>\n",
       "      <td>0.561667</td>\n",
       "      <td>28.346457</td>\n",
       "    </tr>\n",
       "    <tr>\n",
       "      <th>5</th>\n",
       "      <td>6</td>\n",
       "      <td>KnnWithMeans (pearson corr coeff, sgd, item_ba...</td>\n",
       "      <td>1.138076</td>\n",
       "      <td>0.953975</td>\n",
       "      <td>1.295218</td>\n",
       "      <td>0.730289</td>\n",
       "      <td>0.799180</td>\n",
       "      <td>30.708661</td>\n",
       "    </tr>\n",
       "    <tr>\n",
       "      <th>11</th>\n",
       "      <td>12</td>\n",
       "      <td>KnnWithMeans (mean square diff, als, item_based)</td>\n",
       "      <td>1.148664</td>\n",
       "      <td>0.958732</td>\n",
       "      <td>1.319429</td>\n",
       "      <td>0.601313</td>\n",
       "      <td>0.690171</td>\n",
       "      <td>29.133858</td>\n",
       "    </tr>\n",
       "    <tr>\n",
       "      <th>2</th>\n",
       "      <td>3</td>\n",
       "      <td>KnnWithMeans (mean square diff, sgd, user_based)</td>\n",
       "      <td>1.161514</td>\n",
       "      <td>0.972402</td>\n",
       "      <td>1.349115</td>\n",
       "      <td>0.614120</td>\n",
       "      <td>0.656498</td>\n",
       "      <td>28.346457</td>\n",
       "    </tr>\n",
       "  </tbody>\n",
       "</table>\n",
       "</div>"
      ],
      "text/plain": [
       "   Index                                              Model      RMSE  \\\n",
       "4      5  KnnWithMeans (pearson corr coeff, sgd, user_ba...  0.963988   \n",
       "15    16   KnnWithMeans (pearson_baseline, als, item_based)  1.043015   \n",
       "1      2             KnnWithMeans (cosine, sgd, item_based)  1.059724   \n",
       "6      7   KnnWithMeans (pearson_baseline, sgd, user_based)  1.060716   \n",
       "0      1             KnnWithMeans (cosine, sgd, user_based)  1.076150   \n",
       "7      8   KnnWithMeans (pearson_baseline, sgd, item_based)  1.077578   \n",
       "3      4   KnnWithMeans (mean square diff, sgd, item_based)  1.096842   \n",
       "10    11   KnnWithMeans (mean square diff, als, user_based)  1.100802   \n",
       "9     10             KnnWithMeans (cosine, als, item_based)  1.101277   \n",
       "8      9             KnnWithMeans (cosine, als, user_based)  1.112172   \n",
       "13    14  KnnWithMeans (pearson corr coeff, als, item_ba...  1.121843   \n",
       "14    15   KnnWithMeans (pearson_baseline, als, user_based)  1.123688   \n",
       "12    13  KnnWithMeans (pearson corr coeff, als, user_ba...  1.125981   \n",
       "5      6  KnnWithMeans (pearson corr coeff, sgd, item_ba...  1.138076   \n",
       "11    12   KnnWithMeans (mean square diff, als, item_based)  1.148664   \n",
       "2      3   KnnWithMeans (mean square diff, sgd, user_based)  1.161514   \n",
       "\n",
       "         MAE       MSE  Precision    Recall   Accuracy  \n",
       "4   0.801028  0.929274   0.686700  0.716749  36.220472  \n",
       "15  0.849338  1.087879   0.661950  0.710512  35.433071  \n",
       "1   0.893569  1.123015   0.571256  0.624517  30.708661  \n",
       "6   0.887431  1.125119   0.659887  0.693264  34.645669  \n",
       "0   0.887323  1.158098   0.632440  0.714286  33.858268  \n",
       "7   0.870290  1.161174   0.641509  0.653729  34.645669  \n",
       "3   0.881027  1.203061   0.614286  0.683962  33.070866  \n",
       "10  0.903927  1.211764   0.659804  0.739869  32.283465  \n",
       "9   0.863843  1.212812   0.604762  0.628472  37.795276  \n",
       "8   0.919722  1.236928   0.581871  0.637845  28.346457  \n",
       "13  0.893131  1.258532   0.630101  0.680844  35.433071  \n",
       "14  0.921973  1.262675   0.637556  0.695000  35.433071  \n",
       "12  0.935303  1.267834   0.503214  0.561667  28.346457  \n",
       "5   0.953975  1.295218   0.730289  0.799180  30.708661  \n",
       "11  0.958732  1.319429   0.601313  0.690171  29.133858  \n",
       "2   0.972402  1.349115   0.614120  0.656498  28.346457  "
      ]
     },
     "execution_count": 19,
     "metadata": {},
     "output_type": "execute_result"
    }
   ],
   "source": [
    "metrics_df.sort_values(by='RMSE', ascending=True, inplace=True)\n",
    "metrics_df\n"
   ]
  },
  {
   "cell_type": "code",
   "execution_count": 20,
   "metadata": {},
   "outputs": [
    {
     "data": {
      "image/png": "[encoded data removed]",
      "text/plain": [
       "<Figure size 1000x600 with 1 Axes>"
      ]
     },
     "metadata": {},
     "output_type": "display_data"
    }
   ],
   "source": [
    "import matplotlib.pyplot as plt\n",
    "\n",
    "# Create a new figure\n",
    "plt.figure(figsize=(10, 6))\n",
    "\n",
    "# Plot RMSE with lines and points\n",
    "plt.plot(range(metrics_df.shape[0]), metrics_df['RMSE'], marker='o', linestyle='-', label='RMSE')\n",
    "\n",
    "# Plot MAE with lines and points\n",
    "plt.plot(range(metrics_df.shape[0]), metrics_df['MAE'], marker='s', linestyle='-', label='MAE')\n",
    "\n",
    "# Plot MSE with lines and points\n",
    "plt.plot(range(metrics_df.shape[0]), metrics_df['MSE'], marker='^', linestyle='-', label='MSE')\n",
    "\n",
    "# Annotate points with 'Index' column values\n",
    "for i in range(metrics_df.shape[0]):\n",
    "    plt.annotate(metrics_df['Index'].iloc[i], (i, metrics_df['RMSE'].iloc[i]))\n",
    "    plt.annotate(metrics_df['Index'].iloc[i], (i, metrics_df['MAE'].iloc[i]))\n",
    "    plt.annotate(metrics_df['Index'].iloc[i], (i, metrics_df['MSE'].iloc[i]))\n",
    "\n",
    "# Set title and labels\n",
    "plt.title('Error Metrics for Different Models')\n",
    "plt.xlabel('Model Index')\n",
    "plt.ylabel('Error Value')\n",
    "\n",
    "# Add a legend\n",
    "plt.legend()\n",
    "\n",
    "# Show the plot\n",
    "plt.show()"
   ]
  },
  {
   "cell_type": "code",
   "execution_count": 21,
   "metadata": {},
   "outputs": [
    {
     "data": {
      "image/png": "[encoded data removed]",
      "text/plain": [
       "<Figure size 1000x600 with 1 Axes>"
      ]
     },
     "metadata": {},
     "output_type": "display_data"
    }
   ],
   "source": [
    "import matplotlib.pyplot as plt\n",
    "\n",
    "# Create a new figure\n",
    "plt.figure(figsize=(10, 6))\n",
    "\n",
    "# Plot RMSE with lines and points\n",
    "plt.plot(range(metrics_df.shape[0]), metrics_df['RMSE'], marker='o', linestyle='-', label='RMSE')\n",
    "\n",
    "# Plot MAE with lines and points\n",
    "plt.plot(range(metrics_df.shape[0]), metrics_df['Precision'], marker='s', linestyle='-', label='Precision')\n",
    "\n",
    "# Plot MSE with lines and points\n",
    "plt.plot(range(metrics_df.shape[0]), metrics_df['Recall'], marker='^', linestyle='-', label='Recall')\n",
    "\n",
    "# Annotate points with 'Index' column values\n",
    "for i in range(metrics_df.shape[0]):\n",
    "    plt.annotate(metrics_df['Index'].iloc[i], (i, metrics_df['RMSE'].iloc[i]))\n",
    "    plt.annotate(metrics_df['Index'].iloc[i], (i, metrics_df['Precision'].iloc[i]))\n",
    "    plt.annotate(metrics_df['Index'].iloc[i], (i, metrics_df['Recall'].iloc[i]))\n",
    "\n",
    "# Set title and labels\n",
    "plt.title('Error Metrics for Different Models')\n",
    "plt.xlabel('Model Index')\n",
    "plt.ylabel('Error Value')\n",
    "\n",
    "# Add a legend\n",
    "plt.legend()\n",
    "\n",
    "# Show the plot\n",
    "plt.show()"
   ]
  },
  {
   "cell_type": "code",
   "execution_count": 22,
   "metadata": {},
   "outputs": [
    {
     "data": {
      "image/png": "[encoded data removed]",
      "text/plain": [
       "<Figure size 1000x600 with 1 Axes>"
      ]
     },
     "metadata": {},
     "output_type": "display_data"
    }
   ],
   "source": [
    "import matplotlib.pyplot as plt\n",
    "\n",
    "# Create a new figure\n",
    "plt.figure(figsize=(10, 6))\n",
    "\n",
    "# Plot Accuracy with lines and points\n",
    "plt.plot(range(metrics_df.shape[0]), metrics_df['Accuracy'], marker='o', linestyle='-', label='Accuracy')\n",
    "\n",
    "# Annotate points with 'Index' column values\n",
    "for i in range(metrics_df.shape[0]):\n",
    "    plt.annotate(metrics_df['Index'].iloc[i], (i, metrics_df['Accuracy'].iloc[i]))\n",
    "\n",
    "# Set title and labels\n",
    "plt.title('Accuracy for Different Models')\n",
    "plt.xlabel('Model Index')\n",
    "plt.ylabel('Accuracy')\n",
    "\n",
    "# Add a legend\n",
    "plt.legend()\n",
    "\n",
    "# Show the plot\n",
    "plt.show()\n"
   ]
  }
 ],
 "metadata": {
  "kernelspec": {
   "display_name": "DL",
   "language": "python",
   "name": "python3"
  },
  "language_info": {
   "codemirror_mode": {
    "name": "ipython",
    "version": 3
   },
   "file_extension": ".py",
   "mimetype": "text/x-python",
   "name": "python",
   "nbconvert_exporter": "python",
   "pygments_lexer": "ipython3",
   "version": "3.10.9"
  }
 },
 "nbformat": 4,
 "nbformat_minor": 2
}
