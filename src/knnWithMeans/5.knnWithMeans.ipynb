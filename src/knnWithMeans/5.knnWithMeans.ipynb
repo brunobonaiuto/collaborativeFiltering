{
 "cells": [
  {
   "cell_type": "code",
   "execution_count": 1,
   "metadata": {},
   "outputs": [
    {
     "name": "stdout",
     "output_type": "stream",
     "text": [
      "Empty DataFrame\n",
      "Columns: [Index, Model, RMSE, MAE, MSE, Precision, Recall, Accuracy]\n",
      "Index: []\n"
     ]
    }
   ],
   "source": [
    "#Importing the data\n",
    "import pandas as pd\n",
    "import numpy as np\n",
    "import pandas as pd\n",
    "from surprise import Reader, Dataset, KNNWithMeans, accuracy, PredictionImpossible\n",
    "from surprise.model_selection import cross_validate\n",
    "from surprise.model_selection import train_test_split\n",
    "from surprise.accuracy import rmse\n",
    "from collections import defaultdict\n",
    "#Importing the data\n",
    "data = pd.read_csv('/home/bbruno/all_here/python course/vinnie/data/cleaned_data/merged_df.csv')\n",
    "#use cols userId, wine, rating\n",
    "data = data[['userId', 'wine', 'rate']]\n",
    "data.head()\n",
    "# Create an empty DataFrame\n",
    "metrics_df = pd.DataFrame(columns=['Index','Model','RMSE','MAE','MSE', 'Precision', 'Recall', 'Accuracy'])\n",
    "print(metrics_df)"
   ]
  },
  {
   "cell_type": "code",
   "execution_count": 2,
   "metadata": {},
   "outputs": [],
   "source": [
    "class Knn (KNNWithMeans):\n",
    "    def __init__(self, sim_options={}, bsl_options = {}):#, bsl_options={}):\n",
    "        KNNWithMeans.__init__(self, sim_options=sim_options, bsl_options= bsl_options)#, bsl_options=bsl_options)\n",
    "    \n",
    "    def create_reader(self, data):\n",
    "        reader = Reader(rating_scale=(1, 5))\n",
    "        self.data = Dataset.load_from_df(data[['userId', 'wine', 'rate']], reader)\n",
    "    # # option 1\n",
    "    # ########################################\n",
    "    # # for cross validation we have two functions, cross_validate and fit\n",
    "    # def cross_validate(self, measures=['RMSE'], cv=3, verbose=False):\n",
    "    #     results = cross_validate(self, self.data, measures=measures, cv=cv, verbose=verbose)\n",
    "    #     for measure in measures:\n",
    "    #         print(f'{measure}: {results[\"test_\" + measure.lower()].mean()}')\n",
    "    #     return results\n",
    "    \n",
    "    # def fit(self, trainset):\n",
    "    #     predictions = KNNWithMeans.fit(self, trainset).test(trainset.build_testset())\n",
    "    #     self.sim = self.compute_similarities()\n",
    "    #     self.bu, self.bi = self.compute_baselines()\n",
    "    #     return predictions\n",
    "    ########################################\n",
    "    #option 2\n",
    "    #######################################\n",
    "    # fit funtion that works without cross validation\n",
    "    def fit (self):\n",
    "        self.trainset, testset = train_test_split(self.data, test_size=0.2)\n",
    "        predictions = KNNWithMeans.fit(self, self.trainset).test(testset)\n",
    "        self.sim = self.compute_similarities()\n",
    "        self.bu, self.bi = self.compute_baselines()\n",
    "        return predictions\n",
    "    #######################################\n",
    "\n",
    "    def estimated(self, u, i):\n",
    "        if not (self.trainset.knows_user(u) and self.trainset.knows_item(i)):\n",
    "            raise PredictionImpossible(\"User and/or item is unknown.\")\n",
    "        \n",
    "        # Compute similarities between u and v, where v describes all other\n",
    "        # users that have also rated item i.\n",
    "        neighbors = [(v, self.sim[u, v]) for (v, r) in self.trainset.ir[i]]\n",
    "        # Sort these neighbors by similarity\n",
    "        neighbors = sorted(neighbors, key=lambda x: x[1], reverse=True)\n",
    "\n",
    "        print(\"The 5 nearest neighbors of user\", str(u), \"are:\")\n",
    "        for v, sim_uv in neighbors[:5]:\n",
    "            print(f\"user {v} with sim {sim_uv:1.15f}\")\n",
    "\n",
    "        # ... Aaaaand return the baseline estimate anyway ;)\n",
    "        bsl = self.trainset.global_mean + self.bu[u] + self.bi[i]\n",
    "        return print(f\"And the baseline estimate is: {bsl}\")\n",
    "    \n",
    "    def get_Iu(self, uid):\n",
    "        \"\"\"Return the number of items rated by given user\n",
    "        args:\n",
    "          uid: the id of the user\n",
    "        returns:\n",
    "          the number of items rated by the user\n",
    "        \"\"\"\n",
    "        try:\n",
    "            return len(self.trainset.ur[self.trainset.to_inner_uid(uid)])\n",
    "        except ValueError:  # user was not part of the trainset\n",
    "            return 0\n",
    "\n",
    "    def get_Ui(self, iid):\n",
    "        \"\"\"Return the number of users that have rated given item\n",
    "        args:\n",
    "          iid: the raw id of the item\n",
    "        returns:\n",
    "          the number of users that have rated the item.\n",
    "        \"\"\"\n",
    "        try:\n",
    "            return len(self.trainset.ir[self.trainset.to_inner_iid(iid)])\n",
    "        except ValueError:\n",
    "            return 0\n",
    "\n",
    "    def inspect_predictions(self, predictions):\n",
    "        print(f\"uid means the user id and iid means the wine id\\n\")\n",
    "        print(f\"rui means the actual rating and est means the estimated rating\\n\")\n",
    "        print(f\"err means the error between the actual and the estimated rating\\n\")\n",
    "        print(f\"Iu means the number of items rated by given user\\n\")\n",
    "        print(f\"Ui means the number of users that have rated given item\\n\")\n",
    "        # Create a dataframe with the predictions\n",
    "        df_pred = pd.DataFrame(predictions, columns=['uid', 'iid', 'rui', 'est', 'details'])\n",
    "        df_pred['Iu'] = df_pred.uid.apply(self.get_Iu)\n",
    "        df_pred['Ui'] = df_pred.iid.apply(self.get_Ui)\n",
    "        df_pred['err'] = abs(df_pred.est - df_pred.rui)\n",
    "        return df_pred\n",
    "    def get_accuracy(self, predictions, k=10, threshold=3.5):\n",
    "        # Compute RMSE\n",
    "        rmse = accuracy.rmse(predictions, verbose=True)\n",
    "        \n",
    "        # Compute MAE\n",
    "        mae = accuracy.mae(predictions, verbose=True)\n",
    "        \n",
    "        # Compute MSE\n",
    "        mse = accuracy.mse(predictions, verbose=True)\n",
    "        \n",
    "        # Compute precision and recall\n",
    "        precisions, recalls = self.precision_recall_at_k(predictions, k=k, threshold=threshold)\n",
    "\n",
    "        # Precision and recall can then be averaged over all users\n",
    "        precision = sum(prec for prec in precisions.values()) / len(precisions)\n",
    "        recall = sum(rec for rec in recalls.values()) / len(recalls)\n",
    "        print(f'Precision: {precision:.2f}\\nRecall: {recall:.2f}')\n",
    "\n",
    "        # Count correct predictions\n",
    "        correct = 0\n",
    "        for uid, iid, true_r, est, _ in predictions:\n",
    "            if round(est) == round(true_r):\n",
    "                correct += 1\n",
    "\n",
    "        # Compute accuracy\n",
    "        accuracy_percentage = correct / len(predictions)\n",
    "        accuracy_percentage = accuracy_percentage * 100\n",
    "        print(f\"the acc is {accuracy_percentage:.2f}\")\n",
    "\n",
    "        # Return a dictionary with the metrics\n",
    "        return {'RMSE': rmse, 'MAE': mae, 'MSE': mse, 'Precision': precision, 'Recall': recall, 'Accuracy': accuracy_percentage}\n",
    "    ########################################\n",
    "    # def get_accuracy(self, predictions, k=10, threshold=3.5):\n",
    "    #     # Compute RMSE\n",
    "    #     accuracy.rmse(predictions, verbose=True)\n",
    "        \n",
    "    #     # Compute precision and recall\n",
    "    #     precisions, recalls = self.precision_recall_at_k(predictions, k=k, threshold=threshold)\n",
    "\n",
    "    #     # Precision and recall can then be averaged over all users\n",
    "    #     precision = sum(prec for prec in precisions.values()) / len(precisions)\n",
    "    #     recall = sum(rec for rec in recalls.values()) / len(recalls)\n",
    "    #     print(f'Precision: {precision:.2f}\\nRecall: {recall:.2f}')\n",
    "\n",
    "    #     # Count correct predictions\n",
    "    #     correct = 0\n",
    "    #     for uid, iid, true_r, est, _ in predictions:\n",
    "    #         if round(est) == round(true_r):\n",
    "    #             correct += 1\n",
    "\n",
    "    #     # Compute accuracy\n",
    "    #     accuracy_percentage = correct / len(predictions)\n",
    "    #     accuracy_percentage = accuracy_percentage * 100\n",
    "    #     print(f\"the acc is {accuracy_percentage:.2f}\")\n",
    "    #     return accuracy_percentage\n",
    "    \n",
    "    @staticmethod \n",
    "    def precision_recall_at_k(predictions, k=10, threshold=3.5):\n",
    "        \"\"\"Return precision and recall at k metrics for each user\"\"\"\n",
    "\n",
    "        # First map the predictions to each user.\n",
    "        user_est_true = defaultdict(list)\n",
    "        for uid, _, true_r, est, _ in predictions:\n",
    "            user_est_true[uid].append((est, true_r))\n",
    "\n",
    "        precisions = dict()\n",
    "        recalls = dict()\n",
    "        for uid, user_ratings in user_est_true.items():\n",
    "\n",
    "            # Sort user ratings by estimated value\n",
    "            user_ratings.sort(key=lambda x: x[0], reverse=True)\n",
    "\n",
    "            # Number of relevant items\n",
    "            n_rel = sum((true_r >= threshold) for (_, true_r) in user_ratings)\n",
    "\n",
    "            # Number of recommended items in top k\n",
    "            n_rec_k = sum((est >= threshold) for (est, _) in user_ratings[:k])\n",
    "\n",
    "            # Number of relevant and recommended items in top k\n",
    "            n_rel_and_rec_k = sum(\n",
    "                ((true_r >= threshold) and (est >= threshold))\n",
    "                for (est, true_r) in user_ratings[:k]\n",
    "            )\n",
    "\n",
    "            # Precision@K: Proportion of recommended items that are relevant\n",
    "            # When n_rec_k is 0, Precision is undefined. We here set it to 0.\n",
    "\n",
    "            precisions[uid] = n_rel_and_rec_k / n_rec_k if n_rec_k != 0 else 0\n",
    "\n",
    "            # Recall@K: Proportion of relevant items that are recommended\n",
    "            # When n_rel is 0, Recall is undefined. We here set it to 0.\n",
    "\n",
    "            recalls[uid] = n_rel_and_rec_k / n_rel if n_rel != 0 else 0\n",
    "\n",
    "        return precisions, recalls\n",
    "    \n",
    "    # Mi function acc that works perfectly was modifyed to add precision and recall, for that reason this is commented\n",
    "    # def get_accuracy(self, predictions):\n",
    "    #     # # Compute RMSE\n",
    "    #     # predictions = KNNBasic.test(self, testset)\n",
    "    #     accuracy.rmse(predictions, verbose=True)\n",
    "    #     # Count correct predictions\n",
    "    #     correct = 0\n",
    "    #     for uid, iid, true_r, est, _ in predictions:\n",
    "    #         if round(est) == round(true_r):\n",
    "    #             correct += 1\n",
    "\n",
    "    #     # Compute accuracy\n",
    "    #     accuracy_percentage = correct / len(predictions)\n",
    "    #     return accuracy_percentage * 100"
   ]
  },
  {
   "cell_type": "markdown",
   "metadata": {},
   "source": [
    "## KnnWithMeans and SGD"
   ]
  },
  {
   "cell_type": "markdown",
   "metadata": {},
   "source": [
    "* 1 Cosine UserBased"
   ]
  },
  {
   "cell_type": "code",
   "execution_count": 3,
   "metadata": {},
   "outputs": [
    {
     "name": "stdout",
     "output_type": "stream",
     "text": [
      "Computing the cosine similarity matrix...\n",
      "Done computing similarity matrix.\n",
      "Computing the cosine similarity matrix...\n",
      "Done computing similarity matrix.\n",
      "Estimating biases using sgd...\n",
      "RMSE: 0.8739\n",
      "MAE:  0.7254\n",
      "MSE: 0.7637\n",
      "Precision: 0.65\n",
      "Recall: 0.71\n",
      "the acc is 44.06\n"
     ]
    },
    {
     "name": "stderr",
     "output_type": "stream",
     "text": [
      "/tmp/ipykernel_30859/169629797.py:17: FutureWarning: The frame.append method is deprecated and will be removed from pandas in a future version. Use pandas.concat instead.\n",
      "  metrics_df = metrics_df.append(metrics, ignore_index=True)\n"
     ]
    }
   ],
   "source": [
    "knn = Knn(\n",
    "    sim_options = {'name': 'cosine','user_based': True}, \n",
    "    bsl_options={'method': 'sgd', 'learning_rate': 0.00005, 'n_epochs':20, 'reg_u': 12 , 'reg_i': 5}\n",
    "    )\n",
    "# create reader\n",
    "knn.create_reader(data)\n",
    "# cross validate\n",
    "predictions = knn.fit()\n",
    "# acc\n",
    "metrics = knn.get_accuracy(predictions)\n",
    "\n",
    "# Add the model name to the dictionary\n",
    "metrics['Index'] = 1\n",
    "metrics['Model'] = 'KnnWithMeans (cosine, sgd, user_based)'\n",
    "\n",
    "# Append the dictionary to the existing DataFrame\n",
    "metrics_df = metrics_df.append(metrics, ignore_index=True)"
   ]
  },
  {
   "cell_type": "markdown",
   "metadata": {},
   "source": [
    "* 2 Cosine ItemBased"
   ]
  },
  {
   "cell_type": "code",
   "execution_count": 4,
   "metadata": {},
   "outputs": [
    {
     "name": "stdout",
     "output_type": "stream",
     "text": [
      "Computing the cosine similarity matrix...\n",
      "Done computing similarity matrix.\n",
      "Computing the cosine similarity matrix...\n",
      "Done computing similarity matrix.\n",
      "Estimating biases using sgd...\n",
      "RMSE: 0.9627\n",
      "MAE:  0.7540\n",
      "MSE: 0.9268\n",
      "Precision: 0.59\n",
      "Recall: 0.65\n",
      "the acc is 40.59\n"
     ]
    },
    {
     "name": "stderr",
     "output_type": "stream",
     "text": [
      "/tmp/ipykernel_30859/3543638896.py:17: FutureWarning: The frame.append method is deprecated and will be removed from pandas in a future version. Use pandas.concat instead.\n",
      "  metrics_df = metrics_df.append(metrics, ignore_index=True)\n"
     ]
    }
   ],
   "source": [
    "knn2 = Knn(\n",
    "    sim_options = {'name': 'cosine','user_based': False}, \n",
    "    bsl_options={'method': 'sgd', 'learning_rate': 0.00005, 'n_epochs':20, 'reg_u': 12 , 'reg_i': 5}\n",
    "    )\n",
    "# create reader\n",
    "knn2.create_reader(data)\n",
    "# cross validate\n",
    "predictions = knn2.fit()\n",
    "# acc\n",
    "metrics = knn2.get_accuracy(predictions)\n",
    "\n",
    "# Add the model name to the dictionary\n",
    "metrics['Index'] = 2\n",
    "metrics['Model'] = 'KnnWithMeans (cosine, sgd, item_based)'\n",
    "\n",
    "# Append the dictionary to the existing DataFrame\n",
    "metrics_df = metrics_df.append(metrics, ignore_index=True)"
   ]
  },
  {
   "cell_type": "markdown",
   "metadata": {},
   "source": [
    "* 3 Mean Square DIfference UserBased"
   ]
  },
  {
   "cell_type": "code",
   "execution_count": 5,
   "metadata": {},
   "outputs": [
    {
     "name": "stdout",
     "output_type": "stream",
     "text": [
      "Computing the msd similarity matrix...\n",
      "Done computing similarity matrix.\n",
      "Computing the msd similarity matrix...\n",
      "Done computing similarity matrix.\n",
      "Estimating biases using sgd...\n",
      "RMSE: 0.8857\n",
      "MAE:  0.7017\n",
      "MSE: 0.7845\n",
      "Precision: 0.60\n",
      "Recall: 0.68\n",
      "the acc is 44.55\n"
     ]
    },
    {
     "name": "stderr",
     "output_type": "stream",
     "text": [
      "/tmp/ipykernel_30859/2189425315.py:17: FutureWarning: The frame.append method is deprecated and will be removed from pandas in a future version. Use pandas.concat instead.\n",
      "  metrics_df = metrics_df.append(metrics, ignore_index=True)\n"
     ]
    }
   ],
   "source": [
    "knn3 = Knn(\n",
    "    sim_options = {'name': 'msd','user_based': True}, \n",
    "    bsl_options={'method': 'sgd', 'learning_rate': 0.00005, 'n_epochs':20, 'reg_u': 12 , 'reg_i': 5}\n",
    "    )\n",
    "# create reader\n",
    "knn3.create_reader(data)\n",
    "# cross validate\n",
    "predictions = knn3.fit()\n",
    "# acc\n",
    "metrics = knn3.get_accuracy(predictions)\n",
    "\n",
    "# Add the model name to the dictionary\n",
    "metrics['Index'] = 3\n",
    "metrics['Model'] = 'KnnWithMeans (mean square diff, sgd, user_based)'\n",
    "\n",
    "# Append the dictionary to the existing DataFrame\n",
    "metrics_df = metrics_df.append(metrics, ignore_index=True)"
   ]
  },
  {
   "cell_type": "markdown",
   "metadata": {},
   "source": [
    "* 4 Mean Square DIfference ItemBased"
   ]
  },
  {
   "cell_type": "code",
   "execution_count": 6,
   "metadata": {},
   "outputs": [
    {
     "name": "stdout",
     "output_type": "stream",
     "text": [
      "Computing the msd similarity matrix...\n",
      "Done computing similarity matrix.\n",
      "Computing the msd similarity matrix...\n",
      "Done computing similarity matrix.\n",
      "Estimating biases using sgd...\n",
      "RMSE: 0.9454\n",
      "MAE:  0.7457\n",
      "MSE: 0.8937\n",
      "Precision: 0.61\n",
      "Recall: 0.65\n",
      "the acc is 44.06\n"
     ]
    },
    {
     "name": "stderr",
     "output_type": "stream",
     "text": [
      "/tmp/ipykernel_30859/2602642850.py:17: FutureWarning: The frame.append method is deprecated and will be removed from pandas in a future version. Use pandas.concat instead.\n",
      "  metrics_df = metrics_df.append(metrics, ignore_index=True)\n"
     ]
    }
   ],
   "source": [
    "knn4 = Knn(\n",
    "    sim_options = {'name': 'msd','user_based': False}, \n",
    "    bsl_options={'method': 'sgd', 'learning_rate': 0.00005, 'n_epochs':20, 'reg_u': 12 , 'reg_i': 5}\n",
    "    )\n",
    "# create reader\n",
    "knn4.create_reader(data)\n",
    "# cross validate\n",
    "predictions = knn4.fit()\n",
    "# acc\n",
    "metrics = knn4.get_accuracy(predictions)\n",
    "\n",
    "# Add the model name to the dictionary\n",
    "metrics['Index'] = 4\n",
    "metrics['Model'] = 'KnnWithMeans (mean square diff, sgd, item_based)'\n",
    "\n",
    "# Append the dictionary to the existing DataFrame\n",
    "metrics_df = metrics_df.append(metrics, ignore_index=True)"
   ]
  },
  {
   "cell_type": "markdown",
   "metadata": {},
   "source": [
    "* 4 the Pearson correlation coefficient UserBased"
   ]
  },
  {
   "cell_type": "code",
   "execution_count": 7,
   "metadata": {},
   "outputs": [
    {
     "name": "stdout",
     "output_type": "stream",
     "text": [
      "Computing the pearson similarity matrix...\n",
      "Done computing similarity matrix.\n",
      "Computing the pearson similarity matrix...\n",
      "Done computing similarity matrix.\n",
      "Estimating biases using sgd...\n",
      "RMSE: 0.9045\n",
      "MAE:  0.7357\n",
      "MSE: 0.8182\n",
      "Precision: 0.61\n",
      "Recall: 0.63\n",
      "the acc is 41.58\n"
     ]
    },
    {
     "name": "stderr",
     "output_type": "stream",
     "text": [
      "/tmp/ipykernel_30859/3861551723.py:17: FutureWarning: The frame.append method is deprecated and will be removed from pandas in a future version. Use pandas.concat instead.\n",
      "  metrics_df = metrics_df.append(metrics, ignore_index=True)\n"
     ]
    }
   ],
   "source": [
    "knn5 = Knn(\n",
    "    sim_options = {'name': 'Pearson','user_based': True}, \n",
    "    bsl_options={'method': 'sgd', 'learning_rate': 0.00005, 'n_epochs':20, 'reg_u': 12 , 'reg_i': 5}\n",
    "    )\n",
    "# create reader\n",
    "knn5.create_reader(data)\n",
    "# cross validate\n",
    "predictions = knn5.fit()\n",
    "# acc\n",
    "metrics = knn5.get_accuracy(predictions)\n",
    "\n",
    "# Add the model name to the dictionary\n",
    "metrics['Index'] = 5\n",
    "metrics['Model'] = 'KnnWithMeans (pearson corr coeff, sgd, user_based)'\n",
    "\n",
    "# Append the dictionary to the existing DataFrame\n",
    "metrics_df = metrics_df.append(metrics, ignore_index=True)"
   ]
  },
  {
   "cell_type": "markdown",
   "metadata": {},
   "source": [
    "* 5 the Pearson correlation coefficient ItemBased"
   ]
  },
  {
   "cell_type": "code",
   "execution_count": 8,
   "metadata": {},
   "outputs": [
    {
     "name": "stdout",
     "output_type": "stream",
     "text": [
      "Computing the pearson similarity matrix...\n",
      "Done computing similarity matrix.\n",
      "Computing the pearson similarity matrix...\n",
      "Done computing similarity matrix.\n",
      "Estimating biases using sgd...\n",
      "RMSE: 1.0385\n",
      "MAE:  0.8404\n",
      "MSE: 1.0785\n",
      "Precision: 0.60\n",
      "Recall: 0.65\n",
      "the acc is 35.64\n"
     ]
    },
    {
     "name": "stderr",
     "output_type": "stream",
     "text": [
      "/tmp/ipykernel_30859/546500276.py:18: FutureWarning: The frame.append method is deprecated and will be removed from pandas in a future version. Use pandas.concat instead.\n",
      "  metrics_df = metrics_df.append(metrics, ignore_index=True)\n"
     ]
    }
   ],
   "source": [
    "knn6 = Knn(\n",
    "    sim_options = {'name': 'Pearson','user_based': False}, \n",
    "    bsl_options={'method': 'sgd', 'learning_rate': 0.00005, 'n_epochs':20, 'reg_u': 12 , 'reg_i': 5}\n",
    "    )\n",
    "# create reader\n",
    "# create reader\n",
    "knn6.create_reader(data)\n",
    "# cross validate\n",
    "predictions = knn6.fit()\n",
    "# acc\n",
    "metrics = knn6.get_accuracy(predictions)\n",
    "\n",
    "# Add the model name to the dictionary\n",
    "metrics['Index'] = 6\n",
    "metrics['Model'] = 'KnnWithMeans (pearson corr coeff, sgd, item_based)'\n",
    "\n",
    "# Append the dictionary to the existing DataFrame\n",
    "metrics_df = metrics_df.append(metrics, ignore_index=True)"
   ]
  },
  {
   "cell_type": "markdown",
   "metadata": {},
   "source": [
    "* 6 the (shrunk) Pearson correlation coefficient UserBased"
   ]
  },
  {
   "cell_type": "code",
   "execution_count": 9,
   "metadata": {},
   "outputs": [
    {
     "name": "stdout",
     "output_type": "stream",
     "text": [
      "Estimating biases using sgd...\n",
      "Computing the pearson_baseline similarity matrix...\n",
      "Done computing similarity matrix.\n",
      "Computing the pearson_baseline similarity matrix...\n",
      "Done computing similarity matrix.\n",
      "RMSE: 0.8618\n",
      "MAE:  0.7017\n",
      "MSE: 0.7427\n",
      "Precision: 0.65\n",
      "Recall: 0.69\n",
      "the acc is 47.03\n"
     ]
    },
    {
     "name": "stderr",
     "output_type": "stream",
     "text": [
      "/tmp/ipykernel_30859/2965504438.py:17: FutureWarning: The frame.append method is deprecated and will be removed from pandas in a future version. Use pandas.concat instead.\n",
      "  metrics_df = metrics_df.append(metrics, ignore_index=True)\n"
     ]
    }
   ],
   "source": [
    "knn7 = Knn(\n",
    "    sim_options = {'name': 'pearson_baseline','user_based': True}, \n",
    "    bsl_options={'method': 'sgd', 'learning_rate': 0.00005, 'n_epochs':20, 'reg_u': 12 , 'reg_i': 5}\n",
    "    )\n",
    "# create reader\n",
    "knn7.create_reader(data)\n",
    "# cross validate\n",
    "predictions = knn7.fit()\n",
    "# acc\n",
    "metrics = knn7.get_accuracy(predictions)\n",
    "\n",
    "# Add the model name to the dictionary\n",
    "metrics['Index'] = 7\n",
    "metrics['Model'] = 'KnnWithMeans (pearson_baseline, sgd, user_based)'\n",
    "\n",
    "# Append the dictionary to the existing DataFrame\n",
    "metrics_df = metrics_df.append(metrics, ignore_index=True)"
   ]
  },
  {
   "cell_type": "markdown",
   "metadata": {},
   "source": [
    "* 7 the (shrunk) Pearson correlation coefficient ItemBased"
   ]
  },
  {
   "cell_type": "code",
   "execution_count": 10,
   "metadata": {},
   "outputs": [
    {
     "name": "stdout",
     "output_type": "stream",
     "text": [
      "Estimating biases using sgd...\n",
      "Computing the pearson_baseline similarity matrix...\n",
      "Done computing similarity matrix.\n"
     ]
    },
    {
     "name": "stderr",
     "output_type": "stream",
     "text": [
      "/tmp/ipykernel_30859/3870639353.py:17: FutureWarning: The frame.append method is deprecated and will be removed from pandas in a future version. Use pandas.concat instead.\n",
      "  metrics_df = metrics_df.append(metrics, ignore_index=True)\n"
     ]
    },
    {
     "name": "stdout",
     "output_type": "stream",
     "text": [
      "Computing the pearson_baseline similarity matrix...\n",
      "Done computing similarity matrix.\n",
      "RMSE: 0.9472\n",
      "MAE:  0.7388\n",
      "MSE: 0.8971\n",
      "Precision: 0.69\n",
      "Recall: 0.74\n",
      "the acc is 44.55\n"
     ]
    }
   ],
   "source": [
    "knn8 = Knn(\n",
    "    sim_options = {'name': 'pearson_baseline','user_based': False}, \n",
    "    bsl_options={'method': 'sgd', 'learning_rate': 0.00005, 'n_epochs':20, 'reg_u': 12 , 'reg_i': 5}\n",
    "    )\n",
    "# create reader\n",
    "knn8.create_reader(data)\n",
    "# cross validate\n",
    "predictions = knn8.fit()\n",
    "# acc\n",
    "metrics = knn8.get_accuracy(predictions)\n",
    "\n",
    "# Add the model name to the dictionary\n",
    "metrics['Index'] = 8\n",
    "metrics['Model'] = 'KnnWithMeans (pearson_baseline, sgd, item_based)'\n",
    "\n",
    "# Append the dictionary to the existing DataFrame\n",
    "metrics_df = metrics_df.append(metrics, ignore_index=True)"
   ]
  },
  {
   "cell_type": "markdown",
   "metadata": {},
   "source": [
    "## KnnWithMeans and ALS\n"
   ]
  },
  {
   "cell_type": "markdown",
   "metadata": {},
   "source": [
    "* 1 Cosine UserBased"
   ]
  },
  {
   "cell_type": "code",
   "execution_count": 11,
   "metadata": {},
   "outputs": [
    {
     "name": "stdout",
     "output_type": "stream",
     "text": [
      "Computing the cosine similarity matrix...\n",
      "Done computing similarity matrix.\n",
      "Computing the cosine similarity matrix...\n",
      "Done computing similarity matrix.\n",
      "Estimating biases using als...\n",
      "RMSE: 0.9871\n",
      "MAE:  0.8067\n",
      "MSE: 0.9744\n",
      "Precision: 0.57\n",
      "Recall: 0.65\n",
      "the acc is 35.15\n"
     ]
    },
    {
     "name": "stderr",
     "output_type": "stream",
     "text": [
      "/tmp/ipykernel_30859/2042837302.py:17: FutureWarning: The frame.append method is deprecated and will be removed from pandas in a future version. Use pandas.concat instead.\n",
      "  metrics_df = metrics_df.append(metrics, ignore_index=True)\n"
     ]
    }
   ],
   "source": [
    "knn9 = Knn(\n",
    "    sim_options = {'name': 'cosine','user_based': True}, \n",
    "    bsl_options={'method': 'als', 'n_epochs':20 }\n",
    "    )\n",
    "# create reader\n",
    "knn9.create_reader(data)\n",
    "# cross validate\n",
    "predictions = knn9.fit()\n",
    "# acc\n",
    "metrics = knn9.get_accuracy(predictions)\n",
    "\n",
    "# Add the model name to the dictionary\n",
    "metrics['Index'] = 9\n",
    "metrics['Model'] = 'KnnWithMeans (cosine, als, user_based)'\n",
    "\n",
    "# Append the dictionary to the existing DataFrame\n",
    "metrics_df = metrics_df.append(metrics, ignore_index=True)"
   ]
  },
  {
   "cell_type": "markdown",
   "metadata": {},
   "source": [
    "* 2 Cosine ItemBased"
   ]
  },
  {
   "cell_type": "code",
   "execution_count": 12,
   "metadata": {},
   "outputs": [
    {
     "name": "stdout",
     "output_type": "stream",
     "text": [
      "Computing the cosine similarity matrix...\n",
      "Done computing similarity matrix.\n",
      "Computing the cosine similarity matrix...\n",
      "Done computing similarity matrix.\n",
      "Estimating biases using als...\n",
      "RMSE: 0.9432\n",
      "MAE:  0.7369\n",
      "MSE: 0.8897\n",
      "Precision: 0.54\n",
      "Recall: 0.60\n",
      "the acc is 43.56\n"
     ]
    },
    {
     "name": "stderr",
     "output_type": "stream",
     "text": [
      "/tmp/ipykernel_30859/194871798.py:17: FutureWarning: The frame.append method is deprecated and will be removed from pandas in a future version. Use pandas.concat instead.\n",
      "  metrics_df = metrics_df.append(metrics, ignore_index=True)\n"
     ]
    }
   ],
   "source": [
    "knn10 = Knn(\n",
    "    sim_options = {'name': 'cosine','user_based': False}, \n",
    "    bsl_options={'method': 'als', 'n_epochs':20, 'reg_u': 12 , 'reg_i': 5}\n",
    "    )\n",
    "# create reader\n",
    "knn10.create_reader(data)\n",
    "# cross validate\n",
    "predictions = knn10.fit()\n",
    "# acc\n",
    "metrics = knn10.get_accuracy(predictions)\n",
    "\n",
    "# Add the model name to the dictionary\n",
    "metrics['Index'] = 10\n",
    "metrics['Model'] = 'KnnWithMeans (cosine, als, item_based)'\n",
    "\n",
    "# Append the dictionary to the existing DataFrame\n",
    "metrics_df = metrics_df.append(metrics, ignore_index=True)"
   ]
  },
  {
   "cell_type": "markdown",
   "metadata": {},
   "source": [
    "* 3 Mean Square Difference UserBased"
   ]
  },
  {
   "cell_type": "code",
   "execution_count": 13,
   "metadata": {},
   "outputs": [
    {
     "name": "stdout",
     "output_type": "stream",
     "text": [
      "Computing the msd similarity matrix...\n",
      "Done computing similarity matrix.\n",
      "Computing the msd similarity matrix...\n",
      "Done computing similarity matrix.\n",
      "Estimating biases using als...\n",
      "RMSE: 0.9880\n",
      "MAE:  0.7892\n",
      "MSE: 0.9762\n",
      "Precision: 0.66\n",
      "Recall: 0.72\n",
      "the acc is 41.09\n"
     ]
    },
    {
     "name": "stderr",
     "output_type": "stream",
     "text": [
      "/tmp/ipykernel_30859/1238153130.py:17: FutureWarning: The frame.append method is deprecated and will be removed from pandas in a future version. Use pandas.concat instead.\n",
      "  metrics_df = metrics_df.append(metrics, ignore_index=True)\n"
     ]
    }
   ],
   "source": [
    "knn11 = Knn(\n",
    "    sim_options = {'name': 'msd','user_based': True}, \n",
    "    bsl_options={'method': 'als', 'n_epochs':20 }\n",
    "    )\n",
    "# create reader\n",
    "knn11.create_reader(data)\n",
    "# cross validate\n",
    "predictions = knn11.fit()\n",
    "# acc\n",
    "metrics = knn11.get_accuracy(predictions)\n",
    "\n",
    "# Add the model name to the dictionary\n",
    "metrics['Index'] = 11\n",
    "metrics['Model'] = 'KnnWithMeans (mean square diff, als, user_based)'\n",
    "\n",
    "# Append the dictionary to the existing DataFrame\n",
    "metrics_df = metrics_df.append(metrics, ignore_index=True)"
   ]
  },
  {
   "cell_type": "markdown",
   "metadata": {},
   "source": [
    "* 4 Mean Square Difference ItemBased"
   ]
  },
  {
   "cell_type": "code",
   "execution_count": 14,
   "metadata": {},
   "outputs": [
    {
     "name": "stdout",
     "output_type": "stream",
     "text": [
      "Computing the msd similarity matrix...\n",
      "Done computing similarity matrix.\n",
      "Computing the msd similarity matrix...\n",
      "Done computing similarity matrix.\n",
      "Estimating biases using als...\n",
      "RMSE: 0.9503\n",
      "MAE:  0.7521\n",
      "MSE: 0.9030\n",
      "Precision: 0.57\n",
      "Recall: 0.63\n",
      "the acc is 40.10\n"
     ]
    },
    {
     "name": "stderr",
     "output_type": "stream",
     "text": [
      "/tmp/ipykernel_30859/1118245004.py:17: FutureWarning: The frame.append method is deprecated and will be removed from pandas in a future version. Use pandas.concat instead.\n",
      "  metrics_df = metrics_df.append(metrics, ignore_index=True)\n"
     ]
    }
   ],
   "source": [
    "knn12 = Knn(\n",
    "    sim_options = {'name': 'msd','user_based': False}, \n",
    "    bsl_options={'method': 'als', 'n_epochs':20 }\n",
    "    )\n",
    "# create reader\n",
    "knn12.create_reader(data)\n",
    "# cross validate\n",
    "predictions = knn12.fit()\n",
    "# acc\n",
    "metrics = knn12.get_accuracy(predictions)\n",
    "\n",
    "# Add the model name to the dictionary\n",
    "metrics['Index'] = 12\n",
    "metrics['Model'] = 'KnnWithMeans (mean square diff, als, item_based)'\n",
    "\n",
    "# Append the dictionary to the existing DataFrame\n",
    "metrics_df = metrics_df.append(metrics, ignore_index=True)"
   ]
  },
  {
   "cell_type": "markdown",
   "metadata": {},
   "source": [
    "* 5 Pearson correlation coefficient UserBased"
   ]
  },
  {
   "cell_type": "code",
   "execution_count": 15,
   "metadata": {},
   "outputs": [
    {
     "name": "stdout",
     "output_type": "stream",
     "text": [
      "Computing the pearson similarity matrix...\n",
      "Done computing similarity matrix.\n",
      "Computing the pearson similarity matrix...\n",
      "Done computing similarity matrix.\n",
      "Estimating biases using als...\n",
      "RMSE: 0.9141\n",
      "MAE:  0.7370\n",
      "MSE: 0.8355\n",
      "Precision: 0.58\n",
      "Recall: 0.65\n",
      "the acc is 41.09\n"
     ]
    },
    {
     "name": "stderr",
     "output_type": "stream",
     "text": [
      "/tmp/ipykernel_30859/3678973049.py:17: FutureWarning: The frame.append method is deprecated and will be removed from pandas in a future version. Use pandas.concat instead.\n",
      "  metrics_df = metrics_df.append(metrics, ignore_index=True)\n"
     ]
    }
   ],
   "source": [
    "knn13 = Knn(\n",
    "    sim_options = {'name': 'pearson','user_based': True}, \n",
    "    bsl_options={'method': 'als', 'n_epochs':20 }\n",
    "    )\n",
    "# create reader\n",
    "knn13.create_reader(data)\n",
    "# cross validate\n",
    "predictions = knn13.fit()\n",
    "# acc\n",
    "metrics = knn13.get_accuracy(predictions)\n",
    "\n",
    "# Add the model name to the dictionary\n",
    "metrics['Index'] = 13\n",
    "metrics['Model'] = 'KnnWithMeans (pearson corr coeff, als, user_based)'\n",
    "\n",
    "# Append the dictionary to the existing DataFrame\n",
    "metrics_df = metrics_df.append(metrics, ignore_index=True)"
   ]
  },
  {
   "cell_type": "markdown",
   "metadata": {},
   "source": [
    "* 6 Pearson correlation coefficient ItemBased"
   ]
  },
  {
   "cell_type": "code",
   "execution_count": 16,
   "metadata": {},
   "outputs": [
    {
     "name": "stdout",
     "output_type": "stream",
     "text": [
      "Computing the pearson similarity matrix...\n",
      "Done computing similarity matrix.\n",
      "Computing the pearson similarity matrix...\n",
      "Done computing similarity matrix.\n",
      "Estimating biases using als...\n",
      "RMSE: 0.9289\n",
      "MAE:  0.7565\n",
      "MSE: 0.8629\n",
      "Precision: 0.68\n",
      "Recall: 0.73\n",
      "the acc is 44.06\n"
     ]
    },
    {
     "name": "stderr",
     "output_type": "stream",
     "text": [
      "/tmp/ipykernel_30859/872247341.py:17: FutureWarning: The frame.append method is deprecated and will be removed from pandas in a future version. Use pandas.concat instead.\n",
      "  metrics_df = metrics_df.append(metrics, ignore_index=True)\n"
     ]
    }
   ],
   "source": [
    "knn14 = Knn(\n",
    "    sim_options = {'name': 'pearson','user_based': False}, \n",
    "    bsl_options={'method': 'als', 'n_epochs':20 }\n",
    "    )\n",
    "# create reader\n",
    "knn14.create_reader(data)\n",
    "# cross validate\n",
    "predictions = knn14.fit()\n",
    "# acc\n",
    "metrics = knn14.get_accuracy(predictions)\n",
    "\n",
    "# Add the model name to the dictionary\n",
    "metrics['Index'] = 14\n",
    "metrics['Model'] = 'KnnWithMeans (pearson corr coeff, als, item_based)'\n",
    "\n",
    "# Append the dictionary to the existing DataFrame\n",
    "metrics_df = metrics_df.append(metrics, ignore_index=True)"
   ]
  },
  {
   "cell_type": "markdown",
   "metadata": {},
   "source": [
    "* 7 the (shrunk) Pearson correlation coefficient UsedBased"
   ]
  },
  {
   "cell_type": "code",
   "execution_count": 17,
   "metadata": {},
   "outputs": [
    {
     "name": "stdout",
     "output_type": "stream",
     "text": [
      "Estimating biases using als...\n",
      "Computing the pearson_baseline similarity matrix...\n",
      "Done computing similarity matrix.\n",
      "Computing the pearson_baseline similarity matrix...\n",
      "Done computing similarity matrix.\n",
      "RMSE: 0.9295\n",
      "MAE:  0.7339\n",
      "MSE: 0.8640\n",
      "Precision: 0.65\n",
      "Recall: 0.72\n",
      "the acc is 44.06\n"
     ]
    },
    {
     "name": "stderr",
     "output_type": "stream",
     "text": [
      "/tmp/ipykernel_30859/1286608646.py:17: FutureWarning: The frame.append method is deprecated and will be removed from pandas in a future version. Use pandas.concat instead.\n",
      "  metrics_df = metrics_df.append(metrics, ignore_index=True)\n"
     ]
    }
   ],
   "source": [
    "knn15 = Knn(\n",
    "    sim_options = {'name': 'pearson_baseline','user_based': True}, \n",
    "    bsl_options={'method': 'als', 'n_epochs':20 }\n",
    "    )\n",
    "# create reader\n",
    "knn15.create_reader(data)\n",
    "# cross validate\n",
    "predictions = knn15.fit()\n",
    "# acc\n",
    "metrics = knn15.get_accuracy(predictions)\n",
    "\n",
    "# Add the model name to the dictionary\n",
    "metrics['Index'] = 15\n",
    "metrics['Model'] = 'KnnWithMeans (pearson_baseline, als, user_based)'\n",
    "\n",
    "# Append the dictionary to the existing DataFrame\n",
    "metrics_df = metrics_df.append(metrics, ignore_index=True)"
   ]
  },
  {
   "cell_type": "markdown",
   "metadata": {},
   "source": [
    "* 8 the (shrunk) Pearson correlation coefficient ItemBased"
   ]
  },
  {
   "cell_type": "code",
   "execution_count": 18,
   "metadata": {},
   "outputs": [
    {
     "name": "stdout",
     "output_type": "stream",
     "text": [
      "Estimating biases using als...\n",
      "Computing the pearson_baseline similarity matrix...\n",
      "Done computing similarity matrix.\n",
      "Computing the pearson_baseline similarity matrix...\n",
      "Done computing similarity matrix.\n",
      "RMSE: 0.8707\n",
      "MAE:  0.6849\n",
      "MSE: 0.7581\n",
      "Precision: 0.69\n",
      "Recall: 0.73\n",
      "the acc is 47.52\n"
     ]
    },
    {
     "name": "stderr",
     "output_type": "stream",
     "text": [
      "/tmp/ipykernel_30859/3921582843.py:17: FutureWarning: The frame.append method is deprecated and will be removed from pandas in a future version. Use pandas.concat instead.\n",
      "  metrics_df = metrics_df.append(metrics, ignore_index=True)\n"
     ]
    }
   ],
   "source": [
    "knn16 = Knn(\n",
    "    sim_options = {'name': 'pearson_baseline','user_based': False}, \n",
    "    bsl_options={'method': 'als', 'n_epochs':20 }\n",
    "    )\n",
    "# create reader\n",
    "knn16.create_reader(data)\n",
    "# cross validate\n",
    "predictions = knn16.fit()\n",
    "# acc\n",
    "metrics = knn16.get_accuracy(predictions)\n",
    "\n",
    "# Add the model name to the dictionary\n",
    "metrics['Index'] = 16\n",
    "metrics['Model'] = 'KnnWithMeans (pearson_baseline, als, item_based)'\n",
    "\n",
    "# Append the dictionary to the existing DataFrame\n",
    "metrics_df = metrics_df.append(metrics, ignore_index=True)\n"
   ]
  },
  {
   "cell_type": "code",
   "execution_count": 19,
   "metadata": {},
   "outputs": [
    {
     "data": {
      "text/html": [
       "<div>\n",
       "<style scoped>\n",
       "    .dataframe tbody tr th:only-of-type {\n",
       "        vertical-align: middle;\n",
       "    }\n",
       "\n",
       "    .dataframe tbody tr th {\n",
       "        vertical-align: top;\n",
       "    }\n",
       "\n",
       "    .dataframe thead th {\n",
       "        text-align: right;\n",
       "    }\n",
       "</style>\n",
       "<table border=\"1\" class=\"dataframe\">\n",
       "  <thead>\n",
       "    <tr style=\"text-align: right;\">\n",
       "      <th></th>\n",
       "      <th>Index</th>\n",
       "      <th>Model</th>\n",
       "      <th>RMSE</th>\n",
       "      <th>MAE</th>\n",
       "      <th>MSE</th>\n",
       "      <th>Precision</th>\n",
       "      <th>Recall</th>\n",
       "      <th>Accuracy</th>\n",
       "    </tr>\n",
       "  </thead>\n",
       "  <tbody>\n",
       "    <tr>\n",
       "      <th>6</th>\n",
       "      <td>7</td>\n",
       "      <td>KnnWithMeans (pearson_baseline, sgd, user_based)</td>\n",
       "      <td>0.861790</td>\n",
       "      <td>0.701743</td>\n",
       "      <td>0.742682</td>\n",
       "      <td>0.646180</td>\n",
       "      <td>0.692300</td>\n",
       "      <td>47.029703</td>\n",
       "    </tr>\n",
       "    <tr>\n",
       "      <th>15</th>\n",
       "      <td>16</td>\n",
       "      <td>KnnWithMeans (pearson_baseline, als, item_based)</td>\n",
       "      <td>0.870703</td>\n",
       "      <td>0.684911</td>\n",
       "      <td>0.758123</td>\n",
       "      <td>0.690722</td>\n",
       "      <td>0.726135</td>\n",
       "      <td>47.524752</td>\n",
       "    </tr>\n",
       "    <tr>\n",
       "      <th>0</th>\n",
       "      <td>1</td>\n",
       "      <td>KnnWithMeans (cosine, sgd, user_based)</td>\n",
       "      <td>0.873884</td>\n",
       "      <td>0.725359</td>\n",
       "      <td>0.763673</td>\n",
       "      <td>0.652234</td>\n",
       "      <td>0.708134</td>\n",
       "      <td>44.059406</td>\n",
       "    </tr>\n",
       "    <tr>\n",
       "      <th>2</th>\n",
       "      <td>3</td>\n",
       "      <td>KnnWithMeans (mean square diff, sgd, user_based)</td>\n",
       "      <td>0.885702</td>\n",
       "      <td>0.701732</td>\n",
       "      <td>0.784468</td>\n",
       "      <td>0.597672</td>\n",
       "      <td>0.680567</td>\n",
       "      <td>44.554455</td>\n",
       "    </tr>\n",
       "    <tr>\n",
       "      <th>4</th>\n",
       "      <td>5</td>\n",
       "      <td>KnnWithMeans (pearson corr coeff, sgd, user_ba...</td>\n",
       "      <td>0.904548</td>\n",
       "      <td>0.735721</td>\n",
       "      <td>0.818207</td>\n",
       "      <td>0.614547</td>\n",
       "      <td>0.631444</td>\n",
       "      <td>41.584158</td>\n",
       "    </tr>\n",
       "    <tr>\n",
       "      <th>12</th>\n",
       "      <td>13</td>\n",
       "      <td>KnnWithMeans (pearson corr coeff, als, user_ba...</td>\n",
       "      <td>0.914083</td>\n",
       "      <td>0.736967</td>\n",
       "      <td>0.835548</td>\n",
       "      <td>0.580082</td>\n",
       "      <td>0.650459</td>\n",
       "      <td>41.089109</td>\n",
       "    </tr>\n",
       "    <tr>\n",
       "      <th>13</th>\n",
       "      <td>14</td>\n",
       "      <td>KnnWithMeans (pearson corr coeff, als, item_ba...</td>\n",
       "      <td>0.928902</td>\n",
       "      <td>0.756504</td>\n",
       "      <td>0.862858</td>\n",
       "      <td>0.680556</td>\n",
       "      <td>0.728909</td>\n",
       "      <td>44.059406</td>\n",
       "    </tr>\n",
       "    <tr>\n",
       "      <th>14</th>\n",
       "      <td>15</td>\n",
       "      <td>KnnWithMeans (pearson_baseline, als, user_based)</td>\n",
       "      <td>0.929498</td>\n",
       "      <td>0.733912</td>\n",
       "      <td>0.863967</td>\n",
       "      <td>0.650403</td>\n",
       "      <td>0.722542</td>\n",
       "      <td>44.059406</td>\n",
       "    </tr>\n",
       "    <tr>\n",
       "      <th>9</th>\n",
       "      <td>10</td>\n",
       "      <td>KnnWithMeans (cosine, als, item_based)</td>\n",
       "      <td>0.943218</td>\n",
       "      <td>0.736947</td>\n",
       "      <td>0.889660</td>\n",
       "      <td>0.541402</td>\n",
       "      <td>0.604207</td>\n",
       "      <td>43.564356</td>\n",
       "    </tr>\n",
       "    <tr>\n",
       "      <th>3</th>\n",
       "      <td>4</td>\n",
       "      <td>KnnWithMeans (mean square diff, sgd, item_based)</td>\n",
       "      <td>0.945380</td>\n",
       "      <td>0.745701</td>\n",
       "      <td>0.893743</td>\n",
       "      <td>0.609232</td>\n",
       "      <td>0.654572</td>\n",
       "      <td>44.059406</td>\n",
       "    </tr>\n",
       "    <tr>\n",
       "      <th>7</th>\n",
       "      <td>8</td>\n",
       "      <td>KnnWithMeans (pearson_baseline, sgd, item_based)</td>\n",
       "      <td>0.947165</td>\n",
       "      <td>0.738774</td>\n",
       "      <td>0.897121</td>\n",
       "      <td>0.688739</td>\n",
       "      <td>0.740900</td>\n",
       "      <td>44.554455</td>\n",
       "    </tr>\n",
       "    <tr>\n",
       "      <th>11</th>\n",
       "      <td>12</td>\n",
       "      <td>KnnWithMeans (mean square diff, als, item_based)</td>\n",
       "      <td>0.950287</td>\n",
       "      <td>0.752107</td>\n",
       "      <td>0.903046</td>\n",
       "      <td>0.571585</td>\n",
       "      <td>0.630991</td>\n",
       "      <td>40.099010</td>\n",
       "    </tr>\n",
       "    <tr>\n",
       "      <th>1</th>\n",
       "      <td>2</td>\n",
       "      <td>KnnWithMeans (cosine, sgd, item_based)</td>\n",
       "      <td>0.962705</td>\n",
       "      <td>0.754027</td>\n",
       "      <td>0.926802</td>\n",
       "      <td>0.590404</td>\n",
       "      <td>0.652116</td>\n",
       "      <td>40.594059</td>\n",
       "    </tr>\n",
       "    <tr>\n",
       "      <th>8</th>\n",
       "      <td>9</td>\n",
       "      <td>KnnWithMeans (cosine, als, user_based)</td>\n",
       "      <td>0.987102</td>\n",
       "      <td>0.806749</td>\n",
       "      <td>0.974371</td>\n",
       "      <td>0.569015</td>\n",
       "      <td>0.653993</td>\n",
       "      <td>35.148515</td>\n",
       "    </tr>\n",
       "    <tr>\n",
       "      <th>10</th>\n",
       "      <td>11</td>\n",
       "      <td>KnnWithMeans (mean square diff, als, user_based)</td>\n",
       "      <td>0.988028</td>\n",
       "      <td>0.789216</td>\n",
       "      <td>0.976199</td>\n",
       "      <td>0.657609</td>\n",
       "      <td>0.722756</td>\n",
       "      <td>41.089109</td>\n",
       "    </tr>\n",
       "    <tr>\n",
       "      <th>5</th>\n",
       "      <td>6</td>\n",
       "      <td>KnnWithMeans (pearson corr coeff, sgd, item_ba...</td>\n",
       "      <td>1.038489</td>\n",
       "      <td>0.840386</td>\n",
       "      <td>1.078460</td>\n",
       "      <td>0.604209</td>\n",
       "      <td>0.650188</td>\n",
       "      <td>35.643564</td>\n",
       "    </tr>\n",
       "  </tbody>\n",
       "</table>\n",
       "</div>"
      ],
      "text/plain": [
       "   Index                                              Model      RMSE  \\\n",
       "6      7   KnnWithMeans (pearson_baseline, sgd, user_based)  0.861790   \n",
       "15    16   KnnWithMeans (pearson_baseline, als, item_based)  0.870703   \n",
       "0      1             KnnWithMeans (cosine, sgd, user_based)  0.873884   \n",
       "2      3   KnnWithMeans (mean square diff, sgd, user_based)  0.885702   \n",
       "4      5  KnnWithMeans (pearson corr coeff, sgd, user_ba...  0.904548   \n",
       "12    13  KnnWithMeans (pearson corr coeff, als, user_ba...  0.914083   \n",
       "13    14  KnnWithMeans (pearson corr coeff, als, item_ba...  0.928902   \n",
       "14    15   KnnWithMeans (pearson_baseline, als, user_based)  0.929498   \n",
       "9     10             KnnWithMeans (cosine, als, item_based)  0.943218   \n",
       "3      4   KnnWithMeans (mean square diff, sgd, item_based)  0.945380   \n",
       "7      8   KnnWithMeans (pearson_baseline, sgd, item_based)  0.947165   \n",
       "11    12   KnnWithMeans (mean square diff, als, item_based)  0.950287   \n",
       "1      2             KnnWithMeans (cosine, sgd, item_based)  0.962705   \n",
       "8      9             KnnWithMeans (cosine, als, user_based)  0.987102   \n",
       "10    11   KnnWithMeans (mean square diff, als, user_based)  0.988028   \n",
       "5      6  KnnWithMeans (pearson corr coeff, sgd, item_ba...  1.038489   \n",
       "\n",
       "         MAE       MSE  Precision    Recall   Accuracy  \n",
       "6   0.701743  0.742682   0.646180  0.692300  47.029703  \n",
       "15  0.684911  0.758123   0.690722  0.726135  47.524752  \n",
       "0   0.725359  0.763673   0.652234  0.708134  44.059406  \n",
       "2   0.701732  0.784468   0.597672  0.680567  44.554455  \n",
       "4   0.735721  0.818207   0.614547  0.631444  41.584158  \n",
       "12  0.736967  0.835548   0.580082  0.650459  41.089109  \n",
       "13  0.756504  0.862858   0.680556  0.728909  44.059406  \n",
       "14  0.733912  0.863967   0.650403  0.722542  44.059406  \n",
       "9   0.736947  0.889660   0.541402  0.604207  43.564356  \n",
       "3   0.745701  0.893743   0.609232  0.654572  44.059406  \n",
       "7   0.738774  0.897121   0.688739  0.740900  44.554455  \n",
       "11  0.752107  0.903046   0.571585  0.630991  40.099010  \n",
       "1   0.754027  0.926802   0.590404  0.652116  40.594059  \n",
       "8   0.806749  0.974371   0.569015  0.653993  35.148515  \n",
       "10  0.789216  0.976199   0.657609  0.722756  41.089109  \n",
       "5   0.840386  1.078460   0.604209  0.650188  35.643564  "
      ]
     },
     "execution_count": 19,
     "metadata": {},
     "output_type": "execute_result"
    }
   ],
   "source": [
    "metrics_df.sort_values(by='RMSE', ascending=True, inplace=True)\n",
    "metrics_df\n"
   ]
  },
  {
   "cell_type": "code",
   "execution_count": 20,
   "metadata": {},
   "outputs": [
    {
     "data": {
      "image/png": "[encoded data removed]",
      "text/plain": [
       "<Figure size 1000x600 with 1 Axes>"
      ]
     },
     "metadata": {},
     "output_type": "display_data"
    }
   ],
   "source": [
    "import matplotlib.pyplot as plt\n",
    "\n",
    "# Create a new figure\n",
    "plt.figure(figsize=(10, 6))\n",
    "\n",
    "# Plot RMSE with lines and points\n",
    "plt.plot(range(metrics_df.shape[0]), metrics_df['RMSE'], marker='o', linestyle='-', label='RMSE')\n",
    "\n",
    "# Plot MAE with lines and points\n",
    "plt.plot(range(metrics_df.shape[0]), metrics_df['MAE'], marker='s', linestyle='-', label='MAE')\n",
    "\n",
    "# Plot MSE with lines and points\n",
    "plt.plot(range(metrics_df.shape[0]), metrics_df['MSE'], marker='^', linestyle='-', label='MSE')\n",
    "\n",
    "# Annotate points with 'Index' column values\n",
    "for i in range(metrics_df.shape[0]):\n",
    "    plt.annotate(metrics_df['Index'].iloc[i], (i, metrics_df['RMSE'].iloc[i]))\n",
    "    plt.annotate(metrics_df['Index'].iloc[i], (i, metrics_df['MAE'].iloc[i]))\n",
    "    plt.annotate(metrics_df['Index'].iloc[i], (i, metrics_df['MSE'].iloc[i]))\n",
    "\n",
    "# Set title and labels\n",
    "plt.title('Error Metrics for Different Models')\n",
    "plt.xlabel('Model Index')\n",
    "plt.ylabel('Error Value')\n",
    "\n",
    "# Add a legend\n",
    "plt.legend()\n",
    "\n",
    "# Show the plot\n",
    "plt.show()"
   ]
  },
  {
   "cell_type": "code",
   "execution_count": 21,
   "metadata": {},
   "outputs": [
    {
     "data": {
      "image/png": "[encoded data removed]",
      "text/plain": [
       "<Figure size 1000x600 with 1 Axes>"
      ]
     },
     "metadata": {},
     "output_type": "display_data"
    }
   ],
   "source": [
    "import matplotlib.pyplot as plt\n",
    "\n",
    "# Create a new figure\n",
    "plt.figure(figsize=(10, 6))\n",
    "\n",
    "# Plot RMSE with lines and points\n",
    "plt.plot(range(metrics_df.shape[0]), metrics_df['RMSE'], marker='o', linestyle='-', label='RMSE')\n",
    "\n",
    "# Plot MAE with lines and points\n",
    "plt.plot(range(metrics_df.shape[0]), metrics_df['Precision'], marker='s', linestyle='-', label='Precision')\n",
    "\n",
    "# Plot MSE with lines and points\n",
    "plt.plot(range(metrics_df.shape[0]), metrics_df['Recall'], marker='^', linestyle='-', label='Recall')\n",
    "\n",
    "# Annotate points with 'Index' column values\n",
    "for i in range(metrics_df.shape[0]):\n",
    "    plt.annotate(metrics_df['Index'].iloc[i], (i, metrics_df['RMSE'].iloc[i]))\n",
    "    plt.annotate(metrics_df['Index'].iloc[i], (i, metrics_df['Precision'].iloc[i]))\n",
    "    plt.annotate(metrics_df['Index'].iloc[i], (i, metrics_df['Recall'].iloc[i]))\n",
    "\n",
    "# Set title and labels\n",
    "plt.title('Error Metrics for Different Models')\n",
    "plt.xlabel('Model Index')\n",
    "plt.ylabel('Error Value')\n",
    "\n",
    "# Add a legend\n",
    "plt.legend()\n",
    "\n",
    "# Show the plot\n",
    "plt.show()"
   ]
  },
  {
   "cell_type": "code",
   "execution_count": 22,
   "metadata": {},
   "outputs": [
    {
     "data": {
      "image/png": "[encoded data removed]",
      "text/plain": [
       "<Figure size 1000x600 with 1 Axes>"
      ]
     },
     "metadata": {},
     "output_type": "display_data"
    }
   ],
   "source": [
    "import matplotlib.pyplot as plt\n",
    "\n",
    "# Create a new figure\n",
    "plt.figure(figsize=(10, 6))\n",
    "\n",
    "# Plot Accuracy with lines and points\n",
    "plt.plot(range(metrics_df.shape[0]), metrics_df['Accuracy'], marker='o', linestyle='-', label='Accuracy')\n",
    "\n",
    "# Annotate points with 'Index' column values\n",
    "for i in range(metrics_df.shape[0]):\n",
    "    plt.annotate(metrics_df['Index'].iloc[i], (i, metrics_df['Accuracy'].iloc[i]))\n",
    "\n",
    "# Set title and labels\n",
    "plt.title('Accuracy for Different Models')\n",
    "plt.xlabel('Model Index')\n",
    "plt.ylabel('Accuracy')\n",
    "\n",
    "# Add a legend\n",
    "plt.legend()\n",
    "\n",
    "# Show the plot\n",
    "plt.show()\n"
   ]
  }
 ],
 "metadata": {
  "kernelspec": {
   "display_name": "DL",
   "language": "python",
   "name": "python3"
  },
  "language_info": {
   "codemirror_mode": {
    "name": "ipython",
    "version": 3
   },
   "file_extension": ".py",
   "mimetype": "text/x-python",
   "name": "python",
   "nbconvert_exporter": "python",
   "pygments_lexer": "ipython3",
   "version": "3.10.9"
  }
 },
 "nbformat": 4,
 "nbformat_minor": 2
}
