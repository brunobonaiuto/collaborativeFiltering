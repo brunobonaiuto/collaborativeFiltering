{
 "cells": [
  {
   "cell_type": "code",
   "execution_count": 1,
   "metadata": {},
   "outputs": [
    {
     "name": "stdout",
     "output_type": "stream",
     "text": [
      "Empty DataFrame\n",
      "Columns: [Index, Model, RMSE, MAE, MSE, Precision, Recall, Accuracy]\n",
      "Index: []\n"
     ]
    }
   ],
   "source": [
    "#Importing the data\n",
    "import pandas as pd\n",
    "import numpy as np\n",
    "import pandas as pd\n",
    "from surprise import Reader, Dataset, KNNWithMeans, accuracy, PredictionImpossible\n",
    "from surprise.model_selection import cross_validate\n",
    "from surprise.model_selection import train_test_split\n",
    "from surprise.accuracy import rmse\n",
    "from collections import defaultdict\n",
    "#Importing the data\n",
    "data = pd.read_csv('/home/bbruno/all_here/python course/vinnie/data/cleaned_data/upsampled_df_smote.csv')\n",
    "data.head()\n",
    "# Create an empty DataFrame\n",
    "metrics_df = pd.DataFrame(columns=['Index','Model','RMSE','MAE','MSE', 'Precision', 'Recall', 'Accuracy'])\n",
    "print(metrics_df)"
   ]
  },
  {
   "cell_type": "code",
   "execution_count": 2,
   "metadata": {},
   "outputs": [],
   "source": [
    "class Knn (KNNWithMeans):\n",
    "    def __init__(self, sim_options={}, bsl_options = {}):#, bsl_options={}):\n",
    "        KNNWithMeans.__init__(self, sim_options=sim_options, bsl_options= bsl_options)#, bsl_options=bsl_options)\n",
    "    \n",
    "    def create_reader(self, data):\n",
    "        reader = Reader(rating_scale=(1, 5))\n",
    "        self.data = Dataset.load_from_df(data[['userId', 'wine', 'rate']], reader)\n",
    "    # # option 1\n",
    "    # ########################################\n",
    "    # # for cross validation we have two functions, cross_validate and fit\n",
    "    # def cross_validate(self, measures=['RMSE'], cv=3, verbose=False):\n",
    "    #     results = cross_validate(self, self.data, measures=measures, cv=cv, verbose=verbose)\n",
    "    #     for measure in measures:\n",
    "    #         print(f'{measure}: {results[\"test_\" + measure.lower()].mean()}')\n",
    "    #     return results\n",
    "    \n",
    "    # def fit(self, trainset):\n",
    "    #     predictions = KNNWithMeans.fit(self, trainset).test(trainset.build_testset())\n",
    "    #     self.sim = self.compute_similarities()\n",
    "    #     self.bu, self.bi = self.compute_baselines()\n",
    "    #     return predictions\n",
    "    ########################################\n",
    "    #option 2\n",
    "    #######################################\n",
    "    # fit funtion that works without cross validation\n",
    "    def fit (self):\n",
    "        self.trainset, testset = train_test_split(self.data, test_size=0.2)\n",
    "        predictions = KNNWithMeans.fit(self, self.trainset).test(testset)\n",
    "        self.sim = self.compute_similarities()\n",
    "        self.bu, self.bi = self.compute_baselines()\n",
    "        return predictions\n",
    "    #######################################\n",
    "\n",
    "    def estimated(self, u, i):\n",
    "        if not (self.trainset.knows_user(u) and self.trainset.knows_item(i)):\n",
    "            raise PredictionImpossible(\"User and/or item is unknown.\")\n",
    "        \n",
    "        # Compute similarities between u and v, where v describes all other\n",
    "        # users that have also rated item i.\n",
    "        neighbors = [(v, self.sim[u, v]) for (v, r) in self.trainset.ir[i]]\n",
    "        # Sort these neighbors by similarity\n",
    "        neighbors = sorted(neighbors, key=lambda x: x[1], reverse=True)\n",
    "\n",
    "        print(\"The 5 nearest neighbors of user\", str(u), \"are:\")\n",
    "        for v, sim_uv in neighbors[:5]:\n",
    "            print(f\"user {v} with sim {sim_uv:1.15f}\")\n",
    "\n",
    "        # ... Aaaaand return the baseline estimate anyway ;)\n",
    "        bsl = self.trainset.global_mean + self.bu[u] + self.bi[i]\n",
    "        return print(f\"And the baseline estimate is: {bsl}\")\n",
    "    \n",
    "    def get_Iu(self, uid):\n",
    "        \"\"\"Return the number of items rated by given user\n",
    "        args:\n",
    "          uid: the id of the user\n",
    "        returns:\n",
    "          the number of items rated by the user\n",
    "        \"\"\"\n",
    "        try:\n",
    "            return len(self.trainset.ur[self.trainset.to_inner_uid(uid)])\n",
    "        except ValueError:  # user was not part of the trainset\n",
    "            return 0\n",
    "\n",
    "    def get_Ui(self, iid):\n",
    "        \"\"\"Return the number of users that have rated given item\n",
    "        args:\n",
    "          iid: the raw id of the item\n",
    "        returns:\n",
    "          the number of users that have rated the item.\n",
    "        \"\"\"\n",
    "        try:\n",
    "            return len(self.trainset.ir[self.trainset.to_inner_iid(iid)])\n",
    "        except ValueError:\n",
    "            return 0\n",
    "\n",
    "    def inspect_predictions(self, predictions):\n",
    "        print(f\"uid means the user id and iid means the wine id\\n\")\n",
    "        print(f\"rui means the actual rating and est means the estimated rating\\n\")\n",
    "        print(f\"err means the error between the actual and the estimated rating\\n\")\n",
    "        print(f\"Iu means the number of items rated by given user\\n\")\n",
    "        print(f\"Ui means the number of users that have rated given item\\n\")\n",
    "        # Create a dataframe with the predictions\n",
    "        df_pred = pd.DataFrame(predictions, columns=['uid', 'iid', 'rui', 'est', 'details'])\n",
    "        df_pred['Iu'] = df_pred.uid.apply(self.get_Iu)\n",
    "        df_pred['Ui'] = df_pred.iid.apply(self.get_Ui)\n",
    "        df_pred['err'] = abs(df_pred.est - df_pred.rui)\n",
    "        return df_pred\n",
    "    def get_accuracy(self, predictions, k=10, threshold=3.5):\n",
    "        # Compute RMSE\n",
    "        rmse = accuracy.rmse(predictions, verbose=True)\n",
    "        \n",
    "        # Compute MAE\n",
    "        mae = accuracy.mae(predictions, verbose=True)\n",
    "        \n",
    "        # Compute MSE\n",
    "        mse = accuracy.mse(predictions, verbose=True)\n",
    "        \n",
    "        # Compute precision and recall\n",
    "        precisions, recalls = self.precision_recall_at_k(predictions, k=k, threshold=threshold)\n",
    "\n",
    "        # Precision and recall can then be averaged over all users\n",
    "        precision = sum(prec for prec in precisions.values()) / len(precisions)\n",
    "        recall = sum(rec for rec in recalls.values()) / len(recalls)\n",
    "        print(f'Precision: {precision:.2f}\\nRecall: {recall:.2f}')\n",
    "\n",
    "        # Count correct predictions\n",
    "        correct = 0\n",
    "        for uid, iid, true_r, est, _ in predictions:\n",
    "            if round(est) == round(true_r):\n",
    "                correct += 1\n",
    "\n",
    "        # Compute accuracy\n",
    "        accuracy_percentage = correct / len(predictions)\n",
    "        accuracy_percentage = accuracy_percentage * 100\n",
    "        print(f\"the acc is {accuracy_percentage:.2f}\")\n",
    "\n",
    "        # Return a dictionary with the metrics\n",
    "        return {'RMSE': rmse, 'MAE': mae, 'MSE': mse, 'Precision': precision, 'Recall': recall, 'Accuracy': accuracy_percentage}\n",
    "    ########################################\n",
    "    # def get_accuracy(self, predictions, k=10, threshold=3.5):\n",
    "    #     # Compute RMSE\n",
    "    #     accuracy.rmse(predictions, verbose=True)\n",
    "        \n",
    "    #     # Compute precision and recall\n",
    "    #     precisions, recalls = self.precision_recall_at_k(predictions, k=k, threshold=threshold)\n",
    "\n",
    "    #     # Precision and recall can then be averaged over all users\n",
    "    #     precision = sum(prec for prec in precisions.values()) / len(precisions)\n",
    "    #     recall = sum(rec for rec in recalls.values()) / len(recalls)\n",
    "    #     print(f'Precision: {precision:.2f}\\nRecall: {recall:.2f}')\n",
    "\n",
    "    #     # Count correct predictions\n",
    "    #     correct = 0\n",
    "    #     for uid, iid, true_r, est, _ in predictions:\n",
    "    #         if round(est) == round(true_r):\n",
    "    #             correct += 1\n",
    "\n",
    "    #     # Compute accuracy\n",
    "    #     accuracy_percentage = correct / len(predictions)\n",
    "    #     accuracy_percentage = accuracy_percentage * 100\n",
    "    #     print(f\"the acc is {accuracy_percentage:.2f}\")\n",
    "    #     return accuracy_percentage\n",
    "    \n",
    "    @staticmethod \n",
    "    def precision_recall_at_k(predictions, k=10, threshold=3.5):\n",
    "        \"\"\"Return precision and recall at k metrics for each user\"\"\"\n",
    "\n",
    "        # First map the predictions to each user.\n",
    "        user_est_true = defaultdict(list)\n",
    "        for uid, _, true_r, est, _ in predictions:\n",
    "            user_est_true[uid].append((est, true_r))\n",
    "\n",
    "        precisions = dict()\n",
    "        recalls = dict()\n",
    "        for uid, user_ratings in user_est_true.items():\n",
    "\n",
    "            # Sort user ratings by estimated value\n",
    "            user_ratings.sort(key=lambda x: x[0], reverse=True)\n",
    "\n",
    "            # Number of relevant items\n",
    "            n_rel = sum((true_r >= threshold) for (_, true_r) in user_ratings)\n",
    "\n",
    "            # Number of recommended items in top k\n",
    "            n_rec_k = sum((est >= threshold) for (est, _) in user_ratings[:k])\n",
    "\n",
    "            # Number of relevant and recommended items in top k\n",
    "            n_rel_and_rec_k = sum(\n",
    "                ((true_r >= threshold) and (est >= threshold))\n",
    "                for (est, true_r) in user_ratings[:k]\n",
    "            )\n",
    "\n",
    "            # Precision@K: Proportion of recommended items that are relevant\n",
    "            # When n_rec_k is 0, Precision is undefined. We here set it to 0.\n",
    "\n",
    "            precisions[uid] = n_rel_and_rec_k / n_rec_k if n_rec_k != 0 else 0\n",
    "\n",
    "            # Recall@K: Proportion of relevant items that are recommended\n",
    "            # When n_rel is 0, Recall is undefined. We here set it to 0.\n",
    "\n",
    "            recalls[uid] = n_rel_and_rec_k / n_rel if n_rel != 0 else 0\n",
    "\n",
    "        return precisions, recalls\n",
    "    \n",
    "    # Mi function acc that works perfectly was modifyed to add precision and recall, for that reason this is commented\n",
    "    # def get_accuracy(self, predictions):\n",
    "    #     # # Compute RMSE\n",
    "    #     # predictions = KNNBasic.test(self, testset)\n",
    "    #     accuracy.rmse(predictions, verbose=True)\n",
    "    #     # Count correct predictions\n",
    "    #     correct = 0\n",
    "    #     for uid, iid, true_r, est, _ in predictions:\n",
    "    #         if round(est) == round(true_r):\n",
    "    #             correct += 1\n",
    "\n",
    "    #     # Compute accuracy\n",
    "    #     accuracy_percentage = correct / len(predictions)\n",
    "    #     return accuracy_percentage * 100"
   ]
  },
  {
   "cell_type": "markdown",
   "metadata": {},
   "source": [
    "## KnnWithMeans and SGD"
   ]
  },
  {
   "cell_type": "markdown",
   "metadata": {},
   "source": [
    "* 1 Cosine UserBased"
   ]
  },
  {
   "cell_type": "code",
   "execution_count": 3,
   "metadata": {},
   "outputs": [
    {
     "name": "stdout",
     "output_type": "stream",
     "text": [
      "Computing the cosine similarity matrix...\n",
      "Done computing similarity matrix.\n",
      "Computing the cosine similarity matrix...\n",
      "Done computing similarity matrix.\n",
      "Estimating biases using sgd...\n",
      "RMSE: 1.3685\n",
      "MAE:  1.0440\n",
      "MSE: 1.8727\n",
      "Precision: 0.09\n",
      "Recall: 0.07\n",
      "the acc is 33.51\n"
     ]
    },
    {
     "name": "stderr",
     "output_type": "stream",
     "text": [
      "/tmp/ipykernel_29375/169629797.py:17: FutureWarning: The frame.append method is deprecated and will be removed from pandas in a future version. Use pandas.concat instead.\n",
      "  metrics_df = metrics_df.append(metrics, ignore_index=True)\n"
     ]
    }
   ],
   "source": [
    "knn = Knn(\n",
    "    sim_options = {'name': 'cosine','user_based': True}, \n",
    "    bsl_options={'method': 'sgd', 'learning_rate': 0.00005, 'n_epochs':20, 'reg_u': 12 , 'reg_i': 5}\n",
    "    )\n",
    "# create reader\n",
    "knn.create_reader(data)\n",
    "# cross validate\n",
    "predictions = knn.fit()\n",
    "# acc\n",
    "metrics = knn.get_accuracy(predictions)\n",
    "\n",
    "# Add the model name to the dictionary\n",
    "metrics['Index'] = 1\n",
    "metrics['Model'] = 'KnnWithMeans (cosine, sgd, user_based)'\n",
    "\n",
    "# Append the dictionary to the existing DataFrame\n",
    "metrics_df = metrics_df.append(metrics, ignore_index=True)"
   ]
  },
  {
   "cell_type": "markdown",
   "metadata": {},
   "source": [
    "* 2 Cosine ItemBased"
   ]
  },
  {
   "cell_type": "code",
   "execution_count": 4,
   "metadata": {},
   "outputs": [
    {
     "name": "stdout",
     "output_type": "stream",
     "text": [
      "Computing the cosine similarity matrix...\n",
      "Done computing similarity matrix.\n",
      "Computing the cosine similarity matrix...\n",
      "Done computing similarity matrix.\n",
      "Estimating biases using sgd...\n",
      "RMSE: 1.5342\n",
      "MAE:  1.1785\n",
      "MSE: 2.3537\n",
      "Precision: 0.08\n",
      "Recall: 0.05\n",
      "the acc is 28.80\n"
     ]
    },
    {
     "name": "stderr",
     "output_type": "stream",
     "text": [
      "/tmp/ipykernel_29375/3543638896.py:17: FutureWarning: The frame.append method is deprecated and will be removed from pandas in a future version. Use pandas.concat instead.\n",
      "  metrics_df = metrics_df.append(metrics, ignore_index=True)\n"
     ]
    }
   ],
   "source": [
    "knn2 = Knn(\n",
    "    sim_options = {'name': 'cosine','user_based': False}, \n",
    "    bsl_options={'method': 'sgd', 'learning_rate': 0.00005, 'n_epochs':20, 'reg_u': 12 , 'reg_i': 5}\n",
    "    )\n",
    "# create reader\n",
    "knn2.create_reader(data)\n",
    "# cross validate\n",
    "predictions = knn2.fit()\n",
    "# acc\n",
    "metrics = knn2.get_accuracy(predictions)\n",
    "\n",
    "# Add the model name to the dictionary\n",
    "metrics['Index'] = 2\n",
    "metrics['Model'] = 'KnnWithMeans (cosine, sgd, item_based)'\n",
    "\n",
    "# Append the dictionary to the existing DataFrame\n",
    "metrics_df = metrics_df.append(metrics, ignore_index=True)"
   ]
  },
  {
   "cell_type": "markdown",
   "metadata": {},
   "source": [
    "* 3 Mean Square DIfference UserBased"
   ]
  },
  {
   "cell_type": "code",
   "execution_count": 5,
   "metadata": {},
   "outputs": [
    {
     "name": "stdout",
     "output_type": "stream",
     "text": [
      "Computing the msd similarity matrix...\n",
      "Done computing similarity matrix.\n",
      "Computing the msd similarity matrix...\n",
      "Done computing similarity matrix.\n",
      "Estimating biases using sgd...\n",
      "RMSE: 1.4179\n",
      "MAE:  1.1125\n",
      "MSE: 2.0105\n",
      "Precision: 0.05\n",
      "Recall: 0.03\n",
      "the acc is 28.27\n"
     ]
    },
    {
     "name": "stderr",
     "output_type": "stream",
     "text": [
      "/tmp/ipykernel_29375/2189425315.py:17: FutureWarning: The frame.append method is deprecated and will be removed from pandas in a future version. Use pandas.concat instead.\n",
      "  metrics_df = metrics_df.append(metrics, ignore_index=True)\n"
     ]
    }
   ],
   "source": [
    "knn3 = Knn(\n",
    "    sim_options = {'name': 'msd','user_based': True}, \n",
    "    bsl_options={'method': 'sgd', 'learning_rate': 0.00005, 'n_epochs':20, 'reg_u': 12 , 'reg_i': 5}\n",
    "    )\n",
    "# create reader\n",
    "knn3.create_reader(data)\n",
    "# cross validate\n",
    "predictions = knn3.fit()\n",
    "# acc\n",
    "metrics = knn3.get_accuracy(predictions)\n",
    "\n",
    "# Add the model name to the dictionary\n",
    "metrics['Index'] = 3\n",
    "metrics['Model'] = 'KnnWithMeans (mean square diff, sgd, user_based)'\n",
    "\n",
    "# Append the dictionary to the existing DataFrame\n",
    "metrics_df = metrics_df.append(metrics, ignore_index=True)"
   ]
  },
  {
   "cell_type": "markdown",
   "metadata": {},
   "source": [
    "* 4 Mean Square DIfference ItemBased"
   ]
  },
  {
   "cell_type": "code",
   "execution_count": 6,
   "metadata": {},
   "outputs": [
    {
     "name": "stdout",
     "output_type": "stream",
     "text": [
      "Computing the msd similarity matrix...\n",
      "Done computing similarity matrix.\n",
      "Computing the msd similarity matrix...\n",
      "Done computing similarity matrix.\n",
      "Estimating biases using sgd...\n",
      "RMSE: 1.4996\n",
      "MAE:  1.1340\n",
      "MSE: 2.2489\n",
      "Precision: 0.09\n",
      "Recall: 0.06\n",
      "the acc is 32.98\n"
     ]
    },
    {
     "name": "stderr",
     "output_type": "stream",
     "text": [
      "/tmp/ipykernel_29375/2602642850.py:17: FutureWarning: The frame.append method is deprecated and will be removed from pandas in a future version. Use pandas.concat instead.\n",
      "  metrics_df = metrics_df.append(metrics, ignore_index=True)\n"
     ]
    }
   ],
   "source": [
    "knn4 = Knn(\n",
    "    sim_options = {'name': 'msd','user_based': False}, \n",
    "    bsl_options={'method': 'sgd', 'learning_rate': 0.00005, 'n_epochs':20, 'reg_u': 12 , 'reg_i': 5}\n",
    "    )\n",
    "# create reader\n",
    "knn4.create_reader(data)\n",
    "# cross validate\n",
    "predictions = knn4.fit()\n",
    "# acc\n",
    "metrics = knn4.get_accuracy(predictions)\n",
    "\n",
    "# Add the model name to the dictionary\n",
    "metrics['Index'] = 4\n",
    "metrics['Model'] = 'KnnWithMeans (mean square diff, sgd, item_based)'\n",
    "\n",
    "# Append the dictionary to the existing DataFrame\n",
    "metrics_df = metrics_df.append(metrics, ignore_index=True)"
   ]
  },
  {
   "cell_type": "markdown",
   "metadata": {},
   "source": [
    "* 4 the Pearson correlation coefficient UserBased"
   ]
  },
  {
   "cell_type": "code",
   "execution_count": 7,
   "metadata": {},
   "outputs": [
    {
     "name": "stdout",
     "output_type": "stream",
     "text": [
      "Computing the pearson similarity matrix...\n",
      "Done computing similarity matrix.\n",
      "Computing the pearson similarity matrix...\n",
      "Done computing similarity matrix.\n",
      "Estimating biases using sgd...\n",
      "RMSE: 1.3229\n",
      "MAE:  0.9898\n",
      "MSE: 1.7500\n",
      "Precision: 0.09\n",
      "Recall: 0.07\n",
      "the acc is 31.41\n"
     ]
    },
    {
     "name": "stderr",
     "output_type": "stream",
     "text": [
      "/tmp/ipykernel_29375/3861551723.py:17: FutureWarning: The frame.append method is deprecated and will be removed from pandas in a future version. Use pandas.concat instead.\n",
      "  metrics_df = metrics_df.append(metrics, ignore_index=True)\n"
     ]
    }
   ],
   "source": [
    "knn5 = Knn(\n",
    "    sim_options = {'name': 'Pearson','user_based': True}, \n",
    "    bsl_options={'method': 'sgd', 'learning_rate': 0.00005, 'n_epochs':20, 'reg_u': 12 , 'reg_i': 5}\n",
    "    )\n",
    "# create reader\n",
    "knn5.create_reader(data)\n",
    "# cross validate\n",
    "predictions = knn5.fit()\n",
    "# acc\n",
    "metrics = knn5.get_accuracy(predictions)\n",
    "\n",
    "# Add the model name to the dictionary\n",
    "metrics['Index'] = 5\n",
    "metrics['Model'] = 'KnnWithMeans (pearson corr coeff, sgd, user_based)'\n",
    "\n",
    "# Append the dictionary to the existing DataFrame\n",
    "metrics_df = metrics_df.append(metrics, ignore_index=True)"
   ]
  },
  {
   "cell_type": "markdown",
   "metadata": {},
   "source": [
    "* 5 the Pearson correlation coefficient ItemBased"
   ]
  },
  {
   "cell_type": "code",
   "execution_count": 8,
   "metadata": {},
   "outputs": [
    {
     "name": "stdout",
     "output_type": "stream",
     "text": [
      "Computing the pearson similarity matrix...\n",
      "Done computing similarity matrix.\n",
      "Computing the pearson similarity matrix...\n"
     ]
    },
    {
     "name": "stderr",
     "output_type": "stream",
     "text": [
      "/tmp/ipykernel_29375/546500276.py:18: FutureWarning: The frame.append method is deprecated and will be removed from pandas in a future version. Use pandas.concat instead.\n",
      "  metrics_df = metrics_df.append(metrics, ignore_index=True)\n"
     ]
    },
    {
     "name": "stdout",
     "output_type": "stream",
     "text": [
      "Done computing similarity matrix.\n",
      "Estimating biases using sgd...\n",
      "RMSE: 1.5214\n",
      "MAE:  1.0772\n",
      "MSE: 2.3148\n",
      "Precision: 0.10\n",
      "Recall: 0.06\n",
      "the acc is 37.17\n"
     ]
    }
   ],
   "source": [
    "knn6 = Knn(\n",
    "    sim_options = {'name': 'Pearson','user_based': False}, \n",
    "    bsl_options={'method': 'sgd', 'learning_rate': 0.00005, 'n_epochs':20, 'reg_u': 12 , 'reg_i': 5}\n",
    "    )\n",
    "# create reader\n",
    "# create reader\n",
    "knn6.create_reader(data)\n",
    "# cross validate\n",
    "predictions = knn6.fit()\n",
    "# acc\n",
    "metrics = knn6.get_accuracy(predictions)\n",
    "\n",
    "# Add the model name to the dictionary\n",
    "metrics['Index'] = 6\n",
    "metrics['Model'] = 'KnnWithMeans (pearson corr coeff, sgd, item_based)'\n",
    "\n",
    "# Append the dictionary to the existing DataFrame\n",
    "metrics_df = metrics_df.append(metrics, ignore_index=True)"
   ]
  },
  {
   "cell_type": "markdown",
   "metadata": {},
   "source": [
    "* 6 the (shrunk) Pearson correlation coefficient UserBased"
   ]
  },
  {
   "cell_type": "code",
   "execution_count": 9,
   "metadata": {},
   "outputs": [
    {
     "name": "stdout",
     "output_type": "stream",
     "text": [
      "Estimating biases using sgd...\n",
      "Computing the pearson_baseline similarity matrix...\n",
      "Done computing similarity matrix.\n",
      "Computing the pearson_baseline similarity matrix...\n",
      "Done computing similarity matrix.\n",
      "RMSE: 1.4160\n",
      "MAE:  1.0891\n",
      "MSE: 2.0051\n",
      "Precision: 0.08\n",
      "Recall: 0.06\n",
      "the acc is 29.32\n"
     ]
    },
    {
     "name": "stderr",
     "output_type": "stream",
     "text": [
      "/tmp/ipykernel_29375/2965504438.py:17: FutureWarning: The frame.append method is deprecated and will be removed from pandas in a future version. Use pandas.concat instead.\n",
      "  metrics_df = metrics_df.append(metrics, ignore_index=True)\n"
     ]
    }
   ],
   "source": [
    "knn7 = Knn(\n",
    "    sim_options = {'name': 'pearson_baseline','user_based': True}, \n",
    "    bsl_options={'method': 'sgd', 'learning_rate': 0.00005, 'n_epochs':20, 'reg_u': 12 , 'reg_i': 5}\n",
    "    )\n",
    "# create reader\n",
    "knn7.create_reader(data)\n",
    "# cross validate\n",
    "predictions = knn7.fit()\n",
    "# acc\n",
    "metrics = knn7.get_accuracy(predictions)\n",
    "\n",
    "# Add the model name to the dictionary\n",
    "metrics['Index'] = 7\n",
    "metrics['Model'] = 'KnnWithMeans (pearson_baseline, sgd, user_based)'\n",
    "\n",
    "# Append the dictionary to the existing DataFrame\n",
    "metrics_df = metrics_df.append(metrics, ignore_index=True)"
   ]
  },
  {
   "cell_type": "markdown",
   "metadata": {},
   "source": [
    "* 7 the (shrunk) Pearson correlation coefficient ItemBased"
   ]
  },
  {
   "cell_type": "code",
   "execution_count": 10,
   "metadata": {},
   "outputs": [
    {
     "name": "stdout",
     "output_type": "stream",
     "text": [
      "Estimating biases using sgd...\n",
      "Computing the pearson_baseline similarity matrix...\n",
      "Done computing similarity matrix.\n",
      "Computing the pearson_baseline similarity matrix...\n",
      "Done computing similarity matrix.\n",
      "RMSE: 1.4649\n",
      "MAE:  1.0868\n",
      "MSE: 2.1459\n",
      "Precision: 0.08\n",
      "Recall: 0.05\n",
      "the acc is 31.94\n"
     ]
    },
    {
     "name": "stderr",
     "output_type": "stream",
     "text": [
      "/tmp/ipykernel_29375/3870639353.py:17: FutureWarning: The frame.append method is deprecated and will be removed from pandas in a future version. Use pandas.concat instead.\n",
      "  metrics_df = metrics_df.append(metrics, ignore_index=True)\n"
     ]
    }
   ],
   "source": [
    "knn8 = Knn(\n",
    "    sim_options = {'name': 'pearson_baseline','user_based': False}, \n",
    "    bsl_options={'method': 'sgd', 'learning_rate': 0.00005, 'n_epochs':20, 'reg_u': 12 , 'reg_i': 5}\n",
    "    )\n",
    "# create reader\n",
    "knn8.create_reader(data)\n",
    "# cross validate\n",
    "predictions = knn8.fit()\n",
    "# acc\n",
    "metrics = knn8.get_accuracy(predictions)\n",
    "\n",
    "# Add the model name to the dictionary\n",
    "metrics['Index'] = 8\n",
    "metrics['Model'] = 'KnnWithMeans (pearson_baseline, sgd, item_based)'\n",
    "\n",
    "# Append the dictionary to the existing DataFrame\n",
    "metrics_df = metrics_df.append(metrics, ignore_index=True)"
   ]
  },
  {
   "cell_type": "markdown",
   "metadata": {},
   "source": [
    "## KnnWithMeans and ALS\n"
   ]
  },
  {
   "cell_type": "markdown",
   "metadata": {},
   "source": [
    "* 1 Cosine UserBased"
   ]
  },
  {
   "cell_type": "code",
   "execution_count": 11,
   "metadata": {},
   "outputs": [
    {
     "name": "stdout",
     "output_type": "stream",
     "text": [
      "Computing the cosine similarity matrix...\n",
      "Done computing similarity matrix.\n",
      "Computing the cosine similarity matrix...\n",
      "Done computing similarity matrix.\n",
      "Estimating biases using als...\n",
      "RMSE: 1.4797\n",
      "MAE:  1.1599\n",
      "MSE: 2.1896\n",
      "Precision: 0.10\n",
      "Recall: 0.09\n",
      "the acc is 27.23\n"
     ]
    },
    {
     "name": "stderr",
     "output_type": "stream",
     "text": [
      "/tmp/ipykernel_29375/2042837302.py:17: FutureWarning: The frame.append method is deprecated and will be removed from pandas in a future version. Use pandas.concat instead.\n",
      "  metrics_df = metrics_df.append(metrics, ignore_index=True)\n"
     ]
    }
   ],
   "source": [
    "knn9 = Knn(\n",
    "    sim_options = {'name': 'cosine','user_based': True}, \n",
    "    bsl_options={'method': 'als', 'n_epochs':20 }\n",
    "    )\n",
    "# create reader\n",
    "knn9.create_reader(data)\n",
    "# cross validate\n",
    "predictions = knn9.fit()\n",
    "# acc\n",
    "metrics = knn9.get_accuracy(predictions)\n",
    "\n",
    "# Add the model name to the dictionary\n",
    "metrics['Index'] = 9\n",
    "metrics['Model'] = 'KnnWithMeans (cosine, als, user_based)'\n",
    "\n",
    "# Append the dictionary to the existing DataFrame\n",
    "metrics_df = metrics_df.append(metrics, ignore_index=True)"
   ]
  },
  {
   "cell_type": "markdown",
   "metadata": {},
   "source": [
    "* 2 Cosine ItemBased"
   ]
  },
  {
   "cell_type": "code",
   "execution_count": 12,
   "metadata": {},
   "outputs": [
    {
     "name": "stdout",
     "output_type": "stream",
     "text": [
      "Computing the cosine similarity matrix...\n",
      "Done computing similarity matrix.\n",
      "Computing the cosine similarity matrix...\n",
      "Done computing similarity matrix.\n",
      "Estimating biases using als...\n",
      "RMSE: 1.5967\n",
      "MAE:  1.2575\n",
      "MSE: 2.5494\n",
      "Precision: 0.07\n",
      "Recall: 0.05\n",
      "the acc is 27.23\n"
     ]
    },
    {
     "name": "stderr",
     "output_type": "stream",
     "text": [
      "/tmp/ipykernel_29375/194871798.py:17: FutureWarning: The frame.append method is deprecated and will be removed from pandas in a future version. Use pandas.concat instead.\n",
      "  metrics_df = metrics_df.append(metrics, ignore_index=True)\n"
     ]
    }
   ],
   "source": [
    "knn10 = Knn(\n",
    "    sim_options = {'name': 'cosine','user_based': False}, \n",
    "    bsl_options={'method': 'als', 'n_epochs':20, 'reg_u': 12 , 'reg_i': 5}\n",
    "    )\n",
    "# create reader\n",
    "knn10.create_reader(data)\n",
    "# cross validate\n",
    "predictions = knn10.fit()\n",
    "# acc\n",
    "metrics = knn10.get_accuracy(predictions)\n",
    "\n",
    "# Add the model name to the dictionary\n",
    "metrics['Index'] = 10\n",
    "metrics['Model'] = 'KnnWithMeans (cosine, als, item_based)'\n",
    "\n",
    "# Append the dictionary to the existing DataFrame\n",
    "metrics_df = metrics_df.append(metrics, ignore_index=True)"
   ]
  },
  {
   "cell_type": "markdown",
   "metadata": {},
   "source": [
    "* 3 Mean Square Difference UserBased"
   ]
  },
  {
   "cell_type": "code",
   "execution_count": 13,
   "metadata": {},
   "outputs": [
    {
     "name": "stdout",
     "output_type": "stream",
     "text": [
      "Computing the msd similarity matrix...\n",
      "Done computing similarity matrix.\n",
      "Computing the msd similarity matrix...\n",
      "Done computing similarity matrix.\n",
      "Estimating biases using als...\n",
      "RMSE: 1.4549\n",
      "MAE:  1.1205\n",
      "MSE: 2.1166\n",
      "Precision: 0.07\n",
      "Recall: 0.05\n",
      "the acc is 29.84\n"
     ]
    },
    {
     "name": "stderr",
     "output_type": "stream",
     "text": [
      "/tmp/ipykernel_29375/1238153130.py:17: FutureWarning: The frame.append method is deprecated and will be removed from pandas in a future version. Use pandas.concat instead.\n",
      "  metrics_df = metrics_df.append(metrics, ignore_index=True)\n"
     ]
    }
   ],
   "source": [
    "knn11 = Knn(\n",
    "    sim_options = {'name': 'msd','user_based': True}, \n",
    "    bsl_options={'method': 'als', 'n_epochs':20 }\n",
    "    )\n",
    "# create reader\n",
    "knn11.create_reader(data)\n",
    "# cross validate\n",
    "predictions = knn11.fit()\n",
    "# acc\n",
    "metrics = knn11.get_accuracy(predictions)\n",
    "\n",
    "# Add the model name to the dictionary\n",
    "metrics['Index'] = 11\n",
    "metrics['Model'] = 'KnnWithMeans (mean square diff, als, user_based)'\n",
    "\n",
    "# Append the dictionary to the existing DataFrame\n",
    "metrics_df = metrics_df.append(metrics, ignore_index=True)"
   ]
  },
  {
   "cell_type": "markdown",
   "metadata": {},
   "source": [
    "* 4 Mean Square Difference ItemBased"
   ]
  },
  {
   "cell_type": "code",
   "execution_count": 14,
   "metadata": {},
   "outputs": [
    {
     "name": "stdout",
     "output_type": "stream",
     "text": [
      "Computing the msd similarity matrix...\n",
      "Done computing similarity matrix.\n",
      "Computing the msd similarity matrix...\n",
      "Done computing similarity matrix.\n",
      "Estimating biases using als...\n",
      "RMSE: 1.5078\n",
      "MAE:  1.1206\n",
      "MSE: 2.2735\n",
      "Precision: 0.09\n",
      "Recall: 0.06\n",
      "the acc is 34.03\n"
     ]
    },
    {
     "name": "stderr",
     "output_type": "stream",
     "text": [
      "/tmp/ipykernel_29375/1118245004.py:17: FutureWarning: The frame.append method is deprecated and will be removed from pandas in a future version. Use pandas.concat instead.\n",
      "  metrics_df = metrics_df.append(metrics, ignore_index=True)\n"
     ]
    }
   ],
   "source": [
    "knn12 = Knn(\n",
    "    sim_options = {'name': 'msd','user_based': False}, \n",
    "    bsl_options={'method': 'als', 'n_epochs':20 }\n",
    "    )\n",
    "# create reader\n",
    "knn12.create_reader(data)\n",
    "# cross validate\n",
    "predictions = knn12.fit()\n",
    "# acc\n",
    "metrics = knn12.get_accuracy(predictions)\n",
    "\n",
    "# Add the model name to the dictionary\n",
    "metrics['Index'] = 12\n",
    "metrics['Model'] = 'KnnWithMeans (mean square diff, als, item_based)'\n",
    "\n",
    "# Append the dictionary to the existing DataFrame\n",
    "metrics_df = metrics_df.append(metrics, ignore_index=True)"
   ]
  },
  {
   "cell_type": "markdown",
   "metadata": {},
   "source": [
    "* 5 Pearson correlation coefficient UserBased"
   ]
  },
  {
   "cell_type": "code",
   "execution_count": 15,
   "metadata": {},
   "outputs": [
    {
     "name": "stdout",
     "output_type": "stream",
     "text": [
      "Computing the pearson similarity matrix...\n",
      "Done computing similarity matrix.\n",
      "Computing the pearson similarity matrix...\n",
      "Done computing similarity matrix.\n",
      "Estimating biases using als...\n",
      "RMSE: 1.3819\n",
      "MAE:  1.0376\n",
      "MSE: 1.9097\n",
      "Precision: 0.09\n",
      "Recall: 0.07\n",
      "the acc is 32.98\n"
     ]
    },
    {
     "name": "stderr",
     "output_type": "stream",
     "text": [
      "/tmp/ipykernel_29375/3678973049.py:17: FutureWarning: The frame.append method is deprecated and will be removed from pandas in a future version. Use pandas.concat instead.\n",
      "  metrics_df = metrics_df.append(metrics, ignore_index=True)\n"
     ]
    }
   ],
   "source": [
    "knn13 = Knn(\n",
    "    sim_options = {'name': 'pearson','user_based': True}, \n",
    "    bsl_options={'method': 'als', 'n_epochs':20 }\n",
    "    )\n",
    "# create reader\n",
    "knn13.create_reader(data)\n",
    "# cross validate\n",
    "predictions = knn13.fit()\n",
    "# acc\n",
    "metrics = knn13.get_accuracy(predictions)\n",
    "\n",
    "# Add the model name to the dictionary\n",
    "metrics['Index'] = 13\n",
    "metrics['Model'] = 'KnnWithMeans (pearson corr coeff, als, user_based)'\n",
    "\n",
    "# Append the dictionary to the existing DataFrame\n",
    "metrics_df = metrics_df.append(metrics, ignore_index=True)"
   ]
  },
  {
   "cell_type": "markdown",
   "metadata": {},
   "source": [
    "* 6 Pearson correlation coefficient ItemBased"
   ]
  },
  {
   "cell_type": "code",
   "execution_count": 16,
   "metadata": {},
   "outputs": [
    {
     "name": "stdout",
     "output_type": "stream",
     "text": [
      "Computing the pearson similarity matrix...\n",
      "Done computing similarity matrix.\n",
      "Computing the pearson similarity matrix...\n",
      "Done computing similarity matrix.\n",
      "Estimating biases using als...\n",
      "RMSE: 1.6116\n",
      "MAE:  1.2003\n",
      "MSE: 2.5972\n",
      "Precision: 0.07\n",
      "Recall: 0.06\n",
      "the acc is 31.41\n"
     ]
    },
    {
     "name": "stderr",
     "output_type": "stream",
     "text": [
      "/tmp/ipykernel_29375/872247341.py:17: FutureWarning: The frame.append method is deprecated and will be removed from pandas in a future version. Use pandas.concat instead.\n",
      "  metrics_df = metrics_df.append(metrics, ignore_index=True)\n"
     ]
    }
   ],
   "source": [
    "knn14 = Knn(\n",
    "    sim_options = {'name': 'pearson','user_based': False}, \n",
    "    bsl_options={'method': 'als', 'n_epochs':20 }\n",
    "    )\n",
    "# create reader\n",
    "knn14.create_reader(data)\n",
    "# cross validate\n",
    "predictions = knn14.fit()\n",
    "# acc\n",
    "metrics = knn14.get_accuracy(predictions)\n",
    "\n",
    "# Add the model name to the dictionary\n",
    "metrics['Index'] = 14\n",
    "metrics['Model'] = 'KnnWithMeans (pearson corr coeff, als, item_based)'\n",
    "\n",
    "# Append the dictionary to the existing DataFrame\n",
    "metrics_df = metrics_df.append(metrics, ignore_index=True)"
   ]
  },
  {
   "cell_type": "markdown",
   "metadata": {},
   "source": [
    "* 7 the (shrunk) Pearson correlation coefficient UsedBased"
   ]
  },
  {
   "cell_type": "code",
   "execution_count": 17,
   "metadata": {},
   "outputs": [
    {
     "name": "stdout",
     "output_type": "stream",
     "text": [
      "Estimating biases using als...\n",
      "Computing the pearson_baseline similarity matrix...\n",
      "Done computing similarity matrix.\n",
      "Computing the pearson_baseline similarity matrix...\n",
      "Done computing similarity matrix.\n",
      "RMSE: 1.4961\n",
      "MAE:  1.1110\n",
      "MSE: 2.2383\n",
      "Precision: 0.07\n",
      "Recall: 0.06\n",
      "the acc is 30.37\n"
     ]
    },
    {
     "name": "stderr",
     "output_type": "stream",
     "text": [
      "/tmp/ipykernel_29375/1286608646.py:17: FutureWarning: The frame.append method is deprecated and will be removed from pandas in a future version. Use pandas.concat instead.\n",
      "  metrics_df = metrics_df.append(metrics, ignore_index=True)\n"
     ]
    }
   ],
   "source": [
    "knn15 = Knn(\n",
    "    sim_options = {'name': 'pearson_baseline','user_based': True}, \n",
    "    bsl_options={'method': 'als', 'n_epochs':20 }\n",
    "    )\n",
    "# create reader\n",
    "knn15.create_reader(data)\n",
    "# cross validate\n",
    "predictions = knn15.fit()\n",
    "# acc\n",
    "metrics = knn15.get_accuracy(predictions)\n",
    "\n",
    "# Add the model name to the dictionary\n",
    "metrics['Index'] = 15\n",
    "metrics['Model'] = 'KnnWithMeans (pearson_baseline, als, user_based)'\n",
    "\n",
    "# Append the dictionary to the existing DataFrame\n",
    "metrics_df = metrics_df.append(metrics, ignore_index=True)"
   ]
  },
  {
   "cell_type": "markdown",
   "metadata": {},
   "source": [
    "* 8 the (shrunk) Pearson correlation coefficient ItemBased"
   ]
  },
  {
   "cell_type": "code",
   "execution_count": 18,
   "metadata": {},
   "outputs": [
    {
     "name": "stdout",
     "output_type": "stream",
     "text": [
      "Estimating biases using als...\n",
      "Computing the pearson_baseline similarity matrix...\n",
      "Done computing similarity matrix.\n",
      "Computing the pearson_baseline similarity matrix...\n",
      "Done computing similarity matrix.\n",
      "RMSE: 1.6339\n",
      "MAE:  1.1571\n",
      "MSE: 2.6697\n",
      "Precision: 0.09\n",
      "Recall: 0.08\n",
      "the acc is 37.70\n"
     ]
    },
    {
     "name": "stderr",
     "output_type": "stream",
     "text": [
      "/tmp/ipykernel_29375/3921582843.py:17: FutureWarning: The frame.append method is deprecated and will be removed from pandas in a future version. Use pandas.concat instead.\n",
      "  metrics_df = metrics_df.append(metrics, ignore_index=True)\n"
     ]
    }
   ],
   "source": [
    "knn16 = Knn(\n",
    "    sim_options = {'name': 'pearson_baseline','user_based': False}, \n",
    "    bsl_options={'method': 'als', 'n_epochs':20 }\n",
    "    )\n",
    "# create reader\n",
    "knn16.create_reader(data)\n",
    "# cross validate\n",
    "predictions = knn16.fit()\n",
    "# acc\n",
    "metrics = knn16.get_accuracy(predictions)\n",
    "\n",
    "# Add the model name to the dictionary\n",
    "metrics['Index'] = 16\n",
    "metrics['Model'] = 'KnnWithMeans (pearson_baseline, als, item_based)'\n",
    "\n",
    "# Append the dictionary to the existing DataFrame\n",
    "metrics_df = metrics_df.append(metrics, ignore_index=True)\n"
   ]
  },
  {
   "cell_type": "code",
   "execution_count": 19,
   "metadata": {},
   "outputs": [
    {
     "data": {
      "text/html": [
       "<div>\n",
       "<style scoped>\n",
       "    .dataframe tbody tr th:only-of-type {\n",
       "        vertical-align: middle;\n",
       "    }\n",
       "\n",
       "    .dataframe tbody tr th {\n",
       "        vertical-align: top;\n",
       "    }\n",
       "\n",
       "    .dataframe thead th {\n",
       "        text-align: right;\n",
       "    }\n",
       "</style>\n",
       "<table border=\"1\" class=\"dataframe\">\n",
       "  <thead>\n",
       "    <tr style=\"text-align: right;\">\n",
       "      <th></th>\n",
       "      <th>Index</th>\n",
       "      <th>Model</th>\n",
       "      <th>RMSE</th>\n",
       "      <th>MAE</th>\n",
       "      <th>MSE</th>\n",
       "      <th>Precision</th>\n",
       "      <th>Recall</th>\n",
       "      <th>Accuracy</th>\n",
       "    </tr>\n",
       "  </thead>\n",
       "  <tbody>\n",
       "    <tr>\n",
       "      <th>4</th>\n",
       "      <td>5</td>\n",
       "      <td>KnnWithMeans (pearson corr coeff, sgd, user_ba...</td>\n",
       "      <td>1.322879</td>\n",
       "      <td>0.989803</td>\n",
       "      <td>1.750010</td>\n",
       "      <td>0.090535</td>\n",
       "      <td>0.070165</td>\n",
       "      <td>31.413613</td>\n",
       "    </tr>\n",
       "    <tr>\n",
       "      <th>0</th>\n",
       "      <td>1</td>\n",
       "      <td>KnnWithMeans (cosine, sgd, user_based)</td>\n",
       "      <td>1.368476</td>\n",
       "      <td>1.043970</td>\n",
       "      <td>1.872726</td>\n",
       "      <td>0.091011</td>\n",
       "      <td>0.073328</td>\n",
       "      <td>33.507853</td>\n",
       "    </tr>\n",
       "    <tr>\n",
       "      <th>12</th>\n",
       "      <td>13</td>\n",
       "      <td>KnnWithMeans (pearson corr coeff, als, user_ba...</td>\n",
       "      <td>1.381916</td>\n",
       "      <td>1.037629</td>\n",
       "      <td>1.909693</td>\n",
       "      <td>0.093333</td>\n",
       "      <td>0.072444</td>\n",
       "      <td>32.984293</td>\n",
       "    </tr>\n",
       "    <tr>\n",
       "      <th>6</th>\n",
       "      <td>7</td>\n",
       "      <td>KnnWithMeans (pearson_baseline, sgd, user_based)</td>\n",
       "      <td>1.416003</td>\n",
       "      <td>1.089122</td>\n",
       "      <td>2.005065</td>\n",
       "      <td>0.084416</td>\n",
       "      <td>0.056066</td>\n",
       "      <td>29.319372</td>\n",
       "    </tr>\n",
       "    <tr>\n",
       "      <th>2</th>\n",
       "      <td>3</td>\n",
       "      <td>KnnWithMeans (mean square diff, sgd, user_based)</td>\n",
       "      <td>1.417930</td>\n",
       "      <td>1.112531</td>\n",
       "      <td>2.010524</td>\n",
       "      <td>0.052209</td>\n",
       "      <td>0.029652</td>\n",
       "      <td>28.272251</td>\n",
       "    </tr>\n",
       "    <tr>\n",
       "      <th>10</th>\n",
       "      <td>11</td>\n",
       "      <td>KnnWithMeans (mean square diff, als, user_based)</td>\n",
       "      <td>1.454869</td>\n",
       "      <td>1.120516</td>\n",
       "      <td>2.116643</td>\n",
       "      <td>0.071429</td>\n",
       "      <td>0.048753</td>\n",
       "      <td>29.842932</td>\n",
       "    </tr>\n",
       "    <tr>\n",
       "      <th>7</th>\n",
       "      <td>8</td>\n",
       "      <td>KnnWithMeans (pearson_baseline, sgd, item_based)</td>\n",
       "      <td>1.464894</td>\n",
       "      <td>1.086838</td>\n",
       "      <td>2.145914</td>\n",
       "      <td>0.075556</td>\n",
       "      <td>0.053333</td>\n",
       "      <td>31.937173</td>\n",
       "    </tr>\n",
       "    <tr>\n",
       "      <th>8</th>\n",
       "      <td>9</td>\n",
       "      <td>KnnWithMeans (cosine, als, user_based)</td>\n",
       "      <td>1.479718</td>\n",
       "      <td>1.159865</td>\n",
       "      <td>2.189566</td>\n",
       "      <td>0.096154</td>\n",
       "      <td>0.087607</td>\n",
       "      <td>27.225131</td>\n",
       "    </tr>\n",
       "    <tr>\n",
       "      <th>14</th>\n",
       "      <td>15</td>\n",
       "      <td>KnnWithMeans (pearson_baseline, als, user_based)</td>\n",
       "      <td>1.496108</td>\n",
       "      <td>1.111036</td>\n",
       "      <td>2.238340</td>\n",
       "      <td>0.066260</td>\n",
       "      <td>0.060467</td>\n",
       "      <td>30.366492</td>\n",
       "    </tr>\n",
       "    <tr>\n",
       "      <th>3</th>\n",
       "      <td>4</td>\n",
       "      <td>KnnWithMeans (mean square diff, sgd, item_based)</td>\n",
       "      <td>1.499630</td>\n",
       "      <td>1.133972</td>\n",
       "      <td>2.248889</td>\n",
       "      <td>0.093023</td>\n",
       "      <td>0.057558</td>\n",
       "      <td>32.984293</td>\n",
       "    </tr>\n",
       "    <tr>\n",
       "      <th>11</th>\n",
       "      <td>12</td>\n",
       "      <td>KnnWithMeans (mean square diff, als, item_based)</td>\n",
       "      <td>1.507829</td>\n",
       "      <td>1.120600</td>\n",
       "      <td>2.273549</td>\n",
       "      <td>0.087719</td>\n",
       "      <td>0.064583</td>\n",
       "      <td>34.031414</td>\n",
       "    </tr>\n",
       "    <tr>\n",
       "      <th>5</th>\n",
       "      <td>6</td>\n",
       "      <td>KnnWithMeans (pearson corr coeff, sgd, item_ba...</td>\n",
       "      <td>1.521442</td>\n",
       "      <td>1.077196</td>\n",
       "      <td>2.314785</td>\n",
       "      <td>0.096875</td>\n",
       "      <td>0.059077</td>\n",
       "      <td>37.172775</td>\n",
       "    </tr>\n",
       "    <tr>\n",
       "      <th>1</th>\n",
       "      <td>2</td>\n",
       "      <td>KnnWithMeans (cosine, sgd, item_based)</td>\n",
       "      <td>1.534189</td>\n",
       "      <td>1.178506</td>\n",
       "      <td>2.353737</td>\n",
       "      <td>0.084416</td>\n",
       "      <td>0.051948</td>\n",
       "      <td>28.795812</td>\n",
       "    </tr>\n",
       "    <tr>\n",
       "      <th>9</th>\n",
       "      <td>10</td>\n",
       "      <td>KnnWithMeans (cosine, als, item_based)</td>\n",
       "      <td>1.596671</td>\n",
       "      <td>1.257513</td>\n",
       "      <td>2.549357</td>\n",
       "      <td>0.071429</td>\n",
       "      <td>0.051786</td>\n",
       "      <td>27.225131</td>\n",
       "    </tr>\n",
       "    <tr>\n",
       "      <th>13</th>\n",
       "      <td>14</td>\n",
       "      <td>KnnWithMeans (pearson corr coeff, als, item_ba...</td>\n",
       "      <td>1.611593</td>\n",
       "      <td>1.200350</td>\n",
       "      <td>2.597231</td>\n",
       "      <td>0.066667</td>\n",
       "      <td>0.057563</td>\n",
       "      <td>31.413613</td>\n",
       "    </tr>\n",
       "    <tr>\n",
       "      <th>15</th>\n",
       "      <td>16</td>\n",
       "      <td>KnnWithMeans (pearson_baseline, als, item_based)</td>\n",
       "      <td>1.633908</td>\n",
       "      <td>1.157106</td>\n",
       "      <td>2.669655</td>\n",
       "      <td>0.090361</td>\n",
       "      <td>0.078313</td>\n",
       "      <td>37.696335</td>\n",
       "    </tr>\n",
       "  </tbody>\n",
       "</table>\n",
       "</div>"
      ],
      "text/plain": [
       "   Index                                              Model      RMSE  \\\n",
       "4      5  KnnWithMeans (pearson corr coeff, sgd, user_ba...  1.322879   \n",
       "0      1             KnnWithMeans (cosine, sgd, user_based)  1.368476   \n",
       "12    13  KnnWithMeans (pearson corr coeff, als, user_ba...  1.381916   \n",
       "6      7   KnnWithMeans (pearson_baseline, sgd, user_based)  1.416003   \n",
       "2      3   KnnWithMeans (mean square diff, sgd, user_based)  1.417930   \n",
       "10    11   KnnWithMeans (mean square diff, als, user_based)  1.454869   \n",
       "7      8   KnnWithMeans (pearson_baseline, sgd, item_based)  1.464894   \n",
       "8      9             KnnWithMeans (cosine, als, user_based)  1.479718   \n",
       "14    15   KnnWithMeans (pearson_baseline, als, user_based)  1.496108   \n",
       "3      4   KnnWithMeans (mean square diff, sgd, item_based)  1.499630   \n",
       "11    12   KnnWithMeans (mean square diff, als, item_based)  1.507829   \n",
       "5      6  KnnWithMeans (pearson corr coeff, sgd, item_ba...  1.521442   \n",
       "1      2             KnnWithMeans (cosine, sgd, item_based)  1.534189   \n",
       "9     10             KnnWithMeans (cosine, als, item_based)  1.596671   \n",
       "13    14  KnnWithMeans (pearson corr coeff, als, item_ba...  1.611593   \n",
       "15    16   KnnWithMeans (pearson_baseline, als, item_based)  1.633908   \n",
       "\n",
       "         MAE       MSE  Precision    Recall   Accuracy  \n",
       "4   0.989803  1.750010   0.090535  0.070165  31.413613  \n",
       "0   1.043970  1.872726   0.091011  0.073328  33.507853  \n",
       "12  1.037629  1.909693   0.093333  0.072444  32.984293  \n",
       "6   1.089122  2.005065   0.084416  0.056066  29.319372  \n",
       "2   1.112531  2.010524   0.052209  0.029652  28.272251  \n",
       "10  1.120516  2.116643   0.071429  0.048753  29.842932  \n",
       "7   1.086838  2.145914   0.075556  0.053333  31.937173  \n",
       "8   1.159865  2.189566   0.096154  0.087607  27.225131  \n",
       "14  1.111036  2.238340   0.066260  0.060467  30.366492  \n",
       "3   1.133972  2.248889   0.093023  0.057558  32.984293  \n",
       "11  1.120600  2.273549   0.087719  0.064583  34.031414  \n",
       "5   1.077196  2.314785   0.096875  0.059077  37.172775  \n",
       "1   1.178506  2.353737   0.084416  0.051948  28.795812  \n",
       "9   1.257513  2.549357   0.071429  0.051786  27.225131  \n",
       "13  1.200350  2.597231   0.066667  0.057563  31.413613  \n",
       "15  1.157106  2.669655   0.090361  0.078313  37.696335  "
      ]
     },
     "execution_count": 19,
     "metadata": {},
     "output_type": "execute_result"
    }
   ],
   "source": [
    "metrics_df.sort_values(by='RMSE', ascending=True, inplace=True)\n",
    "metrics_df\n"
   ]
  },
  {
   "cell_type": "code",
   "execution_count": 20,
   "metadata": {},
   "outputs": [
    {
     "data": {
      "image/png": "[encoded data removed]",
      "text/plain": [
       "<Figure size 1000x600 with 1 Axes>"
      ]
     },
     "metadata": {},
     "output_type": "display_data"
    }
   ],
   "source": [
    "import matplotlib.pyplot as plt\n",
    "\n",
    "# Create a new figure\n",
    "plt.figure(figsize=(10, 6))\n",
    "\n",
    "# Plot RMSE with lines and points\n",
    "plt.plot(range(metrics_df.shape[0]), metrics_df['RMSE'], marker='o', linestyle='-', label='RMSE')\n",
    "\n",
    "# Plot MAE with lines and points\n",
    "plt.plot(range(metrics_df.shape[0]), metrics_df['MAE'], marker='s', linestyle='-', label='MAE')\n",
    "\n",
    "# Plot MSE with lines and points\n",
    "plt.plot(range(metrics_df.shape[0]), metrics_df['MSE'], marker='^', linestyle='-', label='MSE')\n",
    "\n",
    "# Annotate points with 'Index' column values\n",
    "for i in range(metrics_df.shape[0]):\n",
    "    plt.annotate(metrics_df['Index'].iloc[i], (i, metrics_df['RMSE'].iloc[i]))\n",
    "    plt.annotate(metrics_df['Index'].iloc[i], (i, metrics_df['MAE'].iloc[i]))\n",
    "    plt.annotate(metrics_df['Index'].iloc[i], (i, metrics_df['MSE'].iloc[i]))\n",
    "\n",
    "# Set title and labels\n",
    "plt.title('Error Metrics for Different Models')\n",
    "plt.xlabel('Model Index')\n",
    "plt.ylabel('Error Value')\n",
    "\n",
    "# Add a legend\n",
    "plt.legend()\n",
    "\n",
    "# Show the plot\n",
    "plt.show()"
   ]
  },
  {
   "cell_type": "code",
   "execution_count": 21,
   "metadata": {},
   "outputs": [
    {
     "data": {
      "image/png": "[encoded data removed]",
      "text/plain": [
       "<Figure size 1000x600 with 1 Axes>"
      ]
     },
     "metadata": {},
     "output_type": "display_data"
    }
   ],
   "source": [
    "import matplotlib.pyplot as plt\n",
    "\n",
    "# Create a new figure\n",
    "plt.figure(figsize=(10, 6))\n",
    "\n",
    "# Plot RMSE with lines and points\n",
    "plt.plot(range(metrics_df.shape[0]), metrics_df['RMSE'], marker='o', linestyle='-', label='RMSE')\n",
    "\n",
    "# Plot MAE with lines and points\n",
    "plt.plot(range(metrics_df.shape[0]), metrics_df['Precision'], marker='s', linestyle='-', label='Precision')\n",
    "\n",
    "# Plot MSE with lines and points\n",
    "plt.plot(range(metrics_df.shape[0]), metrics_df['Recall'], marker='^', linestyle='-', label='Recall')\n",
    "\n",
    "# Annotate points with 'Index' column values\n",
    "for i in range(metrics_df.shape[0]):\n",
    "    plt.annotate(metrics_df['Index'].iloc[i], (i, metrics_df['RMSE'].iloc[i]))\n",
    "    plt.annotate(metrics_df['Index'].iloc[i], (i, metrics_df['Precision'].iloc[i]))\n",
    "    plt.annotate(metrics_df['Index'].iloc[i], (i, metrics_df['Recall'].iloc[i]))\n",
    "\n",
    "# Set title and labels\n",
    "plt.title('Error Metrics for Different Models')\n",
    "plt.xlabel('Model Index')\n",
    "plt.ylabel('Error Value')\n",
    "\n",
    "# Add a legend\n",
    "plt.legend()\n",
    "\n",
    "# Show the plot\n",
    "plt.show()"
   ]
  },
  {
   "cell_type": "code",
   "execution_count": 22,
   "metadata": {},
   "outputs": [
    {
     "data": {
      "image/png": "[encoded data removed]",
      "text/plain": [
       "<Figure size 1000x600 with 1 Axes>"
      ]
     },
     "metadata": {},
     "output_type": "display_data"
    }
   ],
   "source": [
    "import matplotlib.pyplot as plt\n",
    "\n",
    "# Create a new figure\n",
    "plt.figure(figsize=(10, 6))\n",
    "\n",
    "# Plot Accuracy with lines and points\n",
    "plt.plot(range(metrics_df.shape[0]), metrics_df['Accuracy'], marker='o', linestyle='-', label='Accuracy')\n",
    "\n",
    "# Annotate points with 'Index' column values\n",
    "for i in range(metrics_df.shape[0]):\n",
    "    plt.annotate(metrics_df['Index'].iloc[i], (i, metrics_df['Accuracy'].iloc[i]))\n",
    "\n",
    "# Set title and labels\n",
    "plt.title('Accuracy for Different Models')\n",
    "plt.xlabel('Model Index')\n",
    "plt.ylabel('Accuracy')\n",
    "\n",
    "# Add a legend\n",
    "plt.legend()\n",
    "\n",
    "# Show the plot\n",
    "plt.show()\n"
   ]
  }
 ],
 "metadata": {
  "kernelspec": {
   "display_name": "DL",
   "language": "python",
   "name": "python3"
  },
  "language_info": {
   "codemirror_mode": {
    "name": "ipython",
    "version": 3
   },
   "file_extension": ".py",
   "mimetype": "text/x-python",
   "name": "python",
   "nbconvert_exporter": "python",
   "pygments_lexer": "ipython3",
   "version": "3.10.9"
  }
 },
 "nbformat": 4,
 "nbformat_minor": 2
}
