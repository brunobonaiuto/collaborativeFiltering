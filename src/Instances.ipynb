{
 "cells": [
  {
   "cell_type": "code",
   "execution_count": 32,
   "metadata": {},
   "outputs": [],
   "source": [
    "from algorithms import *\n",
    "\n",
    "import warnings\n",
    "# Ignore the specific FutureWarning\n",
    "warnings.filterwarnings('ignore')"
   ]
  },
  {
   "cell_type": "markdown",
   "metadata": {},
   "source": [
    "* KNNs algorithms"
   ]
  },
  {
   "cell_type": "code",
   "execution_count": 33,
   "metadata": {},
   "outputs": [
    {
     "name": "stdout",
     "output_type": "stream",
     "text": [
      "algorithm: <class 'surprise.prediction_algorithms.knns.KNNWithMeans'>\n",
      "Computing the msd similarity matrix...\n",
      "Done computing similarity matrix.\n",
      "RMSE: 0.1726\n",
      "RMSE: 0.7844\n",
      "Computing the msd similarity matrix...\n",
      "Done computing similarity matrix.\n",
      "RMSE: 0.1515\n",
      "RMSE: 0.9394\n",
      "Computing the msd similarity matrix...\n",
      "Done computing similarity matrix.\n",
      "RMSE: 0.1760\n",
      "RMSE: 0.7510\n",
      "Computing the msd similarity matrix...\n",
      "Done computing similarity matrix.\n",
      "RMSE: 0.1997\n",
      "RMSE: 0.6983\n",
      "Computing the msd similarity matrix...\n",
      "Done computing similarity matrix.\n",
      "RMSE: 0.1951\n",
      "RMSE: 0.8006\n",
      "###############################################\n",
      "The Results are: \n",
      "\n",
      "Average RMSE on Training Set: 0.1789708958769572\n",
      "Average RMSE on Test Set: 0.7947501928141173\n",
      "RMSE: 0.7884\n",
      "RMSE on Test Set on UNSEEN DATA is RMSE, : 0.7884303947050418\n",
      "Computing the msd similarity matrix...\n",
      "Done computing similarity matrix.\n",
      "Estimating biases using als...\n",
      "RMSE: 0.7884\n",
      "MAE:  0.4317\n",
      "MSE: 0.6216\n",
      "Precision: 0.20\n",
      "Recall: 0.17\n",
      "the acc is 67.43\n"
     ]
    }
   ],
   "source": [
    "dataset = 'upsampled_df_smote_auto'\n",
    "data = pd.read_csv(f'/home/bbruno/all_here/python course/vinnie/data/cleaned_data/{dataset}.csv')\n",
    "algo = {'algorithm_class': KNNWithMeans, 'k': 5,\n",
    "        'sim_options': {'name': 'cosine','user_based': True}, \n",
    "        'bsl_options':{'method': 'sgd', 'learning_rate': 0.05, 'n_epochs':60, 'reg_u': 12 , 'reg_i': 5}}\n",
    "\n",
    "#process algorithm\n",
    "knn, predictions = DynamicAlgo.process_algorithm(algo= algo, data = data)\n"
   ]
  },
  {
   "cell_type": "code",
   "execution_count": 34,
   "metadata": {},
   "outputs": [
    {
     "name": "stdout",
     "output_type": "stream",
     "text": [
      "Top items for the user '7f6dede6-b8b5-4bb6-a1ca-ae58c79c0ea7' are:\n",
      "1. Item ID: Valle de Casablanca Sauvignon\n",
      "2. Item ID: Petit Chablis\n",
      "3. Item ID: Marlborough\n",
      "4. Item ID: Meursault 'Les Grands Charrons'\n",
      "5. Item ID: Cirus Madiran\n",
      "6. Item ID: Cirus Madiran\n",
      "7. Item ID: Cirus Madiran\n",
      "8. Item ID: Beyerskloof Western Cape\n",
      "9. Item ID: Cirus Madiran\n"
     ]
    }
   ],
   "source": [
    "#inspect predictions\n",
    "user_id = '7f6dede6-b8b5-4bb6-a1ca-ae58c79c0ea7'\n",
    "top_n = knn.get_top_n_for_user(predictions, user_id)\n",
    "print(f\"Top items for the user '{user_id}' are:\")\n",
    "for i, (iid, _) in enumerate(top_n, 1):\n",
    "    print(f\"{i}. Item ID: {iid}\")"
   ]
  },
  {
   "cell_type": "code",
   "execution_count": 35,
   "metadata": {},
   "outputs": [
    {
     "name": "stdout",
     "output_type": "stream",
     "text": [
      "Top users for the item 'Chardonnay' are:\n",
      "1. User ID: 36fec3ea-e183-491d-b65a-6c7ac90fafa5\n",
      "2. User ID: d48fd3bd-06e9-4368-97b9-aae545388325\n",
      "3. User ID: c88644be-2c9b-42f0-9c4b-7f8e81795f43\n"
     ]
    }
   ],
   "source": [
    "item_id = 'Chardonnay'\n",
    "top_n = knn.get_top_n_users_for_item(predictions, item_id)\n",
    "print(f\"Top users for the item '{item_id}' are:\")\n",
    "for i, (uid, _) in enumerate(top_n, 1):\n",
    "    print(f\"{i}. User ID: {uid}\")"
   ]
  },
  {
   "cell_type": "code",
   "execution_count": 36,
   "metadata": {},
   "outputs": [
    {
     "data": {
      "text/plain": [
       "['7f6dede6-b8b5-4bb6-a1ca-ae58c79c0ea7',\n",
       " '7cb9aba3-78f1-4ad5-97ca-8bcc29fb021a',\n",
       " '2a62eecd-b0cd-4395-9f8c-7c912a208be2',\n",
       " 'ecc462e1-5041-43ca-94c3-c2bfc9b3215e',\n",
       " '36fec3ea-e183-491d-b65a-6c7ac90fafa5',\n",
       " '014e4ed1-6f8b-4b25-917d-c167a2acca17',\n",
       " 'bec96c0b-5b0b-4992-8756-e0d3b704afb5',\n",
       " '5ccd8030-047b-432c-a630-d784ab415756',\n",
       " 'f8c400a6-ded1-40b8-95d2-a263d05c30ce',\n",
       " '2ae69fac-d491-412f-8164-ccaf59a230c2']"
      ]
     },
     "execution_count": 36,
     "metadata": {},
     "output_type": "execute_result"
    }
   ],
   "source": [
    "#get the KNN for a user from the model\n",
    "knn.get_neighbors_uid(user_id=5)"
   ]
  },
  {
   "cell_type": "code",
   "execution_count": 37,
   "metadata": {},
   "outputs": [
    {
     "data": {
      "text/plain": [
       "['refosco Bole',\n",
       " 'Spätburgunder',\n",
       " 'Cirus Madiran',\n",
       " 'Passerina',\n",
       " '19 crimes dark red',\n",
       " 'Merlot  le vigne di zamo',\n",
       " '2/5 大亂鬥 2',\n",
       " \"Nebbiolo d'Alba DOC Spumante Cuvée 970 Brut Rosé\",\n",
       " \"Nebbiolo d'Alba\",\n",
       " 'Bread & Butter Pinor Noir 2020']"
      ]
     },
     "execution_count": 37,
     "metadata": {},
     "output_type": "execute_result"
    }
   ],
   "source": [
    "#get the KNN for an item from the model\n",
    "knn.get_neighbors_iid(item_id=20)"
   ]
  },
  {
   "cell_type": "code",
   "execution_count": 38,
   "metadata": {},
   "outputs": [
    {
     "name": "stdout",
     "output_type": "stream",
     "text": [
      "The 5 nearest neighbors of user 13 are:\n",
      "user 14 with sim 0.000000000000000\n",
      "user 14 with sim 0.000000000000000\n",
      "user 14 with sim 0.000000000000000\n",
      "user 11 with sim 0.000000000000000\n",
      "user 11 with sim 0.000000000000000\n",
      "And the baseline estimate is: 2.516773907656377\n"
     ]
    }
   ],
   "source": [
    "knn.estimated(13,20)"
   ]
  },
  {
   "cell_type": "code",
   "execution_count": 39,
   "metadata": {},
   "outputs": [
    {
     "name": "stdout",
     "output_type": "stream",
     "text": [
      "uid means the user id and iid means the wine id\n",
      "\n",
      "rui means the actual rating and est means the estimated rating\n",
      "\n",
      "err means the error between the actual and the estimated rating\n",
      "\n",
      "Iu means the number of items rated by given user\n",
      "\n",
      "Ui means the number of users that have rated given item\n",
      "\n"
     ]
    },
    {
     "data": {
      "text/html": [
       "<div>\n",
       "<style scoped>\n",
       "    .dataframe tbody tr th:only-of-type {\n",
       "        vertical-align: middle;\n",
       "    }\n",
       "\n",
       "    .dataframe tbody tr th {\n",
       "        vertical-align: top;\n",
       "    }\n",
       "\n",
       "    .dataframe thead th {\n",
       "        text-align: right;\n",
       "    }\n",
       "</style>\n",
       "<table border=\"1\" class=\"dataframe\">\n",
       "  <thead>\n",
       "    <tr style=\"text-align: right;\">\n",
       "      <th></th>\n",
       "      <th>uid</th>\n",
       "      <th>iid</th>\n",
       "      <th>rui</th>\n",
       "      <th>est</th>\n",
       "      <th>details</th>\n",
       "      <th>Iu</th>\n",
       "      <th>Ui</th>\n",
       "      <th>err</th>\n",
       "    </tr>\n",
       "  </thead>\n",
       "  <tbody>\n",
       "    <tr>\n",
       "      <th>0</th>\n",
       "      <td>36fec3ea-e183-491d-b65a-6c7ac90fafa5</td>\n",
       "      <td>Collepiano</td>\n",
       "      <td>5.0</td>\n",
       "      <td>5.000000</td>\n",
       "      <td>{'actual_k': 1, 'was_impossible': False}</td>\n",
       "      <td>52</td>\n",
       "      <td>1</td>\n",
       "      <td>0.000000</td>\n",
       "    </tr>\n",
       "    <tr>\n",
       "      <th>1</th>\n",
       "      <td>5ccd8030-047b-432c-a630-d784ab415756</td>\n",
       "      <td>Acinaia</td>\n",
       "      <td>2.0</td>\n",
       "      <td>2.000000</td>\n",
       "      <td>{'actual_k': 24, 'was_impossible': False}</td>\n",
       "      <td>72</td>\n",
       "      <td>24</td>\n",
       "      <td>0.000000</td>\n",
       "    </tr>\n",
       "    <tr>\n",
       "      <th>2</th>\n",
       "      <td>7f6dede6-b8b5-4bb6-a1ca-ae58c79c0ea7</td>\n",
       "      <td>Cirus Madiran</td>\n",
       "      <td>2.0</td>\n",
       "      <td>2.000000</td>\n",
       "      <td>{'actual_k': 22, 'was_impossible': False}</td>\n",
       "      <td>52</td>\n",
       "      <td>22</td>\n",
       "      <td>0.000000</td>\n",
       "    </tr>\n",
       "    <tr>\n",
       "      <th>3</th>\n",
       "      <td>5ccd8030-047b-432c-a630-d784ab415756</td>\n",
       "      <td>Charlotte Rosé</td>\n",
       "      <td>4.0</td>\n",
       "      <td>2.996411</td>\n",
       "      <td>{'was_impossible': True, 'reason': 'User and/o...</td>\n",
       "      <td>72</td>\n",
       "      <td>0</td>\n",
       "      <td>1.003589</td>\n",
       "    </tr>\n",
       "    <tr>\n",
       "      <th>4</th>\n",
       "      <td>2a62eecd-b0cd-4395-9f8c-7c912a208be2</td>\n",
       "      <td>19 crimes dark red</td>\n",
       "      <td>5.0</td>\n",
       "      <td>5.000000</td>\n",
       "      <td>{'actual_k': 22, 'was_impossible': False}</td>\n",
       "      <td>41</td>\n",
       "      <td>22</td>\n",
       "      <td>0.000000</td>\n",
       "    </tr>\n",
       "    <tr>\n",
       "      <th>5</th>\n",
       "      <td>e9a40b1d-e044-4cad-90ff-a1e62a37f999</td>\n",
       "      <td>Ksara Blanc De Blancs</td>\n",
       "      <td>3.0</td>\n",
       "      <td>2.996411</td>\n",
       "      <td>{'was_impossible': True, 'reason': 'User and/o...</td>\n",
       "      <td>0</td>\n",
       "      <td>0</td>\n",
       "      <td>0.003589</td>\n",
       "    </tr>\n",
       "    <tr>\n",
       "      <th>6</th>\n",
       "      <td>ecc462e1-5041-43ca-94c3-c2bfc9b3215e</td>\n",
       "      <td>2/5 大亂鬥 2</td>\n",
       "      <td>1.0</td>\n",
       "      <td>1.005964</td>\n",
       "      <td>{'actual_k': 40, 'was_impossible': False}</td>\n",
       "      <td>119</td>\n",
       "      <td>109</td>\n",
       "      <td>0.005964</td>\n",
       "    </tr>\n",
       "    <tr>\n",
       "      <th>7</th>\n",
       "      <td>91cf68cc-9436-43e1-871d-33beef4d2337</td>\n",
       "      <td>Bella Cabernet Sauvignon</td>\n",
       "      <td>2.0</td>\n",
       "      <td>2.000000</td>\n",
       "      <td>{'actual_k': 18, 'was_impossible': False}</td>\n",
       "      <td>30</td>\n",
       "      <td>18</td>\n",
       "      <td>0.000000</td>\n",
       "    </tr>\n",
       "    <tr>\n",
       "      <th>8</th>\n",
       "      <td>7f6dede6-b8b5-4bb6-a1ca-ae58c79c0ea7</td>\n",
       "      <td>Valle de Casablanca Sauvignon</td>\n",
       "      <td>2.0</td>\n",
       "      <td>2.996411</td>\n",
       "      <td>{'was_impossible': True, 'reason': 'User and/o...</td>\n",
       "      <td>52</td>\n",
       "      <td>0</td>\n",
       "      <td>0.996411</td>\n",
       "    </tr>\n",
       "    <tr>\n",
       "      <th>9</th>\n",
       "      <td>2ae69fac-d491-412f-8164-ccaf59a230c2</td>\n",
       "      <td>Ronco del Balbo Merlot</td>\n",
       "      <td>5.0</td>\n",
       "      <td>5.000000</td>\n",
       "      <td>{'actual_k': 5, 'was_impossible': False}</td>\n",
       "      <td>7</td>\n",
       "      <td>5</td>\n",
       "      <td>0.000000</td>\n",
       "    </tr>\n",
       "  </tbody>\n",
       "</table>\n",
       "</div>"
      ],
      "text/plain": [
       "                                    uid                            iid  rui  \\\n",
       "0  36fec3ea-e183-491d-b65a-6c7ac90fafa5                     Collepiano  5.0   \n",
       "1  5ccd8030-047b-432c-a630-d784ab415756                        Acinaia  2.0   \n",
       "2  7f6dede6-b8b5-4bb6-a1ca-ae58c79c0ea7                  Cirus Madiran  2.0   \n",
       "3  5ccd8030-047b-432c-a630-d784ab415756                 Charlotte Rosé  4.0   \n",
       "4  2a62eecd-b0cd-4395-9f8c-7c912a208be2             19 crimes dark red  5.0   \n",
       "5  e9a40b1d-e044-4cad-90ff-a1e62a37f999          Ksara Blanc De Blancs  3.0   \n",
       "6  ecc462e1-5041-43ca-94c3-c2bfc9b3215e                      2/5 大亂鬥 2  1.0   \n",
       "7  91cf68cc-9436-43e1-871d-33beef4d2337       Bella Cabernet Sauvignon  2.0   \n",
       "8  7f6dede6-b8b5-4bb6-a1ca-ae58c79c0ea7  Valle de Casablanca Sauvignon  2.0   \n",
       "9  2ae69fac-d491-412f-8164-ccaf59a230c2         Ronco del Balbo Merlot  5.0   \n",
       "\n",
       "        est                                            details   Iu   Ui  \\\n",
       "0  5.000000           {'actual_k': 1, 'was_impossible': False}   52    1   \n",
       "1  2.000000          {'actual_k': 24, 'was_impossible': False}   72   24   \n",
       "2  2.000000          {'actual_k': 22, 'was_impossible': False}   52   22   \n",
       "3  2.996411  {'was_impossible': True, 'reason': 'User and/o...   72    0   \n",
       "4  5.000000          {'actual_k': 22, 'was_impossible': False}   41   22   \n",
       "5  2.996411  {'was_impossible': True, 'reason': 'User and/o...    0    0   \n",
       "6  1.005964          {'actual_k': 40, 'was_impossible': False}  119  109   \n",
       "7  2.000000          {'actual_k': 18, 'was_impossible': False}   30   18   \n",
       "8  2.996411  {'was_impossible': True, 'reason': 'User and/o...   52    0   \n",
       "9  5.000000           {'actual_k': 5, 'was_impossible': False}    7    5   \n",
       "\n",
       "        err  \n",
       "0  0.000000  \n",
       "1  0.000000  \n",
       "2  0.000000  \n",
       "3  1.003589  \n",
       "4  0.000000  \n",
       "5  0.003589  \n",
       "6  0.005964  \n",
       "7  0.000000  \n",
       "8  0.996411  \n",
       "9  0.000000  "
      ]
     },
     "execution_count": 39,
     "metadata": {},
     "output_type": "execute_result"
    }
   ],
   "source": [
    "df_pred = knn.inspect_predictions(predictions)\n",
    "best_pred = df_pred.sort_values(by='err')[:10]\n",
    "worst_pred = df_pred.sort_values(by='err')[-10:]\n",
    "df_pred.head(10)"
   ]
  },
  {
   "cell_type": "markdown",
   "metadata": {},
   "source": [
    "* SVD"
   ]
  },
  {
   "cell_type": "code",
   "execution_count": 40,
   "metadata": {},
   "outputs": [
    {
     "name": "stdout",
     "output_type": "stream",
     "text": [
      "algorithm: <class 'surprise.prediction_algorithms.matrix_factorization.SVD'>\n",
      "RMSE: 0.4816\n",
      "RMSE: 0.6504\n",
      "RMSE: 0.4729\n",
      "RMSE: 0.7439\n",
      "RMSE: 0.4790\n",
      "RMSE: 0.7428\n",
      "RMSE: 0.4764\n",
      "RMSE: 0.6296\n",
      "RMSE: 0.4847\n",
      "RMSE: 0.6754\n",
      "###############################################\n",
      "The Results are: \n",
      "\n",
      "Average RMSE on Training Set: 0.47890577793757805\n",
      "Average RMSE on Test Set: 0.6884163797091473\n",
      "RMSE: 0.6403\n",
      "RMSE on Test Set on UNSEEN DATA is RMSE, : 0.6403057811974198\n",
      "RMSE: 0.6403\n",
      "MAE:  0.3921\n",
      "MSE: 0.4100\n",
      "Precision: 0.09\n",
      "Recall: 0.08\n",
      "the acc is 67.82\n"
     ]
    }
   ],
   "source": [
    "dataset = 'upsampled_df_smote_auto'\n",
    "data = pd.read_csv(f'/home/bbruno/all_here/python course/vinnie/data/cleaned_data/{dataset}.csv')\n",
    "\n",
    "#svd\n",
    "algo = {'algorithm_class': SVD}\n",
    "svd, predictions = DynamicAlgo.process_algorithm(algo= algo, data = data)"
   ]
  },
  {
   "cell_type": "code",
   "execution_count": 41,
   "metadata": {},
   "outputs": [
    {
     "name": "stdout",
     "output_type": "stream",
     "text": [
      "Top items for the user '7f6dede6-b8b5-4bb6-a1ca-ae58c79c0ea7' are:\n",
      "1. Item ID: Portillo Malbec\n",
      "2. Item ID: Mendoza Chardonnay\n",
      "3. Item ID: Clos la Laterne\n",
      "4. Item ID: Meursault 'Les Grands Charrons'\n",
      "5. Item ID: Beyerskloof Western Cape\n",
      "6. Item ID: Beyerskloof Western Cape\n",
      "7. Item ID: Cirus Madiran\n",
      "8. Item ID: Cirus Madiran\n",
      "9. Item ID: Cirus Madiran\n",
      "10. Item ID: Cirus Madiran\n"
     ]
    }
   ],
   "source": [
    "#inspect predictions\n",
    "user_id = '7f6dede6-b8b5-4bb6-a1ca-ae58c79c0ea7'\n",
    "top_n = svd.get_top_n_for_user(predictions, user_id)\n",
    "print(f\"Top items for the user '{user_id}' are:\")\n",
    "for i, (iid, _) in enumerate(top_n, 1):\n",
    "    print(f\"{i}. Item ID: {iid}\")\n"
   ]
  },
  {
   "cell_type": "code",
   "execution_count": 42,
   "metadata": {},
   "outputs": [
    {
     "name": "stdout",
     "output_type": "stream",
     "text": [
      "Top users for the item 'Chardonnay' are:\n",
      "1. User ID: 36fec3ea-e183-491d-b65a-6c7ac90fafa5\n"
     ]
    }
   ],
   "source": [
    "\n",
    "item_id = 'Chardonnay'\n",
    "top_n = svd.get_top_n_users_for_item(predictions, item_id)\n",
    "print(f\"Top users for the item '{item_id}' are:\")\n",
    "for i, (uid, _) in enumerate(top_n, 1):\n",
    "    print(f\"{i}. User ID: {uid}\")\n"
   ]
  },
  {
   "cell_type": "code",
   "execution_count": 43,
   "metadata": {},
   "outputs": [
    {
     "ename": "NotImplementedError",
     "evalue": "get_neighbors is not implemented for this algorithm",
     "output_type": "error",
     "traceback": [
      "\u001b[0;31m---------------------------------------------------------------------------\u001b[0m",
      "\u001b[0;31mNotImplementedError\u001b[0m                       Traceback (most recent call last)",
      "Cell \u001b[0;32mIn[43], line 2\u001b[0m\n\u001b[1;32m      1\u001b[0m \u001b[38;5;66;03m#get the KNN for a user from the model\u001b[39;00m\n\u001b[0;32m----> 2\u001b[0m \u001b[43msvd\u001b[49m\u001b[38;5;241;43m.\u001b[39;49m\u001b[43mget_neighbors_uid\u001b[49m\u001b[43m(\u001b[49m\u001b[43muser_id\u001b[49m\u001b[38;5;241;43m=\u001b[39;49m\u001b[38;5;241;43m5\u001b[39;49m\u001b[43m)\u001b[49m\n\u001b[1;32m      4\u001b[0m \u001b[38;5;66;03m#get the KNN for an item from the model\u001b[39;00m\n\u001b[1;32m      5\u001b[0m svd\u001b[38;5;241m.\u001b[39mget_neighbors_iid(item_id\u001b[38;5;241m=\u001b[39m\u001b[38;5;241m20\u001b[39m)\n",
      "File \u001b[0;32m~/all_here/python course/vinnie/src/algorithms.py:131\u001b[0m, in \u001b[0;36mDynamicAlgo.get_neighbors_uid\u001b[0;34m(self, user_id, k)\u001b[0m\n\u001b[1;32m    129\u001b[0m     \u001b[38;5;28;01mreturn\u001b[39;00m neighbor_names\n\u001b[1;32m    130\u001b[0m \u001b[38;5;28;01melse\u001b[39;00m:\n\u001b[0;32m--> 131\u001b[0m     \u001b[38;5;28;01mraise\u001b[39;00m \u001b[38;5;167;01mNotImplementedError\u001b[39;00m(\u001b[38;5;124m\"\u001b[39m\u001b[38;5;124mget_neighbors is not implemented for this algorithm\u001b[39m\u001b[38;5;124m\"\u001b[39m)\n",
      "\u001b[0;31mNotImplementedError\u001b[0m: get_neighbors is not implemented for this algorithm"
     ]
    }
   ],
   "source": [
    "#get the KNN for a user from the model\n",
    "svd.get_neighbors_uid(user_id=5)\n",
    "\n",
    "#get the KNN for an item from the model\n",
    "svd.get_neighbors_iid(item_id=20)\n"
   ]
  },
  {
   "cell_type": "code",
   "execution_count": 44,
   "metadata": {},
   "outputs": [
    {
     "name": "stdout",
     "output_type": "stream",
     "text": [
      "The 5 nearest neighbors of user 13 are:\n",
      "user 16 with sim 0.000000000000000\n",
      "And the baseline estimate is: 4.273471786951764\n"
     ]
    }
   ],
   "source": [
    "svd.estimated(13,20)"
   ]
  },
  {
   "cell_type": "code",
   "execution_count": 45,
   "metadata": {},
   "outputs": [
    {
     "name": "stdout",
     "output_type": "stream",
     "text": [
      "uid means the user id and iid means the wine id\n",
      "\n",
      "rui means the actual rating and est means the estimated rating\n",
      "\n",
      "err means the error between the actual and the estimated rating\n",
      "\n",
      "Iu means the number of items rated by given user\n",
      "\n",
      "Ui means the number of users that have rated given item\n",
      "\n"
     ]
    },
    {
     "data": {
      "text/html": [
       "<div>\n",
       "<style scoped>\n",
       "    .dataframe tbody tr th:only-of-type {\n",
       "        vertical-align: middle;\n",
       "    }\n",
       "\n",
       "    .dataframe tbody tr th {\n",
       "        vertical-align: top;\n",
       "    }\n",
       "\n",
       "    .dataframe thead th {\n",
       "        text-align: right;\n",
       "    }\n",
       "</style>\n",
       "<table border=\"1\" class=\"dataframe\">\n",
       "  <thead>\n",
       "    <tr style=\"text-align: right;\">\n",
       "      <th></th>\n",
       "      <th>uid</th>\n",
       "      <th>iid</th>\n",
       "      <th>rui</th>\n",
       "      <th>est</th>\n",
       "      <th>details</th>\n",
       "      <th>Iu</th>\n",
       "      <th>Ui</th>\n",
       "      <th>err</th>\n",
       "    </tr>\n",
       "  </thead>\n",
       "  <tbody>\n",
       "    <tr>\n",
       "      <th>0</th>\n",
       "      <td>7f6dede6-b8b5-4bb6-a1ca-ae58c79c0ea7</td>\n",
       "      <td>Cirus Madiran</td>\n",
       "      <td>2.0</td>\n",
       "      <td>2.049388</td>\n",
       "      <td>{'was_impossible': False}</td>\n",
       "      <td>39</td>\n",
       "      <td>14</td>\n",
       "      <td>0.049388</td>\n",
       "    </tr>\n",
       "    <tr>\n",
       "      <th>1</th>\n",
       "      <td>f8c400a6-ded1-40b8-95d2-a263d05c30ce</td>\n",
       "      <td>Prosecco Elysian</td>\n",
       "      <td>3.0</td>\n",
       "      <td>3.283564</td>\n",
       "      <td>{'was_impossible': False}</td>\n",
       "      <td>105</td>\n",
       "      <td>0</td>\n",
       "      <td>0.283564</td>\n",
       "    </tr>\n",
       "    <tr>\n",
       "      <th>2</th>\n",
       "      <td>7c790e8b-b289-4190-a624-83db79de07af</td>\n",
       "      <td>Cabernet Sauvignon</td>\n",
       "      <td>5.0</td>\n",
       "      <td>3.431090</td>\n",
       "      <td>{'was_impossible': False}</td>\n",
       "      <td>0</td>\n",
       "      <td>5</td>\n",
       "      <td>1.568910</td>\n",
       "    </tr>\n",
       "    <tr>\n",
       "      <th>3</th>\n",
       "      <td>7f6dede6-b8b5-4bb6-a1ca-ae58c79c0ea7</td>\n",
       "      <td>Cirus Madiran</td>\n",
       "      <td>2.0</td>\n",
       "      <td>2.049388</td>\n",
       "      <td>{'was_impossible': False}</td>\n",
       "      <td>39</td>\n",
       "      <td>14</td>\n",
       "      <td>0.049388</td>\n",
       "    </tr>\n",
       "    <tr>\n",
       "      <th>4</th>\n",
       "      <td>dcd16582-14d2-4e00-a024-9b5886d29b29</td>\n",
       "      <td>Finca La sofia</td>\n",
       "      <td>3.0</td>\n",
       "      <td>3.208895</td>\n",
       "      <td>{'was_impossible': False}</td>\n",
       "      <td>4</td>\n",
       "      <td>0</td>\n",
       "      <td>0.208895</td>\n",
       "    </tr>\n",
       "    <tr>\n",
       "      <th>5</th>\n",
       "      <td>5ccd8030-047b-432c-a630-d784ab415756</td>\n",
       "      <td>Acinaia</td>\n",
       "      <td>2.0</td>\n",
       "      <td>2.023676</td>\n",
       "      <td>{'was_impossible': False}</td>\n",
       "      <td>68</td>\n",
       "      <td>19</td>\n",
       "      <td>0.023676</td>\n",
       "    </tr>\n",
       "    <tr>\n",
       "      <th>6</th>\n",
       "      <td>20e0b694-84a5-4f11-9191-598f924c2947</td>\n",
       "      <td>2/5 大亂鬥 2</td>\n",
       "      <td>1.0</td>\n",
       "      <td>1.000000</td>\n",
       "      <td>{'was_impossible': False}</td>\n",
       "      <td>12</td>\n",
       "      <td>117</td>\n",
       "      <td>0.000000</td>\n",
       "    </tr>\n",
       "    <tr>\n",
       "      <th>7</th>\n",
       "      <td>36fec3ea-e183-491d-b65a-6c7ac90fafa5</td>\n",
       "      <td>Istrice</td>\n",
       "      <td>4.0</td>\n",
       "      <td>3.925894</td>\n",
       "      <td>{'was_impossible': False}</td>\n",
       "      <td>50</td>\n",
       "      <td>0</td>\n",
       "      <td>0.074106</td>\n",
       "    </tr>\n",
       "    <tr>\n",
       "      <th>8</th>\n",
       "      <td>36fec3ea-e183-491d-b65a-6c7ac90fafa5</td>\n",
       "      <td>Franciacorta Brut</td>\n",
       "      <td>4.0</td>\n",
       "      <td>3.925894</td>\n",
       "      <td>{'was_impossible': False}</td>\n",
       "      <td>50</td>\n",
       "      <td>0</td>\n",
       "      <td>0.074106</td>\n",
       "    </tr>\n",
       "    <tr>\n",
       "      <th>9</th>\n",
       "      <td>5ccd8030-047b-432c-a630-d784ab415756</td>\n",
       "      <td>Acinaia</td>\n",
       "      <td>2.0</td>\n",
       "      <td>2.023676</td>\n",
       "      <td>{'was_impossible': False}</td>\n",
       "      <td>68</td>\n",
       "      <td>19</td>\n",
       "      <td>0.023676</td>\n",
       "    </tr>\n",
       "  </tbody>\n",
       "</table>\n",
       "</div>"
      ],
      "text/plain": [
       "                                    uid                 iid  rui       est  \\\n",
       "0  7f6dede6-b8b5-4bb6-a1ca-ae58c79c0ea7       Cirus Madiran  2.0  2.049388   \n",
       "1  f8c400a6-ded1-40b8-95d2-a263d05c30ce    Prosecco Elysian  3.0  3.283564   \n",
       "2  7c790e8b-b289-4190-a624-83db79de07af  Cabernet Sauvignon  5.0  3.431090   \n",
       "3  7f6dede6-b8b5-4bb6-a1ca-ae58c79c0ea7       Cirus Madiran  2.0  2.049388   \n",
       "4  dcd16582-14d2-4e00-a024-9b5886d29b29      Finca La sofia  3.0  3.208895   \n",
       "5  5ccd8030-047b-432c-a630-d784ab415756             Acinaia  2.0  2.023676   \n",
       "6  20e0b694-84a5-4f11-9191-598f924c2947           2/5 大亂鬥 2  1.0  1.000000   \n",
       "7  36fec3ea-e183-491d-b65a-6c7ac90fafa5             Istrice  4.0  3.925894   \n",
       "8  36fec3ea-e183-491d-b65a-6c7ac90fafa5   Franciacorta Brut  4.0  3.925894   \n",
       "9  5ccd8030-047b-432c-a630-d784ab415756             Acinaia  2.0  2.023676   \n",
       "\n",
       "                     details   Iu   Ui       err  \n",
       "0  {'was_impossible': False}   39   14  0.049388  \n",
       "1  {'was_impossible': False}  105    0  0.283564  \n",
       "2  {'was_impossible': False}    0    5  1.568910  \n",
       "3  {'was_impossible': False}   39   14  0.049388  \n",
       "4  {'was_impossible': False}    4    0  0.208895  \n",
       "5  {'was_impossible': False}   68   19  0.023676  \n",
       "6  {'was_impossible': False}   12  117  0.000000  \n",
       "7  {'was_impossible': False}   50    0  0.074106  \n",
       "8  {'was_impossible': False}   50    0  0.074106  \n",
       "9  {'was_impossible': False}   68   19  0.023676  "
      ]
     },
     "execution_count": 45,
     "metadata": {},
     "output_type": "execute_result"
    }
   ],
   "source": [
    "df_pred = svd.inspect_predictions(predictions)\n",
    "best_pred = df_pred.sort_values(by='err')[:10]\n",
    "worst_pred = df_pred.sort_values(by='err')[-10:]\n",
    "df_pred.head(10)"
   ]
  },
  {
   "cell_type": "markdown",
   "metadata": {},
   "source": [
    "* NMF"
   ]
  },
  {
   "cell_type": "code",
   "execution_count": 46,
   "metadata": {},
   "outputs": [
    {
     "name": "stdout",
     "output_type": "stream",
     "text": [
      "algorithm: <class 'surprise.prediction_algorithms.matrix_factorization.NMF'>\n",
      "RMSE: 0.1685\n",
      "RMSE: 0.8179\n",
      "RMSE: 0.1860\n",
      "RMSE: 0.7926\n",
      "RMSE: 0.1493\n",
      "RMSE: 0.8454\n",
      "RMSE: 0.1889\n",
      "RMSE: 0.7324\n",
      "RMSE: 0.1741\n",
      "RMSE: 0.8978\n",
      "###############################################\n",
      "The Results are: \n",
      "\n",
      "Average RMSE on Training Set: 0.1733644848615778\n",
      "Average RMSE on Test Set: 0.8172068285542062\n",
      "RMSE: 0.6993\n",
      "RMSE on Test Set on UNSEEN DATA is RMSE, : 0.6993180768003417\n",
      "RMSE: 0.6993\n",
      "MAE:  0.3921\n",
      "MSE: 0.4890\n",
      "Precision: 0.17\n",
      "Recall: 0.15\n",
      "the acc is 70.88\n"
     ]
    }
   ],
   "source": [
    "dataset = 'upsampled_df_smote_auto'\n",
    "data = pd.read_csv(f'/home/bbruno/all_here/python course/vinnie/data/cleaned_data/{dataset}.csv')\n",
    "\n",
    "#nmf\n",
    "algo = {'algorithm_class': NMF}\n",
    "nmf, predictions = DynamicAlgo.process_algorithm(algo= algo, data = data)"
   ]
  },
  {
   "cell_type": "code",
   "execution_count": 47,
   "metadata": {},
   "outputs": [
    {
     "name": "stdout",
     "output_type": "stream",
     "text": [
      "Top items for the user '7f6dede6-b8b5-4bb6-a1ca-ae58c79c0ea7' are:\n",
      "1. Item ID: Anjou Blanc\n",
      "2. Item ID: Mendoza Chardonnay\n",
      "3. Item ID: Petit Chablis\n",
      "4. Item ID: Macon-Charnay Clos de Tournons\n",
      "5. Item ID: Pinot gris\n",
      "6. Item ID: Quintessence Montagny 1er Cru\n",
      "7. Item ID: Ammonite\n",
      "8. Item ID: Cirus Madiran\n",
      "9. Item ID: Cirus Madiran\n",
      "10. Item ID: Cirus Madiran\n"
     ]
    }
   ],
   "source": [
    "# inspect predictions\n",
    "user_id = '7f6dede6-b8b5-4bb6-a1ca-ae58c79c0ea7'\n",
    "top_n = nmf.get_top_n_for_user(predictions, user_id)\n",
    "print(f\"Top items for the user '{user_id}' are:\")\n",
    "for i, (iid, _) in enumerate(top_n, 1):\n",
    "    print(f\"{i}. Item ID: {iid}\")"
   ]
  },
  {
   "cell_type": "code",
   "execution_count": 48,
   "metadata": {},
   "outputs": [
    {
     "name": "stdout",
     "output_type": "stream",
     "text": [
      "Top users for the item 'Chardonnay' are:\n",
      "1. User ID: 9a3cc655-c88e-4c1b-95e2-add7579ff4c2\n"
     ]
    }
   ],
   "source": [
    "#inspect predictions\n",
    "item_id = 'Chardonnay'\n",
    "top_n = nmf.get_top_n_users_for_item(predictions, item_id)\n",
    "print(f\"Top users for the item '{item_id}' are:\")\n",
    "for i, (uid, _) in enumerate(top_n, 1):\n",
    "    print(f\"{i}. User ID: {uid}\")"
   ]
  },
  {
   "cell_type": "code",
   "execution_count": 49,
   "metadata": {},
   "outputs": [
    {
     "name": "stdout",
     "output_type": "stream",
     "text": [
      "The 5 nearest neighbors of user 13 are:\n",
      "user 13 with sim 1.000000000000000\n",
      "user 13 with sim 1.000000000000000\n",
      "user 24 with sim 0.857142857142857\n",
      "user 11 with sim 0.500000000000000\n",
      "user 11 with sim 0.500000000000000\n",
      "And the baseline estimate is: 2.9952153110047846\n"
     ]
    }
   ],
   "source": [
    "# estimate the rating for a user and an item\n",
    "nmf.estimated(13,20)"
   ]
  },
  {
   "cell_type": "code",
   "execution_count": 50,
   "metadata": {},
   "outputs": [
    {
     "name": "stdout",
     "output_type": "stream",
     "text": [
      "uid means the user id and iid means the wine id\n",
      "\n",
      "rui means the actual rating and est means the estimated rating\n",
      "\n",
      "err means the error between the actual and the estimated rating\n",
      "\n",
      "Iu means the number of items rated by given user\n",
      "\n",
      "Ui means the number of users that have rated given item\n",
      "\n"
     ]
    },
    {
     "data": {
      "text/html": [
       "<div>\n",
       "<style scoped>\n",
       "    .dataframe tbody tr th:only-of-type {\n",
       "        vertical-align: middle;\n",
       "    }\n",
       "\n",
       "    .dataframe tbody tr th {\n",
       "        vertical-align: top;\n",
       "    }\n",
       "\n",
       "    .dataframe thead th {\n",
       "        text-align: right;\n",
       "    }\n",
       "</style>\n",
       "<table border=\"1\" class=\"dataframe\">\n",
       "  <thead>\n",
       "    <tr style=\"text-align: right;\">\n",
       "      <th></th>\n",
       "      <th>uid</th>\n",
       "      <th>iid</th>\n",
       "      <th>rui</th>\n",
       "      <th>est</th>\n",
       "      <th>details</th>\n",
       "      <th>Iu</th>\n",
       "      <th>Ui</th>\n",
       "      <th>err</th>\n",
       "    </tr>\n",
       "  </thead>\n",
       "  <tbody>\n",
       "    <tr>\n",
       "      <th>0</th>\n",
       "      <td>3d88fe74-6881-42bd-bb97-d67f2db649d7</td>\n",
       "      <td>Dark Horse Shiraz</td>\n",
       "      <td>2.0</td>\n",
       "      <td>2.995215</td>\n",
       "      <td>{'was_impossible': True, 'reason': 'User and i...</td>\n",
       "      <td>0</td>\n",
       "      <td>13</td>\n",
       "      <td>0.995215</td>\n",
       "    </tr>\n",
       "    <tr>\n",
       "      <th>1</th>\n",
       "      <td>2a62eecd-b0cd-4395-9f8c-7c912a208be2</td>\n",
       "      <td>Aspromonte</td>\n",
       "      <td>5.0</td>\n",
       "      <td>3.301816</td>\n",
       "      <td>{'was_impossible': False}</td>\n",
       "      <td>42</td>\n",
       "      <td>1</td>\n",
       "      <td>1.698184</td>\n",
       "    </tr>\n",
       "    <tr>\n",
       "      <th>2</th>\n",
       "      <td>a0ef6b50-093e-4ae1-8e3c-58a2a17d2bb8</td>\n",
       "      <td>Grand Rouge</td>\n",
       "      <td>4.0</td>\n",
       "      <td>2.995215</td>\n",
       "      <td>{'was_impossible': True, 'reason': 'User and i...</td>\n",
       "      <td>8</td>\n",
       "      <td>0</td>\n",
       "      <td>1.004785</td>\n",
       "    </tr>\n",
       "    <tr>\n",
       "      <th>3</th>\n",
       "      <td>bc79b0e3-064d-4240-86de-e86499f577e8</td>\n",
       "      <td>Willm Riesling</td>\n",
       "      <td>3.0</td>\n",
       "      <td>2.995215</td>\n",
       "      <td>{'was_impossible': True, 'reason': 'User and i...</td>\n",
       "      <td>32</td>\n",
       "      <td>0</td>\n",
       "      <td>0.004785</td>\n",
       "    </tr>\n",
       "    <tr>\n",
       "      <th>4</th>\n",
       "      <td>f8c400a6-ded1-40b8-95d2-a263d05c30ce</td>\n",
       "      <td>Vitovska</td>\n",
       "      <td>3.0</td>\n",
       "      <td>3.006986</td>\n",
       "      <td>{'was_impossible': False}</td>\n",
       "      <td>109</td>\n",
       "      <td>2</td>\n",
       "      <td>0.006986</td>\n",
       "    </tr>\n",
       "    <tr>\n",
       "      <th>5</th>\n",
       "      <td>990f0572-c5e7-47ec-ba20-141ab6058369</td>\n",
       "      <td>Rosso Carso Črnina</td>\n",
       "      <td>3.0</td>\n",
       "      <td>2.286025</td>\n",
       "      <td>{'was_impossible': False}</td>\n",
       "      <td>2</td>\n",
       "      <td>1</td>\n",
       "      <td>0.713975</td>\n",
       "    </tr>\n",
       "    <tr>\n",
       "      <th>6</th>\n",
       "      <td>91cf68cc-9436-43e1-871d-33beef4d2337</td>\n",
       "      <td>Bardolino</td>\n",
       "      <td>2.0</td>\n",
       "      <td>2.025125</td>\n",
       "      <td>{'was_impossible': False}</td>\n",
       "      <td>33</td>\n",
       "      <td>7</td>\n",
       "      <td>0.025125</td>\n",
       "    </tr>\n",
       "    <tr>\n",
       "      <th>7</th>\n",
       "      <td>ecc462e1-5041-43ca-94c3-c2bfc9b3215e</td>\n",
       "      <td>2/5 大亂鬥 2</td>\n",
       "      <td>1.0</td>\n",
       "      <td>1.000000</td>\n",
       "      <td>{'was_impossible': False}</td>\n",
       "      <td>133</td>\n",
       "      <td>123</td>\n",
       "      <td>0.000000</td>\n",
       "    </tr>\n",
       "    <tr>\n",
       "      <th>8</th>\n",
       "      <td>9a3cc655-c88e-4c1b-95e2-add7579ff4c2</td>\n",
       "      <td>Chardonnay</td>\n",
       "      <td>3.0</td>\n",
       "      <td>3.583052</td>\n",
       "      <td>{'was_impossible': False}</td>\n",
       "      <td>4</td>\n",
       "      <td>4</td>\n",
       "      <td>0.583052</td>\n",
       "    </tr>\n",
       "    <tr>\n",
       "      <th>9</th>\n",
       "      <td>ecc462e1-5041-43ca-94c3-c2bfc9b3215e</td>\n",
       "      <td>2/5 大亂鬥 2</td>\n",
       "      <td>1.0</td>\n",
       "      <td>1.000000</td>\n",
       "      <td>{'was_impossible': False}</td>\n",
       "      <td>133</td>\n",
       "      <td>123</td>\n",
       "      <td>0.000000</td>\n",
       "    </tr>\n",
       "  </tbody>\n",
       "</table>\n",
       "</div>"
      ],
      "text/plain": [
       "                                    uid                 iid  rui       est  \\\n",
       "0  3d88fe74-6881-42bd-bb97-d67f2db649d7   Dark Horse Shiraz  2.0  2.995215   \n",
       "1  2a62eecd-b0cd-4395-9f8c-7c912a208be2          Aspromonte  5.0  3.301816   \n",
       "2  a0ef6b50-093e-4ae1-8e3c-58a2a17d2bb8         Grand Rouge  4.0  2.995215   \n",
       "3  bc79b0e3-064d-4240-86de-e86499f577e8      Willm Riesling  3.0  2.995215   \n",
       "4  f8c400a6-ded1-40b8-95d2-a263d05c30ce            Vitovska  3.0  3.006986   \n",
       "5  990f0572-c5e7-47ec-ba20-141ab6058369  Rosso Carso Črnina  3.0  2.286025   \n",
       "6  91cf68cc-9436-43e1-871d-33beef4d2337           Bardolino  2.0  2.025125   \n",
       "7  ecc462e1-5041-43ca-94c3-c2bfc9b3215e           2/5 大亂鬥 2  1.0  1.000000   \n",
       "8  9a3cc655-c88e-4c1b-95e2-add7579ff4c2          Chardonnay  3.0  3.583052   \n",
       "9  ecc462e1-5041-43ca-94c3-c2bfc9b3215e           2/5 大亂鬥 2  1.0  1.000000   \n",
       "\n",
       "                                             details   Iu   Ui       err  \n",
       "0  {'was_impossible': True, 'reason': 'User and i...    0   13  0.995215  \n",
       "1                          {'was_impossible': False}   42    1  1.698184  \n",
       "2  {'was_impossible': True, 'reason': 'User and i...    8    0  1.004785  \n",
       "3  {'was_impossible': True, 'reason': 'User and i...   32    0  0.004785  \n",
       "4                          {'was_impossible': False}  109    2  0.006986  \n",
       "5                          {'was_impossible': False}    2    1  0.713975  \n",
       "6                          {'was_impossible': False}   33    7  0.025125  \n",
       "7                          {'was_impossible': False}  133  123  0.000000  \n",
       "8                          {'was_impossible': False}    4    4  0.583052  \n",
       "9                          {'was_impossible': False}  133  123  0.000000  "
      ]
     },
     "execution_count": 50,
     "metadata": {},
     "output_type": "execute_result"
    }
   ],
   "source": [
    "#inspect predictions\n",
    "df_pred = nmf.inspect_predictions(predictions)\n",
    "best_pred = df_pred.sort_values(by='err')[:10]\n",
    "worst_pred = df_pred.sort_values(by='err')[-10:]\n",
    "df_pred.head(10)\n"
   ]
  }
 ],
 "metadata": {
  "kernelspec": {
   "display_name": "DL",
   "language": "python",
   "name": "python3"
  },
  "language_info": {
   "codemirror_mode": {
    "name": "ipython",
    "version": 3
   },
   "file_extension": ".py",
   "mimetype": "text/x-python",
   "name": "python",
   "nbconvert_exporter": "python",
   "pygments_lexer": "ipython3",
   "version": "3.10.9"
  }
 },
 "nbformat": 4,
 "nbformat_minor": 2
}
