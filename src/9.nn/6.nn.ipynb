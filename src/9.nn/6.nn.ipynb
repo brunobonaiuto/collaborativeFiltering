{
 "cells": [
  {
   "cell_type": "markdown",
   "metadata": {},
   "source": [
    "## Implementing the collaborative filtering using deep learning\n",
    "* Randomly Initialise Parameters — these will be the latent factors that help predict whether someone will like a movie.\n",
    "* Calculate Predictions — this is done by taking the matrix dot product of the movie and user matrices. An example would be if a user’s likening to international films is high, and a movie is foreign; the product of the two will be large and, that movie will rank higher for that user.\n",
    "* note: This approach could be used for prediction but is very inefficient as it requires a vector to be created and stored for each prediction."
   ]
  },
  {
   "cell_type": "code",
   "execution_count": 5,
   "metadata": {},
   "outputs": [],
   "source": [
    "#libreries\n",
    "from fastai.collab import *\n",
    "from fastai.tabular.all import *\n",
    "from fastai import *\n",
    "from fastai.metrics import *\n",
    "from fastai.callback.tracker import *\n",
    "\n",
    "#import acc from fastai.metrics\n",
    "from fastai.metrics import accuracy, Precision, Recall\n",
    "#from fastbook import *\n",
    "import pandas as pd\n",
    "import numpy as np\n",
    "set_seed(42)"
   ]
  },
  {
   "cell_type": "code",
   "execution_count": 6,
   "metadata": {},
   "outputs": [
    {
     "name": "stdout",
     "output_type": "stream",
     "text": [
      "df_under is the oversample data frame\n",
      " 1    261\n",
      "2    261\n",
      "3    261\n",
      "4    261\n",
      "5    261\n",
      "Name: rate, dtype: int64\n"
     ]
    }
   ],
   "source": [
    "#Importing the data\n",
    "df = pd.read_csv('/home/bbruno/all_here/python course/vinnie/data/cleaned_data/upsampled_df_smote_auto.csv')\n",
    "print(\"df_under is the oversample data frame\\n\", df.rate.value_counts().sort_index())"
   ]
  },
  {
   "cell_type": "code",
   "execution_count": 7,
   "metadata": {},
   "outputs": [],
   "source": [
    "# # #importing directly the confusion matrix\n",
    "# # user_features_df = pd.read_csv('/home/bbruno/all_here/python course/thesis/knn/user_features_df.csv')\n",
    "# # user_features_df\n",
    "\n",
    "# #importing the user,movie,rating dataframe\n",
    "# #we drop a column that was added by mistake by the system\n",
    "# df = pd.read_csv('/home/bbruno/all_here/python course/vinnie/data/cleaned_data/upsampled_df_smote.csv')\n",
    "# df.head()\n",
    "# # df = pd.read_csv('/home/bbruno/all_here/python course/thesis/knn/df.csv').drop('Unnamed: 0', axis=1)\n",
    "# # df.tail()"
   ]
  },
  {
   "cell_type": "code",
   "execution_count": 8,
   "metadata": {},
   "outputs": [
    {
     "data": {
      "text/html": [
       "<table border=\"1\" class=\"dataframe\">\n",
       "  <thead>\n",
       "    <tr style=\"text-align: right;\">\n",
       "      <th></th>\n",
       "      <th>userId</th>\n",
       "      <th>wine</th>\n",
       "      <th>rate</th>\n",
       "    </tr>\n",
       "  </thead>\n",
       "  <tbody>\n",
       "    <tr>\n",
       "      <th>0</th>\n",
       "      <td>36fec3ea-e183-491d-b65a-6c7ac90fafa5</td>\n",
       "      <td>Chardonnay Cardellino</td>\n",
       "      <td>5</td>\n",
       "    </tr>\n",
       "    <tr>\n",
       "      <th>1</th>\n",
       "      <td>bc79b0e3-064d-4240-86de-e86499f577e8</td>\n",
       "      <td>Eric Louis Sancerre, Sauvignon Blanc</td>\n",
       "      <td>3</td>\n",
       "    </tr>\n",
       "    <tr>\n",
       "      <th>2</th>\n",
       "      <td>ecc462e1-5041-43ca-94c3-c2bfc9b3215e</td>\n",
       "      <td>2/5 大亂鬥 2</td>\n",
       "      <td>1</td>\n",
       "    </tr>\n",
       "    <tr>\n",
       "      <th>3</th>\n",
       "      <td>5ccd8030-047b-432c-a630-d784ab415756</td>\n",
       "      <td>Acinaia</td>\n",
       "      <td>2</td>\n",
       "    </tr>\n",
       "    <tr>\n",
       "      <th>4</th>\n",
       "      <td>014e4ed1-6f8b-4b25-917d-c167a2acca17</td>\n",
       "      <td>Bread &amp; Butter Pinor Noir 2020</td>\n",
       "      <td>1</td>\n",
       "    </tr>\n",
       "    <tr>\n",
       "      <th>5</th>\n",
       "      <td>ecc462e1-5041-43ca-94c3-c2bfc9b3215e</td>\n",
       "      <td>2/5 大亂鬥 2</td>\n",
       "      <td>1</td>\n",
       "    </tr>\n",
       "    <tr>\n",
       "      <th>6</th>\n",
       "      <td>91cf68cc-9436-43e1-871d-33beef4d2337</td>\n",
       "      <td>Riesling</td>\n",
       "      <td>3</td>\n",
       "    </tr>\n",
       "    <tr>\n",
       "      <th>7</th>\n",
       "      <td>3b1f7bc8-6a23-47e5-97df-043bd1b97f12</td>\n",
       "      <td>Dark Horse Shiraz</td>\n",
       "      <td>2</td>\n",
       "    </tr>\n",
       "    <tr>\n",
       "      <th>8</th>\n",
       "      <td>f8c400a6-ded1-40b8-95d2-a263d05c30ce</td>\n",
       "      <td>Bitornino</td>\n",
       "      <td>5</td>\n",
       "    </tr>\n",
       "    <tr>\n",
       "      <th>9</th>\n",
       "      <td>ecc462e1-5041-43ca-94c3-c2bfc9b3215e</td>\n",
       "      <td>2/5 大亂鬥 2</td>\n",
       "      <td>1</td>\n",
       "    </tr>\n",
       "  </tbody>\n",
       "</table>"
      ],
      "text/plain": [
       "<IPython.core.display.HTML object>"
      ]
     },
     "metadata": {},
     "output_type": "display_data"
    }
   ],
   "source": [
    "#we create a dataloader\n",
    "#we pass the title of the movie and not the movie id\n",
    "dls = CollabDataLoaders.from_df(df, user_name='userId',item_name='wine', bs=64)\n",
    "#we can see the batch\n",
    "dls.show_batch()"
   ]
  },
  {
   "cell_type": "code",
   "execution_count": 9,
   "metadata": {},
   "outputs": [],
   "source": [
    "#CALCULATE PREDICTIONS USING MATRIX MULTIPLICATION\n",
    "\n",
    "#we create a matrix with the user features\n",
    "n_users = len(dls.classes['userId']) #the number of user is the lenght of how many users\n",
    "#we create a matrix with the movie features\n",
    "n_movies = len(dls.classes['wine']) #the number of movies is the lenght of how many movies\n",
    "#we choose the number of factors\n",
    "n_factors = 5 \n",
    "\n",
    "#we create a random matrix with the user features(embeddings)\n",
    "#userFactors = (numberOfUsers x 5)\n",
    "user_factors = torch.randn(n_users, n_factors)\n",
    "#we create a random matrix with the movie features(embeddings)\n",
    "#movieFactors = (numberOfMovies x 5)\n",
    "movie_factors = torch.randn(n_movies, n_factors)\n",
    "\n",
    "##########################################\n",
    "#To calculate the result for a particular movie and user combination, \n",
    "#we have to look up the index of the movie in our movie latent factor matrix and\n",
    "#the index of the user in our user latent factor matrix; \n",
    "#then we can do our dot product between the two latent factor vectors\n",
    "\n",
    "# Create a function that takes the user id and the movie title to make a prediction\n",
    "def oneHotPredict(userId, title):\n",
    "    '''In the oneHotPredict function, \n",
    "    we use the indices of the user and movie in the embedding matrices\n",
    "    to look up the corresponding embeddings.\n",
    "    ----\n",
    "    We calculate the prediction by taking the dot product\n",
    "    (element-wise multiplication and then sum) of the user and wine embeddings.\n",
    "    '''\n",
    "    userIdx = dls.classes['userId'].o2i[userId]\n",
    "    movie_idx = dls.classes['wine'].o2i[title]\n",
    "    \n",
    "    user_embedding = user_factors[userIdx]\n",
    "    movie_embedding = movie_factors[movie_idx]\n",
    "    \n",
    "    prediction = (user_embedding * movie_embedding).sum()\n",
    "    return print(f\"Predicted rating for user '{userId}' and '{title}': {prediction:.2f}\")"
   ]
  },
  {
   "cell_type": "code",
   "execution_count": 10,
   "metadata": {},
   "outputs": [
    {
     "name": "stdout",
     "output_type": "stream",
     "text": [
      "Predicted rating for user '13016d41-00bd-411c-83f5-2b95691696b7' and 'Pinot Grigio': -0.47\n"
     ]
    }
   ],
   "source": [
    "# Prediction for user 9 and the movie 'Toy Story (1995)'\n",
    "prediction = oneHotPredict('13016d41-00bd-411c-83f5-2b95691696b7', 'Pinot Grigio')\n",
    "#print(f'Predicted rating for user 9 and Toy Story (1995): {prediction:.2f}')"
   ]
  },
  {
   "cell_type": "markdown",
   "metadata": {},
   "source": [
    "## Matrix factorization\n",
    "* A better approach"
   ]
  },
  {
   "cell_type": "code",
   "execution_count": 11,
   "metadata": {},
   "outputs": [],
   "source": [
    "def create_params(size):\n",
    "    \"\"\"\n",
    "      Pass tensor shape\n",
    "      Returns normalised model parameters\n",
    "    \"\"\"\n",
    "    return nn.Parameter(torch.zeros(*size).normal_(0, 0.01))\n",
    "\n",
    "class DotProductBias(Module):\n",
    "    \"\"\"\n",
    "    Model architecture for collaborative filtering\n",
    "    \"\"\"\n",
    "    def __init__(self, n_users, n_movies, n_factors, y_range=(0, 5.5)):\n",
    "        \"\"\"\n",
    "        Initialises model with parameters\n",
    "        :param n_users: number of users\n",
    "        :param n_movies: number of movies\n",
    "        :param n_factors: number of factors\n",
    "        :param y_range: sigmoid limit\n",
    "        \"\"\"\n",
    "        self.user_factors = create_params([n_users, n_factors])\n",
    "        self.user_bias = create_params([n_users])\n",
    "        self.movie_factors = create_params([n_movies, n_factors])\n",
    "        self.movie_bias = create_params([n_movies])\n",
    "        self.y_range = y_range\n",
    "\n",
    "    def forward(self, x):\n",
    "        \"\"\"\n",
    "        Applies a forward pass on the dataset passed\n",
    "        :param x: data as DataLoaders obj\n",
    "        :return: predictions in sigmoid range (tensor)\n",
    "        \"\"\"\n",
    "        users = self.user_factors[x[:, 0]]\n",
    "        movies = self.movie_factors[x[:, 1]]\n",
    "        res = (users*movies).sum(dim=1)\n",
    "        res += self.user_bias[x[:, 0]] + self.movie_bias[x[:, 1]]\n",
    "        return sigmoid_range(res, *self.y_range)"
   ]
  },
  {
   "cell_type": "code",
   "execution_count": 12,
   "metadata": {},
   "outputs": [
    {
     "data": {
      "text/html": [
       "<table border=\"1\" class=\"dataframe\">\n",
       "  <thead>\n",
       "    <tr style=\"text-align: left;\">\n",
       "      <th>epoch</th>\n",
       "      <th>train_loss</th>\n",
       "      <th>valid_loss</th>\n",
       "      <th>mse</th>\n",
       "      <th>_rmse</th>\n",
       "      <th>mae</th>\n",
       "      <th>time</th>\n",
       "    </tr>\n",
       "  </thead>\n",
       "  <tbody>\n",
       "    <tr>\n",
       "      <td>0</td>\n",
       "      <td>1.882815</td>\n",
       "      <td>1.251125</td>\n",
       "      <td>1.251125</td>\n",
       "      <td>1.118537</td>\n",
       "      <td>0.915612</td>\n",
       "      <td>00:00</td>\n",
       "    </tr>\n",
       "    <tr>\n",
       "      <td>1</td>\n",
       "      <td>1.176121</td>\n",
       "      <td>0.658944</td>\n",
       "      <td>0.658944</td>\n",
       "      <td>0.811754</td>\n",
       "      <td>0.592660</td>\n",
       "      <td>00:00</td>\n",
       "    </tr>\n",
       "    <tr>\n",
       "      <td>2</td>\n",
       "      <td>0.797450</td>\n",
       "      <td>0.587859</td>\n",
       "      <td>0.587859</td>\n",
       "      <td>0.766719</td>\n",
       "      <td>0.533789</td>\n",
       "      <td>00:00</td>\n",
       "    </tr>\n",
       "    <tr>\n",
       "      <td>3</td>\n",
       "      <td>0.680853</td>\n",
       "      <td>0.604506</td>\n",
       "      <td>0.604506</td>\n",
       "      <td>0.777500</td>\n",
       "      <td>0.517955</td>\n",
       "      <td>00:00</td>\n",
       "    </tr>\n",
       "    <tr>\n",
       "      <td>4</td>\n",
       "      <td>0.571686</td>\n",
       "      <td>0.579931</td>\n",
       "      <td>0.579931</td>\n",
       "      <td>0.761532</td>\n",
       "      <td>0.487950</td>\n",
       "      <td>00:00</td>\n",
       "    </tr>\n",
       "    <tr>\n",
       "      <td>5</td>\n",
       "      <td>0.493049</td>\n",
       "      <td>0.531852</td>\n",
       "      <td>0.531852</td>\n",
       "      <td>0.729282</td>\n",
       "      <td>0.442937</td>\n",
       "      <td>00:00</td>\n",
       "    </tr>\n",
       "    <tr>\n",
       "      <td>6</td>\n",
       "      <td>0.393144</td>\n",
       "      <td>0.588139</td>\n",
       "      <td>0.588139</td>\n",
       "      <td>0.766902</td>\n",
       "      <td>0.446281</td>\n",
       "      <td>00:00</td>\n",
       "    </tr>\n",
       "    <tr>\n",
       "      <td>7</td>\n",
       "      <td>0.305985</td>\n",
       "      <td>0.563850</td>\n",
       "      <td>0.563850</td>\n",
       "      <td>0.750900</td>\n",
       "      <td>0.436507</td>\n",
       "      <td>00:00</td>\n",
       "    </tr>\n",
       "    <tr>\n",
       "      <td>8</td>\n",
       "      <td>0.235068</td>\n",
       "      <td>0.555097</td>\n",
       "      <td>0.555097</td>\n",
       "      <td>0.745048</td>\n",
       "      <td>0.429796</td>\n",
       "      <td>00:00</td>\n",
       "    </tr>\n",
       "    <tr>\n",
       "      <td>9</td>\n",
       "      <td>0.181655</td>\n",
       "      <td>0.553774</td>\n",
       "      <td>0.553774</td>\n",
       "      <td>0.744160</td>\n",
       "      <td>0.429057</td>\n",
       "      <td>00:00</td>\n",
       "    </tr>\n",
       "  </tbody>\n",
       "</table>"
      ],
      "text/plain": [
       "<IPython.core.display.HTML object>"
      ]
     },
     "metadata": {},
     "output_type": "display_data"
    }
   ],
   "source": [
    "#good model\n",
    "#Working perfectly without cross validation\n",
    "model = DotProductBias(n_users, n_movies, 50)\n",
    "learn = Learner(dls, model, loss_func=MSELossFlat(),metrics=[mse, rmse, mae])\n",
    "#wd = weight decay (L2 regularization)\n",
    "learn.fit_one_cycle(10, 0.05, wd=0.1)\n",
    "# # acc = 31.93% , train_loss = 0.354673, valid_loss = 1.377170, mse = 1.377170, rmse = 1.173529, mae = 0.941417\n",
    "\n",
    "\n",
    "# #This model generalize good\n",
    "# model = DotProductBias(n_users, n_movies, 50)\n",
    "# learn = Learner(dls, model, loss_func=MSELossFlat(),metrics=[mse, rmse, mae])\n",
    "# #wd = weight decay (L2 regularization)\n",
    "# learn.fit_one_cycle(10, 0.003, wd=0.1)\n",
    "# # acc = 31.09% , train_loss = 1.408604, valid_loss = 1.677418, mse = 1.677418, rmse = 1.295152, mae = 1.066595\n"
   ]
  },
  {
   "cell_type": "code",
   "execution_count": 13,
   "metadata": {},
   "outputs": [
    {
     "data": {
      "text/html": [],
      "text/plain": [
       "<IPython.core.display.HTML object>"
      ]
     },
     "metadata": {},
     "output_type": "display_data"
    },
    {
     "data": {
      "text/plain": [
       "SuggestedLRs(valley=0.02290867641568184)"
      ]
     },
     "execution_count": 13,
     "metadata": {},
     "output_type": "execute_result"
    },
    {
     "data": {
      "image/png": "[encoded data removed]",
      "text/plain": [
       "<Figure size 640x480 with 1 Axes>"
      ]
     },
     "metadata": {},
     "output_type": "display_data"
    }
   ],
   "source": [
    "learn.lr_find()"
   ]
  },
  {
   "cell_type": "code",
   "execution_count": 14,
   "metadata": {},
   "outputs": [
    {
     "name": "stdout",
     "output_type": "stream",
     "text": [
      "Recommended movies:\n",
      "Pinot Nero\n",
      "Chateau coufran\n",
      "Brachetto Piemonte\n",
      "Daphne\n",
      "nebbiolo\n"
     ]
    }
   ],
   "source": [
    "#import torch.nn as nn\n",
    "#Recommendations\n",
    "def recommends(fav_movie, top_n=5):\n",
    "    movie_factors = learn.model.movie_factors\n",
    "    #we look up the movie in the movie factors\n",
    "    idx = dls.classes['wine'].o2i[fav_movie]\n",
    "    #find the movie with minimum distance\n",
    "    distances = nn.CosineSimilarity(dim=1)(movie_factors, movie_factors[idx][None])\n",
    "    #we sort the movies by distance\n",
    "    idx = distances.argsort(descending=True)[1:top_n+1]\n",
    "    #we return the movies\n",
    "    recommended_movies = [dls.classes['wine'][i] for i in idx]\n",
    "    return recommended_movies\n",
    "\n",
    "recommended_movies = recommends('Pinot Grigio')\n",
    "print(\"Recommended movies:\")\n",
    "for movie in recommended_movies:\n",
    "    print(movie)"
   ]
  },
  {
   "cell_type": "code",
   "execution_count": 15,
   "metadata": {},
   "outputs": [
    {
     "name": "stdout",
     "output_type": "stream",
     "text": [
      "Predicted rating for user '13016d41-00bd-411c-83f5-2b95691696b7' and 'chardonnay': 2.66\n",
      "Predicted rating for user '50' and 'cabernet sauvignon': 2.74\n"
     ]
    }
   ],
   "source": [
    "#def prediction for a user\n",
    "def prediction_user_like(userId, title):\n",
    "    userIdx = dls.classes['userId'].o2i[userId]\n",
    "    movie_idx = dls.classes['wine'].o2i[title]\n",
    "\n",
    "    # Make a prediction using the model's forward method\n",
    "    prediction = learn.model.forward(tensor([[userIdx, movie_idx]])).item()\n",
    "\n",
    "    return print(f\"Predicted rating for user '{userId}' and '{title}': {prediction:.2f}\")\n",
    "\n",
    "prediction = prediction_user_like('13016d41-00bd-411c-83f5-2b95691696b7', 'chardonnay')\n",
    "prediction = prediction_user_like(50, 'cabernet sauvignon')"
   ]
  },
  {
   "cell_type": "code",
   "execution_count": 16,
   "metadata": {},
   "outputs": [
    {
     "data": {
      "text/html": [],
      "text/plain": [
       "<IPython.core.display.HTML object>"
      ]
     },
     "metadata": {},
     "output_type": "display_data"
    },
    {
     "data": {
      "text/html": [
       "<table border=\"1\" class=\"dataframe\">\n",
       "  <thead>\n",
       "    <tr style=\"text-align: right;\">\n",
       "      <th></th>\n",
       "      <th>userId</th>\n",
       "      <th>wine</th>\n",
       "      <th>rate</th>\n",
       "      <th>rate_pred</th>\n",
       "    </tr>\n",
       "  </thead>\n",
       "  <tbody>\n",
       "    <tr>\n",
       "      <th>0</th>\n",
       "      <td>53</td>\n",
       "      <td>537</td>\n",
       "      <td>4</td>\n",
       "      <td>3.041690</td>\n",
       "    </tr>\n",
       "    <tr>\n",
       "      <th>1</th>\n",
       "      <td>148</td>\n",
       "      <td>172</td>\n",
       "      <td>2</td>\n",
       "      <td>2.003039</td>\n",
       "    </tr>\n",
       "    <tr>\n",
       "      <th>2</th>\n",
       "      <td>108</td>\n",
       "      <td>6</td>\n",
       "      <td>3</td>\n",
       "      <td>3.229543</td>\n",
       "    </tr>\n",
       "    <tr>\n",
       "      <th>3</th>\n",
       "      <td>74</td>\n",
       "      <td>541</td>\n",
       "      <td>4</td>\n",
       "      <td>3.393615</td>\n",
       "    </tr>\n",
       "    <tr>\n",
       "      <th>4</th>\n",
       "      <td>39</td>\n",
       "      <td>562</td>\n",
       "      <td>4</td>\n",
       "      <td>2.823670</td>\n",
       "    </tr>\n",
       "    <tr>\n",
       "      <th>5</th>\n",
       "      <td>143</td>\n",
       "      <td>379</td>\n",
       "      <td>2</td>\n",
       "      <td>2.424878</td>\n",
       "    </tr>\n",
       "    <tr>\n",
       "      <th>6</th>\n",
       "      <td>108</td>\n",
       "      <td>296</td>\n",
       "      <td>2</td>\n",
       "      <td>3.227713</td>\n",
       "    </tr>\n",
       "    <tr>\n",
       "      <th>7</th>\n",
       "      <td>143</td>\n",
       "      <td>7</td>\n",
       "      <td>1</td>\n",
       "      <td>1.002802</td>\n",
       "    </tr>\n",
       "    <tr>\n",
       "      <th>8</th>\n",
       "      <td>148</td>\n",
       "      <td>174</td>\n",
       "      <td>3</td>\n",
       "      <td>3.179161</td>\n",
       "    </tr>\n",
       "  </tbody>\n",
       "</table>"
      ],
      "text/plain": [
       "<IPython.core.display.HTML object>"
      ]
     },
     "metadata": {},
     "output_type": "display_data"
    }
   ],
   "source": [
    "# Show 20 rows of results\n",
    "learn.show_results(n=20)"
   ]
  },
  {
   "cell_type": "code",
   "execution_count": 17,
   "metadata": {},
   "outputs": [
    {
     "data": {
      "text/plain": [
       "array(['2/5 大亂鬥 2', 'Bread & Butter Pinor Noir 2020', 'Acinaia',\n",
       "       'Cavalcaonte Barbera Forlí', 'Bella Cabernet Sauvignon',\n",
       "       '19 crimes dark red', 'Cirus Madiran', '\"PG Rosa\" Pinot grigio',\n",
       "       'Corvina ', 'Il Mattaglio Blanc de Blancs'], dtype=object)"
      ]
     },
     "execution_count": 17,
     "metadata": {},
     "output_type": "execute_result"
    }
   ],
   "source": [
    "g = df.groupby('wine')['rate'].count()\n",
    "top_wines = g.sort_values(ascending=False).index.values[:50]\n",
    "top_wines[:10]"
   ]
  },
  {
   "cell_type": "code",
   "execution_count": 18,
   "metadata": {},
   "outputs": [
    {
     "data": {
      "text/html": [],
      "text/plain": [
       "<IPython.core.display.HTML object>"
      ]
     },
     "metadata": {},
     "output_type": "display_data"
    },
    {
     "name": "stdout",
     "output_type": "stream",
     "text": [
      "RMSE: 0.7441595792770386\n",
      "MSE: 0.5537735223770142\n",
      "MAE: 0.42905741930007935\n",
      "torch.Size([261])\n",
      "torch.Size([261, 1])\n",
      "The error is : 0.42905744910240173\n"
     ]
    },
    {
     "data": {
      "text/html": [
       "<div>\n",
       "<style scoped>\n",
       "    .dataframe tbody tr th:only-of-type {\n",
       "        vertical-align: middle;\n",
       "    }\n",
       "\n",
       "    .dataframe tbody tr th {\n",
       "        vertical-align: top;\n",
       "    }\n",
       "\n",
       "    .dataframe thead th {\n",
       "        text-align: right;\n",
       "    }\n",
       "</style>\n",
       "<table border=\"1\" class=\"dataframe\">\n",
       "  <thead>\n",
       "    <tr style=\"text-align: right;\">\n",
       "      <th></th>\n",
       "      <th>targets</th>\n",
       "      <th>predictions</th>\n",
       "      <th>error</th>\n",
       "    </tr>\n",
       "  </thead>\n",
       "  <tbody>\n",
       "    <tr>\n",
       "      <th>0</th>\n",
       "      <td>4</td>\n",
       "      <td>2.641686</td>\n",
       "      <td>-1.358314</td>\n",
       "    </tr>\n",
       "    <tr>\n",
       "      <th>1</th>\n",
       "      <td>5</td>\n",
       "      <td>5.000732</td>\n",
       "      <td>0.000732</td>\n",
       "    </tr>\n",
       "    <tr>\n",
       "      <th>2</th>\n",
       "      <td>4</td>\n",
       "      <td>3.387666</td>\n",
       "      <td>-0.612334</td>\n",
       "    </tr>\n",
       "    <tr>\n",
       "      <th>3</th>\n",
       "      <td>2</td>\n",
       "      <td>1.997270</td>\n",
       "      <td>-0.002730</td>\n",
       "    </tr>\n",
       "    <tr>\n",
       "      <th>4</th>\n",
       "      <td>3</td>\n",
       "      <td>3.035611</td>\n",
       "      <td>0.035611</td>\n",
       "    </tr>\n",
       "    <tr>\n",
       "      <th>...</th>\n",
       "      <td>...</td>\n",
       "      <td>...</td>\n",
       "      <td>...</td>\n",
       "    </tr>\n",
       "    <tr>\n",
       "      <th>256</th>\n",
       "      <td>3</td>\n",
       "      <td>3.044462</td>\n",
       "      <td>0.044462</td>\n",
       "    </tr>\n",
       "    <tr>\n",
       "      <th>257</th>\n",
       "      <td>4</td>\n",
       "      <td>3.383171</td>\n",
       "      <td>-0.616829</td>\n",
       "    </tr>\n",
       "    <tr>\n",
       "      <th>258</th>\n",
       "      <td>5</td>\n",
       "      <td>5.052271</td>\n",
       "      <td>0.052271</td>\n",
       "    </tr>\n",
       "    <tr>\n",
       "      <th>259</th>\n",
       "      <td>2</td>\n",
       "      <td>1.972752</td>\n",
       "      <td>-0.027248</td>\n",
       "    </tr>\n",
       "    <tr>\n",
       "      <th>260</th>\n",
       "      <td>3</td>\n",
       "      <td>2.572704</td>\n",
       "      <td>-0.427296</td>\n",
       "    </tr>\n",
       "  </tbody>\n",
       "</table>\n",
       "<p>261 rows × 3 columns</p>\n",
       "</div>"
      ],
      "text/plain": [
       "     targets  predictions     error\n",
       "0          4     2.641686 -1.358314\n",
       "1          5     5.000732  0.000732\n",
       "2          4     3.387666 -0.612334\n",
       "3          2     1.997270 -0.002730\n",
       "4          3     3.035611  0.035611\n",
       "..       ...          ...       ...\n",
       "256        3     3.044462  0.044462\n",
       "257        4     3.383171 -0.616829\n",
       "258        5     5.052271  0.052271\n",
       "259        2     1.972752 -0.027248\n",
       "260        3     2.572704 -0.427296\n",
       "\n",
       "[261 rows x 3 columns]"
      ]
     },
     "execution_count": 18,
     "metadata": {},
     "output_type": "execute_result"
    }
   ],
   "source": [
    "from fastai.metrics import rmse\n",
    "\n",
    "# Get predictions and targets\n",
    "preds, targs = learn.get_preds()\n",
    "\n",
    "# Calculate RMSE\n",
    "error = rmse(preds, targs)\n",
    "print(f'RMSE: {error}')\n",
    "\n",
    "#MSE\n",
    "error2 = mse(preds, targs)\n",
    "print(f'MSE: {error2}')\n",
    "\n",
    "#MAE\n",
    "error3 = mae(preds, targs)\n",
    "print(f'MAE: {error3}')\n",
    "\n",
    "print(preds.shape)\n",
    "print(targs.shape)\n",
    "\n",
    "#transform the trags since they were a 2d tensor\n",
    "targs = targs.squeeze()\n",
    "\n",
    "#we create a dataframe with the predictions and the targets\n",
    "df = pd.DataFrame({ 'targets': targs,'predictions': preds})\n",
    "df.head(20)\n",
    "\n",
    "#check the error\n",
    "df['error'] = df['predictions'] - df['targets']\n",
    "\n",
    "\n",
    "#print the error of the model\n",
    "print(f\"The error is : {df['error'].abs().mean()}\")\n",
    "\n",
    "df\n"
   ]
  },
  {
   "cell_type": "code",
   "execution_count": 19,
   "metadata": {},
   "outputs": [
    {
     "data": {
      "text/html": [
       "<div>\n",
       "<style scoped>\n",
       "    .dataframe tbody tr th:only-of-type {\n",
       "        vertical-align: middle;\n",
       "    }\n",
       "\n",
       "    .dataframe tbody tr th {\n",
       "        vertical-align: top;\n",
       "    }\n",
       "\n",
       "    .dataframe thead th {\n",
       "        text-align: right;\n",
       "    }\n",
       "</style>\n",
       "<table border=\"1\" class=\"dataframe\">\n",
       "  <thead>\n",
       "    <tr style=\"text-align: right;\">\n",
       "      <th></th>\n",
       "      <th>targets</th>\n",
       "      <th>predictions</th>\n",
       "      <th>error</th>\n",
       "      <th>abs_error</th>\n",
       "    </tr>\n",
       "  </thead>\n",
       "  <tbody>\n",
       "    <tr>\n",
       "      <th>48</th>\n",
       "      <td>5</td>\n",
       "      <td>5.000732</td>\n",
       "      <td>0.000732</td>\n",
       "      <td>0.000732</td>\n",
       "    </tr>\n",
       "    <tr>\n",
       "      <th>26</th>\n",
       "      <td>5</td>\n",
       "      <td>5.000732</td>\n",
       "      <td>0.000732</td>\n",
       "      <td>0.000732</td>\n",
       "    </tr>\n",
       "    <tr>\n",
       "      <th>110</th>\n",
       "      <td>5</td>\n",
       "      <td>5.000732</td>\n",
       "      <td>0.000732</td>\n",
       "      <td>0.000732</td>\n",
       "    </tr>\n",
       "    <tr>\n",
       "      <th>207</th>\n",
       "      <td>5</td>\n",
       "      <td>5.000732</td>\n",
       "      <td>0.000732</td>\n",
       "      <td>0.000732</td>\n",
       "    </tr>\n",
       "    <tr>\n",
       "      <th>237</th>\n",
       "      <td>5</td>\n",
       "      <td>5.000732</td>\n",
       "      <td>0.000732</td>\n",
       "      <td>0.000732</td>\n",
       "    </tr>\n",
       "    <tr>\n",
       "      <th>127</th>\n",
       "      <td>5</td>\n",
       "      <td>5.000732</td>\n",
       "      <td>0.000732</td>\n",
       "      <td>0.000732</td>\n",
       "    </tr>\n",
       "    <tr>\n",
       "      <th>1</th>\n",
       "      <td>5</td>\n",
       "      <td>5.000732</td>\n",
       "      <td>0.000732</td>\n",
       "      <td>0.000732</td>\n",
       "    </tr>\n",
       "    <tr>\n",
       "      <th>202</th>\n",
       "      <td>5</td>\n",
       "      <td>5.000732</td>\n",
       "      <td>0.000732</td>\n",
       "      <td>0.000732</td>\n",
       "    </tr>\n",
       "    <tr>\n",
       "      <th>68</th>\n",
       "      <td>3</td>\n",
       "      <td>3.001404</td>\n",
       "      <td>0.001404</td>\n",
       "      <td>0.001404</td>\n",
       "    </tr>\n",
       "    <tr>\n",
       "      <th>246</th>\n",
       "      <td>1</td>\n",
       "      <td>1.001587</td>\n",
       "      <td>0.001587</td>\n",
       "      <td>0.001587</td>\n",
       "    </tr>\n",
       "  </tbody>\n",
       "</table>\n",
       "</div>"
      ],
      "text/plain": [
       "     targets  predictions     error  abs_error\n",
       "48         5     5.000732  0.000732   0.000732\n",
       "26         5     5.000732  0.000732   0.000732\n",
       "110        5     5.000732  0.000732   0.000732\n",
       "207        5     5.000732  0.000732   0.000732\n",
       "237        5     5.000732  0.000732   0.000732\n",
       "127        5     5.000732  0.000732   0.000732\n",
       "1          5     5.000732  0.000732   0.000732\n",
       "202        5     5.000732  0.000732   0.000732\n",
       "68         3     3.001404  0.001404   0.001404\n",
       "246        1     1.001587  0.001587   0.001587"
      ]
     },
     "execution_count": 19,
     "metadata": {},
     "output_type": "execute_result"
    }
   ],
   "source": [
    "#sort by best predictions and worst predictions\n",
    "#sort col error from 0 to 5(-5)\n",
    "\n",
    "df['abs_error'] = df['error'].abs()\n",
    "best_predictions = df.sort_values(by='abs_error', ascending=True)\n",
    "worst_predictions = df.sort_values(by='error', ascending=False)\n",
    "\n",
    "#best predictions\n",
    "best_predictions.head(10)"
   ]
  },
  {
   "cell_type": "code",
   "execution_count": 20,
   "metadata": {},
   "outputs": [
    {
     "data": {
      "text/html": [
       "<div>\n",
       "<style scoped>\n",
       "    .dataframe tbody tr th:only-of-type {\n",
       "        vertical-align: middle;\n",
       "    }\n",
       "\n",
       "    .dataframe tbody tr th {\n",
       "        vertical-align: top;\n",
       "    }\n",
       "\n",
       "    .dataframe thead th {\n",
       "        text-align: right;\n",
       "    }\n",
       "</style>\n",
       "<table border=\"1\" class=\"dataframe\">\n",
       "  <thead>\n",
       "    <tr style=\"text-align: right;\">\n",
       "      <th></th>\n",
       "      <th>targets</th>\n",
       "      <th>predictions</th>\n",
       "      <th>error</th>\n",
       "      <th>abs_error</th>\n",
       "    </tr>\n",
       "  </thead>\n",
       "  <tbody>\n",
       "    <tr>\n",
       "      <th>189</th>\n",
       "      <td>1</td>\n",
       "      <td>3.209811</td>\n",
       "      <td>2.209811</td>\n",
       "      <td>2.209811</td>\n",
       "    </tr>\n",
       "    <tr>\n",
       "      <th>141</th>\n",
       "      <td>1</td>\n",
       "      <td>3.205956</td>\n",
       "      <td>2.205956</td>\n",
       "      <td>2.205956</td>\n",
       "    </tr>\n",
       "    <tr>\n",
       "      <th>120</th>\n",
       "      <td>1</td>\n",
       "      <td>2.448611</td>\n",
       "      <td>1.448611</td>\n",
       "      <td>1.448611</td>\n",
       "    </tr>\n",
       "    <tr>\n",
       "      <th>113</th>\n",
       "      <td>2</td>\n",
       "      <td>3.283210</td>\n",
       "      <td>1.283210</td>\n",
       "      <td>1.283210</td>\n",
       "    </tr>\n",
       "    <tr>\n",
       "      <th>250</th>\n",
       "      <td>2</td>\n",
       "      <td>3.227713</td>\n",
       "      <td>1.227713</td>\n",
       "      <td>1.227713</td>\n",
       "    </tr>\n",
       "    <tr>\n",
       "      <th>46</th>\n",
       "      <td>3</td>\n",
       "      <td>4.171263</td>\n",
       "      <td>1.171263</td>\n",
       "      <td>1.171263</td>\n",
       "    </tr>\n",
       "    <tr>\n",
       "      <th>58</th>\n",
       "      <td>3</td>\n",
       "      <td>4.032507</td>\n",
       "      <td>1.032507</td>\n",
       "      <td>1.032507</td>\n",
       "    </tr>\n",
       "    <tr>\n",
       "      <th>27</th>\n",
       "      <td>2</td>\n",
       "      <td>2.999911</td>\n",
       "      <td>0.999911</td>\n",
       "      <td>0.999911</td>\n",
       "    </tr>\n",
       "    <tr>\n",
       "      <th>57</th>\n",
       "      <td>2</td>\n",
       "      <td>2.979023</td>\n",
       "      <td>0.979023</td>\n",
       "      <td>0.979023</td>\n",
       "    </tr>\n",
       "    <tr>\n",
       "      <th>135</th>\n",
       "      <td>2</td>\n",
       "      <td>2.671556</td>\n",
       "      <td>0.671556</td>\n",
       "      <td>0.671556</td>\n",
       "    </tr>\n",
       "  </tbody>\n",
       "</table>\n",
       "</div>"
      ],
      "text/plain": [
       "     targets  predictions     error  abs_error\n",
       "189        1     3.209811  2.209811   2.209811\n",
       "141        1     3.205956  2.205956   2.205956\n",
       "120        1     2.448611  1.448611   1.448611\n",
       "113        2     3.283210  1.283210   1.283210\n",
       "250        2     3.227713  1.227713   1.227713\n",
       "46         3     4.171263  1.171263   1.171263\n",
       "58         3     4.032507  1.032507   1.032507\n",
       "27         2     2.999911  0.999911   0.999911\n",
       "57         2     2.979023  0.979023   0.979023\n",
       "135        2     2.671556  0.671556   0.671556"
      ]
     },
     "execution_count": 20,
     "metadata": {},
     "output_type": "execute_result"
    }
   ],
   "source": [
    "worst_predictions.head(10)"
   ]
  },
  {
   "cell_type": "code",
   "execution_count": 21,
   "metadata": {},
   "outputs": [
    {
     "name": "stdout",
     "output_type": "stream",
     "text": [
      "Accuracy: 67.43%\n"
     ]
    }
   ],
   "source": [
    "def get_accuracy(df):\n",
    "    # Count correct predictions\n",
    "    correct = 0\n",
    "    for _, row in df.iterrows():\n",
    "        if round(row['predictions']) == round(row['targets']):\n",
    "            correct += 1\n",
    "\n",
    "    # Compute accuracy\n",
    "    accuracy_percentage = correct / len(df)\n",
    "    return accuracy_percentage * 100\n",
    "\n",
    "# Get accuracy\n",
    "accuracy = get_accuracy(df)\n",
    "print(f'Accuracy: {accuracy:.2f}%')"
   ]
  },
  {
   "cell_type": "code",
   "execution_count": 22,
   "metadata": {},
   "outputs": [
    {
     "data": {
      "text/html": [],
      "text/plain": [
       "<IPython.core.display.HTML object>"
      ]
     },
     "metadata": {},
     "output_type": "display_data"
    },
    {
     "name": "stdout",
     "output_type": "stream",
     "text": [
      "Predictions shape: torch.Size([261])\n",
      "Targets shape: torch.Size([261, 1])\n"
     ]
    }
   ],
   "source": [
    "preds, targs = learn.get_preds()\n",
    "\n",
    "# Now you can check their shapes\n",
    "print(f'Predictions shape: {preds.shape}')\n",
    "print(f'Targets shape: {targs.shape}')"
   ]
  },
  {
   "cell_type": "code",
   "execution_count": 23,
   "metadata": {},
   "outputs": [
    {
     "name": "stdout",
     "output_type": "stream",
     "text": [
      "Predictions shape: torch.Size([261])\n",
      "Targets shape: torch.Size([261])\n"
     ]
    }
   ],
   "source": [
    "# Remove the extra dimension from targets\n",
    "targs = targs.squeeze()\n",
    "\n",
    "# Now the shapes should match\n",
    "print(f'Predictions shape: {preds.shape}')\n",
    "print(f'Targets shape: {targs.shape}')"
   ]
  },
  {
   "cell_type": "code",
   "execution_count": 24,
   "metadata": {},
   "outputs": [
    {
     "name": "stdout",
     "output_type": "stream",
     "text": [
      "Batch 1: 64\n",
      "Batch 2: 64\n",
      "Batch 3: 64\n",
      "Batch 4: 64\n",
      "Batch 5: 5\n",
      "Predictions: 261\n",
      "Targets: 261\n"
     ]
    }
   ],
   "source": [
    "# Assuming `dls` is your DataLoader\n",
    "for i, batch in enumerate(dls.valid):\n",
    "    x, y = batch\n",
    "    print(f'Batch {i+1}: {x.shape[0]}')\n",
    "\n",
    "# Check the shape of predictions and targets\n",
    "print(f'Predictions: {preds.shape[0]}')\n",
    "print(f'Targets: {targs.shape[0]}')"
   ]
  },
  {
   "cell_type": "code",
   "execution_count": 25,
   "metadata": {},
   "outputs": [
    {
     "name": "stdout",
     "output_type": "stream",
     "text": [
      "Predictions: torch.Size([261])\n",
      "Targets: torch.Size([261])\n"
     ]
    }
   ],
   "source": [
    "print(f'Predictions: {preds.shape}')\n",
    "print(f'Targets: {targs.shape}')"
   ]
  }
 ],
 "metadata": {
  "kernelspec": {
   "display_name": "DL",
   "language": "python",
   "name": "python3"
  },
  "language_info": {
   "codemirror_mode": {
    "name": "ipython",
    "version": 3
   },
   "file_extension": ".py",
   "mimetype": "text/x-python",
   "name": "python",
   "nbconvert_exporter": "python",
   "pygments_lexer": "ipython3",
   "version": "3.10.9"
  }
 },
 "nbformat": 4,
 "nbformat_minor": 2
}
