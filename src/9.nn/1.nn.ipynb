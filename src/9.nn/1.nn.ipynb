{
 "cells": [
  {
   "cell_type": "markdown",
   "metadata": {},
   "source": [
    "## Implementing the collaborative filtering using deep learning\n",
    "* Randomly Initialise Parameters — these will be the latent factors that help predict whether someone will like a movie.\n",
    "* Calculate Predictions — this is done by taking the matrix dot product of the movie and user matrices. An example would be if a user’s likening to international films is high, and a movie is foreign; the product of the two will be large and, that movie will rank higher for that user.\n",
    "* note: This approach could be used for prediction but is very inefficient as it requires a vector to be created and stored for each prediction."
   ]
  },
  {
   "cell_type": "code",
   "execution_count": 4,
   "metadata": {},
   "outputs": [],
   "source": [
    "#libreries\n",
    "from fastai.collab import *\n",
    "from fastai.tabular.all import *\n",
    "from fastai import *\n",
    "from fastai.metrics import *\n",
    "from fastai.callback.tracker import *\n",
    "\n",
    "#import acc from fastai.metrics\n",
    "from fastai.metrics import accuracy, Precision, Recall\n",
    "#from fastbook import *\n",
    "import pandas as pd\n",
    "import numpy as np\n",
    "set_seed(42)"
   ]
  },
  {
   "cell_type": "code",
   "execution_count": 5,
   "metadata": {},
   "outputs": [
    {
     "data": {
      "text/html": [
       "<div>\n",
       "<style scoped>\n",
       "    .dataframe tbody tr th:only-of-type {\n",
       "        vertical-align: middle;\n",
       "    }\n",
       "\n",
       "    .dataframe tbody tr th {\n",
       "        vertical-align: top;\n",
       "    }\n",
       "\n",
       "    .dataframe thead th {\n",
       "        text-align: right;\n",
       "    }\n",
       "</style>\n",
       "<table border=\"1\" class=\"dataframe\">\n",
       "  <thead>\n",
       "    <tr style=\"text-align: right;\">\n",
       "      <th></th>\n",
       "      <th>userId</th>\n",
       "      <th>wine</th>\n",
       "      <th>rate</th>\n",
       "    </tr>\n",
       "  </thead>\n",
       "  <tbody>\n",
       "    <tr>\n",
       "      <th>0</th>\n",
       "      <td>5ccd8030-047b-432c-a630-d784ab415756</td>\n",
       "      <td>Valpolicella Ripasso</td>\n",
       "      <td>3</td>\n",
       "    </tr>\n",
       "    <tr>\n",
       "      <th>1</th>\n",
       "      <td>df904a46-c461-4233-9d44-6ac11a8bbddc</td>\n",
       "      <td>Astrale</td>\n",
       "      <td>3</td>\n",
       "    </tr>\n",
       "    <tr>\n",
       "      <th>2</th>\n",
       "      <td>f8c400a6-ded1-40b8-95d2-a263d05c30ce</td>\n",
       "      <td>Bricco Riva Bianca</td>\n",
       "      <td>3</td>\n",
       "    </tr>\n",
       "    <tr>\n",
       "      <th>3</th>\n",
       "      <td>bc79b0e3-064d-4240-86de-e86499f577e8</td>\n",
       "      <td>3/11 Syrah and blend #4</td>\n",
       "      <td>3</td>\n",
       "    </tr>\n",
       "    <tr>\n",
       "      <th>4</th>\n",
       "      <td>5ccd8030-047b-432c-a630-d784ab415756</td>\n",
       "      <td>Valpolicella Ripasso Classico Superiore Pojega</td>\n",
       "      <td>4</td>\n",
       "    </tr>\n",
       "  </tbody>\n",
       "</table>\n",
       "</div>"
      ],
      "text/plain": [
       "                                 userId  \\\n",
       "0  5ccd8030-047b-432c-a630-d784ab415756   \n",
       "1  df904a46-c461-4233-9d44-6ac11a8bbddc   \n",
       "2  f8c400a6-ded1-40b8-95d2-a263d05c30ce   \n",
       "3  bc79b0e3-064d-4240-86de-e86499f577e8   \n",
       "4  5ccd8030-047b-432c-a630-d784ab415756   \n",
       "\n",
       "                                             wine  rate  \n",
       "0                            Valpolicella Ripasso     3  \n",
       "1                                         Astrale     3  \n",
       "2                             Bricco Riva Bianca      3  \n",
       "3                         3/11 Syrah and blend #4     3  \n",
       "4  Valpolicella Ripasso Classico Superiore Pojega     4  "
      ]
     },
     "execution_count": 5,
     "metadata": {},
     "output_type": "execute_result"
    }
   ],
   "source": [
    "df = pd.read_csv('/home/bbruno/all_here/python course/vinnie/data/cleaned_data/upsampled_df_smote.csv')\n",
    "df.head()"
   ]
  },
  {
   "cell_type": "code",
   "execution_count": 6,
   "metadata": {},
   "outputs": [],
   "source": [
    "# # #importing directly the confusion matrix\n",
    "# # user_features_df = pd.read_csv('/home/bbruno/all_here/python course/thesis/knn/user_features_df.csv')\n",
    "# # user_features_df\n",
    "\n",
    "# #importing the user,movie,rating dataframe\n",
    "# #we drop a column that was added by mistake by the system\n",
    "# df = pd.read_csv('/home/bbruno/all_here/python course/vinnie/data/cleaned_data/upsampled_df_smote.csv')\n",
    "# df.head()\n",
    "# # df = pd.read_csv('/home/bbruno/all_here/python course/thesis/knn/df.csv').drop('Unnamed: 0', axis=1)\n",
    "# # df.tail()"
   ]
  },
  {
   "cell_type": "code",
   "execution_count": 7,
   "metadata": {},
   "outputs": [
    {
     "data": {
      "text/html": [
       "<table border=\"1\" class=\"dataframe\">\n",
       "  <thead>\n",
       "    <tr style=\"text-align: right;\">\n",
       "      <th></th>\n",
       "      <th>userId</th>\n",
       "      <th>wine</th>\n",
       "      <th>rate</th>\n",
       "    </tr>\n",
       "  </thead>\n",
       "  <tbody>\n",
       "    <tr>\n",
       "      <th>0</th>\n",
       "      <td>5bce85c2-b3c7-401f-b77b-992df3544479</td>\n",
       "      <td>Olmera</td>\n",
       "      <td>1</td>\n",
       "    </tr>\n",
       "    <tr>\n",
       "      <th>1</th>\n",
       "      <td>09f6ca6e-905f-4afd-bab2-d928fe046f18</td>\n",
       "      <td>Perlugo Extra Brut</td>\n",
       "      <td>1</td>\n",
       "    </tr>\n",
       "    <tr>\n",
       "      <th>2</th>\n",
       "      <td>f8c400a6-ded1-40b8-95d2-a263d05c30ce</td>\n",
       "      <td>Tignanello</td>\n",
       "      <td>4</td>\n",
       "    </tr>\n",
       "    <tr>\n",
       "      <th>3</th>\n",
       "      <td>441ac739-42f8-48d2-9526-fdedf2d4852f</td>\n",
       "      <td>Bollicina</td>\n",
       "      <td>3</td>\n",
       "    </tr>\n",
       "    <tr>\n",
       "      <th>4</th>\n",
       "      <td>f8c400a6-ded1-40b8-95d2-a263d05c30ce</td>\n",
       "      <td>Blanc del Noirs</td>\n",
       "      <td>2</td>\n",
       "    </tr>\n",
       "    <tr>\n",
       "      <th>5</th>\n",
       "      <td>dd7e04c1-987c-4520-9ab5-c90e86b7dfe1</td>\n",
       "      <td>Les Folastries Gewürztraminer</td>\n",
       "      <td>4</td>\n",
       "    </tr>\n",
       "    <tr>\n",
       "      <th>6</th>\n",
       "      <td>838e0d9d-27e9-4f89-9eab-ba2c2f412759</td>\n",
       "      <td>Red (Winemaker's Blend)</td>\n",
       "      <td>1</td>\n",
       "    </tr>\n",
       "    <tr>\n",
       "      <th>7</th>\n",
       "      <td>5bce85c2-b3c7-401f-b77b-992df3544479</td>\n",
       "      <td>Pinot noir San Mischael eppan</td>\n",
       "      <td>3</td>\n",
       "    </tr>\n",
       "    <tr>\n",
       "      <th>8</th>\n",
       "      <td>cabb87a0-6498-438a-beb7-676f72bddd09</td>\n",
       "      <td>Sauvignon Blanc</td>\n",
       "      <td>4</td>\n",
       "    </tr>\n",
       "    <tr>\n",
       "      <th>9</th>\n",
       "      <td>13016d41-00bd-411c-83f5-2b95691696b7</td>\n",
       "      <td>Pinot Grigio</td>\n",
       "      <td>4</td>\n",
       "    </tr>\n",
       "  </tbody>\n",
       "</table>"
      ],
      "text/plain": [
       "<IPython.core.display.HTML object>"
      ]
     },
     "metadata": {},
     "output_type": "display_data"
    }
   ],
   "source": [
    "#we create a dataloader\n",
    "#we pass the title of the movie and not the movie id\n",
    "dls = CollabDataLoaders.from_df(df, user_name='userId',item_name='wine', bs=64)\n",
    "#we can see the batch\n",
    "dls.show_batch()"
   ]
  },
  {
   "cell_type": "code",
   "execution_count": 8,
   "metadata": {},
   "outputs": [],
   "source": [
    "#CALCULATE PREDICTIONS USING MATRIX MULTIPLICATION\n",
    "\n",
    "#we create a matrix with the user features\n",
    "n_users = len(dls.classes['userId']) #the number of user is the lenght of how many users\n",
    "#we create a matrix with the movie features\n",
    "n_movies = len(dls.classes['wine']) #the number of movies is the lenght of how many movies\n",
    "#we choose the number of factors\n",
    "n_factors = 5 \n",
    "\n",
    "#we create a random matrix with the user features(embeddings)\n",
    "#userFactors = (numberOfUsers x 5)\n",
    "user_factors = torch.randn(n_users, n_factors)\n",
    "#we create a random matrix with the movie features(embeddings)\n",
    "#movieFactors = (numberOfMovies x 5)\n",
    "movie_factors = torch.randn(n_movies, n_factors)\n",
    "\n",
    "##########################################\n",
    "#To calculate the result for a particular movie and user combination, \n",
    "#we have to look up the index of the movie in our movie latent factor matrix and\n",
    "#the index of the user in our user latent factor matrix; \n",
    "#then we can do our dot product between the two latent factor vectors\n",
    "\n",
    "# Create a function that takes the user id and the movie title to make a prediction\n",
    "def oneHotPredict(userId, title):\n",
    "    '''In the oneHotPredict function, \n",
    "    we use the indices of the user and movie in the embedding matrices\n",
    "    to look up the corresponding embeddings.\n",
    "    ----\n",
    "    We calculate the prediction by taking the dot product\n",
    "    (element-wise multiplication and then sum) of the user and wine embeddings.\n",
    "    '''\n",
    "    userIdx = dls.classes['userId'].o2i[userId]\n",
    "    movie_idx = dls.classes['wine'].o2i[title]\n",
    "    \n",
    "    user_embedding = user_factors[userIdx]\n",
    "    movie_embedding = movie_factors[movie_idx]\n",
    "    \n",
    "    prediction = (user_embedding * movie_embedding).sum()\n",
    "    return print(f\"Predicted rating for user '{userId}' and '{title}': {prediction:.2f}\")"
   ]
  },
  {
   "cell_type": "code",
   "execution_count": 9,
   "metadata": {},
   "outputs": [
    {
     "name": "stdout",
     "output_type": "stream",
     "text": [
      "Predicted rating for user '13016d41-00bd-411c-83f5-2b95691696b7' and 'Pinot Grigio': -0.61\n"
     ]
    }
   ],
   "source": [
    "# Prediction for user 9 and the movie 'Toy Story (1995)'\n",
    "prediction = oneHotPredict('13016d41-00bd-411c-83f5-2b95691696b7', 'Pinot Grigio')\n",
    "#print(f'Predicted rating for user 9 and Toy Story (1995): {prediction:.2f}')"
   ]
  },
  {
   "cell_type": "markdown",
   "metadata": {},
   "source": [
    "## Matrix factorization\n",
    "* A better approach"
   ]
  },
  {
   "cell_type": "code",
   "execution_count": 10,
   "metadata": {},
   "outputs": [],
   "source": [
    "def create_params(size):\n",
    "    \"\"\"\n",
    "      Pass tensor shape\n",
    "      Returns normalised model parameters\n",
    "    \"\"\"\n",
    "    return nn.Parameter(torch.zeros(*size).normal_(0, 0.01))\n",
    "\n",
    "class DotProductBias(Module):\n",
    "    \"\"\"\n",
    "    Model architecture for collaborative filtering\n",
    "    \"\"\"\n",
    "    def __init__(self, n_users, n_movies, n_factors, y_range=(0, 5.5)):\n",
    "        \"\"\"\n",
    "        Initialises model with parameters\n",
    "        :param n_users: number of users\n",
    "        :param n_movies: number of movies\n",
    "        :param n_factors: number of factors\n",
    "        :param y_range: sigmoid limit\n",
    "        \"\"\"\n",
    "        self.user_factors = create_params([n_users, n_factors])\n",
    "        self.user_bias = create_params([n_users])\n",
    "        self.movie_factors = create_params([n_movies, n_factors])\n",
    "        self.movie_bias = create_params([n_movies])\n",
    "        self.y_range = y_range\n",
    "\n",
    "    def forward(self, x):\n",
    "        \"\"\"\n",
    "        Applies a forward pass on the dataset passed\n",
    "        :param x: data as DataLoaders obj\n",
    "        :return: predictions in sigmoid range (tensor)\n",
    "        \"\"\"\n",
    "        users = self.user_factors[x[:, 0]]\n",
    "        movies = self.movie_factors[x[:, 1]]\n",
    "        res = (users*movies).sum(dim=1)\n",
    "        res += self.user_bias[x[:, 0]] + self.movie_bias[x[:, 1]]\n",
    "        return sigmoid_range(res, *self.y_range)"
   ]
  },
  {
   "cell_type": "code",
   "execution_count": 11,
   "metadata": {},
   "outputs": [
    {
     "data": {
      "text/html": [
       "<table border=\"1\" class=\"dataframe\">\n",
       "  <thead>\n",
       "    <tr style=\"text-align: left;\">\n",
       "      <th>epoch</th>\n",
       "      <th>train_loss</th>\n",
       "      <th>valid_loss</th>\n",
       "      <th>mse</th>\n",
       "      <th>_rmse</th>\n",
       "      <th>mae</th>\n",
       "      <th>time</th>\n",
       "    </tr>\n",
       "  </thead>\n",
       "  <tbody>\n",
       "    <tr>\n",
       "      <td>0</td>\n",
       "      <td>1.928513</td>\n",
       "      <td>1.896396</td>\n",
       "      <td>1.896396</td>\n",
       "      <td>1.377097</td>\n",
       "      <td>1.195578</td>\n",
       "      <td>00:00</td>\n",
       "    </tr>\n",
       "    <tr>\n",
       "      <td>1</td>\n",
       "      <td>1.676263</td>\n",
       "      <td>1.655080</td>\n",
       "      <td>1.655080</td>\n",
       "      <td>1.286499</td>\n",
       "      <td>1.083704</td>\n",
       "      <td>00:00</td>\n",
       "    </tr>\n",
       "    <tr>\n",
       "      <td>2</td>\n",
       "      <td>1.167899</td>\n",
       "      <td>1.782437</td>\n",
       "      <td>1.782437</td>\n",
       "      <td>1.335080</td>\n",
       "      <td>1.097166</td>\n",
       "      <td>00:00</td>\n",
       "    </tr>\n",
       "    <tr>\n",
       "      <td>3</td>\n",
       "      <td>0.968151</td>\n",
       "      <td>1.632990</td>\n",
       "      <td>1.632990</td>\n",
       "      <td>1.277885</td>\n",
       "      <td>1.067597</td>\n",
       "      <td>00:00</td>\n",
       "    </tr>\n",
       "    <tr>\n",
       "      <td>4</td>\n",
       "      <td>0.843359</td>\n",
       "      <td>1.589879</td>\n",
       "      <td>1.589879</td>\n",
       "      <td>1.260904</td>\n",
       "      <td>1.029890</td>\n",
       "      <td>00:00</td>\n",
       "    </tr>\n",
       "    <tr>\n",
       "      <td>5</td>\n",
       "      <td>0.714639</td>\n",
       "      <td>1.603542</td>\n",
       "      <td>1.603542</td>\n",
       "      <td>1.266311</td>\n",
       "      <td>1.028158</td>\n",
       "      <td>00:00</td>\n",
       "    </tr>\n",
       "    <tr>\n",
       "      <td>6</td>\n",
       "      <td>0.587472</td>\n",
       "      <td>1.597991</td>\n",
       "      <td>1.597991</td>\n",
       "      <td>1.264117</td>\n",
       "      <td>1.025193</td>\n",
       "      <td>00:00</td>\n",
       "    </tr>\n",
       "    <tr>\n",
       "      <td>7</td>\n",
       "      <td>0.472519</td>\n",
       "      <td>1.587365</td>\n",
       "      <td>1.587365</td>\n",
       "      <td>1.259907</td>\n",
       "      <td>1.015141</td>\n",
       "      <td>00:00</td>\n",
       "    </tr>\n",
       "    <tr>\n",
       "      <td>8</td>\n",
       "      <td>0.378787</td>\n",
       "      <td>1.585860</td>\n",
       "      <td>1.585860</td>\n",
       "      <td>1.259309</td>\n",
       "      <td>1.011494</td>\n",
       "      <td>00:00</td>\n",
       "    </tr>\n",
       "    <tr>\n",
       "      <td>9</td>\n",
       "      <td>0.306723</td>\n",
       "      <td>1.585832</td>\n",
       "      <td>1.585832</td>\n",
       "      <td>1.259298</td>\n",
       "      <td>1.011313</td>\n",
       "      <td>00:00</td>\n",
       "    </tr>\n",
       "  </tbody>\n",
       "</table>"
      ],
      "text/plain": [
       "<IPython.core.display.HTML object>"
      ]
     },
     "metadata": {},
     "output_type": "display_data"
    }
   ],
   "source": [
    "#good model\n",
    "#Working perfectly without cross validation\n",
    "model = DotProductBias(n_users, n_movies, 50)\n",
    "learn = Learner(dls, model, loss_func=MSELossFlat(),metrics=[mse, rmse, mae])\n",
    "#wd = weight decay (L2 regularization)\n",
    "learn.fit_one_cycle(10, 0.05, wd=0.1)\n",
    "# # acc = 79.00%, train_loss = 0.134415, valid_loss = 0.236329, mse = 0.236329, rmse = 0.486136, mae = 0.268503\n",
    "\n",
    "# #This model generalize good\n",
    "# model = DotProductBias(n_users, n_movies, 50)\n",
    "# learn = Learner(dls, model, loss_func=MSELossFlat(),metrics=[mse, rmse, mae])\n",
    "# #wd = weight decay (L2 regularization)\n",
    "# learn.fit_one_cycle(10, 0.003, wd=0.1)\n",
    "# # acc = 68.24% , train_loss = 0.239520, valid_loss = 0.418527, mse = 0.418527, rmse = 0.646936, mae = 0.398856"
   ]
  },
  {
   "cell_type": "code",
   "execution_count": 12,
   "metadata": {},
   "outputs": [
    {
     "data": {
      "text/html": [],
      "text/plain": [
       "<IPython.core.display.HTML object>"
      ]
     },
     "metadata": {},
     "output_type": "display_data"
    },
    {
     "data": {
      "text/plain": [
       "SuggestedLRs(valley=0.005248074419796467)"
      ]
     },
     "execution_count": 12,
     "metadata": {},
     "output_type": "execute_result"
    },
    {
     "data": {
      "image/png": "[encoded data removed]",
      "text/plain": [
       "<Figure size 640x480 with 1 Axes>"
      ]
     },
     "metadata": {},
     "output_type": "display_data"
    }
   ],
   "source": [
    "learn.lr_find()"
   ]
  },
  {
   "cell_type": "code",
   "execution_count": 13,
   "metadata": {},
   "outputs": [
    {
     "name": "stdout",
     "output_type": "stream",
     "text": [
      "Recommended movies:\n",
      "Bortolomiol Vintage Extra Dry Millesimato\n",
      "Chartreuse de Bonpas Réserve\n",
      "Tenuta Guado al Tasso Il Bruciato Bolgheri\n",
      "Piceno Bacchus\n",
      "The long coast cabernet sauvignon\n"
     ]
    }
   ],
   "source": [
    "#import torch.nn as nn\n",
    "#Recommendations\n",
    "def recommends(fav_movie, top_n=5):\n",
    "    movie_factors = learn.model.movie_factors\n",
    "    #we look up the movie in the movie factors\n",
    "    idx = dls.classes['wine'].o2i[fav_movie]\n",
    "    #find the movie with minimum distance\n",
    "    distances = nn.CosineSimilarity(dim=1)(movie_factors, movie_factors[idx][None])\n",
    "    #we sort the movies by distance\n",
    "    idx = distances.argsort(descending=True)[1:top_n+1]\n",
    "    #we return the movies\n",
    "    recommended_movies = [dls.classes['wine'][i] for i in idx]\n",
    "    return recommended_movies\n",
    "\n",
    "recommended_movies = recommends('Pinot Grigio')\n",
    "print(\"Recommended movies:\")\n",
    "for movie in recommended_movies:\n",
    "    print(movie)"
   ]
  },
  {
   "cell_type": "code",
   "execution_count": 14,
   "metadata": {},
   "outputs": [
    {
     "name": "stdout",
     "output_type": "stream",
     "text": [
      "Predicted rating for user '13016d41-00bd-411c-83f5-2b95691696b7' and 'chardonnay': 3.05\n",
      "Predicted rating for user '50' and 'cabernet sauvignon': 2.76\n"
     ]
    }
   ],
   "source": [
    "#def prediction for a user\n",
    "def prediction_user_like(userId, title):\n",
    "    userIdx = dls.classes['userId'].o2i[userId]\n",
    "    movie_idx = dls.classes['wine'].o2i[title]\n",
    "\n",
    "    # Make a prediction using the model's forward method\n",
    "    prediction = learn.model.forward(tensor([[userIdx, movie_idx]])).item()\n",
    "\n",
    "    return print(f\"Predicted rating for user '{userId}' and '{title}': {prediction:.2f}\")\n",
    "\n",
    "prediction = prediction_user_like('13016d41-00bd-411c-83f5-2b95691696b7', 'chardonnay')\n",
    "prediction = prediction_user_like(50, 'cabernet sauvignon')"
   ]
  },
  {
   "cell_type": "code",
   "execution_count": 15,
   "metadata": {},
   "outputs": [
    {
     "data": {
      "text/html": [],
      "text/plain": [
       "<IPython.core.display.HTML object>"
      ]
     },
     "metadata": {},
     "output_type": "display_data"
    },
    {
     "data": {
      "text/html": [
       "<table border=\"1\" class=\"dataframe\">\n",
       "  <thead>\n",
       "    <tr style=\"text-align: right;\">\n",
       "      <th></th>\n",
       "      <th>userId</th>\n",
       "      <th>wine</th>\n",
       "      <th>rate</th>\n",
       "      <th>rate_pred</th>\n",
       "    </tr>\n",
       "  </thead>\n",
       "  <tbody>\n",
       "    <tr>\n",
       "      <th>0</th>\n",
       "      <td>17</td>\n",
       "      <td>4</td>\n",
       "      <td>3</td>\n",
       "      <td>3.374868</td>\n",
       "    </tr>\n",
       "    <tr>\n",
       "      <th>1</th>\n",
       "      <td>5</td>\n",
       "      <td>121</td>\n",
       "      <td>4</td>\n",
       "      <td>3.081343</td>\n",
       "    </tr>\n",
       "    <tr>\n",
       "      <th>2</th>\n",
       "      <td>32</td>\n",
       "      <td>522</td>\n",
       "      <td>1</td>\n",
       "      <td>2.425205</td>\n",
       "    </tr>\n",
       "    <tr>\n",
       "      <th>3</th>\n",
       "      <td>148</td>\n",
       "      <td>247</td>\n",
       "      <td>5</td>\n",
       "      <td>4.809047</td>\n",
       "    </tr>\n",
       "    <tr>\n",
       "      <th>4</th>\n",
       "      <td>66</td>\n",
       "      <td>371</td>\n",
       "      <td>4</td>\n",
       "      <td>3.263105</td>\n",
       "    </tr>\n",
       "    <tr>\n",
       "      <th>5</th>\n",
       "      <td>141</td>\n",
       "      <td>569</td>\n",
       "      <td>1</td>\n",
       "      <td>2.680267</td>\n",
       "    </tr>\n",
       "    <tr>\n",
       "      <th>6</th>\n",
       "      <td>60</td>\n",
       "      <td>96</td>\n",
       "      <td>4</td>\n",
       "      <td>3.957231</td>\n",
       "    </tr>\n",
       "    <tr>\n",
       "      <th>7</th>\n",
       "      <td>148</td>\n",
       "      <td>176</td>\n",
       "      <td>3</td>\n",
       "      <td>3.144978</td>\n",
       "    </tr>\n",
       "    <tr>\n",
       "      <th>8</th>\n",
       "      <td>53</td>\n",
       "      <td>279</td>\n",
       "      <td>3</td>\n",
       "      <td>3.052802</td>\n",
       "    </tr>\n",
       "  </tbody>\n",
       "</table>"
      ],
      "text/plain": [
       "<IPython.core.display.HTML object>"
      ]
     },
     "metadata": {},
     "output_type": "display_data"
    }
   ],
   "source": [
    "# Show 20 rows of results\n",
    "learn.show_results(n=20)"
   ]
  },
  {
   "cell_type": "code",
   "execution_count": 16,
   "metadata": {},
   "outputs": [
    {
     "data": {
      "text/plain": [
       "array([\"Moscata D'Asti Casaniere\", 'Morellino di Scansano 2021',\n",
       "       'Morellino di Scansano DOCG terre di talamo', 'Montefalco Rosso',\n",
       "       'Nativi Gewürtztraminer', 'Vitovska acciaio', 'Chardonnay',\n",
       "       \"Nebbiolo d'Alba\", 'Amarone',\n",
       "       'Nespolino Rubicone Sangiovese - Merlot'], dtype=object)"
      ]
     },
     "execution_count": 16,
     "metadata": {},
     "output_type": "execute_result"
    }
   ],
   "source": [
    "g = df.groupby('wine')['rate'].count()\n",
    "top_wines = g.sort_values(ascending=False).index.values[:50]\n",
    "top_wines[:10]"
   ]
  },
  {
   "cell_type": "code",
   "execution_count": 17,
   "metadata": {},
   "outputs": [
    {
     "data": {
      "text/html": [],
      "text/plain": [
       "<IPython.core.display.HTML object>"
      ]
     },
     "metadata": {},
     "output_type": "display_data"
    },
    {
     "name": "stdout",
     "output_type": "stream",
     "text": [
      "RMSE: 1.2592980861663818\n",
      "MSE: 1.5858315229415894\n",
      "MAE: 1.0113133192062378\n",
      "torch.Size([190])\n",
      "torch.Size([190, 1])\n",
      "The error is : 1.0113133192062378\n"
     ]
    },
    {
     "data": {
      "text/html": [
       "<div>\n",
       "<style scoped>\n",
       "    .dataframe tbody tr th:only-of-type {\n",
       "        vertical-align: middle;\n",
       "    }\n",
       "\n",
       "    .dataframe tbody tr th {\n",
       "        vertical-align: top;\n",
       "    }\n",
       "\n",
       "    .dataframe thead th {\n",
       "        text-align: right;\n",
       "    }\n",
       "</style>\n",
       "<table border=\"1\" class=\"dataframe\">\n",
       "  <thead>\n",
       "    <tr style=\"text-align: right;\">\n",
       "      <th></th>\n",
       "      <th>targets</th>\n",
       "      <th>predictions</th>\n",
       "      <th>error</th>\n",
       "    </tr>\n",
       "  </thead>\n",
       "  <tbody>\n",
       "    <tr>\n",
       "      <th>0</th>\n",
       "      <td>5</td>\n",
       "      <td>3.363461</td>\n",
       "      <td>-1.636539</td>\n",
       "    </tr>\n",
       "    <tr>\n",
       "      <th>1</th>\n",
       "      <td>1</td>\n",
       "      <td>2.923729</td>\n",
       "      <td>1.923729</td>\n",
       "    </tr>\n",
       "    <tr>\n",
       "      <th>2</th>\n",
       "      <td>4</td>\n",
       "      <td>3.080818</td>\n",
       "      <td>-0.919182</td>\n",
       "    </tr>\n",
       "    <tr>\n",
       "      <th>3</th>\n",
       "      <td>2</td>\n",
       "      <td>2.574033</td>\n",
       "      <td>0.574033</td>\n",
       "    </tr>\n",
       "    <tr>\n",
       "      <th>4</th>\n",
       "      <td>3</td>\n",
       "      <td>3.505707</td>\n",
       "      <td>0.505707</td>\n",
       "    </tr>\n",
       "    <tr>\n",
       "      <th>...</th>\n",
       "      <td>...</td>\n",
       "      <td>...</td>\n",
       "      <td>...</td>\n",
       "    </tr>\n",
       "    <tr>\n",
       "      <th>185</th>\n",
       "      <td>4</td>\n",
       "      <td>3.258756</td>\n",
       "      <td>-0.741244</td>\n",
       "    </tr>\n",
       "    <tr>\n",
       "      <th>186</th>\n",
       "      <td>2</td>\n",
       "      <td>3.065582</td>\n",
       "      <td>1.065582</td>\n",
       "    </tr>\n",
       "    <tr>\n",
       "      <th>187</th>\n",
       "      <td>4</td>\n",
       "      <td>3.957231</td>\n",
       "      <td>-0.042769</td>\n",
       "    </tr>\n",
       "    <tr>\n",
       "      <th>188</th>\n",
       "      <td>5</td>\n",
       "      <td>2.862940</td>\n",
       "      <td>-2.137060</td>\n",
       "    </tr>\n",
       "    <tr>\n",
       "      <th>189</th>\n",
       "      <td>4</td>\n",
       "      <td>3.458303</td>\n",
       "      <td>-0.541697</td>\n",
       "    </tr>\n",
       "  </tbody>\n",
       "</table>\n",
       "<p>190 rows × 3 columns</p>\n",
       "</div>"
      ],
      "text/plain": [
       "     targets  predictions     error\n",
       "0          5     3.363461 -1.636539\n",
       "1          1     2.923729  1.923729\n",
       "2          4     3.080818 -0.919182\n",
       "3          2     2.574033  0.574033\n",
       "4          3     3.505707  0.505707\n",
       "..       ...          ...       ...\n",
       "185        4     3.258756 -0.741244\n",
       "186        2     3.065582  1.065582\n",
       "187        4     3.957231 -0.042769\n",
       "188        5     2.862940 -2.137060\n",
       "189        4     3.458303 -0.541697\n",
       "\n",
       "[190 rows x 3 columns]"
      ]
     },
     "execution_count": 17,
     "metadata": {},
     "output_type": "execute_result"
    }
   ],
   "source": [
    "from fastai.metrics import rmse\n",
    "\n",
    "# Get predictions and targets\n",
    "preds, targs = learn.get_preds()\n",
    "\n",
    "# Calculate RMSE\n",
    "error = rmse(preds, targs)\n",
    "print(f'RMSE: {error}')\n",
    "\n",
    "#MSE\n",
    "error2 = mse(preds, targs)\n",
    "print(f'MSE: {error2}')\n",
    "\n",
    "#MAE\n",
    "error3 = mae(preds, targs)\n",
    "print(f'MAE: {error3}')\n",
    "\n",
    "print(preds.shape)\n",
    "print(targs.shape)\n",
    "\n",
    "#transform the trags since they were a 2d tensor\n",
    "targs = targs.squeeze()\n",
    "\n",
    "#we create a dataframe with the predictions and the targets\n",
    "df = pd.DataFrame({ 'targets': targs,'predictions': preds})\n",
    "df.head(20)\n",
    "\n",
    "#check the error\n",
    "df['error'] = df['predictions'] - df['targets']\n",
    "\n",
    "\n",
    "#print the error of the model\n",
    "print(f\"The error is : {df['error'].abs().mean()}\")\n",
    "\n",
    "df"
   ]
  },
  {
   "cell_type": "code",
   "execution_count": 18,
   "metadata": {},
   "outputs": [
    {
     "data": {
      "text/html": [
       "<div>\n",
       "<style scoped>\n",
       "    .dataframe tbody tr th:only-of-type {\n",
       "        vertical-align: middle;\n",
       "    }\n",
       "\n",
       "    .dataframe tbody tr th {\n",
       "        vertical-align: top;\n",
       "    }\n",
       "\n",
       "    .dataframe thead th {\n",
       "        text-align: right;\n",
       "    }\n",
       "</style>\n",
       "<table border=\"1\" class=\"dataframe\">\n",
       "  <thead>\n",
       "    <tr style=\"text-align: right;\">\n",
       "      <th></th>\n",
       "      <th>targets</th>\n",
       "      <th>predictions</th>\n",
       "      <th>error</th>\n",
       "      <th>abs_error</th>\n",
       "    </tr>\n",
       "  </thead>\n",
       "  <tbody>\n",
       "    <tr>\n",
       "      <th>14</th>\n",
       "      <td>3</td>\n",
       "      <td>2.999465</td>\n",
       "      <td>-0.000535</td>\n",
       "      <td>0.000535</td>\n",
       "    </tr>\n",
       "    <tr>\n",
       "      <th>179</th>\n",
       "      <td>3</td>\n",
       "      <td>2.999139</td>\n",
       "      <td>-0.000861</td>\n",
       "      <td>0.000861</td>\n",
       "    </tr>\n",
       "    <tr>\n",
       "      <th>49</th>\n",
       "      <td>3</td>\n",
       "      <td>3.009458</td>\n",
       "      <td>0.009458</td>\n",
       "      <td>0.009458</td>\n",
       "    </tr>\n",
       "    <tr>\n",
       "      <th>7</th>\n",
       "      <td>3</td>\n",
       "      <td>3.010015</td>\n",
       "      <td>0.010015</td>\n",
       "      <td>0.010015</td>\n",
       "    </tr>\n",
       "    <tr>\n",
       "      <th>42</th>\n",
       "      <td>3</td>\n",
       "      <td>2.974826</td>\n",
       "      <td>-0.025174</td>\n",
       "      <td>0.025174</td>\n",
       "    </tr>\n",
       "    <tr>\n",
       "      <th>56</th>\n",
       "      <td>3</td>\n",
       "      <td>3.030901</td>\n",
       "      <td>0.030901</td>\n",
       "      <td>0.030901</td>\n",
       "    </tr>\n",
       "    <tr>\n",
       "      <th>78</th>\n",
       "      <td>3</td>\n",
       "      <td>2.964637</td>\n",
       "      <td>-0.035363</td>\n",
       "      <td>0.035363</td>\n",
       "    </tr>\n",
       "    <tr>\n",
       "      <th>22</th>\n",
       "      <td>3</td>\n",
       "      <td>2.963665</td>\n",
       "      <td>-0.036335</td>\n",
       "      <td>0.036335</td>\n",
       "    </tr>\n",
       "    <tr>\n",
       "      <th>96</th>\n",
       "      <td>1</td>\n",
       "      <td>0.960906</td>\n",
       "      <td>-0.039094</td>\n",
       "      <td>0.039094</td>\n",
       "    </tr>\n",
       "    <tr>\n",
       "      <th>187</th>\n",
       "      <td>4</td>\n",
       "      <td>3.957231</td>\n",
       "      <td>-0.042769</td>\n",
       "      <td>0.042769</td>\n",
       "    </tr>\n",
       "  </tbody>\n",
       "</table>\n",
       "</div>"
      ],
      "text/plain": [
       "     targets  predictions     error  abs_error\n",
       "14         3     2.999465 -0.000535   0.000535\n",
       "179        3     2.999139 -0.000861   0.000861\n",
       "49         3     3.009458  0.009458   0.009458\n",
       "7          3     3.010015  0.010015   0.010015\n",
       "42         3     2.974826 -0.025174   0.025174\n",
       "56         3     3.030901  0.030901   0.030901\n",
       "78         3     2.964637 -0.035363   0.035363\n",
       "22         3     2.963665 -0.036335   0.036335\n",
       "96         1     0.960906 -0.039094   0.039094\n",
       "187        4     3.957231 -0.042769   0.042769"
      ]
     },
     "execution_count": 18,
     "metadata": {},
     "output_type": "execute_result"
    }
   ],
   "source": [
    "#sort by best predictions and worst predictions\n",
    "#sort col error from 0 to 5(-5)\n",
    "\n",
    "df['abs_error'] = df['error'].abs()\n",
    "best_predictions = df.sort_values(by='abs_error', ascending=True)\n",
    "worst_predictions = df.sort_values(by='error', ascending=False)\n",
    "\n",
    "#best predictions\n",
    "best_predictions.head(10)"
   ]
  },
  {
   "cell_type": "code",
   "execution_count": 19,
   "metadata": {},
   "outputs": [
    {
     "data": {
      "text/html": [
       "<div>\n",
       "<style scoped>\n",
       "    .dataframe tbody tr th:only-of-type {\n",
       "        vertical-align: middle;\n",
       "    }\n",
       "\n",
       "    .dataframe tbody tr th {\n",
       "        vertical-align: top;\n",
       "    }\n",
       "\n",
       "    .dataframe thead th {\n",
       "        text-align: right;\n",
       "    }\n",
       "</style>\n",
       "<table border=\"1\" class=\"dataframe\">\n",
       "  <thead>\n",
       "    <tr style=\"text-align: right;\">\n",
       "      <th></th>\n",
       "      <th>targets</th>\n",
       "      <th>predictions</th>\n",
       "      <th>error</th>\n",
       "      <th>abs_error</th>\n",
       "    </tr>\n",
       "  </thead>\n",
       "  <tbody>\n",
       "    <tr>\n",
       "      <th>61</th>\n",
       "      <td>1</td>\n",
       "      <td>4.997308</td>\n",
       "      <td>3.997308</td>\n",
       "      <td>3.997308</td>\n",
       "    </tr>\n",
       "    <tr>\n",
       "      <th>37</th>\n",
       "      <td>1</td>\n",
       "      <td>3.844846</td>\n",
       "      <td>2.844846</td>\n",
       "      <td>2.844846</td>\n",
       "    </tr>\n",
       "    <tr>\n",
       "      <th>60</th>\n",
       "      <td>1</td>\n",
       "      <td>3.380980</td>\n",
       "      <td>2.380980</td>\n",
       "      <td>2.380980</td>\n",
       "    </tr>\n",
       "    <tr>\n",
       "      <th>127</th>\n",
       "      <td>1</td>\n",
       "      <td>3.336554</td>\n",
       "      <td>2.336554</td>\n",
       "      <td>2.336554</td>\n",
       "    </tr>\n",
       "    <tr>\n",
       "      <th>39</th>\n",
       "      <td>1</td>\n",
       "      <td>3.325145</td>\n",
       "      <td>2.325145</td>\n",
       "      <td>2.325145</td>\n",
       "    </tr>\n",
       "    <tr>\n",
       "      <th>139</th>\n",
       "      <td>1</td>\n",
       "      <td>3.223457</td>\n",
       "      <td>2.223457</td>\n",
       "      <td>2.223457</td>\n",
       "    </tr>\n",
       "    <tr>\n",
       "      <th>108</th>\n",
       "      <td>1</td>\n",
       "      <td>3.109948</td>\n",
       "      <td>2.109948</td>\n",
       "      <td>2.109948</td>\n",
       "    </tr>\n",
       "    <tr>\n",
       "      <th>118</th>\n",
       "      <td>1</td>\n",
       "      <td>3.102956</td>\n",
       "      <td>2.102956</td>\n",
       "      <td>2.102956</td>\n",
       "    </tr>\n",
       "    <tr>\n",
       "      <th>38</th>\n",
       "      <td>1</td>\n",
       "      <td>3.093233</td>\n",
       "      <td>2.093233</td>\n",
       "      <td>2.093233</td>\n",
       "    </tr>\n",
       "    <tr>\n",
       "      <th>132</th>\n",
       "      <td>1</td>\n",
       "      <td>3.018680</td>\n",
       "      <td>2.018680</td>\n",
       "      <td>2.018680</td>\n",
       "    </tr>\n",
       "  </tbody>\n",
       "</table>\n",
       "</div>"
      ],
      "text/plain": [
       "     targets  predictions     error  abs_error\n",
       "61         1     4.997308  3.997308   3.997308\n",
       "37         1     3.844846  2.844846   2.844846\n",
       "60         1     3.380980  2.380980   2.380980\n",
       "127        1     3.336554  2.336554   2.336554\n",
       "39         1     3.325145  2.325145   2.325145\n",
       "139        1     3.223457  2.223457   2.223457\n",
       "108        1     3.109948  2.109948   2.109948\n",
       "118        1     3.102956  2.102956   2.102956\n",
       "38         1     3.093233  2.093233   2.093233\n",
       "132        1     3.018680  2.018680   2.018680"
      ]
     },
     "execution_count": 19,
     "metadata": {},
     "output_type": "execute_result"
    }
   ],
   "source": [
    "worst_predictions.head(10)"
   ]
  },
  {
   "cell_type": "code",
   "execution_count": 20,
   "metadata": {},
   "outputs": [
    {
     "name": "stdout",
     "output_type": "stream",
     "text": [
      "Accuracy: 27.89%\n"
     ]
    }
   ],
   "source": [
    "def get_accuracy(df):\n",
    "    # Count correct predictions\n",
    "    correct = 0\n",
    "    for _, row in df.iterrows():\n",
    "        if round(row['predictions']) == round(row['targets']):\n",
    "            correct += 1\n",
    "\n",
    "    # Compute accuracy\n",
    "    accuracy_percentage = correct / len(df)\n",
    "    return accuracy_percentage * 100\n",
    "\n",
    "# Get accuracy\n",
    "accuracy = get_accuracy(df)\n",
    "print(f'Accuracy: {accuracy:.2f}%')"
   ]
  },
  {
   "cell_type": "code",
   "execution_count": 21,
   "metadata": {},
   "outputs": [
    {
     "data": {
      "text/html": [],
      "text/plain": [
       "<IPython.core.display.HTML object>"
      ]
     },
     "metadata": {},
     "output_type": "display_data"
    },
    {
     "name": "stdout",
     "output_type": "stream",
     "text": [
      "Predictions shape: torch.Size([190])\n",
      "Targets shape: torch.Size([190, 1])\n"
     ]
    }
   ],
   "source": [
    "preds, targs = learn.get_preds()\n",
    "\n",
    "# Now you can check their shapes\n",
    "print(f'Predictions shape: {preds.shape}')\n",
    "print(f'Targets shape: {targs.shape}')"
   ]
  },
  {
   "cell_type": "code",
   "execution_count": 22,
   "metadata": {},
   "outputs": [
    {
     "name": "stdout",
     "output_type": "stream",
     "text": [
      "Predictions shape: torch.Size([190])\n",
      "Targets shape: torch.Size([190])\n"
     ]
    }
   ],
   "source": [
    "# Remove the extra dimension from targets\n",
    "targs = targs.squeeze()\n",
    "\n",
    "# Now the shapes should match\n",
    "print(f'Predictions shape: {preds.shape}')\n",
    "print(f'Targets shape: {targs.shape}')"
   ]
  },
  {
   "cell_type": "code",
   "execution_count": 23,
   "metadata": {},
   "outputs": [
    {
     "name": "stdout",
     "output_type": "stream",
     "text": [
      "Batch 1: 64\n",
      "Batch 2: 64\n",
      "Batch 3: 62\n",
      "Predictions: 190\n",
      "Targets: 190\n"
     ]
    }
   ],
   "source": [
    "# Assuming `dls` is your DataLoader\n",
    "for i, batch in enumerate(dls.valid):\n",
    "    x, y = batch\n",
    "    print(f'Batch {i+1}: {x.shape[0]}')\n",
    "\n",
    "# Check the shape of predictions and targets\n",
    "print(f'Predictions: {preds.shape[0]}')\n",
    "print(f'Targets: {targs.shape[0]}')"
   ]
  },
  {
   "cell_type": "code",
   "execution_count": 24,
   "metadata": {},
   "outputs": [
    {
     "name": "stdout",
     "output_type": "stream",
     "text": [
      "Predictions: torch.Size([190])\n",
      "Targets: torch.Size([190])\n"
     ]
    }
   ],
   "source": [
    "print(f'Predictions: {preds.shape}')\n",
    "print(f'Targets: {targs.shape}')"
   ]
  }
 ],
 "metadata": {
  "kernelspec": {
   "display_name": "DL",
   "language": "python",
   "name": "python3"
  },
  "language_info": {
   "codemirror_mode": {
    "name": "ipython",
    "version": 3
   },
   "file_extension": ".py",
   "mimetype": "text/x-python",
   "name": "python",
   "nbconvert_exporter": "python",
   "pygments_lexer": "ipython3",
   "version": "3.10.9"
  }
 },
 "nbformat": 4,
 "nbformat_minor": 2
}
