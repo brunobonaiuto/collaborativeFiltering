{
 "cells": [
  {
   "cell_type": "markdown",
   "metadata": {},
   "source": [
    "## Implementing the collaborative filtering using deep learning\n",
    "* Randomly Initialise Parameters — these will be the latent factors that help predict whether someone will like a movie.\n",
    "* Calculate Predictions — this is done by taking the matrix dot product of the movie and user matrices. An example would be if a user’s likening to international films is high, and a movie is foreign; the product of the two will be large and, that movie will rank higher for that user.\n",
    "* note: This approach could be used for prediction but is very inefficient as it requires a vector to be created and stored for each prediction."
   ]
  },
  {
   "cell_type": "code",
   "execution_count": 1,
   "metadata": {},
   "outputs": [],
   "source": [
    "#libreries\n",
    "from fastai.collab import *\n",
    "from fastai.tabular.all import *\n",
    "from fastai import *\n",
    "from fastai.metrics import *\n",
    "from fastai.callback.tracker import *\n",
    "\n",
    "#import acc from fastai.metrics\n",
    "from fastai.metrics import accuracy, Precision, Recall\n",
    "#from fastbook import *\n",
    "import pandas as pd\n",
    "import numpy as np\n",
    "set_seed(42)"
   ]
  },
  {
   "cell_type": "code",
   "execution_count": 2,
   "metadata": {},
   "outputs": [
    {
     "data": {
      "text/html": [
       "<div>\n",
       "<style scoped>\n",
       "    .dataframe tbody tr th:only-of-type {\n",
       "        vertical-align: middle;\n",
       "    }\n",
       "\n",
       "    .dataframe tbody tr th {\n",
       "        vertical-align: top;\n",
       "    }\n",
       "\n",
       "    .dataframe thead th {\n",
       "        text-align: right;\n",
       "    }\n",
       "</style>\n",
       "<table border=\"1\" class=\"dataframe\">\n",
       "  <thead>\n",
       "    <tr style=\"text-align: right;\">\n",
       "      <th></th>\n",
       "      <th>userId</th>\n",
       "      <th>wine</th>\n",
       "      <th>rate</th>\n",
       "    </tr>\n",
       "  </thead>\n",
       "  <tbody>\n",
       "    <tr>\n",
       "      <th>0</th>\n",
       "      <td>f8c400a6-ded1-40b8-95d2-a263d05c30ce</td>\n",
       "      <td>Montepulciano 60</td>\n",
       "      <td>1</td>\n",
       "    </tr>\n",
       "    <tr>\n",
       "      <th>1</th>\n",
       "      <td>4e0cbfe3-8d73-4af4-b09e-f3193d1170a5</td>\n",
       "      <td>Zahorra Blanca</td>\n",
       "      <td>1</td>\n",
       "    </tr>\n",
       "    <tr>\n",
       "      <th>2</th>\n",
       "      <td>20e0b694-84a5-4f11-9191-598f924c2947</td>\n",
       "      <td>Morellino di Scansano 2021</td>\n",
       "      <td>1</td>\n",
       "    </tr>\n",
       "    <tr>\n",
       "      <th>3</th>\n",
       "      <td>20e0b694-84a5-4f11-9191-598f924c2947</td>\n",
       "      <td>Morellino di Scansano 2021</td>\n",
       "      <td>1</td>\n",
       "    </tr>\n",
       "    <tr>\n",
       "      <th>4</th>\n",
       "      <td>5ccd8030-047b-432c-a630-d784ab415756</td>\n",
       "      <td>Bardolino Chiaretto</td>\n",
       "      <td>1</td>\n",
       "    </tr>\n",
       "  </tbody>\n",
       "</table>\n",
       "</div>"
      ],
      "text/plain": [
       "                                 userId                        wine  rate\n",
       "0  f8c400a6-ded1-40b8-95d2-a263d05c30ce            Montepulciano 60     1\n",
       "1  4e0cbfe3-8d73-4af4-b09e-f3193d1170a5              Zahorra Blanca     1\n",
       "2  20e0b694-84a5-4f11-9191-598f924c2947  Morellino di Scansano 2021     1\n",
       "3  20e0b694-84a5-4f11-9191-598f924c2947  Morellino di Scansano 2021     1\n",
       "4  5ccd8030-047b-432c-a630-d784ab415756         Bardolino Chiaretto     1"
      ]
     },
     "execution_count": 2,
     "metadata": {},
     "output_type": "execute_result"
    }
   ],
   "source": [
    "df = pd.read_csv('/home/bbruno/all_here/python course/vinnie/data/cleaned_data/df_oversamling.csv')\n",
    "df.head()"
   ]
  },
  {
   "cell_type": "code",
   "execution_count": 3,
   "metadata": {},
   "outputs": [],
   "source": [
    "# # #importing directly the confusion matrix\n",
    "# # user_features_df = pd.read_csv('/home/bbruno/all_here/python course/thesis/knn/user_features_df.csv')\n",
    "# # user_features_df\n",
    "\n",
    "# #importing the user,movie,rating dataframe\n",
    "# #we drop a column that was added by mistake by the system\n",
    "# df = pd.read_csv('/home/bbruno/all_here/python course/vinnie/data/cleaned_data/upsampled_df_smote.csv')\n",
    "# df.head()\n",
    "# # df = pd.read_csv('/home/bbruno/all_here/python course/thesis/knn/df.csv').drop('Unnamed: 0', axis=1)\n",
    "# # df.tail()"
   ]
  },
  {
   "cell_type": "code",
   "execution_count": 4,
   "metadata": {},
   "outputs": [
    {
     "data": {
      "text/html": [
       "<table border=\"1\" class=\"dataframe\">\n",
       "  <thead>\n",
       "    <tr style=\"text-align: right;\">\n",
       "      <th></th>\n",
       "      <th>userId</th>\n",
       "      <th>wine</th>\n",
       "      <th>rate</th>\n",
       "    </tr>\n",
       "  </thead>\n",
       "  <tbody>\n",
       "    <tr>\n",
       "      <th>0</th>\n",
       "      <td>1818462e-a882-487f-9818-98faab99b3c4</td>\n",
       "      <td>Steak House Red</td>\n",
       "      <td>3</td>\n",
       "    </tr>\n",
       "    <tr>\n",
       "      <th>1</th>\n",
       "      <td>ecc462e1-5041-43ca-94c3-c2bfc9b3215e</td>\n",
       "      <td>le vigne di zamo refosco</td>\n",
       "      <td>1</td>\n",
       "    </tr>\n",
       "    <tr>\n",
       "      <th>2</th>\n",
       "      <td>826c6abe-7147-4b69-aaea-275fe65b033a</td>\n",
       "      <td>Cavalcaonte Barbera Forlí</td>\n",
       "      <td>5</td>\n",
       "    </tr>\n",
       "    <tr>\n",
       "      <th>3</th>\n",
       "      <td>877019f9-3c77-491d-912e-58b2404aed47</td>\n",
       "      <td>Chianti</td>\n",
       "      <td>1</td>\n",
       "    </tr>\n",
       "    <tr>\n",
       "      <th>4</th>\n",
       "      <td>36fec3ea-e183-491d-b65a-6c7ac90fafa5</td>\n",
       "      <td>Ribolla Gialla</td>\n",
       "      <td>5</td>\n",
       "    </tr>\n",
       "    <tr>\n",
       "      <th>5</th>\n",
       "      <td>ecc462e1-5041-43ca-94c3-c2bfc9b3215e</td>\n",
       "      <td>Friulano</td>\n",
       "      <td>1</td>\n",
       "    </tr>\n",
       "    <tr>\n",
       "      <th>6</th>\n",
       "      <td>7a20fe0e-38bf-4e66-967a-dd60aa05d77f</td>\n",
       "      <td>Russiz Superiore</td>\n",
       "      <td>5</td>\n",
       "    </tr>\n",
       "    <tr>\n",
       "      <th>7</th>\n",
       "      <td>91cf68cc-9436-43e1-871d-33beef4d2337</td>\n",
       "      <td>Legitimo Carinena</td>\n",
       "      <td>2</td>\n",
       "    </tr>\n",
       "    <tr>\n",
       "      <th>8</th>\n",
       "      <td>c2dfb861-cdad-4fb2-9460-fc794c7f6cad</td>\n",
       "      <td>Merlot (U)</td>\n",
       "      <td>2</td>\n",
       "    </tr>\n",
       "    <tr>\n",
       "      <th>9</th>\n",
       "      <td>f8c400a6-ded1-40b8-95d2-a263d05c30ce</td>\n",
       "      <td>Pistus</td>\n",
       "      <td>3</td>\n",
       "    </tr>\n",
       "  </tbody>\n",
       "</table>"
      ],
      "text/plain": [
       "<IPython.core.display.HTML object>"
      ]
     },
     "metadata": {},
     "output_type": "display_data"
    }
   ],
   "source": [
    "#we create a dataloader\n",
    "#we pass the title of the movie and not the movie id\n",
    "dls = CollabDataLoaders.from_df(df, user_name='userId',item_name='wine', bs=64)\n",
    "#we can see the batch\n",
    "dls.show_batch()"
   ]
  },
  {
   "cell_type": "code",
   "execution_count": 5,
   "metadata": {},
   "outputs": [],
   "source": [
    "#CALCULATE PREDICTIONS USING MATRIX MULTIPLICATION\n",
    "\n",
    "#we create a matrix with the user features\n",
    "n_users = len(dls.classes['userId']) #the number of user is the lenght of how many users\n",
    "#we create a matrix with the movie features\n",
    "n_movies = len(dls.classes['wine']) #the number of movies is the lenght of how many movies\n",
    "#we choose the number of factors\n",
    "n_factors = 5 \n",
    "\n",
    "#we create a random matrix with the user features(embeddings)\n",
    "#userFactors = (numberOfUsers x 5)\n",
    "user_factors = torch.randn(n_users, n_factors)\n",
    "#we create a random matrix with the movie features(embeddings)\n",
    "#movieFactors = (numberOfMovies x 5)\n",
    "movie_factors = torch.randn(n_movies, n_factors)\n",
    "\n",
    "##########################################\n",
    "#To calculate the result for a particular movie and user combination, \n",
    "#we have to look up the index of the movie in our movie latent factor matrix and\n",
    "#the index of the user in our user latent factor matrix; \n",
    "#then we can do our dot product between the two latent factor vectors\n",
    "\n",
    "# Create a function that takes the user id and the movie title to make a prediction\n",
    "def oneHotPredict(userId, title):\n",
    "    '''In the oneHotPredict function, \n",
    "    we use the indices of the user and movie in the embedding matrices\n",
    "    to look up the corresponding embeddings.\n",
    "    ----\n",
    "    We calculate the prediction by taking the dot product\n",
    "    (element-wise multiplication and then sum) of the user and wine embeddings.\n",
    "    '''\n",
    "    userIdx = dls.classes['userId'].o2i[userId]\n",
    "    movie_idx = dls.classes['wine'].o2i[title]\n",
    "    \n",
    "    user_embedding = user_factors[userIdx]\n",
    "    movie_embedding = movie_factors[movie_idx]\n",
    "    \n",
    "    prediction = (user_embedding * movie_embedding).sum()\n",
    "    return print(f\"Predicted rating for user '{userId}' and '{title}': {prediction:.2f}\")"
   ]
  },
  {
   "cell_type": "code",
   "execution_count": 6,
   "metadata": {},
   "outputs": [
    {
     "name": "stdout",
     "output_type": "stream",
     "text": [
      "Predicted rating for user '13016d41-00bd-411c-83f5-2b95691696b7' and 'Pinot Grigio': -0.66\n"
     ]
    }
   ],
   "source": [
    "# Prediction for user 9 and the movie 'Toy Story (1995)'\n",
    "prediction = oneHotPredict('13016d41-00bd-411c-83f5-2b95691696b7', 'Pinot Grigio')\n",
    "#print(f'Predicted rating for user 9 and Toy Story (1995): {prediction:.2f}')"
   ]
  },
  {
   "cell_type": "markdown",
   "metadata": {},
   "source": [
    "## Matrix factorization\n",
    "* A better approach"
   ]
  },
  {
   "cell_type": "code",
   "execution_count": 7,
   "metadata": {},
   "outputs": [],
   "source": [
    "def create_params(size):\n",
    "    \"\"\"\n",
    "      Pass tensor shape\n",
    "      Returns normalised model parameters\n",
    "    \"\"\"\n",
    "    return nn.Parameter(torch.zeros(*size).normal_(0, 0.01))\n",
    "\n",
    "class DotProductBias(Module):\n",
    "    \"\"\"\n",
    "    Model architecture for collaborative filtering\n",
    "    \"\"\"\n",
    "    def __init__(self, n_users, n_movies, n_factors, y_range=(0, 5.5)):\n",
    "        \"\"\"\n",
    "        Initialises model with parameters\n",
    "        :param n_users: number of users\n",
    "        :param n_movies: number of movies\n",
    "        :param n_factors: number of factors\n",
    "        :param y_range: sigmoid limit\n",
    "        \"\"\"\n",
    "        self.user_factors = create_params([n_users, n_factors])\n",
    "        self.user_bias = create_params([n_users])\n",
    "        self.movie_factors = create_params([n_movies, n_factors])\n",
    "        self.movie_bias = create_params([n_movies])\n",
    "        self.y_range = y_range\n",
    "\n",
    "    def forward(self, x):\n",
    "        \"\"\"\n",
    "        Applies a forward pass on the dataset passed\n",
    "        :param x: data as DataLoaders obj\n",
    "        :return: predictions in sigmoid range (tensor)\n",
    "        \"\"\"\n",
    "        users = self.user_factors[x[:, 0]]\n",
    "        movies = self.movie_factors[x[:, 1]]\n",
    "        res = (users*movies).sum(dim=1)\n",
    "        res += self.user_bias[x[:, 0]] + self.movie_bias[x[:, 1]]\n",
    "        return sigmoid_range(res, *self.y_range)"
   ]
  },
  {
   "cell_type": "code",
   "execution_count": 8,
   "metadata": {},
   "outputs": [
    {
     "data": {
      "text/html": [
       "<table border=\"1\" class=\"dataframe\">\n",
       "  <thead>\n",
       "    <tr style=\"text-align: left;\">\n",
       "      <th>epoch</th>\n",
       "      <th>train_loss</th>\n",
       "      <th>valid_loss</th>\n",
       "      <th>mse</th>\n",
       "      <th>_rmse</th>\n",
       "      <th>mae</th>\n",
       "      <th>time</th>\n",
       "    </tr>\n",
       "  </thead>\n",
       "  <tbody>\n",
       "    <tr>\n",
       "      <td>0</td>\n",
       "      <td>1.846920</td>\n",
       "      <td>1.173903</td>\n",
       "      <td>1.173903</td>\n",
       "      <td>1.083468</td>\n",
       "      <td>0.882000</td>\n",
       "      <td>00:00</td>\n",
       "    </tr>\n",
       "    <tr>\n",
       "      <td>1</td>\n",
       "      <td>1.042485</td>\n",
       "      <td>0.440497</td>\n",
       "      <td>0.440497</td>\n",
       "      <td>0.663700</td>\n",
       "      <td>0.510971</td>\n",
       "      <td>00:00</td>\n",
       "    </tr>\n",
       "    <tr>\n",
       "      <td>2</td>\n",
       "      <td>0.732361</td>\n",
       "      <td>0.443789</td>\n",
       "      <td>0.443789</td>\n",
       "      <td>0.666175</td>\n",
       "      <td>0.483619</td>\n",
       "      <td>00:00</td>\n",
       "    </tr>\n",
       "    <tr>\n",
       "      <td>3</td>\n",
       "      <td>0.616177</td>\n",
       "      <td>0.396249</td>\n",
       "      <td>0.396249</td>\n",
       "      <td>0.629483</td>\n",
       "      <td>0.440758</td>\n",
       "      <td>00:00</td>\n",
       "    </tr>\n",
       "    <tr>\n",
       "      <td>4</td>\n",
       "      <td>0.539944</td>\n",
       "      <td>0.346189</td>\n",
       "      <td>0.346189</td>\n",
       "      <td>0.588379</td>\n",
       "      <td>0.408969</td>\n",
       "      <td>00:00</td>\n",
       "    </tr>\n",
       "    <tr>\n",
       "      <td>5</td>\n",
       "      <td>0.424438</td>\n",
       "      <td>0.307309</td>\n",
       "      <td>0.307309</td>\n",
       "      <td>0.554355</td>\n",
       "      <td>0.344692</td>\n",
       "      <td>00:00</td>\n",
       "    </tr>\n",
       "    <tr>\n",
       "      <td>6</td>\n",
       "      <td>0.334332</td>\n",
       "      <td>0.256875</td>\n",
       "      <td>0.256875</td>\n",
       "      <td>0.506828</td>\n",
       "      <td>0.308417</td>\n",
       "      <td>00:00</td>\n",
       "    </tr>\n",
       "    <tr>\n",
       "      <td>7</td>\n",
       "      <td>0.248912</td>\n",
       "      <td>0.242928</td>\n",
       "      <td>0.242928</td>\n",
       "      <td>0.492877</td>\n",
       "      <td>0.287374</td>\n",
       "      <td>00:00</td>\n",
       "    </tr>\n",
       "    <tr>\n",
       "      <td>8</td>\n",
       "      <td>0.180154</td>\n",
       "      <td>0.236984</td>\n",
       "      <td>0.236984</td>\n",
       "      <td>0.486810</td>\n",
       "      <td>0.270586</td>\n",
       "      <td>00:00</td>\n",
       "    </tr>\n",
       "    <tr>\n",
       "      <td>9</td>\n",
       "      <td>0.134415</td>\n",
       "      <td>0.236329</td>\n",
       "      <td>0.236329</td>\n",
       "      <td>0.486136</td>\n",
       "      <td>0.268503</td>\n",
       "      <td>00:00</td>\n",
       "    </tr>\n",
       "  </tbody>\n",
       "</table>"
      ],
      "text/plain": [
       "<IPython.core.display.HTML object>"
      ]
     },
     "metadata": {},
     "output_type": "display_data"
    }
   ],
   "source": [
    "#good model\n",
    "#Working perfectly without cross validation\n",
    "model = DotProductBias(n_users, n_movies, 50)\n",
    "learn = Learner(dls, model, loss_func=MSELossFlat(),metrics=[mse, rmse, mae])\n",
    "#wd = weight decay (L2 regularization)\n",
    "learn.fit_one_cycle(10, 0.05, wd=0.1)\n",
    "# # acc = 79.00%, train_loss = 0.134415, valid_loss = 0.236329, mse = 0.236329, rmse = 0.486136, mae = 0.268503\n",
    "\n",
    "# #This model generalize good\n",
    "# model = DotProductBias(n_users, n_movies, 50)\n",
    "# learn = Learner(dls, model, loss_func=MSELossFlat(),metrics=[mse, rmse, mae])\n",
    "# #wd = weight decay (L2 regularization)\n",
    "# learn.fit_one_cycle(10, 0.003, wd=0.1)\n",
    "# # acc = 68.24% , train_loss = 0.239520, valid_loss = 0.418527, mse = 0.418527, rmse = 0.646936, mae = 0.398856"
   ]
  },
  {
   "cell_type": "code",
   "execution_count": 9,
   "metadata": {},
   "outputs": [
    {
     "data": {
      "text/html": [],
      "text/plain": [
       "<IPython.core.display.HTML object>"
      ]
     },
     "metadata": {},
     "output_type": "display_data"
    },
    {
     "data": {
      "text/plain": [
       "SuggestedLRs(valley=0.013182567432522774)"
      ]
     },
     "execution_count": 9,
     "metadata": {},
     "output_type": "execute_result"
    },
    {
     "data": {
      "image/png": "[encoded data removed]",
      "text/plain": [
       "<Figure size 640x480 with 1 Axes>"
      ]
     },
     "metadata": {},
     "output_type": "display_data"
    }
   ],
   "source": [
    "learn.lr_find()"
   ]
  },
  {
   "cell_type": "code",
   "execution_count": 10,
   "metadata": {},
   "outputs": [
    {
     "name": "stdout",
     "output_type": "stream",
     "text": [
      "Recommended movies:\n",
      "Pinot grigio\n",
      "Chardonnay\n",
      "Vistamar Cabernet Sauvignon Reserva\n",
      "Chapel Peak - Fusional of Marlborough\n",
      "Legitimo Carinena\n"
     ]
    }
   ],
   "source": [
    "#import torch.nn as nn\n",
    "#Recommendations\n",
    "def recommends(fav_movie, top_n=5):\n",
    "    movie_factors = learn.model.movie_factors\n",
    "    #we look up the movie in the movie factors\n",
    "    idx = dls.classes['wine'].o2i[fav_movie]\n",
    "    #find the movie with minimum distance\n",
    "    distances = nn.CosineSimilarity(dim=1)(movie_factors, movie_factors[idx][None])\n",
    "    #we sort the movies by distance\n",
    "    idx = distances.argsort(descending=True)[1:top_n+1]\n",
    "    #we return the movies\n",
    "    recommended_movies = [dls.classes['wine'][i] for i in idx]\n",
    "    return recommended_movies\n",
    "\n",
    "recommended_movies = recommends('Pinot Grigio')\n",
    "print(\"Recommended movies:\")\n",
    "for movie in recommended_movies:\n",
    "    print(movie)"
   ]
  },
  {
   "cell_type": "code",
   "execution_count": 11,
   "metadata": {},
   "outputs": [
    {
     "name": "stdout",
     "output_type": "stream",
     "text": [
      "Predicted rating for user '13016d41-00bd-411c-83f5-2b95691696b7' and 'chardonnay': 3.18\n",
      "Predicted rating for user '50' and 'cabernet sauvignon': 2.75\n"
     ]
    }
   ],
   "source": [
    "#def prediction for a user\n",
    "def prediction_user_like(userId, title):\n",
    "    userIdx = dls.classes['userId'].o2i[userId]\n",
    "    movie_idx = dls.classes['wine'].o2i[title]\n",
    "\n",
    "    # Make a prediction using the model's forward method\n",
    "    prediction = learn.model.forward(tensor([[userIdx, movie_idx]])).item()\n",
    "\n",
    "    return print(f\"Predicted rating for user '{userId}' and '{title}': {prediction:.2f}\")\n",
    "\n",
    "prediction = prediction_user_like('13016d41-00bd-411c-83f5-2b95691696b7', 'chardonnay')\n",
    "prediction = prediction_user_like(50, 'cabernet sauvignon')"
   ]
  },
  {
   "cell_type": "code",
   "execution_count": 12,
   "metadata": {},
   "outputs": [
    {
     "data": {
      "text/html": [],
      "text/plain": [
       "<IPython.core.display.HTML object>"
      ]
     },
     "metadata": {},
     "output_type": "display_data"
    },
    {
     "data": {
      "text/html": [
       "<table border=\"1\" class=\"dataframe\">\n",
       "  <thead>\n",
       "    <tr style=\"text-align: right;\">\n",
       "      <th></th>\n",
       "      <th>userId</th>\n",
       "      <th>wine</th>\n",
       "      <th>rate</th>\n",
       "      <th>rate_pred</th>\n",
       "    </tr>\n",
       "  </thead>\n",
       "  <tbody>\n",
       "    <tr>\n",
       "      <th>0</th>\n",
       "      <td>61</td>\n",
       "      <td>296</td>\n",
       "      <td>3</td>\n",
       "      <td>2.995965</td>\n",
       "    </tr>\n",
       "    <tr>\n",
       "      <th>1</th>\n",
       "      <td>53</td>\n",
       "      <td>409</td>\n",
       "      <td>1</td>\n",
       "      <td>1.204577</td>\n",
       "    </tr>\n",
       "    <tr>\n",
       "      <th>2</th>\n",
       "      <td>99</td>\n",
       "      <td>671</td>\n",
       "      <td>1</td>\n",
       "      <td>1.006634</td>\n",
       "    </tr>\n",
       "    <tr>\n",
       "      <th>3</th>\n",
       "      <td>99</td>\n",
       "      <td>671</td>\n",
       "      <td>1</td>\n",
       "      <td>1.006634</td>\n",
       "    </tr>\n",
       "    <tr>\n",
       "      <th>4</th>\n",
       "      <td>21</td>\n",
       "      <td>376</td>\n",
       "      <td>5</td>\n",
       "      <td>4.955418</td>\n",
       "    </tr>\n",
       "    <tr>\n",
       "      <th>5</th>\n",
       "      <td>61</td>\n",
       "      <td>621</td>\n",
       "      <td>3</td>\n",
       "      <td>3.056275</td>\n",
       "    </tr>\n",
       "    <tr>\n",
       "      <th>6</th>\n",
       "      <td>110</td>\n",
       "      <td>439</td>\n",
       "      <td>5</td>\n",
       "      <td>4.945254</td>\n",
       "    </tr>\n",
       "    <tr>\n",
       "      <th>7</th>\n",
       "      <td>99</td>\n",
       "      <td>94</td>\n",
       "      <td>2</td>\n",
       "      <td>1.999293</td>\n",
       "    </tr>\n",
       "    <tr>\n",
       "      <th>8</th>\n",
       "      <td>168</td>\n",
       "      <td>584</td>\n",
       "      <td>2</td>\n",
       "      <td>1.994477</td>\n",
       "    </tr>\n",
       "  </tbody>\n",
       "</table>"
      ],
      "text/plain": [
       "<IPython.core.display.HTML object>"
      ]
     },
     "metadata": {},
     "output_type": "display_data"
    }
   ],
   "source": [
    "# Show 20 rows of results\n",
    "learn.show_results(n=20)"
   ]
  },
  {
   "cell_type": "code",
   "execution_count": 13,
   "metadata": {},
   "outputs": [
    {
     "data": {
      "text/plain": [
       "array(['Terrano', 'Friulano', 'Nerello mascalese', 'Chianti',\n",
       "       \"Moscato d'Asti\", 'Campofiorin Rosso Veronese', '2/5 大亂鬥 2',\n",
       "       'Rheinhessen Kabinett Riesling', '3／4 大亂鬥 11',\n",
       "       'Morellino di Scansano 2021'], dtype=object)"
      ]
     },
     "execution_count": 13,
     "metadata": {},
     "output_type": "execute_result"
    }
   ],
   "source": [
    "g = df.groupby('wine')['rate'].count()\n",
    "top_wines = g.sort_values(ascending=False).index.values[:50]\n",
    "top_wines[:10]"
   ]
  },
  {
   "cell_type": "code",
   "execution_count": 14,
   "metadata": {},
   "outputs": [
    {
     "data": {
      "text/html": [],
      "text/plain": [
       "<IPython.core.display.HTML object>"
      ]
     },
     "metadata": {},
     "output_type": "display_data"
    },
    {
     "name": "stdout",
     "output_type": "stream",
     "text": [
      "RMSE: 0.48613640666007996\n",
      "MSE: 0.2363286018371582\n",
      "MAE: 0.26850295066833496\n",
      "torch.Size([381])\n",
      "torch.Size([381, 1])\n",
      "The error is : 0.26850295066833496\n"
     ]
    },
    {
     "data": {
      "text/html": [
       "<div>\n",
       "<style scoped>\n",
       "    .dataframe tbody tr th:only-of-type {\n",
       "        vertical-align: middle;\n",
       "    }\n",
       "\n",
       "    .dataframe tbody tr th {\n",
       "        vertical-align: top;\n",
       "    }\n",
       "\n",
       "    .dataframe thead th {\n",
       "        text-align: right;\n",
       "    }\n",
       "</style>\n",
       "<table border=\"1\" class=\"dataframe\">\n",
       "  <thead>\n",
       "    <tr style=\"text-align: right;\">\n",
       "      <th></th>\n",
       "      <th>targets</th>\n",
       "      <th>predictions</th>\n",
       "      <th>error</th>\n",
       "    </tr>\n",
       "  </thead>\n",
       "  <tbody>\n",
       "    <tr>\n",
       "      <th>0</th>\n",
       "      <td>1</td>\n",
       "      <td>0.991511</td>\n",
       "      <td>-0.008489</td>\n",
       "    </tr>\n",
       "    <tr>\n",
       "      <th>1</th>\n",
       "      <td>5</td>\n",
       "      <td>4.704081</td>\n",
       "      <td>-0.295919</td>\n",
       "    </tr>\n",
       "    <tr>\n",
       "      <th>2</th>\n",
       "      <td>2</td>\n",
       "      <td>1.986871</td>\n",
       "      <td>-0.013129</td>\n",
       "    </tr>\n",
       "    <tr>\n",
       "      <th>3</th>\n",
       "      <td>5</td>\n",
       "      <td>5.008782</td>\n",
       "      <td>0.008782</td>\n",
       "    </tr>\n",
       "    <tr>\n",
       "      <th>4</th>\n",
       "      <td>3</td>\n",
       "      <td>3.013859</td>\n",
       "      <td>0.013859</td>\n",
       "    </tr>\n",
       "    <tr>\n",
       "      <th>...</th>\n",
       "      <td>...</td>\n",
       "      <td>...</td>\n",
       "      <td>...</td>\n",
       "    </tr>\n",
       "    <tr>\n",
       "      <th>376</th>\n",
       "      <td>4</td>\n",
       "      <td>3.214201</td>\n",
       "      <td>-0.785799</td>\n",
       "    </tr>\n",
       "    <tr>\n",
       "      <th>377</th>\n",
       "      <td>4</td>\n",
       "      <td>3.249242</td>\n",
       "      <td>-0.750758</td>\n",
       "    </tr>\n",
       "    <tr>\n",
       "      <th>378</th>\n",
       "      <td>5</td>\n",
       "      <td>5.002077</td>\n",
       "      <td>0.002077</td>\n",
       "    </tr>\n",
       "    <tr>\n",
       "      <th>379</th>\n",
       "      <td>3</td>\n",
       "      <td>3.265886</td>\n",
       "      <td>0.265886</td>\n",
       "    </tr>\n",
       "    <tr>\n",
       "      <th>380</th>\n",
       "      <td>2</td>\n",
       "      <td>1.999892</td>\n",
       "      <td>-0.000108</td>\n",
       "    </tr>\n",
       "  </tbody>\n",
       "</table>\n",
       "<p>381 rows × 3 columns</p>\n",
       "</div>"
      ],
      "text/plain": [
       "     targets  predictions     error\n",
       "0          1     0.991511 -0.008489\n",
       "1          5     4.704081 -0.295919\n",
       "2          2     1.986871 -0.013129\n",
       "3          5     5.008782  0.008782\n",
       "4          3     3.013859  0.013859\n",
       "..       ...          ...       ...\n",
       "376        4     3.214201 -0.785799\n",
       "377        4     3.249242 -0.750758\n",
       "378        5     5.002077  0.002077\n",
       "379        3     3.265886  0.265886\n",
       "380        2     1.999892 -0.000108\n",
       "\n",
       "[381 rows x 3 columns]"
      ]
     },
     "execution_count": 14,
     "metadata": {},
     "output_type": "execute_result"
    }
   ],
   "source": [
    "from fastai.metrics import rmse\n",
    "\n",
    "# Get predictions and targets\n",
    "preds, targs = learn.get_preds()\n",
    "\n",
    "# Calculate RMSE\n",
    "error = rmse(preds, targs)\n",
    "print(f'RMSE: {error}')\n",
    "\n",
    "#MSE\n",
    "error2 = mse(preds, targs)\n",
    "print(f'MSE: {error2}')\n",
    "\n",
    "#MAE\n",
    "error3 = mae(preds, targs)\n",
    "print(f'MAE: {error3}')\n",
    "\n",
    "print(preds.shape)\n",
    "print(targs.shape)\n",
    "\n",
    "#transform the trags since they were a 2d tensor\n",
    "targs = targs.squeeze()\n",
    "\n",
    "#we create a dataframe with the predictions and the targets\n",
    "df = pd.DataFrame({ 'targets': targs,'predictions': preds})\n",
    "df.head(20)\n",
    "\n",
    "#check the error\n",
    "df['error'] = df['predictions'] - df['targets']\n",
    "\n",
    "\n",
    "#print the error of the model\n",
    "print(f\"The error is : {df['error'].abs().mean()}\")\n",
    "\n",
    "df"
   ]
  },
  {
   "cell_type": "code",
   "execution_count": 15,
   "metadata": {},
   "outputs": [
    {
     "data": {
      "text/html": [
       "<div>\n",
       "<style scoped>\n",
       "    .dataframe tbody tr th:only-of-type {\n",
       "        vertical-align: middle;\n",
       "    }\n",
       "\n",
       "    .dataframe tbody tr th {\n",
       "        vertical-align: top;\n",
       "    }\n",
       "\n",
       "    .dataframe thead th {\n",
       "        text-align: right;\n",
       "    }\n",
       "</style>\n",
       "<table border=\"1\" class=\"dataframe\">\n",
       "  <thead>\n",
       "    <tr style=\"text-align: right;\">\n",
       "      <th></th>\n",
       "      <th>targets</th>\n",
       "      <th>predictions</th>\n",
       "      <th>error</th>\n",
       "      <th>abs_error</th>\n",
       "    </tr>\n",
       "  </thead>\n",
       "  <tbody>\n",
       "    <tr>\n",
       "      <th>35</th>\n",
       "      <td>4</td>\n",
       "      <td>3.999994</td>\n",
       "      <td>-0.000006</td>\n",
       "      <td>0.000006</td>\n",
       "    </tr>\n",
       "    <tr>\n",
       "      <th>380</th>\n",
       "      <td>2</td>\n",
       "      <td>1.999892</td>\n",
       "      <td>-0.000108</td>\n",
       "      <td>0.000108</td>\n",
       "    </tr>\n",
       "    <tr>\n",
       "      <th>335</th>\n",
       "      <td>5</td>\n",
       "      <td>4.999671</td>\n",
       "      <td>-0.000329</td>\n",
       "      <td>0.000329</td>\n",
       "    </tr>\n",
       "    <tr>\n",
       "      <th>171</th>\n",
       "      <td>5</td>\n",
       "      <td>4.999671</td>\n",
       "      <td>-0.000329</td>\n",
       "      <td>0.000329</td>\n",
       "    </tr>\n",
       "    <tr>\n",
       "      <th>165</th>\n",
       "      <td>4</td>\n",
       "      <td>4.000376</td>\n",
       "      <td>0.000376</td>\n",
       "      <td>0.000376</td>\n",
       "    </tr>\n",
       "    <tr>\n",
       "      <th>87</th>\n",
       "      <td>2</td>\n",
       "      <td>1.999557</td>\n",
       "      <td>-0.000443</td>\n",
       "      <td>0.000443</td>\n",
       "    </tr>\n",
       "    <tr>\n",
       "      <th>79</th>\n",
       "      <td>2</td>\n",
       "      <td>1.999528</td>\n",
       "      <td>-0.000472</td>\n",
       "      <td>0.000472</td>\n",
       "    </tr>\n",
       "    <tr>\n",
       "      <th>137</th>\n",
       "      <td>2</td>\n",
       "      <td>1.999293</td>\n",
       "      <td>-0.000707</td>\n",
       "      <td>0.000707</td>\n",
       "    </tr>\n",
       "    <tr>\n",
       "      <th>296</th>\n",
       "      <td>2</td>\n",
       "      <td>2.001245</td>\n",
       "      <td>0.001245</td>\n",
       "      <td>0.001245</td>\n",
       "    </tr>\n",
       "    <tr>\n",
       "      <th>38</th>\n",
       "      <td>2</td>\n",
       "      <td>2.001245</td>\n",
       "      <td>0.001245</td>\n",
       "      <td>0.001245</td>\n",
       "    </tr>\n",
       "  </tbody>\n",
       "</table>\n",
       "</div>"
      ],
      "text/plain": [
       "     targets  predictions     error  abs_error\n",
       "35         4     3.999994 -0.000006   0.000006\n",
       "380        2     1.999892 -0.000108   0.000108\n",
       "335        5     4.999671 -0.000329   0.000329\n",
       "171        5     4.999671 -0.000329   0.000329\n",
       "165        4     4.000376  0.000376   0.000376\n",
       "87         2     1.999557 -0.000443   0.000443\n",
       "79         2     1.999528 -0.000472   0.000472\n",
       "137        2     1.999293 -0.000707   0.000707\n",
       "296        2     2.001245  0.001245   0.001245\n",
       "38         2     2.001245  0.001245   0.001245"
      ]
     },
     "execution_count": 15,
     "metadata": {},
     "output_type": "execute_result"
    }
   ],
   "source": [
    "#sort by best predictions and worst predictions\n",
    "#sort col error from 0 to 5(-5)\n",
    "\n",
    "df['abs_error'] = df['error'].abs()\n",
    "best_predictions = df.sort_values(by='abs_error', ascending=True)\n",
    "worst_predictions = df.sort_values(by='error', ascending=False)\n",
    "\n",
    "#best predictions\n",
    "best_predictions.head(10)"
   ]
  },
  {
   "cell_type": "code",
   "execution_count": 16,
   "metadata": {},
   "outputs": [
    {
     "data": {
      "text/html": [
       "<div>\n",
       "<style scoped>\n",
       "    .dataframe tbody tr th:only-of-type {\n",
       "        vertical-align: middle;\n",
       "    }\n",
       "\n",
       "    .dataframe tbody tr th {\n",
       "        vertical-align: top;\n",
       "    }\n",
       "\n",
       "    .dataframe thead th {\n",
       "        text-align: right;\n",
       "    }\n",
       "</style>\n",
       "<table border=\"1\" class=\"dataframe\">\n",
       "  <thead>\n",
       "    <tr style=\"text-align: right;\">\n",
       "      <th></th>\n",
       "      <th>targets</th>\n",
       "      <th>predictions</th>\n",
       "      <th>error</th>\n",
       "      <th>abs_error</th>\n",
       "    </tr>\n",
       "  </thead>\n",
       "  <tbody>\n",
       "    <tr>\n",
       "      <th>304</th>\n",
       "      <td>2</td>\n",
       "      <td>3.176036</td>\n",
       "      <td>1.176036</td>\n",
       "      <td>1.176036</td>\n",
       "    </tr>\n",
       "    <tr>\n",
       "      <th>314</th>\n",
       "      <td>2</td>\n",
       "      <td>3.176036</td>\n",
       "      <td>1.176036</td>\n",
       "      <td>1.176036</td>\n",
       "    </tr>\n",
       "    <tr>\n",
       "      <th>85</th>\n",
       "      <td>3</td>\n",
       "      <td>4.005115</td>\n",
       "      <td>1.005115</td>\n",
       "      <td>1.005115</td>\n",
       "    </tr>\n",
       "    <tr>\n",
       "      <th>18</th>\n",
       "      <td>3</td>\n",
       "      <td>3.984687</td>\n",
       "      <td>0.984687</td>\n",
       "      <td>0.984687</td>\n",
       "    </tr>\n",
       "    <tr>\n",
       "      <th>223</th>\n",
       "      <td>2</td>\n",
       "      <td>2.777828</td>\n",
       "      <td>0.777828</td>\n",
       "      <td>0.777828</td>\n",
       "    </tr>\n",
       "    <tr>\n",
       "      <th>50</th>\n",
       "      <td>2</td>\n",
       "      <td>2.777828</td>\n",
       "      <td>0.777828</td>\n",
       "      <td>0.777828</td>\n",
       "    </tr>\n",
       "    <tr>\n",
       "      <th>131</th>\n",
       "      <td>4</td>\n",
       "      <td>4.567863</td>\n",
       "      <td>0.567863</td>\n",
       "      <td>0.567863</td>\n",
       "    </tr>\n",
       "    <tr>\n",
       "      <th>111</th>\n",
       "      <td>3</td>\n",
       "      <td>3.539757</td>\n",
       "      <td>0.539757</td>\n",
       "      <td>0.539757</td>\n",
       "    </tr>\n",
       "    <tr>\n",
       "      <th>287</th>\n",
       "      <td>3</td>\n",
       "      <td>3.531168</td>\n",
       "      <td>0.531168</td>\n",
       "      <td>0.531168</td>\n",
       "    </tr>\n",
       "    <tr>\n",
       "      <th>289</th>\n",
       "      <td>3</td>\n",
       "      <td>3.525599</td>\n",
       "      <td>0.525599</td>\n",
       "      <td>0.525599</td>\n",
       "    </tr>\n",
       "  </tbody>\n",
       "</table>\n",
       "</div>"
      ],
      "text/plain": [
       "     targets  predictions     error  abs_error\n",
       "304        2     3.176036  1.176036   1.176036\n",
       "314        2     3.176036  1.176036   1.176036\n",
       "85         3     4.005115  1.005115   1.005115\n",
       "18         3     3.984687  0.984687   0.984687\n",
       "223        2     2.777828  0.777828   0.777828\n",
       "50         2     2.777828  0.777828   0.777828\n",
       "131        4     4.567863  0.567863   0.567863\n",
       "111        3     3.539757  0.539757   0.539757\n",
       "287        3     3.531168  0.531168   0.531168\n",
       "289        3     3.525599  0.525599   0.525599"
      ]
     },
     "execution_count": 16,
     "metadata": {},
     "output_type": "execute_result"
    }
   ],
   "source": [
    "worst_predictions.head(10)"
   ]
  },
  {
   "cell_type": "code",
   "execution_count": 17,
   "metadata": {},
   "outputs": [
    {
     "name": "stdout",
     "output_type": "stream",
     "text": [
      "Accuracy: 79.00%\n"
     ]
    }
   ],
   "source": [
    "def get_accuracy(df):\n",
    "    # Count correct predictions\n",
    "    correct = 0\n",
    "    for _, row in df.iterrows():\n",
    "        if round(row['predictions']) == round(row['targets']):\n",
    "            correct += 1\n",
    "\n",
    "    # Compute accuracy\n",
    "    accuracy_percentage = correct / len(df)\n",
    "    return accuracy_percentage * 100\n",
    "\n",
    "# Get accuracy\n",
    "accuracy = get_accuracy(df)\n",
    "print(f'Accuracy: {accuracy:.2f}%')"
   ]
  },
  {
   "cell_type": "code",
   "execution_count": 18,
   "metadata": {},
   "outputs": [
    {
     "data": {
      "text/html": [],
      "text/plain": [
       "<IPython.core.display.HTML object>"
      ]
     },
     "metadata": {},
     "output_type": "display_data"
    },
    {
     "name": "stdout",
     "output_type": "stream",
     "text": [
      "Predictions shape: torch.Size([381])\n",
      "Targets shape: torch.Size([381, 1])\n"
     ]
    }
   ],
   "source": [
    "preds, targs = learn.get_preds()\n",
    "\n",
    "# Now you can check their shapes\n",
    "print(f'Predictions shape: {preds.shape}')\n",
    "print(f'Targets shape: {targs.shape}')"
   ]
  },
  {
   "cell_type": "code",
   "execution_count": 19,
   "metadata": {},
   "outputs": [
    {
     "name": "stdout",
     "output_type": "stream",
     "text": [
      "Predictions shape: torch.Size([381])\n",
      "Targets shape: torch.Size([381])\n"
     ]
    }
   ],
   "source": [
    "# Remove the extra dimension from targets\n",
    "targs = targs.squeeze()\n",
    "\n",
    "# Now the shapes should match\n",
    "print(f'Predictions shape: {preds.shape}')\n",
    "print(f'Targets shape: {targs.shape}')"
   ]
  },
  {
   "cell_type": "code",
   "execution_count": 20,
   "metadata": {},
   "outputs": [
    {
     "name": "stdout",
     "output_type": "stream",
     "text": [
      "Batch 1: 64\n",
      "Batch 2: 64\n",
      "Batch 3: 64\n",
      "Batch 4: 64\n",
      "Batch 5: 64\n",
      "Batch 6: 61\n",
      "Predictions: 381\n",
      "Targets: 381\n"
     ]
    }
   ],
   "source": [
    "# Assuming `dls` is your DataLoader\n",
    "for i, batch in enumerate(dls.valid):\n",
    "    x, y = batch\n",
    "    print(f'Batch {i+1}: {x.shape[0]}')\n",
    "\n",
    "# Check the shape of predictions and targets\n",
    "print(f'Predictions: {preds.shape[0]}')\n",
    "print(f'Targets: {targs.shape[0]}')"
   ]
  },
  {
   "cell_type": "code",
   "execution_count": 21,
   "metadata": {},
   "outputs": [
    {
     "name": "stdout",
     "output_type": "stream",
     "text": [
      "Predictions: torch.Size([381])\n",
      "Targets: torch.Size([381])\n"
     ]
    }
   ],
   "source": [
    "print(f'Predictions: {preds.shape}')\n",
    "print(f'Targets: {targs.shape}')"
   ]
  }
 ],
 "metadata": {
  "kernelspec": {
   "display_name": "DL",
   "language": "python",
   "name": "python3"
  },
  "language_info": {
   "codemirror_mode": {
    "name": "ipython",
    "version": 3
   },
   "file_extension": ".py",
   "mimetype": "text/x-python",
   "name": "python",
   "nbconvert_exporter": "python",
   "pygments_lexer": "ipython3",
   "version": "3.10.9"
  }
 },
 "nbformat": 4,
 "nbformat_minor": 2
}
