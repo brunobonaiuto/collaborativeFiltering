{
 "cells": [
  {
   "cell_type": "markdown",
   "metadata": {},
   "source": [
    "## Exploratory Data Analysis"
   ]
  },
  {
   "cell_type": "code",
   "execution_count": 1,
   "metadata": {},
   "outputs": [],
   "source": [
    "import pandas as pd\n",
    "import numpy as np\n",
    "# to work with json\n",
    "import json\n",
    "\n",
    "#visualization libraries\n",
    "import matplotlib.pylab as plt\n",
    "import seaborn as sns\n",
    "\n",
    "#stile for plots\n",
    "plt.style.use('ggplot')\n",
    "#pd.set_option('max_columns', 200)"
   ]
  },
  {
   "cell_type": "code",
   "execution_count": 2,
   "metadata": {},
   "outputs": [
    {
     "data": {
      "text/plain": [
       "Index(['userId', 'wines', 'tastingNotes', 'pairings'], dtype='object')"
      ]
     },
     "execution_count": 2,
     "metadata": {},
     "output_type": "execute_result"
    }
   ],
   "source": [
    "# to import the data from the json file to a dataframe\n",
    "with open ('/home/bbruno/all_here/python course/vinnie/data/users-data-prod.json', 'r') as file:\n",
    "    data = json.load(file)\n",
    "\n",
    "df = pd.json_normalize(data['usersData'])\n",
    "df.columns"
   ]
  },
  {
   "cell_type": "code",
   "execution_count": 3,
   "metadata": {},
   "outputs": [
    {
     "data": {
      "text/html": [
       "<div>\n",
       "<style scoped>\n",
       "    .dataframe tbody tr th:only-of-type {\n",
       "        vertical-align: middle;\n",
       "    }\n",
       "\n",
       "    .dataframe tbody tr th {\n",
       "        vertical-align: top;\n",
       "    }\n",
       "\n",
       "    .dataframe thead th {\n",
       "        text-align: right;\n",
       "    }\n",
       "</style>\n",
       "<table border=\"1\" class=\"dataframe\">\n",
       "  <thead>\n",
       "    <tr style=\"text-align: right;\">\n",
       "      <th></th>\n",
       "      <th>userId</th>\n",
       "      <th>wines</th>\n",
       "      <th>tastingNotes</th>\n",
       "      <th>pairings</th>\n",
       "    </tr>\n",
       "  </thead>\n",
       "  <tbody>\n",
       "    <tr>\n",
       "      <th>0</th>\n",
       "      <td>131a3994-a510-4ead-93d0-3d89f06b9602</td>\n",
       "      <td>[]</td>\n",
       "      <td>[]</td>\n",
       "      <td>[{'id': '4tO1hMInfEtHv4IbyIg9', 'date': '2022-...</td>\n",
       "    </tr>\n",
       "    <tr>\n",
       "      <th>1</th>\n",
       "      <td>16e6321b-1dd8-4db0-a491-627055a20d1d</td>\n",
       "      <td>[]</td>\n",
       "      <td>[]</td>\n",
       "      <td>[{'id': '4nDez8hvWjj4UscxL3Op', 'date': '2023-...</td>\n",
       "    </tr>\n",
       "    <tr>\n",
       "      <th>2</th>\n",
       "      <td>bffc7c74-ccf9-429b-a6a5-d7bc8a53441e</td>\n",
       "      <td>[]</td>\n",
       "      <td>[]</td>\n",
       "      <td>[{'id': '0eaezCUA4haEf2GVMSCo', 'date': '2023-...</td>\n",
       "    </tr>\n",
       "    <tr>\n",
       "      <th>3</th>\n",
       "      <td>97e19ee8-5d4a-4691-bdf0-a20f284d9f0a</td>\n",
       "      <td>[]</td>\n",
       "      <td>[]</td>\n",
       "      <td>[{'id': 'A2AF5ggyi9GtyZf1x9LG', 'date': '2023-...</td>\n",
       "    </tr>\n",
       "    <tr>\n",
       "      <th>4</th>\n",
       "      <td>690e6b1c-8af0-4a8b-b4a8-44030d7c7744</td>\n",
       "      <td>[{'grapes': ['Cabernet Sauvignon', 'Merlot', '...</td>\n",
       "      <td>[]</td>\n",
       "      <td>[{'id': 'yNiSBgN9jZ9b1aVz2pND', 'date': '2021-...</td>\n",
       "    </tr>\n",
       "  </tbody>\n",
       "</table>\n",
       "</div>"
      ],
      "text/plain": [
       "                                 userId  \\\n",
       "0  131a3994-a510-4ead-93d0-3d89f06b9602   \n",
       "1  16e6321b-1dd8-4db0-a491-627055a20d1d   \n",
       "2  bffc7c74-ccf9-429b-a6a5-d7bc8a53441e   \n",
       "3  97e19ee8-5d4a-4691-bdf0-a20f284d9f0a   \n",
       "4  690e6b1c-8af0-4a8b-b4a8-44030d7c7744   \n",
       "\n",
       "                                               wines tastingNotes  \\\n",
       "0                                                 []           []   \n",
       "1                                                 []           []   \n",
       "2                                                 []           []   \n",
       "3                                                 []           []   \n",
       "4  [{'grapes': ['Cabernet Sauvignon', 'Merlot', '...           []   \n",
       "\n",
       "                                            pairings  \n",
       "0  [{'id': '4tO1hMInfEtHv4IbyIg9', 'date': '2022-...  \n",
       "1  [{'id': '4nDez8hvWjj4UscxL3Op', 'date': '2023-...  \n",
       "2  [{'id': '0eaezCUA4haEf2GVMSCo', 'date': '2023-...  \n",
       "3  [{'id': 'A2AF5ggyi9GtyZf1x9LG', 'date': '2023-...  \n",
       "4  [{'id': 'yNiSBgN9jZ9b1aVz2pND', 'date': '2021-...  "
      ]
     },
     "execution_count": 3,
     "metadata": {},
     "output_type": "execute_result"
    }
   ],
   "source": [
    "df.head()"
   ]
  },
  {
   "cell_type": "code",
   "execution_count": 4,
   "metadata": {},
   "outputs": [
    {
     "data": {
      "text/plain": [
       "(4504, 4)"
      ]
     },
     "execution_count": 4,
     "metadata": {},
     "output_type": "execute_result"
    }
   ],
   "source": [
    "df.shape"
   ]
  },
  {
   "cell_type": "code",
   "execution_count": 6,
   "metadata": {},
   "outputs": [
    {
     "data": {
      "text/plain": [
       "userId          object\n",
       "wines           object\n",
       "tastingNotes    object\n",
       "pairings        object\n",
       "dtype: object"
      ]
     },
     "execution_count": 6,
     "metadata": {},
     "output_type": "execute_result"
    }
   ],
   "source": [
    "# to check the data types\n",
    "df.dtypes"
   ]
  },
  {
   "cell_type": "markdown",
   "metadata": {},
   "source": [
    "## feedback on pairings"
   ]
  },
  {
   "cell_type": "code",
   "execution_count": 7,
   "metadata": {},
   "outputs": [
    {
     "name": "stdout",
     "output_type": "stream",
     "text": [
      "the values after mapping are: [ 0 -1  1]\n",
      "userId      object\n",
      "feedback     int64\n",
      "wine        object\n",
      "dtype: object\n"
     ]
    },
    {
     "data": {
      "text/html": [
       "<div>\n",
       "<style scoped>\n",
       "    .dataframe tbody tr th:only-of-type {\n",
       "        vertical-align: middle;\n",
       "    }\n",
       "\n",
       "    .dataframe tbody tr th {\n",
       "        vertical-align: top;\n",
       "    }\n",
       "\n",
       "    .dataframe thead th {\n",
       "        text-align: right;\n",
       "    }\n",
       "</style>\n",
       "<table border=\"1\" class=\"dataframe\">\n",
       "  <thead>\n",
       "    <tr style=\"text-align: right;\">\n",
       "      <th></th>\n",
       "      <th>userId</th>\n",
       "      <th>feedback</th>\n",
       "      <th>wine</th>\n",
       "    </tr>\n",
       "  </thead>\n",
       "  <tbody>\n",
       "    <tr>\n",
       "      <th>0</th>\n",
       "      <td>131a3994-a510-4ead-93d0-3d89f06b9602</td>\n",
       "      <td>0</td>\n",
       "      <td>sangiovese_red</td>\n",
       "    </tr>\n",
       "    <tr>\n",
       "      <th>1</th>\n",
       "      <td>131a3994-a510-4ead-93d0-3d89f06b9602</td>\n",
       "      <td>0</td>\n",
       "      <td>carmenere_red</td>\n",
       "    </tr>\n",
       "    <tr>\n",
       "      <th>2</th>\n",
       "      <td>131a3994-a510-4ead-93d0-3d89f06b9602</td>\n",
       "      <td>0</td>\n",
       "      <td>riesling_white</td>\n",
       "    </tr>\n",
       "    <tr>\n",
       "      <th>3</th>\n",
       "      <td>131a3994-a510-4ead-93d0-3d89f06b9602</td>\n",
       "      <td>0</td>\n",
       "      <td>chardonnay_white</td>\n",
       "    </tr>\n",
       "    <tr>\n",
       "      <th>4</th>\n",
       "      <td>131a3994-a510-4ead-93d0-3d89f06b9602</td>\n",
       "      <td>0</td>\n",
       "      <td>nebbiolo_red</td>\n",
       "    </tr>\n",
       "    <tr>\n",
       "      <th>...</th>\n",
       "      <td>...</td>\n",
       "      <td>...</td>\n",
       "      <td>...</td>\n",
       "    </tr>\n",
       "    <tr>\n",
       "      <th>10116</th>\n",
       "      <td>5df09a59-c0e4-4c83-8e32-007b39edce53</td>\n",
       "      <td>0</td>\n",
       "      <td>nero_davola_red</td>\n",
       "    </tr>\n",
       "    <tr>\n",
       "      <th>10117</th>\n",
       "      <td>5df09a59-c0e4-4c83-8e32-007b39edce53</td>\n",
       "      <td>0</td>\n",
       "      <td>sangiovese_red</td>\n",
       "    </tr>\n",
       "    <tr>\n",
       "      <th>10118</th>\n",
       "      <td>6caf1bcb-095c-4b1c-a412-c3b6860949b0</td>\n",
       "      <td>0</td>\n",
       "      <td>merlot_red</td>\n",
       "    </tr>\n",
       "    <tr>\n",
       "      <th>10119</th>\n",
       "      <td>6caf1bcb-095c-4b1c-a412-c3b6860949b0</td>\n",
       "      <td>0</td>\n",
       "      <td>champagne_white</td>\n",
       "    </tr>\n",
       "    <tr>\n",
       "      <th>10120</th>\n",
       "      <td>6caf1bcb-095c-4b1c-a412-c3b6860949b0</td>\n",
       "      <td>0</td>\n",
       "      <td>carignan_red</td>\n",
       "    </tr>\n",
       "  </tbody>\n",
       "</table>\n",
       "<p>10121 rows × 3 columns</p>\n",
       "</div>"
      ],
      "text/plain": [
       "                                     userId  feedback              wine\n",
       "0      131a3994-a510-4ead-93d0-3d89f06b9602         0    sangiovese_red\n",
       "1      131a3994-a510-4ead-93d0-3d89f06b9602         0     carmenere_red\n",
       "2      131a3994-a510-4ead-93d0-3d89f06b9602         0    riesling_white\n",
       "3      131a3994-a510-4ead-93d0-3d89f06b9602         0  chardonnay_white\n",
       "4      131a3994-a510-4ead-93d0-3d89f06b9602         0      nebbiolo_red\n",
       "...                                     ...       ...               ...\n",
       "10116  5df09a59-c0e4-4c83-8e32-007b39edce53         0   nero_davola_red\n",
       "10117  5df09a59-c0e4-4c83-8e32-007b39edce53         0    sangiovese_red\n",
       "10118  6caf1bcb-095c-4b1c-a412-c3b6860949b0         0        merlot_red\n",
       "10119  6caf1bcb-095c-4b1c-a412-c3b6860949b0         0   champagne_white\n",
       "10120  6caf1bcb-095c-4b1c-a412-c3b6860949b0         0      carignan_red\n",
       "\n",
       "[10121 rows x 3 columns]"
      ]
     },
     "execution_count": 7,
     "metadata": {},
     "output_type": "execute_result"
    }
   ],
   "source": [
    "feedback_data = []\n",
    "for user_data in data['usersData']:\n",
    "    for pairing in user_data['pairings']:\n",
    "        feedback_data.append({\n",
    "            'userId': user_data['userId'],\n",
    "            #'pairingId': pairing['id'], # not needed\n",
    "            #'date': pairing['date'], # not needed\n",
    "            \n",
    "            'feedback': pairing['feedbackOnPairing'],\n",
    "            'wine': pairing['selected']\n",
    "        })\n",
    "\n",
    "feedback_df = pd.DataFrame(feedback_data)\n",
    "###############################\n",
    "\n",
    "#convert \"feedback\" from string to int\n",
    "feedback_mapping = {'neutral': 0, 'like': 1, 'dislike': -1}\n",
    "feedback_df['feedback'] = feedback_df['feedback'].map(feedback_mapping)\n",
    "\n",
    "# Fill any missing values with a default value (0 in this case)\n",
    "feedback_df['feedback'] = feedback_df['feedback'].fillna(0)\n",
    "\n",
    "# print the unique values in the feedback column\n",
    "print(\"the values after mapping are:\", feedback_df['feedback'].unique())\n",
    "\n",
    "# Converting the column to integers\n",
    "feedback_df = feedback_df.astype({'feedback': 'int'})\n",
    "\n",
    "print(feedback_df.dtypes)\n",
    "feedback_df\n"
   ]
  },
  {
   "cell_type": "code",
   "execution_count": 8,
   "metadata": {},
   "outputs": [
    {
     "name": "stdout",
     "output_type": "stream",
     "text": [
      "the number of total feedback is: 10121\n",
      "the number of neutral feedback is: 9811\n",
      "the number of positive feedback is: 246\n",
      "the number of negative feedback is: 64\n"
     ]
    }
   ],
   "source": [
    "# Feedback from pairings\n",
    "print(\"the number of total feedback is:\", feedback_df.shape[0])\n",
    "print(\"the number of neutral feedback is:\", feedback_df[feedback_df['feedback'] == 0].shape[0])\n",
    "print(\"the number of positive feedback is:\", feedback_df[feedback_df['feedback'] == 1].shape[0])\n",
    "print(\"the number of negative feedback is:\", feedback_df[feedback_df['feedback'] == -1].shape[0])\n"
   ]
  },
  {
   "cell_type": "code",
   "execution_count": 9,
   "metadata": {},
   "outputs": [],
   "source": [
    "\n",
    "# positive_feedback_users = feedback_df[feedback_df['feedback'] == 'like']['userId']\n",
    "# positive_feedback_users_list = positive_feedback_users.to_list()\n",
    "# print(positive_feedback_users_list)\n",
    "# print(len(positive_feedback_users_list))"
   ]
  },
  {
   "cell_type": "code",
   "execution_count": 10,
   "metadata": {},
   "outputs": [],
   "source": [
    "# negative_feedback_users = feedback_df[feedback_df['feedback'] == 'dislike']['userId']\n",
    "# negative_feedback_users_list = negative_feedback_users.to_list()\n",
    "# print(negative_feedback_users_list)\n",
    "# print(len(negative_feedback_users_list))"
   ]
  },
  {
   "cell_type": "code",
   "execution_count": 11,
   "metadata": {},
   "outputs": [],
   "source": [
    "# neutral_feedback_users = feedback_df[feedback_df['feedback'] == 'neutral']['userId']\n",
    "# neutral_feedback_users_list = neutral_feedback_users.to_list()\n",
    "# print(neutral_feedback_users_list)\n",
    "# print(len(neutral_feedback_users_list))"
   ]
  }
 ],
 "metadata": {
  "kernelspec": {
   "display_name": "DL",
   "language": "python",
   "name": "python3"
  },
  "language_info": {
   "codemirror_mode": {
    "name": "ipython",
    "version": 3
   },
   "file_extension": ".py",
   "mimetype": "text/x-python",
   "name": "python",
   "nbconvert_exporter": "python",
   "pygments_lexer": "ipython3",
   "version": "3.10.9"
  }
 },
 "nbformat": 4,
 "nbformat_minor": 2
}
