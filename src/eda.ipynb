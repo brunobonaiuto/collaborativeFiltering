{
 "cells": [
  {
   "cell_type": "markdown",
   "metadata": {},
   "source": [
    "## Exploratory Data Analysis"
   ]
  },
  {
   "cell_type": "code",
   "execution_count": 1,
   "metadata": {},
   "outputs": [],
   "source": [
    "import pandas as pd\n",
    "import numpy as np\n",
    "# to work with json\n",
    "import json\n",
    "\n",
    "# visualization libraries\n",
    "import matplotlib.pylab as plt\n",
    "# to do exploratory data analysis\n",
    "import seaborn as sns\n",
    "\n",
    "# stile for plots\n",
    "plt.style.use('ggplot')\n",
    "# expand the number of columns to display\n",
    "#pd.set_option('max_columns', 200) #no needed in this case"
   ]
  },
  {
   "cell_type": "code",
   "execution_count": 2,
   "metadata": {},
   "outputs": [
    {
     "data": {
      "text/plain": [
       "Index(['userId', 'wines', 'tastingNotes', 'pairings'], dtype='object')"
      ]
     },
     "execution_count": 2,
     "metadata": {},
     "output_type": "execute_result"
    }
   ],
   "source": [
    "# to import the data from the json file to a dataframe\n",
    "with open ('/home/bbruno/all_here/python course/vinnie/data/users-data-prod.json', 'r') as file:\n",
    "    data = json.load(file)\n",
    "\n",
    "df = pd.json_normalize(data['usersData'])\n",
    "df.columns"
   ]
  },
  {
   "cell_type": "markdown",
   "metadata": {},
   "source": [
    "## Data understanding"
   ]
  },
  {
   "cell_type": "code",
   "execution_count": 3,
   "metadata": {},
   "outputs": [
    {
     "data": {
      "text/plain": [
       "(4504, 4)"
      ]
     },
     "execution_count": 3,
     "metadata": {},
     "output_type": "execute_result"
    }
   ],
   "source": [
    "df.shape"
   ]
  },
  {
   "cell_type": "code",
   "execution_count": 4,
   "metadata": {},
   "outputs": [
    {
     "data": {
      "text/html": [
       "<div>\n",
       "<style scoped>\n",
       "    .dataframe tbody tr th:only-of-type {\n",
       "        vertical-align: middle;\n",
       "    }\n",
       "\n",
       "    .dataframe tbody tr th {\n",
       "        vertical-align: top;\n",
       "    }\n",
       "\n",
       "    .dataframe thead th {\n",
       "        text-align: right;\n",
       "    }\n",
       "</style>\n",
       "<table border=\"1\" class=\"dataframe\">\n",
       "  <thead>\n",
       "    <tr style=\"text-align: right;\">\n",
       "      <th></th>\n",
       "      <th>userId</th>\n",
       "      <th>wines</th>\n",
       "      <th>tastingNotes</th>\n",
       "      <th>pairings</th>\n",
       "    </tr>\n",
       "  </thead>\n",
       "  <tbody>\n",
       "    <tr>\n",
       "      <th>0</th>\n",
       "      <td>131a3994-a510-4ead-93d0-3d89f06b9602</td>\n",
       "      <td>[]</td>\n",
       "      <td>[]</td>\n",
       "      <td>[{'id': '4tO1hMInfEtHv4IbyIg9', 'date': '2022-...</td>\n",
       "    </tr>\n",
       "    <tr>\n",
       "      <th>1</th>\n",
       "      <td>16e6321b-1dd8-4db0-a491-627055a20d1d</td>\n",
       "      <td>[]</td>\n",
       "      <td>[]</td>\n",
       "      <td>[{'id': '4nDez8hvWjj4UscxL3Op', 'date': '2023-...</td>\n",
       "    </tr>\n",
       "    <tr>\n",
       "      <th>2</th>\n",
       "      <td>bffc7c74-ccf9-429b-a6a5-d7bc8a53441e</td>\n",
       "      <td>[]</td>\n",
       "      <td>[]</td>\n",
       "      <td>[{'id': '0eaezCUA4haEf2GVMSCo', 'date': '2023-...</td>\n",
       "    </tr>\n",
       "    <tr>\n",
       "      <th>3</th>\n",
       "      <td>97e19ee8-5d4a-4691-bdf0-a20f284d9f0a</td>\n",
       "      <td>[]</td>\n",
       "      <td>[]</td>\n",
       "      <td>[{'id': 'A2AF5ggyi9GtyZf1x9LG', 'date': '2023-...</td>\n",
       "    </tr>\n",
       "    <tr>\n",
       "      <th>4</th>\n",
       "      <td>690e6b1c-8af0-4a8b-b4a8-44030d7c7744</td>\n",
       "      <td>[{'grapes': ['Cabernet Sauvignon', 'Merlot', '...</td>\n",
       "      <td>[]</td>\n",
       "      <td>[{'id': 'yNiSBgN9jZ9b1aVz2pND', 'date': '2021-...</td>\n",
       "    </tr>\n",
       "  </tbody>\n",
       "</table>\n",
       "</div>"
      ],
      "text/plain": [
       "                                 userId  \\\n",
       "0  131a3994-a510-4ead-93d0-3d89f06b9602   \n",
       "1  16e6321b-1dd8-4db0-a491-627055a20d1d   \n",
       "2  bffc7c74-ccf9-429b-a6a5-d7bc8a53441e   \n",
       "3  97e19ee8-5d4a-4691-bdf0-a20f284d9f0a   \n",
       "4  690e6b1c-8af0-4a8b-b4a8-44030d7c7744   \n",
       "\n",
       "                                               wines tastingNotes  \\\n",
       "0                                                 []           []   \n",
       "1                                                 []           []   \n",
       "2                                                 []           []   \n",
       "3                                                 []           []   \n",
       "4  [{'grapes': ['Cabernet Sauvignon', 'Merlot', '...           []   \n",
       "\n",
       "                                            pairings  \n",
       "0  [{'id': '4tO1hMInfEtHv4IbyIg9', 'date': '2022-...  \n",
       "1  [{'id': '4nDez8hvWjj4UscxL3Op', 'date': '2023-...  \n",
       "2  [{'id': '0eaezCUA4haEf2GVMSCo', 'date': '2023-...  \n",
       "3  [{'id': 'A2AF5ggyi9GtyZf1x9LG', 'date': '2023-...  \n",
       "4  [{'id': 'yNiSBgN9jZ9b1aVz2pND', 'date': '2021-...  "
      ]
     },
     "execution_count": 4,
     "metadata": {},
     "output_type": "execute_result"
    }
   ],
   "source": [
    "df.head()"
   ]
  },
  {
   "cell_type": "code",
   "execution_count": 5,
   "metadata": {},
   "outputs": [
    {
     "data": {
      "text/plain": [
       "userId          object\n",
       "wines           object\n",
       "tastingNotes    object\n",
       "pairings        object\n",
       "dtype: object"
      ]
     },
     "execution_count": 5,
     "metadata": {},
     "output_type": "execute_result"
    }
   ],
   "source": [
    "# to check the data types for each column\n",
    "df.dtypes"
   ]
  },
  {
   "cell_type": "code",
   "execution_count": 6,
   "metadata": {},
   "outputs": [
    {
     "data": {
      "text/html": [
       "<div>\n",
       "<style scoped>\n",
       "    .dataframe tbody tr th:only-of-type {\n",
       "        vertical-align: middle;\n",
       "    }\n",
       "\n",
       "    .dataframe tbody tr th {\n",
       "        vertical-align: top;\n",
       "    }\n",
       "\n",
       "    .dataframe thead th {\n",
       "        text-align: right;\n",
       "    }\n",
       "</style>\n",
       "<table border=\"1\" class=\"dataframe\">\n",
       "  <thead>\n",
       "    <tr style=\"text-align: right;\">\n",
       "      <th></th>\n",
       "      <th>userId</th>\n",
       "      <th>wines</th>\n",
       "      <th>tastingNotes</th>\n",
       "      <th>pairings</th>\n",
       "    </tr>\n",
       "  </thead>\n",
       "  <tbody>\n",
       "    <tr>\n",
       "      <th>count</th>\n",
       "      <td>4504</td>\n",
       "      <td>4504</td>\n",
       "      <td>4504</td>\n",
       "      <td>4504</td>\n",
       "    </tr>\n",
       "    <tr>\n",
       "      <th>unique</th>\n",
       "      <td>4504</td>\n",
       "      <td>1236</td>\n",
       "      <td>244</td>\n",
       "      <td>4038</td>\n",
       "    </tr>\n",
       "    <tr>\n",
       "      <th>top</th>\n",
       "      <td>131a3994-a510-4ead-93d0-3d89f06b9602</td>\n",
       "      <td>[]</td>\n",
       "      <td>[]</td>\n",
       "      <td>[]</td>\n",
       "    </tr>\n",
       "    <tr>\n",
       "      <th>freq</th>\n",
       "      <td>1</td>\n",
       "      <td>3269</td>\n",
       "      <td>4261</td>\n",
       "      <td>467</td>\n",
       "    </tr>\n",
       "  </tbody>\n",
       "</table>\n",
       "</div>"
      ],
      "text/plain": [
       "                                      userId wines tastingNotes pairings\n",
       "count                                   4504  4504         4504     4504\n",
       "unique                                  4504  1236          244     4038\n",
       "top     131a3994-a510-4ead-93d0-3d89f06b9602    []           []       []\n",
       "freq                                       1  3269         4261      467"
      ]
     },
     "execution_count": 6,
     "metadata": {},
     "output_type": "execute_result"
    }
   ],
   "source": [
    "# to do this in a better way I need to clean more the data \n",
    "df.describe()"
   ]
  },
  {
   "cell_type": "markdown",
   "metadata": {},
   "source": [
    "# Data preparation"
   ]
  },
  {
   "cell_type": "markdown",
   "metadata": {},
   "source": [
    "## feedback on pairings"
   ]
  },
  {
   "cell_type": "code",
   "execution_count": 7,
   "metadata": {},
   "outputs": [
    {
     "name": "stdout",
     "output_type": "stream",
     "text": [
      "the values after mapping are: [ 0 -1  1]\n",
      "userId      object\n",
      "feedback     int64\n",
      "wine        object\n",
      "dtype: object\n"
     ]
    },
    {
     "data": {
      "text/html": [
       "<div>\n",
       "<style scoped>\n",
       "    .dataframe tbody tr th:only-of-type {\n",
       "        vertical-align: middle;\n",
       "    }\n",
       "\n",
       "    .dataframe tbody tr th {\n",
       "        vertical-align: top;\n",
       "    }\n",
       "\n",
       "    .dataframe thead th {\n",
       "        text-align: right;\n",
       "    }\n",
       "</style>\n",
       "<table border=\"1\" class=\"dataframe\">\n",
       "  <thead>\n",
       "    <tr style=\"text-align: right;\">\n",
       "      <th></th>\n",
       "      <th>userId</th>\n",
       "      <th>feedback</th>\n",
       "      <th>wine</th>\n",
       "    </tr>\n",
       "  </thead>\n",
       "  <tbody>\n",
       "    <tr>\n",
       "      <th>0</th>\n",
       "      <td>131a3994-a510-4ead-93d0-3d89f06b9602</td>\n",
       "      <td>0</td>\n",
       "      <td>sangiovese_red</td>\n",
       "    </tr>\n",
       "    <tr>\n",
       "      <th>1</th>\n",
       "      <td>131a3994-a510-4ead-93d0-3d89f06b9602</td>\n",
       "      <td>0</td>\n",
       "      <td>carmenere_red</td>\n",
       "    </tr>\n",
       "    <tr>\n",
       "      <th>2</th>\n",
       "      <td>131a3994-a510-4ead-93d0-3d89f06b9602</td>\n",
       "      <td>0</td>\n",
       "      <td>riesling_white</td>\n",
       "    </tr>\n",
       "    <tr>\n",
       "      <th>3</th>\n",
       "      <td>131a3994-a510-4ead-93d0-3d89f06b9602</td>\n",
       "      <td>0</td>\n",
       "      <td>chardonnay_white</td>\n",
       "    </tr>\n",
       "    <tr>\n",
       "      <th>4</th>\n",
       "      <td>131a3994-a510-4ead-93d0-3d89f06b9602</td>\n",
       "      <td>0</td>\n",
       "      <td>nebbiolo_red</td>\n",
       "    </tr>\n",
       "    <tr>\n",
       "      <th>...</th>\n",
       "      <td>...</td>\n",
       "      <td>...</td>\n",
       "      <td>...</td>\n",
       "    </tr>\n",
       "    <tr>\n",
       "      <th>10116</th>\n",
       "      <td>5df09a59-c0e4-4c83-8e32-007b39edce53</td>\n",
       "      <td>0</td>\n",
       "      <td>nero_davola_red</td>\n",
       "    </tr>\n",
       "    <tr>\n",
       "      <th>10117</th>\n",
       "      <td>5df09a59-c0e4-4c83-8e32-007b39edce53</td>\n",
       "      <td>0</td>\n",
       "      <td>sangiovese_red</td>\n",
       "    </tr>\n",
       "    <tr>\n",
       "      <th>10118</th>\n",
       "      <td>6caf1bcb-095c-4b1c-a412-c3b6860949b0</td>\n",
       "      <td>0</td>\n",
       "      <td>merlot_red</td>\n",
       "    </tr>\n",
       "    <tr>\n",
       "      <th>10119</th>\n",
       "      <td>6caf1bcb-095c-4b1c-a412-c3b6860949b0</td>\n",
       "      <td>0</td>\n",
       "      <td>champagne_white</td>\n",
       "    </tr>\n",
       "    <tr>\n",
       "      <th>10120</th>\n",
       "      <td>6caf1bcb-095c-4b1c-a412-c3b6860949b0</td>\n",
       "      <td>0</td>\n",
       "      <td>carignan_red</td>\n",
       "    </tr>\n",
       "  </tbody>\n",
       "</table>\n",
       "<p>10121 rows × 3 columns</p>\n",
       "</div>"
      ],
      "text/plain": [
       "                                     userId  feedback              wine\n",
       "0      131a3994-a510-4ead-93d0-3d89f06b9602         0    sangiovese_red\n",
       "1      131a3994-a510-4ead-93d0-3d89f06b9602         0     carmenere_red\n",
       "2      131a3994-a510-4ead-93d0-3d89f06b9602         0    riesling_white\n",
       "3      131a3994-a510-4ead-93d0-3d89f06b9602         0  chardonnay_white\n",
       "4      131a3994-a510-4ead-93d0-3d89f06b9602         0      nebbiolo_red\n",
       "...                                     ...       ...               ...\n",
       "10116  5df09a59-c0e4-4c83-8e32-007b39edce53         0   nero_davola_red\n",
       "10117  5df09a59-c0e4-4c83-8e32-007b39edce53         0    sangiovese_red\n",
       "10118  6caf1bcb-095c-4b1c-a412-c3b6860949b0         0        merlot_red\n",
       "10119  6caf1bcb-095c-4b1c-a412-c3b6860949b0         0   champagne_white\n",
       "10120  6caf1bcb-095c-4b1c-a412-c3b6860949b0         0      carignan_red\n",
       "\n",
       "[10121 rows x 3 columns]"
      ]
     },
     "execution_count": 7,
     "metadata": {},
     "output_type": "execute_result"
    }
   ],
   "source": [
    "feedback_data = []\n",
    "for user_data in data['usersData']:\n",
    "    for pairing in user_data['pairings']:\n",
    "        feedback_data.append({\n",
    "            'userId': user_data['userId'],\n",
    "            #'pairingId': pairing['id'], # not needed\n",
    "            #'date': pairing['date'], # not needed\n",
    "            \n",
    "            'feedback': pairing['feedbackOnPairing'],\n",
    "            'wine': pairing['selected']\n",
    "        })\n",
    "\n",
    "feedback_df = pd.DataFrame(feedback_data)\n",
    "###############################\n",
    "\n",
    "#convert \"feedback\" from string to int\n",
    "feedback_mapping = {'neutral': 0, 'like': 1, 'dislike': -1}\n",
    "feedback_df['feedback'] = feedback_df['feedback'].map(feedback_mapping)\n",
    "\n",
    "# Fill any missing values with a default value (0 in this case)\n",
    "feedback_df['feedback'] = feedback_df['feedback'].fillna(0)\n",
    "\n",
    "# print the unique values in the feedback column\n",
    "print(\"the values after mapping are:\", feedback_df['feedback'].unique())\n",
    "\n",
    "# Converting the column to integers\n",
    "feedback_df = feedback_df.astype({'feedback': 'int'})\n",
    "\n",
    "print(feedback_df.dtypes)\n",
    "feedback_df\n"
   ]
  },
  {
   "cell_type": "code",
   "execution_count": 8,
   "metadata": {},
   "outputs": [
    {
     "data": {
      "text/html": [
       "<div>\n",
       "<style scoped>\n",
       "    .dataframe tbody tr th:only-of-type {\n",
       "        vertical-align: middle;\n",
       "    }\n",
       "\n",
       "    .dataframe tbody tr th {\n",
       "        vertical-align: top;\n",
       "    }\n",
       "\n",
       "    .dataframe thead th {\n",
       "        text-align: right;\n",
       "    }\n",
       "</style>\n",
       "<table border=\"1\" class=\"dataframe\">\n",
       "  <thead>\n",
       "    <tr style=\"text-align: right;\">\n",
       "      <th></th>\n",
       "      <th>feedback</th>\n",
       "    </tr>\n",
       "  </thead>\n",
       "  <tbody>\n",
       "    <tr>\n",
       "      <th>count</th>\n",
       "      <td>10121.000000</td>\n",
       "    </tr>\n",
       "    <tr>\n",
       "      <th>mean</th>\n",
       "      <td>0.017982</td>\n",
       "    </tr>\n",
       "    <tr>\n",
       "      <th>std</th>\n",
       "      <td>0.174095</td>\n",
       "    </tr>\n",
       "    <tr>\n",
       "      <th>min</th>\n",
       "      <td>-1.000000</td>\n",
       "    </tr>\n",
       "    <tr>\n",
       "      <th>25%</th>\n",
       "      <td>0.000000</td>\n",
       "    </tr>\n",
       "    <tr>\n",
       "      <th>50%</th>\n",
       "      <td>0.000000</td>\n",
       "    </tr>\n",
       "    <tr>\n",
       "      <th>75%</th>\n",
       "      <td>0.000000</td>\n",
       "    </tr>\n",
       "    <tr>\n",
       "      <th>max</th>\n",
       "      <td>1.000000</td>\n",
       "    </tr>\n",
       "  </tbody>\n",
       "</table>\n",
       "</div>"
      ],
      "text/plain": [
       "           feedback\n",
       "count  10121.000000\n",
       "mean       0.017982\n",
       "std        0.174095\n",
       "min       -1.000000\n",
       "25%        0.000000\n",
       "50%        0.000000\n",
       "75%        0.000000\n",
       "max        1.000000"
      ]
     },
     "execution_count": 8,
     "metadata": {},
     "output_type": "execute_result"
    }
   ],
   "source": [
    "feedback_df.describe()"
   ]
  },
  {
   "cell_type": "code",
   "execution_count": 9,
   "metadata": {},
   "outputs": [
    {
     "name": "stdout",
     "output_type": "stream",
     "text": [
      "the number of total feedback is: 10121\n",
      "the number of neutral feedback is: 9811\n",
      "the number of positive feedback is: 246\n",
      "the number of negative feedback is: 64\n"
     ]
    }
   ],
   "source": [
    "# Feedback from pairings\n",
    "print(\"the number of total feedback is:\", feedback_df.shape[0])\n",
    "print(\"the number of neutral feedback is:\", feedback_df[feedback_df['feedback'] == 0].shape[0])\n",
    "print(\"the number of positive feedback is:\", feedback_df[feedback_df['feedback'] == 1].shape[0])\n",
    "print(\"the number of negative feedback is:\", feedback_df[feedback_df['feedback'] == -1].shape[0])\n"
   ]
  },
  {
   "cell_type": "markdown",
   "metadata": {},
   "source": [
    "## rate on tastingNotes"
   ]
  },
  {
   "cell_type": "code",
   "execution_count": 10,
   "metadata": {},
   "outputs": [
    {
     "data": {
      "text/html": [
       "<div>\n",
       "<style scoped>\n",
       "    .dataframe tbody tr th:only-of-type {\n",
       "        vertical-align: middle;\n",
       "    }\n",
       "\n",
       "    .dataframe tbody tr th {\n",
       "        vertical-align: top;\n",
       "    }\n",
       "\n",
       "    .dataframe thead th {\n",
       "        text-align: right;\n",
       "    }\n",
       "</style>\n",
       "<table border=\"1\" class=\"dataframe\">\n",
       "  <thead>\n",
       "    <tr style=\"text-align: right;\">\n",
       "      <th></th>\n",
       "      <th>userId</th>\n",
       "      <th>wine</th>\n",
       "      <th>wineId_x</th>\n",
       "      <th>tastingNoteId</th>\n",
       "      <th>id</th>\n",
       "      <th>wineId_y</th>\n",
       "      <th>rate</th>\n",
       "    </tr>\n",
       "  </thead>\n",
       "  <tbody>\n",
       "    <tr>\n",
       "      <th>0</th>\n",
       "      <td>826c6abe-7147-4b69-aaea-275fe65b033a</td>\n",
       "      <td>Cavalcaonte Barbera Forlí</td>\n",
       "      <td>6V7XZnXSK2LYF9jzI7LR</td>\n",
       "      <td>roCWZ72rDDLT6Q5Mcc7m</td>\n",
       "      <td>roCWZ72rDDLT6Q5Mcc7m</td>\n",
       "      <td>6V7XZnXSK2LYF9jzI7LR</td>\n",
       "      <td>5</td>\n",
       "    </tr>\n",
       "    <tr>\n",
       "      <th>1</th>\n",
       "      <td>d838a526-4b0a-4fad-b54f-90b6ca321fca</td>\n",
       "      <td>Shiraz</td>\n",
       "      <td>bINBmCq7FXjVXt1sj6f8</td>\n",
       "      <td>XJ60d8BLy1YOzcr7no1J</td>\n",
       "      <td>XJ60d8BLy1YOzcr7no1J</td>\n",
       "      <td>bINBmCq7FXjVXt1sj6f8</td>\n",
       "      <td>2</td>\n",
       "    </tr>\n",
       "    <tr>\n",
       "      <th>2</th>\n",
       "      <td>d838a526-4b0a-4fad-b54f-90b6ca321fca</td>\n",
       "      <td>Pinot Noir</td>\n",
       "      <td>ckVI0IUPCHuhT00plzm2</td>\n",
       "      <td>4Buw0MdNDOZ4tCSRw88d</td>\n",
       "      <td>4Buw0MdNDOZ4tCSRw88d</td>\n",
       "      <td>ckVI0IUPCHuhT00plzm2</td>\n",
       "      <td>3</td>\n",
       "    </tr>\n",
       "    <tr>\n",
       "      <th>3</th>\n",
       "      <td>bec96c0b-5b0b-4992-8756-e0d3b704afb5</td>\n",
       "      <td>Timorasso</td>\n",
       "      <td>3s8PZXoVIaInrJqMbxs5</td>\n",
       "      <td>UUpZSMTF7VZVDPX17pgw</td>\n",
       "      <td>UUpZSMTF7VZVDPX17pgw</td>\n",
       "      <td>3s8PZXoVIaInrJqMbxs5</td>\n",
       "      <td>5</td>\n",
       "    </tr>\n",
       "    <tr>\n",
       "      <th>4</th>\n",
       "      <td>bec96c0b-5b0b-4992-8756-e0d3b704afb5</td>\n",
       "      <td>Le Difese</td>\n",
       "      <td>B1VJSCml6AZ47Hf8SpEu</td>\n",
       "      <td>DCTkjJunOye0y3nrg8ul</td>\n",
       "      <td>DCTkjJunOye0y3nrg8ul</td>\n",
       "      <td>B1VJSCml6AZ47Hf8SpEu</td>\n",
       "      <td>4</td>\n",
       "    </tr>\n",
       "  </tbody>\n",
       "</table>\n",
       "</div>"
      ],
      "text/plain": [
       "                                 userId                       wine  \\\n",
       "0  826c6abe-7147-4b69-aaea-275fe65b033a  Cavalcaonte Barbera Forlí   \n",
       "1  d838a526-4b0a-4fad-b54f-90b6ca321fca                     Shiraz   \n",
       "2  d838a526-4b0a-4fad-b54f-90b6ca321fca                 Pinot Noir   \n",
       "3  bec96c0b-5b0b-4992-8756-e0d3b704afb5                  Timorasso   \n",
       "4  bec96c0b-5b0b-4992-8756-e0d3b704afb5                  Le Difese   \n",
       "\n",
       "               wineId_x         tastingNoteId                    id  \\\n",
       "0  6V7XZnXSK2LYF9jzI7LR  roCWZ72rDDLT6Q5Mcc7m  roCWZ72rDDLT6Q5Mcc7m   \n",
       "1  bINBmCq7FXjVXt1sj6f8  XJ60d8BLy1YOzcr7no1J  XJ60d8BLy1YOzcr7no1J   \n",
       "2  ckVI0IUPCHuhT00plzm2  4Buw0MdNDOZ4tCSRw88d  4Buw0MdNDOZ4tCSRw88d   \n",
       "3  3s8PZXoVIaInrJqMbxs5  UUpZSMTF7VZVDPX17pgw  UUpZSMTF7VZVDPX17pgw   \n",
       "4  B1VJSCml6AZ47Hf8SpEu  DCTkjJunOye0y3nrg8ul  DCTkjJunOye0y3nrg8ul   \n",
       "\n",
       "               wineId_y rate  \n",
       "0  6V7XZnXSK2LYF9jzI7LR    5  \n",
       "1  bINBmCq7FXjVXt1sj6f8    2  \n",
       "2  ckVI0IUPCHuhT00plzm2    3  \n",
       "3  3s8PZXoVIaInrJqMbxs5    5  \n",
       "4  B1VJSCml6AZ47Hf8SpEu    4  "
      ]
     },
     "execution_count": 10,
     "metadata": {},
     "output_type": "execute_result"
    }
   ],
   "source": [
    "# From the wines list takes [userId, name, id, tastingNoteIds]\n",
    "rate_on_wine = []\n",
    "for user_data in data['usersData']:\n",
    "    for wine in user_data['wines']:\n",
    "        for tasteNoteid in wine['tasteNoteIds']:\n",
    "            rate_on_wine.append({\n",
    "                'userId': user_data['userId'],\n",
    "                'wine': wine['name'],\n",
    "                'wineId': wine['id'],\n",
    "                'tastingNoteId': tasteNoteid\n",
    "            })\n",
    "\n",
    "rate_on_wine_df = pd.DataFrame(rate_on_wine)\n",
    "rate_on_wine_df.head()\n",
    "\n",
    "# From the tastingNotes list takes [id, wineId, rate]\n",
    "tastingNotes = []\n",
    "for user_data in data['usersData']:\n",
    "    for tastingNote in user_data['tastingNotes']:\n",
    "        tastingNotes.append({\n",
    "            'id': tastingNote['id'],\n",
    "            'wineId': tastingNote['wineId'],\n",
    "            'rate': tastingNote['rate'],      \n",
    "        })\n",
    "\n",
    "tastingNotes_df = pd.DataFrame(tastingNotes)\n",
    "tastingNotes_df.head()\n",
    "\n",
    "# Merge the two tables when wineId and id.equals(tastingNoteId)\n",
    "\n",
    "merged_df = pd.merge(rate_on_wine_df, tastingNotes_df, left_on='tastingNoteId', right_on='id')\n",
    "merged_df.head()"
   ]
  },
  {
   "cell_type": "code",
   "execution_count": 11,
   "metadata": {},
   "outputs": [
    {
     "data": {
      "text/plain": [
       "Index(['userId', 'wine', 'wineId_x', 'tastingNoteId', 'id', 'wineId_y',\n",
       "       'rate'],\n",
       "      dtype='object')"
      ]
     },
     "execution_count": 11,
     "metadata": {},
     "output_type": "execute_result"
    }
   ],
   "source": [
    "merged_df.columns"
   ]
  },
  {
   "cell_type": "code",
   "execution_count": 12,
   "metadata": {},
   "outputs": [
    {
     "data": {
      "text/html": [
       "<div>\n",
       "<style scoped>\n",
       "    .dataframe tbody tr th:only-of-type {\n",
       "        vertical-align: middle;\n",
       "    }\n",
       "\n",
       "    .dataframe tbody tr th {\n",
       "        vertical-align: top;\n",
       "    }\n",
       "\n",
       "    .dataframe thead th {\n",
       "        text-align: right;\n",
       "    }\n",
       "</style>\n",
       "<table border=\"1\" class=\"dataframe\">\n",
       "  <thead>\n",
       "    <tr style=\"text-align: right;\">\n",
       "      <th></th>\n",
       "      <th>userId</th>\n",
       "      <th>wine</th>\n",
       "      <th>rate</th>\n",
       "    </tr>\n",
       "  </thead>\n",
       "  <tbody>\n",
       "    <tr>\n",
       "      <th>0</th>\n",
       "      <td>826c6abe-7147-4b69-aaea-275fe65b033a</td>\n",
       "      <td>Cavalcaonte Barbera Forlí</td>\n",
       "      <td>5</td>\n",
       "    </tr>\n",
       "    <tr>\n",
       "      <th>1</th>\n",
       "      <td>d838a526-4b0a-4fad-b54f-90b6ca321fca</td>\n",
       "      <td>Shiraz</td>\n",
       "      <td>2</td>\n",
       "    </tr>\n",
       "    <tr>\n",
       "      <th>2</th>\n",
       "      <td>d838a526-4b0a-4fad-b54f-90b6ca321fca</td>\n",
       "      <td>Pinot Noir</td>\n",
       "      <td>3</td>\n",
       "    </tr>\n",
       "    <tr>\n",
       "      <th>3</th>\n",
       "      <td>bec96c0b-5b0b-4992-8756-e0d3b704afb5</td>\n",
       "      <td>Timorasso</td>\n",
       "      <td>5</td>\n",
       "    </tr>\n",
       "    <tr>\n",
       "      <th>4</th>\n",
       "      <td>bec96c0b-5b0b-4992-8756-e0d3b704afb5</td>\n",
       "      <td>Le Difese</td>\n",
       "      <td>4</td>\n",
       "    </tr>\n",
       "    <tr>\n",
       "      <th>...</th>\n",
       "      <td>...</td>\n",
       "      <td>...</td>\n",
       "      <td>...</td>\n",
       "    </tr>\n",
       "    <tr>\n",
       "      <th>1264</th>\n",
       "      <td>be0e69e3-30d5-4e21-b62f-05402fbfcd5a</td>\n",
       "      <td>Albariño</td>\n",
       "      <td>None</td>\n",
       "    </tr>\n",
       "    <tr>\n",
       "      <th>1265</th>\n",
       "      <td>be0e69e3-30d5-4e21-b62f-05402fbfcd5a</td>\n",
       "      <td>Piceno Bacchus</td>\n",
       "      <td>5</td>\n",
       "    </tr>\n",
       "    <tr>\n",
       "      <th>1266</th>\n",
       "      <td>be0e69e3-30d5-4e21-b62f-05402fbfcd5a</td>\n",
       "      <td>Albariño</td>\n",
       "      <td>None</td>\n",
       "    </tr>\n",
       "    <tr>\n",
       "      <th>1267</th>\n",
       "      <td>be0e69e3-30d5-4e21-b62f-05402fbfcd5a</td>\n",
       "      <td>Albariño</td>\n",
       "      <td>None</td>\n",
       "    </tr>\n",
       "    <tr>\n",
       "      <th>1268</th>\n",
       "      <td>be0e69e3-30d5-4e21-b62f-05402fbfcd5a</td>\n",
       "      <td>Albariño</td>\n",
       "      <td>None</td>\n",
       "    </tr>\n",
       "  </tbody>\n",
       "</table>\n",
       "<p>1269 rows × 3 columns</p>\n",
       "</div>"
      ],
      "text/plain": [
       "                                    userId                       wine  rate\n",
       "0     826c6abe-7147-4b69-aaea-275fe65b033a  Cavalcaonte Barbera Forlí     5\n",
       "1     d838a526-4b0a-4fad-b54f-90b6ca321fca                     Shiraz     2\n",
       "2     d838a526-4b0a-4fad-b54f-90b6ca321fca                 Pinot Noir     3\n",
       "3     bec96c0b-5b0b-4992-8756-e0d3b704afb5                  Timorasso     5\n",
       "4     bec96c0b-5b0b-4992-8756-e0d3b704afb5                  Le Difese     4\n",
       "...                                    ...                        ...   ...\n",
       "1264  be0e69e3-30d5-4e21-b62f-05402fbfcd5a                   Albariño  None\n",
       "1265  be0e69e3-30d5-4e21-b62f-05402fbfcd5a             Piceno Bacchus     5\n",
       "1266  be0e69e3-30d5-4e21-b62f-05402fbfcd5a                   Albariño  None\n",
       "1267  be0e69e3-30d5-4e21-b62f-05402fbfcd5a                   Albariño  None\n",
       "1268  be0e69e3-30d5-4e21-b62f-05402fbfcd5a                   Albariño  None\n",
       "\n",
       "[1269 rows x 3 columns]"
      ]
     },
     "execution_count": 12,
     "metadata": {},
     "output_type": "execute_result"
    }
   ],
   "source": [
    "# Dropping useless columns\n",
    "\n",
    "# The columns that we need are: userId, wine, rate\n",
    "rate_on_tastingNotes = merged_df[['userId', 'wine', 'rate']].copy() \n",
    "rate_on_tastingNotes"
   ]
  },
  {
   "cell_type": "code",
   "execution_count": 13,
   "metadata": {},
   "outputs": [
    {
     "data": {
      "text/plain": [
       "array([5, 2, 3, 4, None, 1, '4', '1'], dtype=object)"
      ]
     },
     "execution_count": 13,
     "metadata": {},
     "output_type": "execute_result"
    }
   ],
   "source": [
    "# To check the unique value of wine\n",
    "rate_on_tastingNotes['rate'].unique()\n"
   ]
  },
  {
   "cell_type": "code",
   "execution_count": 14,
   "metadata": {},
   "outputs": [
    {
     "data": {
      "text/plain": [
       "261"
      ]
     },
     "execution_count": 14,
     "metadata": {},
     "output_type": "execute_result"
    }
   ],
   "source": [
    "# How many None values do we have in rate\n",
    "rate_on_tastingNotes['rate'].isnull().sum()"
   ]
  },
  {
   "cell_type": "code",
   "execution_count": 15,
   "metadata": {},
   "outputs": [
    {
     "data": {
      "text/plain": [
       "array([5, 2, 3, 4, 1, '4', '1'], dtype=object)"
      ]
     },
     "execution_count": 15,
     "metadata": {},
     "output_type": "execute_result"
    }
   ],
   "source": [
    "# To show the None values\n",
    "rate_on_tastingNotes[rate_on_tastingNotes['rate'].isnull()]\n",
    "# To drop the None values\n",
    "rate_on_tastingNotes = rate_on_tastingNotes.dropna()\n",
    "rate_on_tastingNotes['rate'].unique()\n"
   ]
  },
  {
   "cell_type": "code",
   "execution_count": 16,
   "metadata": {},
   "outputs": [
    {
     "name": "stderr",
     "output_type": "stream",
     "text": [
      "/tmp/ipykernel_5918/49025768.py:2: SettingWithCopyWarning: \n",
      "A value is trying to be set on a copy of a slice from a DataFrame.\n",
      "Try using .loc[row_indexer,col_indexer] = value instead\n",
      "\n",
      "See the caveats in the documentation: https://pandas.pydata.org/pandas-docs/stable/user_guide/indexing.html#returning-a-view-versus-a-copy\n",
      "  rate_on_tastingNotes['rate'] = rate_on_tastingNotes['rate'].astype('int16')\n"
     ]
    },
    {
     "data": {
      "text/plain": [
       "array([5, 2, 3, 4, 1], dtype=int16)"
      ]
     },
     "execution_count": 16,
     "metadata": {},
     "output_type": "execute_result"
    }
   ],
   "source": [
    "\n",
    "# To Convert \"rate\" from string to int16 using astype\n",
    "rate_on_tastingNotes['rate'] = rate_on_tastingNotes['rate'].astype('int16')\n",
    "rate_on_tastingNotes['rate'].unique()\n",
    "#the warning is because of the None values that we dropped"
   ]
  },
  {
   "cell_type": "code",
   "execution_count": 17,
   "metadata": {},
   "outputs": [
    {
     "data": {
      "text/html": [
       "<div>\n",
       "<style scoped>\n",
       "    .dataframe tbody tr th:only-of-type {\n",
       "        vertical-align: middle;\n",
       "    }\n",
       "\n",
       "    .dataframe tbody tr th {\n",
       "        vertical-align: top;\n",
       "    }\n",
       "\n",
       "    .dataframe thead th {\n",
       "        text-align: right;\n",
       "    }\n",
       "</style>\n",
       "<table border=\"1\" class=\"dataframe\">\n",
       "  <thead>\n",
       "    <tr style=\"text-align: right;\">\n",
       "      <th></th>\n",
       "      <th>rate</th>\n",
       "    </tr>\n",
       "  </thead>\n",
       "  <tbody>\n",
       "    <tr>\n",
       "      <th>count</th>\n",
       "      <td>1008.000000</td>\n",
       "    </tr>\n",
       "    <tr>\n",
       "      <th>mean</th>\n",
       "      <td>3.601190</td>\n",
       "    </tr>\n",
       "    <tr>\n",
       "      <th>std</th>\n",
       "      <td>0.934646</td>\n",
       "    </tr>\n",
       "    <tr>\n",
       "      <th>min</th>\n",
       "      <td>1.000000</td>\n",
       "    </tr>\n",
       "    <tr>\n",
       "      <th>25%</th>\n",
       "      <td>3.000000</td>\n",
       "    </tr>\n",
       "    <tr>\n",
       "      <th>50%</th>\n",
       "      <td>4.000000</td>\n",
       "    </tr>\n",
       "    <tr>\n",
       "      <th>75%</th>\n",
       "      <td>4.000000</td>\n",
       "    </tr>\n",
       "    <tr>\n",
       "      <th>max</th>\n",
       "      <td>5.000000</td>\n",
       "    </tr>\n",
       "  </tbody>\n",
       "</table>\n",
       "</div>"
      ],
      "text/plain": [
       "              rate\n",
       "count  1008.000000\n",
       "mean      3.601190\n",
       "std       0.934646\n",
       "min       1.000000\n",
       "25%       3.000000\n",
       "50%       4.000000\n",
       "75%       4.000000\n",
       "max       5.000000"
      ]
     },
     "execution_count": 17,
     "metadata": {},
     "output_type": "execute_result"
    }
   ],
   "source": [
    "rate_on_tastingNotes.describe()"
   ]
  },
  {
   "cell_type": "code",
   "execution_count": 18,
   "metadata": {},
   "outputs": [
    {
     "data": {
      "text/html": [
       "<div>\n",
       "<style scoped>\n",
       "    .dataframe tbody tr th:only-of-type {\n",
       "        vertical-align: middle;\n",
       "    }\n",
       "\n",
       "    .dataframe tbody tr th {\n",
       "        vertical-align: top;\n",
       "    }\n",
       "\n",
       "    .dataframe thead th {\n",
       "        text-align: right;\n",
       "    }\n",
       "</style>\n",
       "<table border=\"1\" class=\"dataframe\">\n",
       "  <thead>\n",
       "    <tr style=\"text-align: right;\">\n",
       "      <th></th>\n",
       "      <th>userId</th>\n",
       "      <th>wine</th>\n",
       "      <th>rate</th>\n",
       "    </tr>\n",
       "  </thead>\n",
       "  <tbody>\n",
       "    <tr>\n",
       "      <th>0</th>\n",
       "      <td>826c6abe-7147-4b69-aaea-275fe65b033a</td>\n",
       "      <td>Cavalcaonte Barbera Forlí</td>\n",
       "      <td>5</td>\n",
       "    </tr>\n",
       "    <tr>\n",
       "      <th>1</th>\n",
       "      <td>d838a526-4b0a-4fad-b54f-90b6ca321fca</td>\n",
       "      <td>Shiraz</td>\n",
       "      <td>2</td>\n",
       "    </tr>\n",
       "    <tr>\n",
       "      <th>2</th>\n",
       "      <td>d838a526-4b0a-4fad-b54f-90b6ca321fca</td>\n",
       "      <td>Pinot Noir</td>\n",
       "      <td>3</td>\n",
       "    </tr>\n",
       "    <tr>\n",
       "      <th>3</th>\n",
       "      <td>bec96c0b-5b0b-4992-8756-e0d3b704afb5</td>\n",
       "      <td>Timorasso</td>\n",
       "      <td>5</td>\n",
       "    </tr>\n",
       "    <tr>\n",
       "      <th>4</th>\n",
       "      <td>bec96c0b-5b0b-4992-8756-e0d3b704afb5</td>\n",
       "      <td>Le Difese</td>\n",
       "      <td>4</td>\n",
       "    </tr>\n",
       "    <tr>\n",
       "      <th>...</th>\n",
       "      <td>...</td>\n",
       "      <td>...</td>\n",
       "      <td>...</td>\n",
       "    </tr>\n",
       "    <tr>\n",
       "      <th>1258</th>\n",
       "      <td>7f6dede6-b8b5-4bb6-a1ca-ae58c79c0ea7</td>\n",
       "      <td>Beyerskloof Western Cape</td>\n",
       "      <td>2</td>\n",
       "    </tr>\n",
       "    <tr>\n",
       "      <th>1259</th>\n",
       "      <td>7f6dede6-b8b5-4bb6-a1ca-ae58c79c0ea7</td>\n",
       "      <td>Valle del Limari Reserva Pinot Noir</td>\n",
       "      <td>4</td>\n",
       "    </tr>\n",
       "    <tr>\n",
       "      <th>1261</th>\n",
       "      <td>be0e69e3-30d5-4e21-b62f-05402fbfcd5a</td>\n",
       "      <td>Château Haut Bommes Sauternes</td>\n",
       "      <td>4</td>\n",
       "    </tr>\n",
       "    <tr>\n",
       "      <th>1263</th>\n",
       "      <td>be0e69e3-30d5-4e21-b62f-05402fbfcd5a</td>\n",
       "      <td>Closeburn Chardonnay</td>\n",
       "      <td>4</td>\n",
       "    </tr>\n",
       "    <tr>\n",
       "      <th>1265</th>\n",
       "      <td>be0e69e3-30d5-4e21-b62f-05402fbfcd5a</td>\n",
       "      <td>Piceno Bacchus</td>\n",
       "      <td>5</td>\n",
       "    </tr>\n",
       "  </tbody>\n",
       "</table>\n",
       "<p>1008 rows × 3 columns</p>\n",
       "</div>"
      ],
      "text/plain": [
       "                                    userId  \\\n",
       "0     826c6abe-7147-4b69-aaea-275fe65b033a   \n",
       "1     d838a526-4b0a-4fad-b54f-90b6ca321fca   \n",
       "2     d838a526-4b0a-4fad-b54f-90b6ca321fca   \n",
       "3     bec96c0b-5b0b-4992-8756-e0d3b704afb5   \n",
       "4     bec96c0b-5b0b-4992-8756-e0d3b704afb5   \n",
       "...                                    ...   \n",
       "1258  7f6dede6-b8b5-4bb6-a1ca-ae58c79c0ea7   \n",
       "1259  7f6dede6-b8b5-4bb6-a1ca-ae58c79c0ea7   \n",
       "1261  be0e69e3-30d5-4e21-b62f-05402fbfcd5a   \n",
       "1263  be0e69e3-30d5-4e21-b62f-05402fbfcd5a   \n",
       "1265  be0e69e3-30d5-4e21-b62f-05402fbfcd5a   \n",
       "\n",
       "                                     wine  rate  \n",
       "0               Cavalcaonte Barbera Forlí     5  \n",
       "1                                  Shiraz     2  \n",
       "2                              Pinot Noir     3  \n",
       "3                               Timorasso     5  \n",
       "4                               Le Difese     4  \n",
       "...                                   ...   ...  \n",
       "1258             Beyerskloof Western Cape     2  \n",
       "1259  Valle del Limari Reserva Pinot Noir     4  \n",
       "1261        Château Haut Bommes Sauternes     4  \n",
       "1263                 Closeburn Chardonnay     4  \n",
       "1265                       Piceno Bacchus     5  \n",
       "\n",
       "[1008 rows x 3 columns]"
      ]
     },
     "execution_count": 18,
     "metadata": {},
     "output_type": "execute_result"
    }
   ],
   "source": [
    "# This cell is just to see the dataframe after the cleaning\n",
    "rate_on_tastingNotes"
   ]
  }
 ],
 "metadata": {
  "kernelspec": {
   "display_name": "DL",
   "language": "python",
   "name": "python3"
  },
  "language_info": {
   "codemirror_mode": {
    "name": "ipython",
    "version": 3
   },
   "file_extension": ".py",
   "mimetype": "text/x-python",
   "name": "python",
   "nbconvert_exporter": "python",
   "pygments_lexer": "ipython3",
   "version": "3.10.9"
  }
 },
 "nbformat": 4,
 "nbformat_minor": 2
}
